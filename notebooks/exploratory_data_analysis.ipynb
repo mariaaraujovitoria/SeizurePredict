{
 "cells": [
  {
   "cell_type": "code",
   "execution_count": 1,
   "metadata": {},
   "outputs": [],
   "source": [
    "import scipy.io\n",
    "from pyedflib import highlevel\n",
    "import pandas as pd\n",
    "import matplotlib.pyplot as plt\n",
    "import seaborn as sns\n",
    "import numpy as np\n",
    "from itertools import groupby\n",
    "import csv\n",
    "import pickle"
   ]
  },
  {
   "cell_type": "markdown",
   "metadata": {},
   "source": [
    "# Label data"
   ]
  },
  {
   "cell_type": "markdown",
   "metadata": {},
   "source": [
    "## Combine EEGs with doctors' annotations"
   ]
  },
  {
   "cell_type": "markdown",
   "metadata": {},
   "source": [
    "### Variables and loading data"
   ]
  },
  {
   "cell_type": "code",
   "execution_count": 7,
   "metadata": {},
   "outputs": [],
   "source": [
    "# Variables to define\n",
    "sampling_rate = 256"
   ]
  },
  {
   "cell_type": "code",
   "execution_count": 8,
   "metadata": {},
   "outputs": [],
   "source": [
    "# Load annotation file\n",
    "annt = scipy.io.loadmat('../raw_data/annotations_2017.mat')"
   ]
  },
  {
   "cell_type": "markdown",
   "metadata": {},
   "source": [
    "### Functions to label"
   ]
  },
  {
   "cell_type": "code",
   "execution_count": 9,
   "metadata": {},
   "outputs": [],
   "source": [
    "# Format the EEG \n",
    "def eeg_formated(signals, names_ele):\n",
    "    data_signals = signals.T # transpose the signals from datapoints\n",
    "    data_signals = pd.DataFrame(data_signals) # create a pandas dataframe\n",
    "    \n",
    "    data_signals.columns = names_ele # rename columns\n",
    "    \n",
    "    return data_signals"
   ]
  },
  {
   "cell_type": "code",
   "execution_count": 10,
   "metadata": {},
   "outputs": [],
   "source": [
    "# Format the annotations\n",
    "def diagnosis(n):\n",
    "    patient_A=annt[\"annotat_new\"][0][n-1][0]\n",
    "    patient_B=annt[\"annotat_new\"][0][n-1][1]\n",
    "    patient_C=annt[\"annotat_new\"][0][n-1][2]\n",
    "    \n",
    "    #converting seconds to datapoints\n",
    "\n",
    "    patient_A=patient_A.tolist()\n",
    "    patient_B=patient_B.tolist()\n",
    "    patient_C=patient_C.tolist()\n",
    "    \n",
    "    patient_A_dtp=[]\n",
    "    patient_B_dtp=[]\n",
    "    patient_C_dtp=[]  \n",
    "    for elem in patient_A:\n",
    "        for i in range(sampling_rate):\n",
    "            patient_A_dtp.append(elem) \n",
    "    for elem in patient_B:\n",
    "        for i in range(sampling_rate):\n",
    "            patient_B_dtp.append(elem)\n",
    "        \n",
    "    for elem in patient_C:\n",
    "        for i in range(sampling_rate):\n",
    "            patient_C_dtp.append(elem)\n",
    "            \n",
    "    target_=pd.DataFrame({\"Diagnosis A\":patient_A_dtp,\"Diagnosis B\":patient_B_dtp,\"Diagnosis C\":patient_C_dtp})\n",
    "    \n",
    "    return target_  "
   ]
  },
  {
   "cell_type": "markdown",
   "metadata": {},
   "source": [
    "### Create a dictionnary of dataframes"
   ]
  },
  {
   "cell_type": "code",
   "execution_count": 11,
   "metadata": {},
   "outputs": [],
   "source": [
    "# Create a dictionnary of dataframe\n",
    "\n",
    "patients_numbers = list(range(1, 80))\n",
    "\n",
    "patient_with_issue = [4, 29, 50] # Can't import ECG4, ECG29 and ECG50\n",
    "\n",
    "for i in patient_with_issue:\n",
    "    patients_numbers.remove(i)\n",
    "    \n",
    "\n",
    "d = {}\n",
    "for i in patients_numbers:\n",
    "    signals_i, signal_headers_i, header_i = highlevel.read_edf(f\"../raw_data/eeg{i}.edf\")\n",
    "    \n",
    "    names_ele_i = [signal_headers_i[iele]['label'] for iele in range(signals_i.shape[0])] # extract electrode names\n",
    "    \n",
    "    eeg_patient_i = eeg_formated(signals_i, names_ele_i) # format the ECG\n",
    "    diagnosis_patient_i = diagnosis(i) # format the diagnosis\n",
    "    \n",
    "    data_patient_i = pd.merge(left=eeg_patient_i, right=diagnosis_patient_i, how='left', left_index=True, right_index=True) # merge ecg and diagnosis\n",
    "\n",
    "    d[i] = data_patient_i # create a dictionnary of dataframes"
   ]
  },
  {
   "cell_type": "code",
   "execution_count": 34,
   "metadata": {},
   "outputs": [
    {
     "data": {
      "text/plain": [
       "Index(['EEG Fp1-REF', 'EEG Fp2-REF', 'EEG F3-REF', 'EEG F4-REF', 'EEG C3-REF',\n",
       "       'EEG C4-REF', 'EEG P3-REF', 'EEG P4-REF', 'EEG O1-REF', 'EEG O2-REF',\n",
       "       'EEG F7-REF', 'EEG F8-REF', 'EEG T3-REF', 'EEG T4-REF', 'EEG T5-REF',\n",
       "       'EEG T6-REF', 'EEG Fz-REF', 'EEG Cz-REF', 'EEG Pz-REF', 'ECG EKG-REF',\n",
       "       'Resp Effort-REF', 'Diagnosis A', 'Diagnosis B', 'Diagnosis C'],\n",
       "      dtype='object')"
      ]
     },
     "execution_count": 34,
     "metadata": {},
     "output_type": "execute_result"
    }
   ],
   "source": [
    "# Example patient 5\n",
    "d[25].columns"
   ]
  },
  {
   "cell_type": "markdown",
   "metadata": {
    "heading_collapsed": true
   },
   "source": [
    "## Add a time column with the seconds"
   ]
  },
  {
   "cell_type": "code",
   "execution_count": null,
   "metadata": {
    "hidden": true
   },
   "outputs": [],
   "source": [
    "def add_time(df):\n",
    "    list_time=[]\n",
    "    for i in range(len(df)):\n",
    "        list_time.append(i//sampling_rate)\n",
    "    df[\"time\"]=list_time\n",
    "    return df"
   ]
  },
  {
   "cell_type": "code",
   "execution_count": null,
   "metadata": {
    "hidden": true
   },
   "outputs": [],
   "source": [
    "# Loop for all patients\n",
    "for i in d.keys():\n",
    "    add_time(d[i])"
   ]
  },
  {
   "cell_type": "code",
   "execution_count": null,
   "metadata": {
    "hidden": true
   },
   "outputs": [],
   "source": [
    "# Example patient 5\n",
    "d[5]"
   ]
  },
  {
   "cell_type": "markdown",
   "metadata": {
    "heading_collapsed": true
   },
   "source": [
    "## Create targets variables \"is_seizure_{letter}\" when seizure lasts at least 10 seconds"
   ]
  },
  {
   "cell_type": "code",
   "execution_count": null,
   "metadata": {
    "hidden": true
   },
   "outputs": [],
   "source": [
    "def is_seizure(df):\n",
    "    \n",
    "    threshold = sampling_rate*10\n",
    "    \n",
    "    df['is_seizure_A'] = df[\"Diagnosis A\"].groupby((df[\"Diagnosis A\"] != df[\"Diagnosis A\"].shift()).cumsum()).transform('size') * df[\"Diagnosis A\"]\n",
    "    df['is_seizure_A'] = (df['is_seizure_A'] > threshold).astype(int)\n",
    "    \n",
    "    df['is_seizure_B'] = df[\"Diagnosis B\"].groupby((df[\"Diagnosis B\"] != df[\"Diagnosis B\"].shift()).cumsum()).transform('size') * df[\"Diagnosis B\"]\n",
    "    df['is_seizure_B'] = (df['is_seizure_B'] > threshold).astype(int)\n",
    "    \n",
    "    df['is_seizure_C'] = df[\"Diagnosis C\"].groupby((df[\"Diagnosis C\"] != df[\"Diagnosis C\"].shift()).cumsum()).transform('size') * df[\"Diagnosis C\"]\n",
    "    df['is_seizure_C'] = (df['is_seizure_C'] > threshold).astype(int)\n",
    "    \n",
    "    return df "
   ]
  },
  {
   "cell_type": "code",
   "execution_count": null,
   "metadata": {
    "hidden": true
   },
   "outputs": [],
   "source": [
    "# Loop for all patients\n",
    "for i in d.keys():\n",
    "    is_seizure(d[i])"
   ]
  },
  {
   "cell_type": "code",
   "execution_count": null,
   "metadata": {
    "hidden": true
   },
   "outputs": [],
   "source": [
    "# Example patient 5\n",
    "d[5]"
   ]
  },
  {
   "cell_type": "markdown",
   "metadata": {},
   "source": [
    "## Create the final target variable"
   ]
  },
  {
   "cell_type": "markdown",
   "metadata": {},
   "source": [
    "**Target variable** = *is_seizure_target*\n",
    "- equals 1 when at least 2 doctors detected a seizure at that datapoint\n",
    "- equels 0 else"
   ]
  },
  {
   "cell_type": "code",
   "execution_count": null,
   "metadata": {},
   "outputs": [],
   "source": [
    "def create_target(df):\n",
    "    df['is_seizure_target'] = np.where(df['is_seizure_A'] + df['is_seizure_B'] + df['is_seizure_C'] >= 2, 1, 0)\n",
    "    return df"
   ]
  },
  {
   "cell_type": "code",
   "execution_count": null,
   "metadata": {},
   "outputs": [],
   "source": [
    "# Loop for all patients\n",
    "for i in d.keys():\n",
    "    create_target(d[i])"
   ]
  },
  {
   "cell_type": "code",
   "execution_count": null,
   "metadata": {},
   "outputs": [],
   "source": [
    "# Example patient 5\n",
    "d[5]"
   ]
  },
  {
   "cell_type": "code",
   "execution_count": null,
   "metadata": {},
   "outputs": [],
   "source": [
    "# Export for patient 5\n",
    "d[5].to_csv(\"../data_formated/data_patient_5.csv\")"
   ]
  },
  {
   "cell_type": "markdown",
   "metadata": {
    "heading_collapsed": true
   },
   "source": [
    "## Create and export final dictionnary"
   ]
  },
  {
   "cell_type": "code",
   "execution_count": null,
   "metadata": {
    "hidden": true
   },
   "outputs": [],
   "source": [
    "def remove_useless_columns(df):\n",
    "    df.drop(columns=['Diagnosis A', 'Diagnosis B', 'Diagnosis C'], inplace=True)\n",
    "    return df"
   ]
  },
  {
   "cell_type": "code",
   "execution_count": null,
   "metadata": {
    "hidden": true
   },
   "outputs": [],
   "source": [
    "# Loop for all patients\n",
    "for i in d.keys():\n",
    "    remove_useless_columns(d[i])"
   ]
  },
  {
   "cell_type": "code",
   "execution_count": null,
   "metadata": {
    "hidden": true
   },
   "outputs": [],
   "source": [
    "# Example patient 5\n",
    "d[5]"
   ]
  },
  {
   "cell_type": "code",
   "execution_count": null,
   "metadata": {
    "hidden": true
   },
   "outputs": [],
   "source": [
    "# Export dictionnary of dataframes\n",
    "        \n",
    "with open('../data_formated/dictionnary_formated.pickle', 'wb') as handle:\n",
    "    pickle.dump(d, handle, protocol=pickle.HIGHEST_PROTOCOL)"
   ]
  },
  {
   "cell_type": "markdown",
   "metadata": {
    "heading_collapsed": true
   },
   "source": [
    "## Appendix - Scenarios regarding the target variable"
   ]
  },
  {
   "cell_type": "markdown",
   "metadata": {
    "hidden": true
   },
   "source": [
    "Create 3 targets ('scenario_1', 'scenario_2', 'scenario_3'):\n",
    "- 1. seizure if at least one doctor said it's a seizure\n",
    "- 2. seizure if at least two doctors saif it's a seizure\n",
    "- 3. seizure by consensus (the three doctors)"
   ]
  },
  {
   "cell_type": "markdown",
   "metadata": {
    "hidden": true
   },
   "source": [
    "def create_scenarios_target(df):\n",
    "    df['scenario_1'] = np.where(df['is_seizure_A'] + df['is_seizure_B'] + df['is_seizure_C'] >= 1, 1, 0)\n",
    "    df['scenario_2'] = np.where(df['is_seizure_A'] + df['is_seizure_B'] + df['is_seizure_C'] >= 2, 1, 0)\n",
    "    df['scenario_3'] = np.where(df['is_seizure_A'] + df['is_seizure_B'] + df['is_seizure_C'] >= 3, 1, 0)"
   ]
  },
  {
   "cell_type": "markdown",
   "metadata": {
    "hidden": true
   },
   "source": [
    "create_scenarios_target(d[5])\n",
    "d[5]"
   ]
  },
  {
   "cell_type": "markdown",
   "metadata": {
    "hidden": true
   },
   "source": [
    "for i in d.keys():\n",
    "    create_scenarios_target(d[i])"
   ]
  },
  {
   "cell_type": "markdown",
   "metadata": {
    "hidden": true
   },
   "source": [
    "def number_of_electrodes(df):\n",
    "    number_elec = df.shape[1]-10\n",
    "    return number_elec\n",
    "\n",
    "def duration_recording(df):\n",
    "    duration_seconds = len(df)/sampling_rate\n",
    "    duration_minutes = duration_seconds/60\n",
    "    return duration_seconds, duration_minutes\n",
    "\n",
    "def total_duration_of_seizures(df,column):\n",
    "    total_duration_seizures_ = sum(df[column])/sampling_rate\n",
    "    return total_duration_seizures_\n",
    "\n",
    "def duration_each_seizure(df,column):\n",
    "    is_seizure_=list(df[column])\n",
    "   \n",
    "    dur_list_=[]\n",
    "    \n",
    "    list_=[sum(g) for i, g in groupby(is_seizure_) if i == 1]\n",
    "   \n",
    "    for elem in list_:\n",
    "        dur_list_.append(elem/sampling_rate)\n",
    " \n",
    "    return dur_list_\n",
    "    \n",
    "def number_total_seizures(df,column):\n",
    "    is_seizure_=list(df[column])\n",
    "   \n",
    "    list_=[sum(g) for i, g in groupby(is_seizure_) if i == 1]\n",
    "  \n",
    "    return len(list_)"
   ]
  },
  {
   "cell_type": "markdown",
   "metadata": {
    "hidden": true
   },
   "source": [
    "- different scenarios for diagnosis \n",
    "- inspect EDA"
   ]
  },
  {
   "cell_type": "markdown",
   "metadata": {
    "hidden": true
   },
   "source": [
    "def exploratory_scenarios(df, n):\n",
    "    features = ['number_of_electrodes', 'duration__recording_seconds', 'duration__recording_minutes', \\\n",
    "                'total_duration_seizures_1', 'total_duration_seizures_2', 'total_duration_seizures_3', \\\n",
    "                'duration_each_seizure_1', 'duration_each_seizure_2', 'duration_each_seizure_3', \\\n",
    "                'number_total_seizures_1', 'number_total_seizures_2', 'number_total_seizures_3']\n",
    "    results = [number_of_electrodes(df), duration_recording(df)[0], duration_recording(df)[1], \\\n",
    "               total_duration_of_seizures(df, 'scenario_1'), total_duration_of_seizures(df, 'scenario_2'), total_duration_of_seizures(df, 'scenario_3'), \\\n",
    "               duration_each_seizure(df, 'scenario_1'), duration_each_seizure(df, 'scenario_2'), duration_each_seizure(df, 'scenario_3'), \\\n",
    "               number_total_seizures(df, 'scenario_1'), number_total_seizures(df, 'scenario_2'), number_total_seizures(df, 'scenario_3')]\n",
    "\n",
    "    dic = {'Features':features,f'Results_{n}': results}\n",
    "    data = pd.DataFrame(dic)\n",
    "    \n",
    "    return data"
   ]
  },
  {
   "cell_type": "markdown",
   "metadata": {
    "hidden": true
   },
   "source": [
    "exploratory_scenarios(d[5], 5)"
   ]
  },
  {
   "cell_type": "markdown",
   "metadata": {
    "hidden": true
   },
   "source": [
    "***Comments***: \n",
    "- In case of scenario 3, the three doctors predict a seizure but not exactly at the same time. One same seizure can be counted multiple times\n",
    "- We agree to keep the **scenario 2: at least 2 doctors out of 3 to consider it as a seizure**"
   ]
  },
  {
   "cell_type": "markdown",
   "metadata": {},
   "source": [
    "# Exploratory Data Analysis"
   ]
  },
  {
   "cell_type": "markdown",
   "metadata": {},
   "source": [
    "- number of electrodes\n",
    "- duration of each recording\n",
    "- number of seizures (if there are any)\n",
    "- duration of seizures\n",
    "- ..."
   ]
  },
  {
   "cell_type": "markdown",
   "metadata": {
    "heading_collapsed": true
   },
   "source": [
    "## Import data"
   ]
  },
  {
   "cell_type": "code",
   "execution_count": 2,
   "metadata": {
    "hidden": true
   },
   "outputs": [],
   "source": [
    "# Import dictionnary of dataframes\n",
    "\n",
    "with open('../data_formated/dictionnary_formated.pickle', 'rb') as handle:\n",
    "    d = pickle.load(handle)"
   ]
  },
  {
   "cell_type": "code",
   "execution_count": 3,
   "metadata": {
    "hidden": true
   },
   "outputs": [
    {
     "data": {
      "text/html": [
       "<div>\n",
       "<style scoped>\n",
       "    .dataframe tbody tr th:only-of-type {\n",
       "        vertical-align: middle;\n",
       "    }\n",
       "\n",
       "    .dataframe tbody tr th {\n",
       "        vertical-align: top;\n",
       "    }\n",
       "\n",
       "    .dataframe thead th {\n",
       "        text-align: right;\n",
       "    }\n",
       "</style>\n",
       "<table border=\"1\" class=\"dataframe\">\n",
       "  <thead>\n",
       "    <tr style=\"text-align: right;\">\n",
       "      <th></th>\n",
       "      <th>EEG Fp1-Ref</th>\n",
       "      <th>EEG Fp2-Ref</th>\n",
       "      <th>EEG F7-Ref</th>\n",
       "      <th>EEG F3-Ref</th>\n",
       "      <th>EEG Fz-Ref</th>\n",
       "      <th>EEG F4-Ref</th>\n",
       "      <th>EEG F8-Ref</th>\n",
       "      <th>EEG T3-Ref</th>\n",
       "      <th>EEG C3-Ref</th>\n",
       "      <th>EEG Cz-Ref</th>\n",
       "      <th>...</th>\n",
       "      <th>EEG T6-Ref</th>\n",
       "      <th>EEG O1-Ref</th>\n",
       "      <th>EEG O2-Ref</th>\n",
       "      <th>ECG EKG</th>\n",
       "      <th>Resp Effort</th>\n",
       "      <th>time</th>\n",
       "      <th>is_seizure_A</th>\n",
       "      <th>is_seizure_B</th>\n",
       "      <th>is_seizure_C</th>\n",
       "      <th>is_seizure_target</th>\n",
       "    </tr>\n",
       "  </thead>\n",
       "  <tbody>\n",
       "    <tr>\n",
       "      <th>0</th>\n",
       "      <td>-1.217202</td>\n",
       "      <td>18.161445</td>\n",
       "      <td>26.858948</td>\n",
       "      <td>13.736399</td>\n",
       "      <td>0.308676</td>\n",
       "      <td>-8.694003</td>\n",
       "      <td>20.145086</td>\n",
       "      <td>8.395827</td>\n",
       "      <td>-16.018216</td>\n",
       "      <td>10.684644</td>\n",
       "      <td>...</td>\n",
       "      <td>15.262277</td>\n",
       "      <td>-16.781155</td>\n",
       "      <td>-8.846591</td>\n",
       "      <td>8.853591</td>\n",
       "      <td>0.308676</td>\n",
       "      <td>0</td>\n",
       "      <td>1</td>\n",
       "      <td>1</td>\n",
       "      <td>1</td>\n",
       "      <td>1</td>\n",
       "    </tr>\n",
       "    <tr>\n",
       "      <th>1</th>\n",
       "      <td>-3.048255</td>\n",
       "      <td>42.270313</td>\n",
       "      <td>54.629922</td>\n",
       "      <td>22.586490</td>\n",
       "      <td>0.308676</td>\n",
       "      <td>-16.628567</td>\n",
       "      <td>40.744435</td>\n",
       "      <td>20.908025</td>\n",
       "      <td>-32.192520</td>\n",
       "      <td>20.297674</td>\n",
       "      <td>...</td>\n",
       "      <td>30.978818</td>\n",
       "      <td>-31.124405</td>\n",
       "      <td>-15.560453</td>\n",
       "      <td>21.365788</td>\n",
       "      <td>1.681965</td>\n",
       "      <td>0</td>\n",
       "      <td>1</td>\n",
       "      <td>1</td>\n",
       "      <td>1</td>\n",
       "      <td>1</td>\n",
       "    </tr>\n",
       "    <tr>\n",
       "      <th>2</th>\n",
       "      <td>-8.236240</td>\n",
       "      <td>42.575488</td>\n",
       "      <td>49.594526</td>\n",
       "      <td>10.837232</td>\n",
       "      <td>-1.217202</td>\n",
       "      <td>-11.745758</td>\n",
       "      <td>37.845267</td>\n",
       "      <td>19.687322</td>\n",
       "      <td>-29.293352</td>\n",
       "      <td>18.008857</td>\n",
       "      <td>...</td>\n",
       "      <td>30.215879</td>\n",
       "      <td>-26.089009</td>\n",
       "      <td>-10.525056</td>\n",
       "      <td>12.057934</td>\n",
       "      <td>3.970782</td>\n",
       "      <td>0</td>\n",
       "      <td>1</td>\n",
       "      <td>1</td>\n",
       "      <td>1</td>\n",
       "      <td>1</td>\n",
       "    </tr>\n",
       "    <tr>\n",
       "      <th>3</th>\n",
       "      <td>-3.506019</td>\n",
       "      <td>35.251275</td>\n",
       "      <td>51.578167</td>\n",
       "      <td>19.839910</td>\n",
       "      <td>-1.827553</td>\n",
       "      <td>-12.966461</td>\n",
       "      <td>40.286672</td>\n",
       "      <td>19.229559</td>\n",
       "      <td>-32.650283</td>\n",
       "      <td>18.466620</td>\n",
       "      <td>...</td>\n",
       "      <td>32.199520</td>\n",
       "      <td>-28.072650</td>\n",
       "      <td>-11.593171</td>\n",
       "      <td>1.224202</td>\n",
       "      <td>4.275958</td>\n",
       "      <td>0</td>\n",
       "      <td>1</td>\n",
       "      <td>1</td>\n",
       "      <td>1</td>\n",
       "      <td>1</td>\n",
       "    </tr>\n",
       "    <tr>\n",
       "      <th>4</th>\n",
       "      <td>3.360431</td>\n",
       "      <td>31.894344</td>\n",
       "      <td>49.747113</td>\n",
       "      <td>19.076971</td>\n",
       "      <td>-2.743080</td>\n",
       "      <td>-13.881987</td>\n",
       "      <td>36.624565</td>\n",
       "      <td>9.158766</td>\n",
       "      <td>-31.429581</td>\n",
       "      <td>17.551094</td>\n",
       "      <td>...</td>\n",
       "      <td>30.978818</td>\n",
       "      <td>-27.920062</td>\n",
       "      <td>-12.050934</td>\n",
       "      <td>5.344072</td>\n",
       "      <td>4.275958</td>\n",
       "      <td>0</td>\n",
       "      <td>1</td>\n",
       "      <td>1</td>\n",
       "      <td>1</td>\n",
       "      <td>1</td>\n",
       "    </tr>\n",
       "    <tr>\n",
       "      <th>...</th>\n",
       "      <td>...</td>\n",
       "      <td>...</td>\n",
       "      <td>...</td>\n",
       "      <td>...</td>\n",
       "      <td>...</td>\n",
       "      <td>...</td>\n",
       "      <td>...</td>\n",
       "      <td>...</td>\n",
       "      <td>...</td>\n",
       "      <td>...</td>\n",
       "      <td>...</td>\n",
       "      <td>...</td>\n",
       "      <td>...</td>\n",
       "      <td>...</td>\n",
       "      <td>...</td>\n",
       "      <td>...</td>\n",
       "      <td>...</td>\n",
       "      <td>...</td>\n",
       "      <td>...</td>\n",
       "      <td>...</td>\n",
       "      <td>...</td>\n",
       "    </tr>\n",
       "    <tr>\n",
       "      <th>983291</th>\n",
       "      <td>0.003500</td>\n",
       "      <td>0.003500</td>\n",
       "      <td>0.003500</td>\n",
       "      <td>0.003500</td>\n",
       "      <td>0.003500</td>\n",
       "      <td>0.003500</td>\n",
       "      <td>0.003500</td>\n",
       "      <td>0.003500</td>\n",
       "      <td>0.003500</td>\n",
       "      <td>0.003500</td>\n",
       "      <td>...</td>\n",
       "      <td>0.003500</td>\n",
       "      <td>0.003500</td>\n",
       "      <td>0.003500</td>\n",
       "      <td>0.003500</td>\n",
       "      <td>0.003500</td>\n",
       "      <td>3840</td>\n",
       "      <td>0</td>\n",
       "      <td>0</td>\n",
       "      <td>1</td>\n",
       "      <td>0</td>\n",
       "    </tr>\n",
       "    <tr>\n",
       "      <th>983292</th>\n",
       "      <td>0.003500</td>\n",
       "      <td>0.003500</td>\n",
       "      <td>0.003500</td>\n",
       "      <td>0.003500</td>\n",
       "      <td>0.003500</td>\n",
       "      <td>0.003500</td>\n",
       "      <td>0.003500</td>\n",
       "      <td>0.003500</td>\n",
       "      <td>0.003500</td>\n",
       "      <td>0.003500</td>\n",
       "      <td>...</td>\n",
       "      <td>0.003500</td>\n",
       "      <td>0.003500</td>\n",
       "      <td>0.003500</td>\n",
       "      <td>0.613851</td>\n",
       "      <td>0.003500</td>\n",
       "      <td>3840</td>\n",
       "      <td>0</td>\n",
       "      <td>0</td>\n",
       "      <td>1</td>\n",
       "      <td>0</td>\n",
       "    </tr>\n",
       "    <tr>\n",
       "      <th>983293</th>\n",
       "      <td>0.003500</td>\n",
       "      <td>0.003500</td>\n",
       "      <td>0.003500</td>\n",
       "      <td>0.003500</td>\n",
       "      <td>0.003500</td>\n",
       "      <td>0.003500</td>\n",
       "      <td>0.003500</td>\n",
       "      <td>0.003500</td>\n",
       "      <td>0.003500</td>\n",
       "      <td>0.003500</td>\n",
       "      <td>...</td>\n",
       "      <td>0.003500</td>\n",
       "      <td>0.003500</td>\n",
       "      <td>0.003500</td>\n",
       "      <td>0.766439</td>\n",
       "      <td>0.003500</td>\n",
       "      <td>3840</td>\n",
       "      <td>0</td>\n",
       "      <td>0</td>\n",
       "      <td>1</td>\n",
       "      <td>0</td>\n",
       "    </tr>\n",
       "    <tr>\n",
       "      <th>983294</th>\n",
       "      <td>0.003500</td>\n",
       "      <td>0.003500</td>\n",
       "      <td>0.003500</td>\n",
       "      <td>0.003500</td>\n",
       "      <td>0.003500</td>\n",
       "      <td>0.003500</td>\n",
       "      <td>0.003500</td>\n",
       "      <td>0.003500</td>\n",
       "      <td>0.003500</td>\n",
       "      <td>0.003500</td>\n",
       "      <td>...</td>\n",
       "      <td>0.003500</td>\n",
       "      <td>0.003500</td>\n",
       "      <td>0.003500</td>\n",
       "      <td>-0.759439</td>\n",
       "      <td>0.003500</td>\n",
       "      <td>3840</td>\n",
       "      <td>0</td>\n",
       "      <td>0</td>\n",
       "      <td>1</td>\n",
       "      <td>0</td>\n",
       "    </tr>\n",
       "    <tr>\n",
       "      <th>983295</th>\n",
       "      <td>0.003500</td>\n",
       "      <td>0.003500</td>\n",
       "      <td>0.003500</td>\n",
       "      <td>0.003500</td>\n",
       "      <td>0.003500</td>\n",
       "      <td>0.003500</td>\n",
       "      <td>0.003500</td>\n",
       "      <td>0.003500</td>\n",
       "      <td>0.003500</td>\n",
       "      <td>0.003500</td>\n",
       "      <td>...</td>\n",
       "      <td>0.003500</td>\n",
       "      <td>0.003500</td>\n",
       "      <td>0.003500</td>\n",
       "      <td>0.156088</td>\n",
       "      <td>0.003500</td>\n",
       "      <td>3840</td>\n",
       "      <td>0</td>\n",
       "      <td>0</td>\n",
       "      <td>1</td>\n",
       "      <td>0</td>\n",
       "    </tr>\n",
       "  </tbody>\n",
       "</table>\n",
       "<p>983296 rows × 26 columns</p>\n",
       "</div>"
      ],
      "text/plain": [
       "        EEG Fp1-Ref  EEG Fp2-Ref  EEG F7-Ref  EEG F3-Ref  EEG Fz-Ref  \\\n",
       "0         -1.217202    18.161445   26.858948   13.736399    0.308676   \n",
       "1         -3.048255    42.270313   54.629922   22.586490    0.308676   \n",
       "2         -8.236240    42.575488   49.594526   10.837232   -1.217202   \n",
       "3         -3.506019    35.251275   51.578167   19.839910   -1.827553   \n",
       "4          3.360431    31.894344   49.747113   19.076971   -2.743080   \n",
       "...             ...          ...         ...         ...         ...   \n",
       "983291     0.003500     0.003500    0.003500    0.003500    0.003500   \n",
       "983292     0.003500     0.003500    0.003500    0.003500    0.003500   \n",
       "983293     0.003500     0.003500    0.003500    0.003500    0.003500   \n",
       "983294     0.003500     0.003500    0.003500    0.003500    0.003500   \n",
       "983295     0.003500     0.003500    0.003500    0.003500    0.003500   \n",
       "\n",
       "        EEG F4-Ref  EEG F8-Ref  EEG T3-Ref  EEG C3-Ref  EEG Cz-Ref  ...  \\\n",
       "0        -8.694003   20.145086    8.395827  -16.018216   10.684644  ...   \n",
       "1       -16.628567   40.744435   20.908025  -32.192520   20.297674  ...   \n",
       "2       -11.745758   37.845267   19.687322  -29.293352   18.008857  ...   \n",
       "3       -12.966461   40.286672   19.229559  -32.650283   18.466620  ...   \n",
       "4       -13.881987   36.624565    9.158766  -31.429581   17.551094  ...   \n",
       "...            ...         ...         ...         ...         ...  ...   \n",
       "983291    0.003500    0.003500    0.003500    0.003500    0.003500  ...   \n",
       "983292    0.003500    0.003500    0.003500    0.003500    0.003500  ...   \n",
       "983293    0.003500    0.003500    0.003500    0.003500    0.003500  ...   \n",
       "983294    0.003500    0.003500    0.003500    0.003500    0.003500  ...   \n",
       "983295    0.003500    0.003500    0.003500    0.003500    0.003500  ...   \n",
       "\n",
       "        EEG T6-Ref  EEG O1-Ref  EEG O2-Ref    ECG EKG  Resp Effort  time  \\\n",
       "0        15.262277  -16.781155   -8.846591   8.853591     0.308676     0   \n",
       "1        30.978818  -31.124405  -15.560453  21.365788     1.681965     0   \n",
       "2        30.215879  -26.089009  -10.525056  12.057934     3.970782     0   \n",
       "3        32.199520  -28.072650  -11.593171   1.224202     4.275958     0   \n",
       "4        30.978818  -27.920062  -12.050934   5.344072     4.275958     0   \n",
       "...            ...         ...         ...        ...          ...   ...   \n",
       "983291    0.003500    0.003500    0.003500   0.003500     0.003500  3840   \n",
       "983292    0.003500    0.003500    0.003500   0.613851     0.003500  3840   \n",
       "983293    0.003500    0.003500    0.003500   0.766439     0.003500  3840   \n",
       "983294    0.003500    0.003500    0.003500  -0.759439     0.003500  3840   \n",
       "983295    0.003500    0.003500    0.003500   0.156088     0.003500  3840   \n",
       "\n",
       "        is_seizure_A  is_seizure_B  is_seizure_C  is_seizure_target  \n",
       "0                  1             1             1                  1  \n",
       "1                  1             1             1                  1  \n",
       "2                  1             1             1                  1  \n",
       "3                  1             1             1                  1  \n",
       "4                  1             1             1                  1  \n",
       "...              ...           ...           ...                ...  \n",
       "983291             0             0             1                  0  \n",
       "983292             0             0             1                  0  \n",
       "983293             0             0             1                  0  \n",
       "983294             0             0             1                  0  \n",
       "983295             0             0             1                  0  \n",
       "\n",
       "[983296 rows x 26 columns]"
      ]
     },
     "execution_count": 3,
     "metadata": {},
     "output_type": "execute_result"
    }
   ],
   "source": [
    "d[5]"
   ]
  },
  {
   "cell_type": "markdown",
   "metadata": {},
   "source": [
    "## Functions for EDA"
   ]
  },
  {
   "cell_type": "code",
   "execution_count": null,
   "metadata": {},
   "outputs": [],
   "source": [
    "def number_of_electrodes(df):\n",
    "    number_elec = df.shape[1]-5\n",
    "    return number_elec\n",
    "\n",
    "def duration_recording(df):\n",
    "    duration_seconds = len(df)/sampling_rate\n",
    "    duration_minutes = duration_seconds/60\n",
    "    return duration_seconds, duration_minutes\n",
    "\n",
    "def total_duration_of_seizures(df,column):\n",
    "    total_duration_seizures_ = sum(df[column])/sampling_rate\n",
    "    return total_duration_seizures_\n",
    "\n",
    "def duration_each_seizure(df,column):\n",
    "    is_seizure_=list(df[column])\n",
    "    dur_list_=[]\n",
    "    list_=[sum(g) for i, g in groupby(is_seizure_) if i == 1]\n",
    "    for elem in list_:\n",
    "        dur_list_.append(elem/sampling_rate)\n",
    "    return dur_list_\n",
    "    \n",
    "def time_of_seizure(df,column):\n",
    "    list_of_time=[]\n",
    "    start_seizure=[]\n",
    "    end_seizure=[]\n",
    "    start_seizure_seconds=[]\n",
    "    end_seizure_seconds=[]\n",
    "    if df[column][0]==1:\n",
    "        list_of_time.append(0)\n",
    "    for i in range(len(df)-1):    \n",
    "        if df[column][i]!=df[column][i+1]:\n",
    "            list_of_time.append(i+1)\n",
    "    for j in range(len(list_of_time)):\n",
    "        if j%2==0:\n",
    "            start_seizure.append(list_of_time[j])\n",
    "            start_seizure_seconds.append(list_of_time[j]//sampling_rate)\n",
    "        else:\n",
    "            end_seizure.append(list_of_time[j])\n",
    "            end_seizure_seconds.append(list_of_time[j]//sampling_rate)\n",
    "    return start_seizure,start_seizure_seconds, end_seizure, end_seizure_seconds\n",
    "    \n",
    "def number_total_seizures(df,column):\n",
    "    is_seizure_=list(df[column])\n",
    "    list_=[sum(g) for i, g in groupby(is_seizure_) if i == 1]\n",
    "    return len(list_)"
   ]
  },
  {
   "cell_type": "code",
   "execution_count": null,
   "metadata": {},
   "outputs": [],
   "source": [
    "def exploratory_analysis(df, n):\n",
    "    features = ['number_of_electrodes', 'duration_recording_seconds', 'duration__recording_minutes', \\\n",
    "                'total_duration_seizures_A', 'total_duration_seizures_B', 'total_duration_seizures_C', 'total_duration_seizures_target',\\\n",
    "                'duration_each_seizure_A', 'duration_each_seizure_B', 'duration_each_seizure_C', 'duration_each_seizure_target', \\\n",
    "                'start_seizure_seizure_A', 'start_seizure_seizure_B', 'start_seizure_seizure_C', 'start_seizure_seizure_target', \\\n",
    "                'start_seizure_seconds_A', 'start_seizure_seconds_B', 'start_seizure_seconds_C', 'start_seizure_seconds_target', \\\n",
    "                'end_seizure_A', 'end_seizure_B', 'end_seizure_C', 'end_seizure_target', \\\n",
    "                'end_seizure_seconds_A', 'end_seizure_seconds_B', 'end_seizure_seconds_C', 'end_seizure_seconds_target', \\\n",
    "                'number_total_seizures_A', 'number_total_seizures_B', 'number_total_seizures_C', 'number_total_seizures_target']\n",
    "    results = [number_of_electrodes(df), duration_recording(df)[0], duration_recording(df)[1], \\\n",
    "               total_duration_of_seizures(df, 'is_seizure_A'), total_duration_of_seizures(df, 'is_seizure_B'), total_duration_of_seizures(df, 'is_seizure_C'), total_duration_of_seizures(df, 'is_seizure_target'),\\\n",
    "               duration_each_seizure(df, 'is_seizure_A'), duration_each_seizure(df, 'is_seizure_B'), duration_each_seizure(df, 'is_seizure_C'), duration_each_seizure(df, 'is_seizure_target'),\\\n",
    "               time_of_seizure(df, 'is_seizure_A')[0], time_of_seizure(df, 'is_seizure_B')[0], time_of_seizure(df, 'is_seizure_C')[0], time_of_seizure(df, 'is_seizure_target')[0],\\\n",
    "               time_of_seizure(df, 'is_seizure_A')[1], time_of_seizure(df, 'is_seizure_B')[1], time_of_seizure(df, 'is_seizure_C')[1], time_of_seizure(df, 'is_seizure_target')[1],\\\n",
    "               time_of_seizure(df, 'is_seizure_A')[2], time_of_seizure(df, 'is_seizure_B')[2], time_of_seizure(df, 'is_seizure_C')[2], time_of_seizure(df, 'is_seizure_target')[2],\\\n",
    "               time_of_seizure(df, 'is_seizure_A')[3], time_of_seizure(df, 'is_seizure_B')[3], time_of_seizure(df, 'is_seizure_C')[3], time_of_seizure(df, 'is_seizure_target')[3],\\\n",
    "               number_total_seizures(df, 'is_seizure_A'), number_total_seizures(df, 'is_seizure_B'), number_total_seizures(df, 'is_seizure_C'), number_total_seizures(df, 'is_seizure_target')]\n",
    "\n",
    "    dic = {'Features':features,f'Results_{n}': results}\n",
    "    data = pd.DataFrame(dic)\n",
    "    \n",
    "    return data"
   ]
  },
  {
   "cell_type": "code",
   "execution_count": null,
   "metadata": {
    "scrolled": true
   },
   "outputs": [],
   "source": [
    "# Example patient 5\n",
    "exploratory_analysis(d[5], 5)"
   ]
  },
  {
   "cell_type": "markdown",
   "metadata": {},
   "source": [
    "## Full exploratory dataset"
   ]
  },
  {
   "cell_type": "code",
   "execution_count": null,
   "metadata": {},
   "outputs": [],
   "source": [
    "# -- DO NOT RUN THIS CELL : IMPORT CSV FILE -- \n",
    "#patients = list(d.keys())[1:]\n",
    "\n",
    "#exploratory_data = exploratory_analysis(d[1], 1)\n",
    "\n",
    "#for i in patients:\n",
    "#    exploratory_data[f'Results_{i}'] = exploratory_analysis(d[i], i)[f'Results_{i}']\n",
    "    \n",
    "#exploratory_data.set_index('Features', inplace=True)    \n",
    "#exploratory_data"
   ]
  },
  {
   "cell_type": "code",
   "execution_count": null,
   "metadata": {},
   "outputs": [],
   "source": [
    "# -- DO NOT RUN THIS CELL : IMPORT CSV FILE -- \n",
    "#exploratory_data_transposed = exploratory_data.T\n",
    "#exploratory_data_transposed"
   ]
  },
  {
   "cell_type": "code",
   "execution_count": null,
   "metadata": {},
   "outputs": [],
   "source": [
    "#exploratory_data.to_csv(\"../data_formated/data_exploratory.csv\")\n",
    "#exploratory_data_transposed.to_csv(\"../data_formated/data_exploratory_transposed.csv\")"
   ]
  },
  {
   "cell_type": "code",
   "execution_count": 2,
   "metadata": {},
   "outputs": [],
   "source": [
    "# -- RUN THIS CELL -- \n",
    "exploratory_data = pd.read_csv(\"../data_label/data_exploratory.csv\", index_col=[0])\n",
    "exploratory_data_transposed = pd.read_csv(\"../data_label/data_exploratory_transposed.csv\", index_col=[0])"
   ]
  },
  {
   "cell_type": "code",
   "execution_count": 3,
   "metadata": {},
   "outputs": [
    {
     "data": {
      "text/html": [
       "<div>\n",
       "<style scoped>\n",
       "    .dataframe tbody tr th:only-of-type {\n",
       "        vertical-align: middle;\n",
       "    }\n",
       "\n",
       "    .dataframe tbody tr th {\n",
       "        vertical-align: top;\n",
       "    }\n",
       "\n",
       "    .dataframe thead th {\n",
       "        text-align: right;\n",
       "    }\n",
       "</style>\n",
       "<table border=\"1\" class=\"dataframe\">\n",
       "  <thead>\n",
       "    <tr style=\"text-align: right;\">\n",
       "      <th></th>\n",
       "      <th>number_of_electrodes</th>\n",
       "      <th>duration_recording_seconds</th>\n",
       "      <th>duration__recording_minutes</th>\n",
       "      <th>total_duration_seizures_A</th>\n",
       "      <th>total_duration_seizures_B</th>\n",
       "      <th>total_duration_seizures_C</th>\n",
       "      <th>total_duration_seizures_target</th>\n",
       "      <th>duration_each_seizure_A</th>\n",
       "      <th>duration_each_seizure_B</th>\n",
       "      <th>duration_each_seizure_C</th>\n",
       "      <th>...</th>\n",
       "      <th>end_seizure_C</th>\n",
       "      <th>end_seizure_target</th>\n",
       "      <th>end_seizure_seconds_A</th>\n",
       "      <th>end_seizure_seconds_B</th>\n",
       "      <th>end_seizure_seconds_C</th>\n",
       "      <th>end_seizure_seconds_target</th>\n",
       "      <th>number_total_seizures_A</th>\n",
       "      <th>number_total_seizures_B</th>\n",
       "      <th>number_total_seizures_C</th>\n",
       "      <th>number_total_seizures_target</th>\n",
       "    </tr>\n",
       "  </thead>\n",
       "  <tbody>\n",
       "    <tr>\n",
       "      <th>Results_1</th>\n",
       "      <td>21</td>\n",
       "      <td>6993.0</td>\n",
       "      <td>116.550000</td>\n",
       "      <td>1602.0</td>\n",
       "      <td>3123.0</td>\n",
       "      <td>953.0</td>\n",
       "      <td>1518.0</td>\n",
       "      <td>[18.0, 135.0, 59.0, 29.0, 31.0, 49.0, 57.0, 23...</td>\n",
       "      <td>[17.0, 27.0, 17.0, 158.0, 36.0, 57.0, 26.0, 50...</td>\n",
       "      <td>[26.0, 120.0, 16.0, 19.0, 105.0, 16.0, 12.0, 1...</td>\n",
       "      <td>...</td>\n",
       "      <td>[30976, 114688, 182272, 199168, 284160, 305664...</td>\n",
       "      <td>[30976, 114688, 203776, 251392, 308736, 420352...</td>\n",
       "      <td>[121, 451, 800, 982, 1209, 1642, 1707, 2871, 3...</td>\n",
       "      <td>[49, 122, 277, 447, 582, 796, 939, 999, 1206, ...</td>\n",
       "      <td>[121, 448, 712, 778, 1110, 1194, 1612, 1634, 2...</td>\n",
       "      <td>[121, 448, 796, 982, 1206, 1642, 1703, 2871, 3...</td>\n",
       "      <td>25</td>\n",
       "      <td>40</td>\n",
       "      <td>31</td>\n",
       "      <td>26</td>\n",
       "    </tr>\n",
       "    <tr>\n",
       "      <th>Results_2</th>\n",
       "      <td>21</td>\n",
       "      <td>3761.0</td>\n",
       "      <td>62.683333</td>\n",
       "      <td>65.0</td>\n",
       "      <td>0.0</td>\n",
       "      <td>0.0</td>\n",
       "      <td>0.0</td>\n",
       "      <td>[47.0, 18.0]</td>\n",
       "      <td>[]</td>\n",
       "      <td>[]</td>\n",
       "      <td>...</td>\n",
       "      <td>[]</td>\n",
       "      <td>[]</td>\n",
       "      <td>[1975, 2076]</td>\n",
       "      <td>[]</td>\n",
       "      <td>[]</td>\n",
       "      <td>[]</td>\n",
       "      <td>2</td>\n",
       "      <td>0</td>\n",
       "      <td>0</td>\n",
       "      <td>0</td>\n",
       "    </tr>\n",
       "    <tr>\n",
       "      <th>Results_3</th>\n",
       "      <td>21</td>\n",
       "      <td>4412.0</td>\n",
       "      <td>73.533333</td>\n",
       "      <td>0.0</td>\n",
       "      <td>0.0</td>\n",
       "      <td>0.0</td>\n",
       "      <td>0.0</td>\n",
       "      <td>[]</td>\n",
       "      <td>[]</td>\n",
       "      <td>[]</td>\n",
       "      <td>...</td>\n",
       "      <td>[]</td>\n",
       "      <td>[]</td>\n",
       "      <td>[]</td>\n",
       "      <td>[]</td>\n",
       "      <td>[]</td>\n",
       "      <td>[]</td>\n",
       "      <td>0</td>\n",
       "      <td>0</td>\n",
       "      <td>0</td>\n",
       "      <td>0</td>\n",
       "    </tr>\n",
       "    <tr>\n",
       "      <th>Results_5</th>\n",
       "      <td>21</td>\n",
       "      <td>3841.0</td>\n",
       "      <td>64.016667</td>\n",
       "      <td>3325.0</td>\n",
       "      <td>3189.0</td>\n",
       "      <td>3184.0</td>\n",
       "      <td>3213.0</td>\n",
       "      <td>[127.0, 631.0, 534.0, 853.0, 1180.0]</td>\n",
       "      <td>[107.0, 621.0, 454.0, 825.0, 1182.0]</td>\n",
       "      <td>[147.0, 620.0, 457.0, 571.0, 245.0, 419.0, 725.0]</td>\n",
       "      <td>...</td>\n",
       "      <td>[37632, 225024, 370944, 576768, 641536, 788736]</td>\n",
       "      <td>[32512, 225280, 370944, 641536, 982784]</td>\n",
       "      <td>[127, 887, 1508, 2532, 3838]</td>\n",
       "      <td>[107, 880, 1446, 2504, 3839]</td>\n",
       "      <td>[147, 879, 1449, 2253, 2506, 3081]</td>\n",
       "      <td>[127, 880, 1449, 2506, 3839]</td>\n",
       "      <td>5</td>\n",
       "      <td>5</td>\n",
       "      <td>7</td>\n",
       "      <td>5</td>\n",
       "    </tr>\n",
       "    <tr>\n",
       "      <th>Results_6</th>\n",
       "      <td>21</td>\n",
       "      <td>4703.0</td>\n",
       "      <td>78.383333</td>\n",
       "      <td>0.0</td>\n",
       "      <td>0.0</td>\n",
       "      <td>491.0</td>\n",
       "      <td>0.0</td>\n",
       "      <td>[]</td>\n",
       "      <td>[]</td>\n",
       "      <td>[16.0, 98.0, 69.0, 308.0]</td>\n",
       "      <td>...</td>\n",
       "      <td>[576000, 606720, 651008, 733184]</td>\n",
       "      <td>[]</td>\n",
       "      <td>[]</td>\n",
       "      <td>[]</td>\n",
       "      <td>[2250, 2370, 2543, 2864]</td>\n",
       "      <td>[]</td>\n",
       "      <td>0</td>\n",
       "      <td>0</td>\n",
       "      <td>4</td>\n",
       "      <td>0</td>\n",
       "    </tr>\n",
       "  </tbody>\n",
       "</table>\n",
       "<p>5 rows × 31 columns</p>\n",
       "</div>"
      ],
      "text/plain": [
       "           number_of_electrodes  duration_recording_seconds  \\\n",
       "Results_1                    21                      6993.0   \n",
       "Results_2                    21                      3761.0   \n",
       "Results_3                    21                      4412.0   \n",
       "Results_5                    21                      3841.0   \n",
       "Results_6                    21                      4703.0   \n",
       "\n",
       "           duration__recording_minutes  total_duration_seizures_A  \\\n",
       "Results_1                   116.550000                     1602.0   \n",
       "Results_2                    62.683333                       65.0   \n",
       "Results_3                    73.533333                        0.0   \n",
       "Results_5                    64.016667                     3325.0   \n",
       "Results_6                    78.383333                        0.0   \n",
       "\n",
       "           total_duration_seizures_B  total_duration_seizures_C  \\\n",
       "Results_1                     3123.0                      953.0   \n",
       "Results_2                        0.0                        0.0   \n",
       "Results_3                        0.0                        0.0   \n",
       "Results_5                     3189.0                     3184.0   \n",
       "Results_6                        0.0                      491.0   \n",
       "\n",
       "           total_duration_seizures_target  \\\n",
       "Results_1                          1518.0   \n",
       "Results_2                             0.0   \n",
       "Results_3                             0.0   \n",
       "Results_5                          3213.0   \n",
       "Results_6                             0.0   \n",
       "\n",
       "                                     duration_each_seizure_A  \\\n",
       "Results_1  [18.0, 135.0, 59.0, 29.0, 31.0, 49.0, 57.0, 23...   \n",
       "Results_2                                       [47.0, 18.0]   \n",
       "Results_3                                                 []   \n",
       "Results_5               [127.0, 631.0, 534.0, 853.0, 1180.0]   \n",
       "Results_6                                                 []   \n",
       "\n",
       "                                     duration_each_seizure_B  \\\n",
       "Results_1  [17.0, 27.0, 17.0, 158.0, 36.0, 57.0, 26.0, 50...   \n",
       "Results_2                                                 []   \n",
       "Results_3                                                 []   \n",
       "Results_5               [107.0, 621.0, 454.0, 825.0, 1182.0]   \n",
       "Results_6                                                 []   \n",
       "\n",
       "                                     duration_each_seizure_C  ...  \\\n",
       "Results_1  [26.0, 120.0, 16.0, 19.0, 105.0, 16.0, 12.0, 1...  ...   \n",
       "Results_2                                                 []  ...   \n",
       "Results_3                                                 []  ...   \n",
       "Results_5  [147.0, 620.0, 457.0, 571.0, 245.0, 419.0, 725.0]  ...   \n",
       "Results_6                          [16.0, 98.0, 69.0, 308.0]  ...   \n",
       "\n",
       "                                               end_seizure_C  \\\n",
       "Results_1  [30976, 114688, 182272, 199168, 284160, 305664...   \n",
       "Results_2                                                 []   \n",
       "Results_3                                                 []   \n",
       "Results_5    [37632, 225024, 370944, 576768, 641536, 788736]   \n",
       "Results_6                   [576000, 606720, 651008, 733184]   \n",
       "\n",
       "                                          end_seizure_target  \\\n",
       "Results_1  [30976, 114688, 203776, 251392, 308736, 420352...   \n",
       "Results_2                                                 []   \n",
       "Results_3                                                 []   \n",
       "Results_5            [32512, 225280, 370944, 641536, 982784]   \n",
       "Results_6                                                 []   \n",
       "\n",
       "                                       end_seizure_seconds_A  \\\n",
       "Results_1  [121, 451, 800, 982, 1209, 1642, 1707, 2871, 3...   \n",
       "Results_2                                       [1975, 2076]   \n",
       "Results_3                                                 []   \n",
       "Results_5                       [127, 887, 1508, 2532, 3838]   \n",
       "Results_6                                                 []   \n",
       "\n",
       "                                       end_seizure_seconds_B  \\\n",
       "Results_1  [49, 122, 277, 447, 582, 796, 939, 999, 1206, ...   \n",
       "Results_2                                                 []   \n",
       "Results_3                                                 []   \n",
       "Results_5                       [107, 880, 1446, 2504, 3839]   \n",
       "Results_6                                                 []   \n",
       "\n",
       "                                       end_seizure_seconds_C  \\\n",
       "Results_1  [121, 448, 712, 778, 1110, 1194, 1612, 1634, 2...   \n",
       "Results_2                                                 []   \n",
       "Results_3                                                 []   \n",
       "Results_5                 [147, 879, 1449, 2253, 2506, 3081]   \n",
       "Results_6                           [2250, 2370, 2543, 2864]   \n",
       "\n",
       "                                  end_seizure_seconds_target  \\\n",
       "Results_1  [121, 448, 796, 982, 1206, 1642, 1703, 2871, 3...   \n",
       "Results_2                                                 []   \n",
       "Results_3                                                 []   \n",
       "Results_5                       [127, 880, 1449, 2506, 3839]   \n",
       "Results_6                                                 []   \n",
       "\n",
       "          number_total_seizures_A number_total_seizures_B  \\\n",
       "Results_1                      25                      40   \n",
       "Results_2                       2                       0   \n",
       "Results_3                       0                       0   \n",
       "Results_5                       5                       5   \n",
       "Results_6                       0                       0   \n",
       "\n",
       "          number_total_seizures_C number_total_seizures_target  \n",
       "Results_1                      31                           26  \n",
       "Results_2                       0                            0  \n",
       "Results_3                       0                            0  \n",
       "Results_5                       7                            5  \n",
       "Results_6                       4                            0  \n",
       "\n",
       "[5 rows x 31 columns]"
      ]
     },
     "execution_count": 3,
     "metadata": {},
     "output_type": "execute_result"
    }
   ],
   "source": [
    "exploratory_data.head()\n",
    "exploratory_data_transposed.head()"
   ]
  },
  {
   "cell_type": "code",
   "execution_count": 24,
   "metadata": {},
   "outputs": [
    {
     "data": {
      "text/plain": [
       "number_total_seizures_target    0\n",
       "Name: Results_10, dtype: object"
      ]
     },
     "execution_count": 24,
     "metadata": {},
     "output_type": "execute_result"
    }
   ],
   "source": [
    "df = pd.DataFrame(exploratory_data.iloc[30, :])\n",
    "df.iloc[8]"
   ]
  },
  {
   "cell_type": "code",
   "execution_count": null,
   "metadata": {},
   "outputs": [],
   "source": [
    "# 4 healthy patients : 2, 3, 6, 10\n",
    "# 6 unhealthy patients : 1, 13, 14, 18, 19, 78"
   ]
  },
  {
   "cell_type": "markdown",
   "metadata": {},
   "source": [
    "## Visualization"
   ]
  },
  {
   "cell_type": "code",
   "execution_count": 6,
   "metadata": {},
   "outputs": [
    {
     "data": {
      "image/png": "[encoded data removed]",
      "text/plain": [
       "<Figure size 640x480 with 1 Axes>"
      ]
     },
     "metadata": {},
     "output_type": "display_data"
    }
   ],
   "source": [
    "# Total number of seizures\n",
    "plt.hist(exploratory_data_transposed['number_total_seizures_target'], bins=20);"
   ]
  },
  {
   "cell_type": "code",
   "execution_count": 8,
   "metadata": {},
   "outputs": [
    {
     "data": {
      "text/plain": [
       "<matplotlib.collections.PathCollection at 0x16b5f99c0>"
      ]
     },
     "execution_count": 8,
     "metadata": {},
     "output_type": "execute_result"
    },
    {
     "data": {
      "image/png": "[encoded data removed]",
      "text/plain": [
       "<Figure size 640x480 with 1 Axes>"
      ]
     },
     "metadata": {},
     "output_type": "display_data"
    }
   ],
   "source": [
    "# Total duration of seizures vs total number of seizures\n",
    "plt.scatter(exploratory_data_transposed['total_duration_seizures_target'], exploratory_data_transposed['number_total_seizures_target'])"
   ]
  }
 ],
 "metadata": {
  "kernelspec": {
   "display_name": "Python 3 (ipykernel)",
   "language": "python",
   "name": "python3"
  },
  "language_info": {
   "codemirror_mode": {
    "name": "ipython",
    "version": 3
   },
   "file_extension": ".py",
   "mimetype": "text/x-python",
   "name": "python",
   "nbconvert_exporter": "python",
   "pygments_lexer": "ipython3",
   "version": "3.10.6"
  },
  "toc": {
   "base_numbering": 1,
   "nav_menu": {},
   "number_sections": true,
   "sideBar": true,
   "skip_h1_title": false,
   "title_cell": "Table of Contents",
   "title_sidebar": "Contents",
   "toc_cell": false,
   "toc_position": {},
   "toc_section_display": true,
   "toc_window_display": false
  },
  "vscode": {
   "interpreter": {
    "hash": "084009d29c4d399de001dca73f2ca08397571f64c908180b8b68164c76b7845b"
   }
  }
 },
 "nbformat": 4,
 "nbformat_minor": 2
}
