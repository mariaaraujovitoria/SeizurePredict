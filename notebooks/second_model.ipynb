{
 "cells": [
  {
   "cell_type": "markdown",
   "id": "ab4b515b",
   "metadata": {},
   "source": [
    "# Imports"
   ]
  },
  {
   "cell_type": "code",
   "execution_count": null,
   "id": "9de958e9",
   "metadata": {},
   "outputs": [],
   "source": [
    "import scipy.io\n",
    "from pyedflib import highlevel\n",
    "import pandas as pd\n",
    "import matplotlib.pyplot as plt\n",
    "import seaborn as sns\n",
    "import numpy as np\n",
    "from itertools import groupby\n",
    "import csv\n",
    "import pickle\n",
    "from scipy.signal import butter, sosfilt, sosfiltfilt, sosfreqz\n",
    "from scipy.signal import freqz, iirnotch, filtfilt\n",
    "from sklearn.preprocessing import MinMaxScaler\n",
    "from sklearn.base import TransformerMixin, BaseEstimator\n",
    "import random\n",
    "from sklearn.linear_model import LogisticRegression\n",
    "from sklearn.neighbors import KNeighborsClassifier\n",
    "from sklearn.metrics import accuracy_score\n",
    "from sklearn.model_selection import cross_validate\n",
    "from imblearn.over_sampling import SMOTE\n",
    "from sklearn.svm import SVC\n",
    "from sklearn.model_selection import train_test_split"
   ]
  },
  {
   "cell_type": "markdown",
   "id": "bcb76092",
   "metadata": {},
   "source": [
    "# Variables"
   ]
  },
  {
   "cell_type": "code",
   "execution_count": null,
   "id": "d3b2d4a7",
   "metadata": {},
   "outputs": [],
   "source": [
    "sample_rate = 256\n",
    "sec = 10\n",
    "len_window = sample_rate*sec\n",
    "overlap = 5"
   ]
  },
  {
   "cell_type": "markdown",
   "id": "1e3383cf",
   "metadata": {},
   "source": [
    "# Data Loading"
   ]
  },
  {
   "cell_type": "code",
   "execution_count": null,
   "id": "c7ba3dc7",
   "metadata": {},
   "outputs": [],
   "source": [
    "df = pd.read_csv('../data_modeling/MinMaxScaler/data_modeling_patient_5.csv', index_col=[0])\n",
    "df.head()"
   ]
  },
  {
   "cell_type": "markdown",
   "id": "b4ccb686",
   "metadata": {},
   "source": [
    "# Feature Engineering"
   ]
  },
  {
   "cell_type": "markdown",
   "id": "93df14bc",
   "metadata": {},
   "source": [
    "## Flatten and concatenate the data"
   ]
  },
  {
   "cell_type": "code",
   "execution_count": null,
   "id": "5f5ad182",
   "metadata": {},
   "outputs": [],
   "source": [
    "def flatten_window(window_df):\n",
    "    if len(np.unique(window_df.iloc[:,-1])) == 1:\n",
    "        target = window_df.iloc[0,-1]\n",
    "    else:\n",
    "        target = 1\n",
    "    t_df = window_df.drop(columns = \"is_seizure_target\").transpose()\n",
    "    flatten = pd.DataFrame(np.array(t_df).reshape(1,t_df.shape[0]*t_df.shape[1]))\n",
    "    flatten[\"Target\"] = target\n",
    "    return flatten"
   ]
  },
  {
   "cell_type": "code",
   "execution_count": null,
   "id": "91104cb1",
   "metadata": {},
   "outputs": [],
   "source": [
    "def create_data_input(df):\n",
    "    data = np.array([flatten_window(df.iloc[i:i+len_window+1]) for i in range(0,len(df)-len_window, overlap*sample_rate)])\n",
    "    r=data.shape[0]\n",
    "    c=data.shape[2]\n",
    "    \n",
    "    data = pd.DataFrame(data.reshape(r,c))\n",
    "    X = data.iloc[:,:-1]\n",
    "    y = data.iloc[:,-1]\n",
    "    return X, y"
   ]
  },
  {
   "cell_type": "code",
   "execution_count": null,
   "id": "8af584c6",
   "metadata": {},
   "outputs": [],
   "source": [
    "X, y =  create_data_input(df)\n",
    "X_train, X_test, y_train, y_test = train_test_split(X,y, test_size=0.2)"
   ]
  },
  {
   "cell_type": "markdown",
   "id": "72972d71",
   "metadata": {},
   "source": [
    "## Balancing the data"
   ]
  },
  {
   "cell_type": "code",
   "execution_count": null,
   "id": "2079c53a",
   "metadata": {},
   "outputs": [],
   "source": [
    "# Resample the minority class. You can change the strategy to 'auto' if you are not sure.\n",
    "def oversampling(X, y): \n",
    "    sm = SMOTE(sampling_strategy='minority', random_state=7)\n",
    "    X, y = sm.fit_resample(X, y)\n",
    "    return X, y\n",
    "    \n",
    "X_train, y_train = oversampling(X_train, y_train)"
   ]
  },
  {
   "cell_type": "markdown",
   "id": "28b53384",
   "metadata": {},
   "source": [
    "# Modeling"
   ]
  },
  {
   "cell_type": "markdown",
   "id": "66e1e246",
   "metadata": {},
   "source": [
    "## Implement models"
   ]
  },
  {
   "cell_type": "code",
   "execution_count": null,
   "id": "787fde53",
   "metadata": {},
   "outputs": [],
   "source": [
    "# Instantiate the model\n",
    "log_model = LogisticRegression(max_iter=2000)\n",
    "knn_model = KNeighborsClassifier(n_neighbors=5)\n",
    "svc_model = svc = SVC(kernel='linear', C=10)\n",
    "\n",
    "# Fit the model on the data\n",
    "log_model.fit(X_train, y_train)\n",
    "knn_model.fit(X_train, y_train)\n",
    "svc_model.fit(X_train, y_train);"
   ]
  },
  {
   "cell_type": "markdown",
   "id": "4aa4620a",
   "metadata": {},
   "source": [
    "## Model evaluation"
   ]
  },
  {
   "cell_type": "markdown",
   "id": "50f1d44d",
   "metadata": {},
   "source": [
    "### Accuracy"
   ]
  },
  {
   "cell_type": "code",
   "execution_count": null,
   "id": "57124d1e",
   "metadata": {},
   "outputs": [],
   "source": [
    "# Accuracy\n",
    "log_score = accuracy_score(y_test, log_model.predict(X_test))\n",
    "knn_score =  accuracy_score(y_test, knn_model.predict(X_test))\n",
    "svc_score =  accuracy_score(y_test, svc_model.predict(X_test))\n",
    "\n",
    "print(f\"Accuracy {log_model}: {log_score}\")\n",
    "print(f\"Accuracy {knn_model}: {knn_score}\")\n",
    "print(f\"Accuracy {svc_model}: {svc_score}\")"
   ]
  },
  {
   "cell_type": "markdown",
   "id": "2ca77b4e",
   "metadata": {},
   "source": [
    "### Confusion matrix"
   ]
  },
  {
   "cell_type": "code",
   "execution_count": null,
   "id": "a6011a76",
   "metadata": {},
   "outputs": [],
   "source": [
    "# Confusion matrix - Model 1\n",
    "\n",
    "y_true = y_test\n",
    "y_pred = log_model.predict(X_test)\n",
    "\n",
    "results_df = pd.DataFrame({\"actual\": y_true,\n",
    "                           \"predicted\": y_pred})\n",
    "\n",
    "confusion_matrix_log = pd.crosstab(index= results_df['actual'],\n",
    "                               columns = results_df['predicted'])\n",
    "\n",
    "confusion_matrix_log"
   ]
  },
  {
   "cell_type": "code",
   "execution_count": null,
   "id": "1d3a9583",
   "metadata": {},
   "outputs": [],
   "source": [
    "# Confusion matrix - Model 2\n",
    "\n",
    "y_true = y_test\n",
    "y_pred = knn_model.predict(X_test)\n",
    "\n",
    "results_df = pd.DataFrame({\"actual\": y_true,\n",
    "                           \"predicted\": y_pred})\n",
    "\n",
    "confusion_matrix_knn = pd.crosstab(index= results_df['actual'],\n",
    "                               columns = results_df['predicted'])\n",
    "\n",
    "confusion_matrix_knn"
   ]
  },
  {
   "cell_type": "code",
   "execution_count": null,
   "id": "a0aa3cf9",
   "metadata": {},
   "outputs": [],
   "source": [
    "# Confusion matrix - Model 3\n",
    "\n",
    "y_true = y_test\n",
    "y_pred = svc_model.predict(X_test)\n",
    "\n",
    "results_df = pd.DataFrame({\"actual\": y_true,\n",
    "                           \"predicted\": y_pred})\n",
    "\n",
    "confusion_matrix_svc = pd.crosstab(index= results_df['actual'],\n",
    "                               columns = results_df['predicted'])\n",
    "\n",
    "confusion_matrix_svc"
   ]
  },
  {
   "cell_type": "markdown",
   "id": "87c25862",
   "metadata": {},
   "source": [
    "### Cross-validation"
   ]
  },
  {
   "cell_type": "code",
   "execution_count": null,
   "id": "09a72e58",
   "metadata": {},
   "outputs": [],
   "source": [
    "# Cross-validation\n",
    "\n",
    "cv_results_log = cross_validate(log_model, X_train, y_train, cv=5, \n",
    "                            scoring=['recall', 'f1'])\n",
    "\n",
    "cv_results_knn = cross_validate(knn_model, X_train, y_train, cv=5, \n",
    "                            scoring=['recall', 'f1'])\n",
    "\n",
    "cv_results_svc = cross_validate(svc_model, X_train, y_train, cv=5, \n",
    "                            scoring=['recall', 'f1'])\n",
    "\n",
    "print(f\"Recall {log_model}: {round(cv_results_log['test_recall'].mean(),3)}\")\n",
    "print(f\"Recall {knn_model}: {round(cv_results_knn['test_recall'].mean(),3)}\")\n",
    "print(f\"Recall {svc_model}: {round(cv_results_svc['test_recall'].mean(),3)}\")\n",
    "\n",
    "print(f\"F1 score {log_model}: {round(cv_results_log['test_f1'].mean(),3)}\")\n",
    "print(f\"F1 score {knn_model}: {round(cv_results_knn['test_f1'].mean(),3)}\")\n",
    "print(f\"F1 score {svc_model}: {round(cv_results_svc['test_f1'].mean(),3)}\")"
   ]
  },
  {
   "cell_type": "markdown",
   "id": "fa04d3da",
   "metadata": {},
   "source": [
    "# Test a new data"
   ]
  },
  {
   "cell_type": "code",
   "execution_count": null,
   "id": "3a953c59",
   "metadata": {},
   "outputs": [],
   "source": [
    "df_new = pd.read_csv('../data_modeling/MinMaxScaler/data_modeling_patient_2.csv', index_col=[0])\n",
    "df_new.head()"
   ]
  },
  {
   "cell_type": "code",
   "execution_count": null,
   "id": "2c9f1753",
   "metadata": {},
   "outputs": [],
   "source": [
    "X_new, y_new = create_data_input(df_new)"
   ]
  },
  {
   "cell_type": "code",
   "execution_count": null,
   "id": "00f70256",
   "metadata": {},
   "outputs": [],
   "source": [
    "# Confusion matrix - Model 3\n",
    "\n",
    "y_true = y_new\n",
    "y_pred = svc_model.predict(X_new)\n",
    "\n",
    "results_df = pd.DataFrame({\"actual\": y_true,\n",
    "                           \"predicted\": y_pred})\n",
    "\n",
    "confusion_matrix_svc = pd.crosstab(index= results_df['actual'],\n",
    "                               columns = results_df['predicted'])\n",
    "\n",
    "confusion_matrix_svc"
   ]
  },
  {
   "cell_type": "code",
   "execution_count": null,
   "id": "56622c0e",
   "metadata": {},
   "outputs": [],
   "source": [
    "true_negative = 218/(218+533)\n",
    "true_negative"
   ]
  }
 ],
 "metadata": {
  "kernelspec": {
   "display_name": "Python 3 (ipykernel)",
   "language": "python",
   "name": "python3"
  },
  "language_info": {
   "codemirror_mode": {
    "name": "ipython",
    "version": 3
   },
   "file_extension": ".py",
   "mimetype": "text/x-python",
   "name": "python",
   "nbconvert_exporter": "python",
   "pygments_lexer": "ipython3",
   "version": "3.10.6"
  },
  "toc": {
   "base_numbering": 1,
   "nav_menu": {},
   "number_sections": true,
   "sideBar": true,
   "skip_h1_title": false,
   "title_cell": "Table of Contents",
   "title_sidebar": "Contents",
   "toc_cell": false,
   "toc_position": {},
   "toc_section_display": true,
   "toc_window_display": false
  }
 },
 "nbformat": 4,
 "nbformat_minor": 5
}
