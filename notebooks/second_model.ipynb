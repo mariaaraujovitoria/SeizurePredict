{
 "cells": [
  {
   "cell_type": "markdown",
   "id": "ab4b515b",
   "metadata": {},
   "source": [
    "# Imports"
   ]
  },
  {
   "cell_type": "code",
   "execution_count": 175,
   "id": "9de958e9",
   "metadata": {},
   "outputs": [],
   "source": [
    "import scipy.io\n",
    "from pyedflib import highlevel\n",
    "import pandas as pd\n",
    "import matplotlib.pyplot as plt\n",
    "import seaborn as sns\n",
    "import numpy as np\n",
    "from itertools import groupby\n",
    "import csv\n",
    "import pickle\n",
    "from scipy.signal import butter, sosfilt, sosfiltfilt, sosfreqz\n",
    "from scipy.signal import freqz, iirnotch, filtfilt\n",
    "from sklearn.preprocessing import MinMaxScaler\n",
    "from sklearn.base import TransformerMixin, BaseEstimator\n",
    "import random\n",
    "from sklearn.linear_model import LogisticRegression\n",
    "from sklearn.neighbors import KNeighborsClassifier\n",
    "from sklearn.metrics import accuracy_score\n",
    "from sklearn.model_selection import cross_validate\n",
    "from imblearn.over_sampling import SMOTE\n",
    "from sklearn.svm import SVC\n",
    "from sklearn.model_selection import train_test_split"
   ]
  },
  {
   "cell_type": "markdown",
   "id": "4ac11946",
   "metadata": {},
   "source": [
    "# Variables"
   ]
  },
  {
   "cell_type": "code",
   "execution_count": 76,
   "id": "d3b2d4a7",
   "metadata": {},
   "outputs": [],
   "source": [
    "sample_rate = 256\n",
    "sec = 10\n",
    "len_window = sample_rate*sec\n",
    "overlap = 5"
   ]
  },
  {
   "cell_type": "markdown",
   "id": "1e3383cf",
   "metadata": {},
   "source": [
    "# Data Loading"
   ]
  },
  {
   "cell_type": "code",
   "execution_count": 165,
   "id": "c7ba3dc7",
   "metadata": {},
   "outputs": [
    {
     "data": {
      "text/html": [
       "<div>\n",
       "<style scoped>\n",
       "    .dataframe tbody tr th:only-of-type {\n",
       "        vertical-align: middle;\n",
       "    }\n",
       "\n",
       "    .dataframe tbody tr th {\n",
       "        vertical-align: top;\n",
       "    }\n",
       "\n",
       "    .dataframe thead th {\n",
       "        text-align: right;\n",
       "    }\n",
       "</style>\n",
       "<table border=\"1\" class=\"dataframe\">\n",
       "  <thead>\n",
       "    <tr style=\"text-align: right;\">\n",
       "      <th></th>\n",
       "      <th>EEG Fp1-Ref</th>\n",
       "      <th>EEG Fp2-Ref</th>\n",
       "      <th>EEG F7-Ref</th>\n",
       "      <th>EEG F3-Ref</th>\n",
       "      <th>EEG Fz-Ref</th>\n",
       "      <th>EEG F4-Ref</th>\n",
       "      <th>EEG F8-Ref</th>\n",
       "      <th>EEG T3-Ref</th>\n",
       "      <th>EEG C3-Ref</th>\n",
       "      <th>EEG Cz-Ref</th>\n",
       "      <th>EEG C4-Ref</th>\n",
       "      <th>EEG T4-Ref</th>\n",
       "      <th>EEG T5-Ref</th>\n",
       "      <th>EEG P3-Ref</th>\n",
       "      <th>EEG Pz-Ref</th>\n",
       "      <th>EEG P4-Ref</th>\n",
       "      <th>EEG T6-Ref</th>\n",
       "      <th>EEG O1-Ref</th>\n",
       "      <th>EEG O2-Ref</th>\n",
       "      <th>is_seizure_target</th>\n",
       "    </tr>\n",
       "  </thead>\n",
       "  <tbody>\n",
       "    <tr>\n",
       "      <th>0</th>\n",
       "      <td>-1.419105</td>\n",
       "      <td>17.866398</td>\n",
       "      <td>26.912596</td>\n",
       "      <td>13.849781</td>\n",
       "      <td>0.334560</td>\n",
       "      <td>-8.870927</td>\n",
       "      <td>20.188353</td>\n",
       "      <td>8.470444</td>\n",
       "      <td>-16.098475</td>\n",
       "      <td>10.602408</td>\n",
       "      <td>20.922618</td>\n",
       "      <td>22.936879</td>\n",
       "      <td>-4.219819</td>\n",
       "      <td>-8.557335</td>\n",
       "      <td>-7.741930</td>\n",
       "      <td>16.791965</td>\n",
       "      <td>15.138854</td>\n",
       "      <td>-16.910205</td>\n",
       "      <td>-9.048158</td>\n",
       "      <td>1</td>\n",
       "    </tr>\n",
       "    <tr>\n",
       "      <th>1</th>\n",
       "      <td>-3.318200</td>\n",
       "      <td>41.790181</td>\n",
       "      <td>53.524897</td>\n",
       "      <td>22.539651</td>\n",
       "      <td>0.112400</td>\n",
       "      <td>-16.763359</td>\n",
       "      <td>39.730104</td>\n",
       "      <td>20.065797</td>\n",
       "      <td>-32.113944</td>\n",
       "      <td>19.723380</td>\n",
       "      <td>41.087818</td>\n",
       "      <td>46.729833</td>\n",
       "      <td>-7.158927</td>\n",
       "      <td>-15.070688</td>\n",
       "      <td>-13.714219</td>\n",
       "      <td>33.680687</td>\n",
       "      <td>30.321825</td>\n",
       "      <td>-30.656286</td>\n",
       "      <td>-15.350078</td>\n",
       "      <td>1</td>\n",
       "    </tr>\n",
       "    <tr>\n",
       "      <th>2</th>\n",
       "      <td>-8.260964</td>\n",
       "      <td>42.491697</td>\n",
       "      <td>48.742226</td>\n",
       "      <td>10.640972</td>\n",
       "      <td>-1.428029</td>\n",
       "      <td>-11.712904</td>\n",
       "      <td>37.064375</td>\n",
       "      <td>18.978916</td>\n",
       "      <td>-29.206768</td>\n",
       "      <td>17.656212</td>\n",
       "      <td>38.100061</td>\n",
       "      <td>43.876514</td>\n",
       "      <td>-5.428389</td>\n",
       "      <td>-14.246795</td>\n",
       "      <td>-12.121809</td>\n",
       "      <td>33.083871</td>\n",
       "      <td>29.851972</td>\n",
       "      <td>-25.687254</td>\n",
       "      <td>-10.224155</td>\n",
       "      <td>1</td>\n",
       "    </tr>\n",
       "    <tr>\n",
       "      <th>3</th>\n",
       "      <td>-3.282774</td>\n",
       "      <td>35.593190</td>\n",
       "      <td>52.041205</td>\n",
       "      <td>19.698493</td>\n",
       "      <td>-1.821554</td>\n",
       "      <td>-12.847160</td>\n",
       "      <td>40.719617</td>\n",
       "      <td>19.530675</td>\n",
       "      <td>-32.696911</td>\n",
       "      <td>18.755420</td>\n",
       "      <td>41.574157</td>\n",
       "      <td>48.381576</td>\n",
       "      <td>-6.566801</td>\n",
       "      <td>-14.805329</td>\n",
       "      <td>-12.654931</td>\n",
       "      <td>35.169712</td>\n",
       "      <td>32.560589</td>\n",
       "      <td>-28.299376</td>\n",
       "      <td>-11.631809</td>\n",
       "      <td>1</td>\n",
       "    </tr>\n",
       "    <tr>\n",
       "      <th>4</th>\n",
       "      <td>3.505180</td>\n",
       "      <td>32.131439</td>\n",
       "      <td>50.848944</td>\n",
       "      <td>19.133736</td>\n",
       "      <td>-2.570428</td>\n",
       "      <td>-13.868957</td>\n",
       "      <td>37.644640</td>\n",
       "      <td>10.022557</td>\n",
       "      <td>-31.576933</td>\n",
       "      <td>18.048527</td>\n",
       "      <td>39.006783</td>\n",
       "      <td>47.168211</td>\n",
       "      <td>-9.262223</td>\n",
       "      <td>-14.579787</td>\n",
       "      <td>-12.167261</td>\n",
       "      <td>34.712738</td>\n",
       "      <td>31.528349</td>\n",
       "      <td>-28.511808</td>\n",
       "      <td>-12.419453</td>\n",
       "      <td>1</td>\n",
       "    </tr>\n",
       "  </tbody>\n",
       "</table>\n",
       "</div>"
      ],
      "text/plain": [
       "   EEG Fp1-Ref  EEG Fp2-Ref  EEG F7-Ref  EEG F3-Ref  EEG Fz-Ref  EEG F4-Ref  \\\n",
       "0    -1.419105    17.866398   26.912596   13.849781    0.334560   -8.870927   \n",
       "1    -3.318200    41.790181   53.524897   22.539651    0.112400  -16.763359   \n",
       "2    -8.260964    42.491697   48.742226   10.640972   -1.428029  -11.712904   \n",
       "3    -3.282774    35.593190   52.041205   19.698493   -1.821554  -12.847160   \n",
       "4     3.505180    32.131439   50.848944   19.133736   -2.570428  -13.868957   \n",
       "\n",
       "   EEG F8-Ref  EEG T3-Ref  EEG C3-Ref  EEG Cz-Ref  EEG C4-Ref  EEG T4-Ref  \\\n",
       "0   20.188353    8.470444  -16.098475   10.602408   20.922618   22.936879   \n",
       "1   39.730104   20.065797  -32.113944   19.723380   41.087818   46.729833   \n",
       "2   37.064375   18.978916  -29.206768   17.656212   38.100061   43.876514   \n",
       "3   40.719617   19.530675  -32.696911   18.755420   41.574157   48.381576   \n",
       "4   37.644640   10.022557  -31.576933   18.048527   39.006783   47.168211   \n",
       "\n",
       "   EEG T5-Ref  EEG P3-Ref  EEG Pz-Ref  EEG P4-Ref  EEG T6-Ref  EEG O1-Ref  \\\n",
       "0   -4.219819   -8.557335   -7.741930   16.791965   15.138854  -16.910205   \n",
       "1   -7.158927  -15.070688  -13.714219   33.680687   30.321825  -30.656286   \n",
       "2   -5.428389  -14.246795  -12.121809   33.083871   29.851972  -25.687254   \n",
       "3   -6.566801  -14.805329  -12.654931   35.169712   32.560589  -28.299376   \n",
       "4   -9.262223  -14.579787  -12.167261   34.712738   31.528349  -28.511808   \n",
       "\n",
       "   EEG O2-Ref  is_seizure_target  \n",
       "0   -9.048158                  1  \n",
       "1  -15.350078                  1  \n",
       "2  -10.224155                  1  \n",
       "3  -11.631809                  1  \n",
       "4  -12.419453                  1  "
      ]
     },
     "execution_count": 165,
     "metadata": {},
     "output_type": "execute_result"
    }
   ],
   "source": [
    "df = pd.read_csv('../data_modeling/MinMaxScaler/data_modeling_patient_5.csv', index_col=[0])\n",
    "df.head()"
   ]
  },
  {
   "cell_type": "markdown",
   "id": "b4ccb686",
   "metadata": {},
   "source": [
    "# Feature Engineering"
   ]
  },
  {
   "cell_type": "markdown",
   "id": "779c5223",
   "metadata": {},
   "source": [
    "## Flatten and concatenate the data"
   ]
  },
  {
   "cell_type": "code",
   "execution_count": 103,
   "id": "5f5ad182",
   "metadata": {},
   "outputs": [],
   "source": [
    "def flatten_window(window_df):\n",
    "    if len(np.unique(window_df.iloc[:,-1])) == 1:\n",
    "        target = window_df.iloc[0,-1]\n",
    "    else:\n",
    "        target = 1\n",
    "    t_df = window_df.drop(columns = \"is_seizure_target\").transpose()\n",
    "    flatten = pd.DataFrame(np.array(t_df).reshape(1,t_df.shape[0]*t_df.shape[1]))\n",
    "    flatten[\"Target\"] = target\n",
    "    return flatten"
   ]
  },
  {
   "cell_type": "code",
   "execution_count": 173,
   "id": "848ada5f",
   "metadata": {},
   "outputs": [],
   "source": [
    "def create_data_input(df):\n",
    "    data = np.array([flatten_window(df.iloc[i:i+len_window+1]) for i in range(0,len(df)-len_window, overlap*sample_rate)])\n",
    "    r=data.shape[0]\n",
    "    c=data.shape[2]\n",
    "    \n",
    "    data = pd.DataFrame(data.reshape(r,c))\n",
    "    X = data.iloc[:,:-1]\n",
    "    y = data.iloc[:,-1]\n",
    "    return X, y"
   ]
  },
  {
   "cell_type": "code",
   "execution_count": 177,
   "id": "d1d290bd",
   "metadata": {},
   "outputs": [],
   "source": [
    "X, y =  create_data_input(df)\n",
    "X_train, X_test, y_train, y_test = train_test_split(X,y, test_size=0.2)"
   ]
  },
  {
   "cell_type": "markdown",
   "id": "456f42c1",
   "metadata": {},
   "source": [
    "## Balancing the data"
   ]
  },
  {
   "cell_type": "code",
   "execution_count": 179,
   "id": "a3835d43",
   "metadata": {},
   "outputs": [],
   "source": [
    "# Resample the minority class. You can change the strategy to 'auto' if you are not sure.\n",
    "def oversampling(X, y): \n",
    "    sm = SMOTE(sampling_strategy='minority', random_state=7)\n",
    "    X, y = sm.fit_resample(X, y)\n",
    "    return X, y\n",
    "    \n",
    "X_train, y_train = oversampling(X_train, y_train)"
   ]
  },
  {
   "cell_type": "markdown",
   "id": "28b53384",
   "metadata": {},
   "source": [
    "# Modeling"
   ]
  },
  {
   "cell_type": "markdown",
   "id": "66e1e246",
   "metadata": {},
   "source": [
    "## Implement models"
   ]
  },
  {
   "cell_type": "code",
   "execution_count": 123,
   "id": "787fde53",
   "metadata": {},
   "outputs": [],
   "source": [
    "# Instantiate the model\n",
    "log_model = LogisticRegression(max_iter=2000)\n",
    "knn_model = KNeighborsClassifier(n_neighbors=5)\n",
    "svc_model = svc = SVC(kernel='linear', C=10)\n",
    "\n",
    "# Fit the model on the data\n",
    "log_model.fit(X_train, y_train)\n",
    "knn_model.fit(X_train, y_train)\n",
    "svc_model.fit(X_train, y_train);"
   ]
  },
  {
   "cell_type": "markdown",
   "id": "4aa4620a",
   "metadata": {},
   "source": [
    "## Model evaluation"
   ]
  },
  {
   "cell_type": "markdown",
   "id": "31df4d1a",
   "metadata": {},
   "source": [
    "### Accuracy"
   ]
  },
  {
   "cell_type": "code",
   "execution_count": 125,
   "id": "57124d1e",
   "metadata": {},
   "outputs": [
    {
     "name": "stdout",
     "output_type": "stream",
     "text": [
      "Accuracy LogisticRegression(max_iter=2000): 0.5545851528384279\n",
      "Accuracy KNeighborsClassifier(): 0.013100436681222707\n",
      "Accuracy SVC(C=10, kernel='linear'): 0.7117903930131004\n"
     ]
    }
   ],
   "source": [
    "# Accuracy\n",
    "log_score = accuracy_score(y_test, log_model.predict(X_test))\n",
    "knn_score =  accuracy_score(y_test, knn_model.predict(X_test))\n",
    "svc_score =  accuracy_score(y_test, svc_model.predict(X_test))\n",
    "\n",
    "print(f\"Accuracy {log_model}: {log_score}\")\n",
    "print(f\"Accuracy {knn_model}: {knn_score}\")\n",
    "print(f\"Accuracy {svc_model}: {svc_score}\")"
   ]
  },
  {
   "cell_type": "markdown",
   "id": "6262a7e3",
   "metadata": {},
   "source": [
    "### Confusion matrix"
   ]
  },
  {
   "cell_type": "code",
   "execution_count": 126,
   "id": "a6011a76",
   "metadata": {},
   "outputs": [
    {
     "data": {
      "text/html": [
       "<div>\n",
       "<style scoped>\n",
       "    .dataframe tbody tr th:only-of-type {\n",
       "        vertical-align: middle;\n",
       "    }\n",
       "\n",
       "    .dataframe tbody tr th {\n",
       "        vertical-align: top;\n",
       "    }\n",
       "\n",
       "    .dataframe thead th {\n",
       "        text-align: right;\n",
       "    }\n",
       "</style>\n",
       "<table border=\"1\" class=\"dataframe\">\n",
       "  <thead>\n",
       "    <tr style=\"text-align: right;\">\n",
       "      <th>predicted</th>\n",
       "      <th>0.0</th>\n",
       "      <th>1.0</th>\n",
       "    </tr>\n",
       "    <tr>\n",
       "      <th>actual</th>\n",
       "      <th></th>\n",
       "      <th></th>\n",
       "    </tr>\n",
       "  </thead>\n",
       "  <tbody>\n",
       "    <tr>\n",
       "      <th>1.0</th>\n",
       "      <td>102</td>\n",
       "      <td>127</td>\n",
       "    </tr>\n",
       "  </tbody>\n",
       "</table>\n",
       "</div>"
      ],
      "text/plain": [
       "predicted  0.0  1.0\n",
       "actual             \n",
       "1.0        102  127"
      ]
     },
     "execution_count": 126,
     "metadata": {},
     "output_type": "execute_result"
    }
   ],
   "source": [
    "# Confusion matrix - Model 1\n",
    "\n",
    "y_true = y_test\n",
    "y_pred = log_model.predict(X_test)\n",
    "\n",
    "results_df = pd.DataFrame({\"actual\": y_true,\n",
    "                           \"predicted\": y_pred})\n",
    "\n",
    "confusion_matrix_log = pd.crosstab(index= results_df['actual'],\n",
    "                               columns = results_df['predicted'])\n",
    "\n",
    "confusion_matrix_log"
   ]
  },
  {
   "cell_type": "code",
   "execution_count": 127,
   "id": "1d3a9583",
   "metadata": {},
   "outputs": [
    {
     "data": {
      "text/html": [
       "<div>\n",
       "<style scoped>\n",
       "    .dataframe tbody tr th:only-of-type {\n",
       "        vertical-align: middle;\n",
       "    }\n",
       "\n",
       "    .dataframe tbody tr th {\n",
       "        vertical-align: top;\n",
       "    }\n",
       "\n",
       "    .dataframe thead th {\n",
       "        text-align: right;\n",
       "    }\n",
       "</style>\n",
       "<table border=\"1\" class=\"dataframe\">\n",
       "  <thead>\n",
       "    <tr style=\"text-align: right;\">\n",
       "      <th>predicted</th>\n",
       "      <th>0.0</th>\n",
       "      <th>1.0</th>\n",
       "    </tr>\n",
       "    <tr>\n",
       "      <th>actual</th>\n",
       "      <th></th>\n",
       "      <th></th>\n",
       "    </tr>\n",
       "  </thead>\n",
       "  <tbody>\n",
       "    <tr>\n",
       "      <th>1.0</th>\n",
       "      <td>226</td>\n",
       "      <td>3</td>\n",
       "    </tr>\n",
       "  </tbody>\n",
       "</table>\n",
       "</div>"
      ],
      "text/plain": [
       "predicted  0.0  1.0\n",
       "actual             \n",
       "1.0        226    3"
      ]
     },
     "execution_count": 127,
     "metadata": {},
     "output_type": "execute_result"
    }
   ],
   "source": [
    "# Confusion matrix - Model 2\n",
    "\n",
    "y_true = y_test\n",
    "y_pred = knn_model.predict(X_test)\n",
    "\n",
    "results_df = pd.DataFrame({\"actual\": y_true,\n",
    "                           \"predicted\": y_pred})\n",
    "\n",
    "confusion_matrix_knn = pd.crosstab(index= results_df['actual'],\n",
    "                               columns = results_df['predicted'])\n",
    "\n",
    "confusion_matrix_knn"
   ]
  },
  {
   "cell_type": "code",
   "execution_count": 128,
   "id": "41577a4a",
   "metadata": {},
   "outputs": [
    {
     "data": {
      "text/html": [
       "<div>\n",
       "<style scoped>\n",
       "    .dataframe tbody tr th:only-of-type {\n",
       "        vertical-align: middle;\n",
       "    }\n",
       "\n",
       "    .dataframe tbody tr th {\n",
       "        vertical-align: top;\n",
       "    }\n",
       "\n",
       "    .dataframe thead th {\n",
       "        text-align: right;\n",
       "    }\n",
       "</style>\n",
       "<table border=\"1\" class=\"dataframe\">\n",
       "  <thead>\n",
       "    <tr style=\"text-align: right;\">\n",
       "      <th>predicted</th>\n",
       "      <th>0.0</th>\n",
       "      <th>1.0</th>\n",
       "    </tr>\n",
       "    <tr>\n",
       "      <th>actual</th>\n",
       "      <th></th>\n",
       "      <th></th>\n",
       "    </tr>\n",
       "  </thead>\n",
       "  <tbody>\n",
       "    <tr>\n",
       "      <th>1.0</th>\n",
       "      <td>66</td>\n",
       "      <td>163</td>\n",
       "    </tr>\n",
       "  </tbody>\n",
       "</table>\n",
       "</div>"
      ],
      "text/plain": [
       "predicted  0.0  1.0\n",
       "actual             \n",
       "1.0         66  163"
      ]
     },
     "execution_count": 128,
     "metadata": {},
     "output_type": "execute_result"
    }
   ],
   "source": [
    "# Confusion matrix - Model 3\n",
    "\n",
    "y_true = y_test\n",
    "y_pred = svc_model.predict(X_test)\n",
    "\n",
    "results_df = pd.DataFrame({\"actual\": y_true,\n",
    "                           \"predicted\": y_pred})\n",
    "\n",
    "confusion_matrix_svc = pd.crosstab(index= results_df['actual'],\n",
    "                               columns = results_df['predicted'])\n",
    "\n",
    "confusion_matrix_svc"
   ]
  },
  {
   "cell_type": "markdown",
   "id": "9a1e2f65",
   "metadata": {},
   "source": [
    "### Cross-validation"
   ]
  },
  {
   "cell_type": "code",
   "execution_count": 129,
   "id": "1fa59b10",
   "metadata": {},
   "outputs": [
    {
     "name": "stdout",
     "output_type": "stream",
     "text": [
      "Recall LogisticRegression(max_iter=2000): 0.723\n",
      "Recall KNeighborsClassifier(): 0.0\n",
      "Recall SVC(C=10, kernel='linear'): 0.792\n",
      "F1 score LogisticRegression(max_iter=2000): 0.825\n",
      "F1 score KNeighborsClassifier(): 0.0\n",
      "F1 score SVC(C=10, kernel='linear'): 0.87\n"
     ]
    }
   ],
   "source": [
    "# Cross-validation\n",
    "\n",
    "cv_results_log = cross_validate(log_model, X_train, y_train, cv=5, \n",
    "                            scoring=['recall', 'f1'])\n",
    "\n",
    "cv_results_knn = cross_validate(knn_model, X_train, y_train, cv=5, \n",
    "                            scoring=['recall', 'f1'])\n",
    "\n",
    "cv_results_svc = cross_validate(svc_model, X_train, y_train, cv=5, \n",
    "                            scoring=['recall', 'f1'])\n",
    "\n",
    "print(f\"Recall {log_model}: {round(cv_results_log['test_recall'].mean(),3)}\")\n",
    "print(f\"Recall {knn_model}: {round(cv_results_knn['test_recall'].mean(),3)}\")\n",
    "print(f\"Recall {svc_model}: {round(cv_results_svc['test_recall'].mean(),3)}\")\n",
    "\n",
    "print(f\"F1 score {log_model}: {round(cv_results_log['test_f1'].mean(),3)}\")\n",
    "print(f\"F1 score {knn_model}: {round(cv_results_knn['test_f1'].mean(),3)}\")\n",
    "print(f\"F1 score {svc_model}: {round(cv_results_svc['test_f1'].mean(),3)}\")"
   ]
  },
  {
   "cell_type": "markdown",
   "id": "df6c01d2",
   "metadata": {},
   "source": [
    "# Test a new data"
   ]
  },
  {
   "cell_type": "code",
   "execution_count": 167,
   "id": "0b81ed65",
   "metadata": {},
   "outputs": [
    {
     "data": {
      "text/html": [
       "<div>\n",
       "<style scoped>\n",
       "    .dataframe tbody tr th:only-of-type {\n",
       "        vertical-align: middle;\n",
       "    }\n",
       "\n",
       "    .dataframe tbody tr th {\n",
       "        vertical-align: top;\n",
       "    }\n",
       "\n",
       "    .dataframe thead th {\n",
       "        text-align: right;\n",
       "    }\n",
       "</style>\n",
       "<table border=\"1\" class=\"dataframe\">\n",
       "  <thead>\n",
       "    <tr style=\"text-align: right;\">\n",
       "      <th></th>\n",
       "      <th>EEG Fp1-Ref</th>\n",
       "      <th>EEG Fp2-Ref</th>\n",
       "      <th>EEG F3-Ref</th>\n",
       "      <th>EEG F4-Ref</th>\n",
       "      <th>EEG F7-Ref</th>\n",
       "      <th>EEG F8-Ref</th>\n",
       "      <th>EEG Fz-Ref</th>\n",
       "      <th>EEG C3-Ref</th>\n",
       "      <th>EEG C4-Ref</th>\n",
       "      <th>EEG Cz-Ref</th>\n",
       "      <th>EEG T3-Ref</th>\n",
       "      <th>EEG T5-Ref</th>\n",
       "      <th>EEG T4-Ref</th>\n",
       "      <th>EEG T6-Ref</th>\n",
       "      <th>EEG P3-Ref</th>\n",
       "      <th>EEG P4-Ref</th>\n",
       "      <th>EEG Pz-Ref</th>\n",
       "      <th>EEG O1-Ref</th>\n",
       "      <th>EEG O2-Ref</th>\n",
       "      <th>is_seizure_target</th>\n",
       "    </tr>\n",
       "  </thead>\n",
       "  <tbody>\n",
       "    <tr>\n",
       "      <th>0</th>\n",
       "      <td>-98.645167</td>\n",
       "      <td>-101.167312</td>\n",
       "      <td>-150.805429</td>\n",
       "      <td>-99.376346</td>\n",
       "      <td>-83.182367</td>\n",
       "      <td>-74.788670</td>\n",
       "      <td>20.013543</td>\n",
       "      <td>-143.138792</td>\n",
       "      <td>-87.463916</td>\n",
       "      <td>-77.354371</td>\n",
       "      <td>-139.180264</td>\n",
       "      <td>-9.668076</td>\n",
       "      <td>-84.621197</td>\n",
       "      <td>-61.668935</td>\n",
       "      <td>-7.265924</td>\n",
       "      <td>-127.848488</td>\n",
       "      <td>-58.116788</td>\n",
       "      <td>-140.756929</td>\n",
       "      <td>-126.694843</td>\n",
       "      <td>0</td>\n",
       "    </tr>\n",
       "    <tr>\n",
       "      <th>1</th>\n",
       "      <td>-98.821001</td>\n",
       "      <td>-101.178549</td>\n",
       "      <td>-152.318462</td>\n",
       "      <td>-100.563842</td>\n",
       "      <td>-81.687831</td>\n",
       "      <td>-76.560804</td>\n",
       "      <td>20.228367</td>\n",
       "      <td>-146.428835</td>\n",
       "      <td>-89.349899</td>\n",
       "      <td>-78.247286</td>\n",
       "      <td>-139.842162</td>\n",
       "      <td>-11.709217</td>\n",
       "      <td>-63.372738</td>\n",
       "      <td>-63.000002</td>\n",
       "      <td>-9.963888</td>\n",
       "      <td>-129.148470</td>\n",
       "      <td>-61.498554</td>\n",
       "      <td>-143.333635</td>\n",
       "      <td>-129.172922</td>\n",
       "      <td>0</td>\n",
       "    </tr>\n",
       "    <tr>\n",
       "      <th>2</th>\n",
       "      <td>-97.067707</td>\n",
       "      <td>-99.467840</td>\n",
       "      <td>-151.524433</td>\n",
       "      <td>-99.432681</td>\n",
       "      <td>-81.461237</td>\n",
       "      <td>-77.183123</td>\n",
       "      <td>19.782924</td>\n",
       "      <td>-145.092980</td>\n",
       "      <td>-88.052963</td>\n",
       "      <td>-77.638940</td>\n",
       "      <td>-157.247211</td>\n",
       "      <td>-12.517739</td>\n",
       "      <td>-78.761883</td>\n",
       "      <td>-61.846963</td>\n",
       "      <td>-11.261941</td>\n",
       "      <td>-127.605515</td>\n",
       "      <td>-61.651990</td>\n",
       "      <td>-142.162175</td>\n",
       "      <td>-126.797940</td>\n",
       "      <td>0</td>\n",
       "    </tr>\n",
       "    <tr>\n",
       "      <th>3</th>\n",
       "      <td>-98.678719</td>\n",
       "      <td>-101.018678</td>\n",
       "      <td>-153.656575</td>\n",
       "      <td>-102.018683</td>\n",
       "      <td>-83.169448</td>\n",
       "      <td>-79.906383</td>\n",
       "      <td>19.882898</td>\n",
       "      <td>-147.323366</td>\n",
       "      <td>-89.776689</td>\n",
       "      <td>-78.882967</td>\n",
       "      <td>-138.599045</td>\n",
       "      <td>-10.345296</td>\n",
       "      <td>-68.253342</td>\n",
       "      <td>-63.357444</td>\n",
       "      <td>-11.514185</td>\n",
       "      <td>-130.261691</td>\n",
       "      <td>-62.997133</td>\n",
       "      <td>-144.038379</td>\n",
       "      <td>-128.631423</td>\n",
       "      <td>0</td>\n",
       "    </tr>\n",
       "    <tr>\n",
       "      <th>4</th>\n",
       "      <td>-97.898545</td>\n",
       "      <td>-100.469111</td>\n",
       "      <td>-151.807918</td>\n",
       "      <td>-101.011273</td>\n",
       "      <td>-80.232267</td>\n",
       "      <td>-79.792650</td>\n",
       "      <td>19.633745</td>\n",
       "      <td>-145.928515</td>\n",
       "      <td>-88.713656</td>\n",
       "      <td>-77.980124</td>\n",
       "      <td>-144.491543</td>\n",
       "      <td>-10.629773</td>\n",
       "      <td>-71.803903</td>\n",
       "      <td>-64.094909</td>\n",
       "      <td>-12.265190</td>\n",
       "      <td>-128.846900</td>\n",
       "      <td>-63.588286</td>\n",
       "      <td>-142.847917</td>\n",
       "      <td>-128.002320</td>\n",
       "      <td>0</td>\n",
       "    </tr>\n",
       "  </tbody>\n",
       "</table>\n",
       "</div>"
      ],
      "text/plain": [
       "   EEG Fp1-Ref  EEG Fp2-Ref  EEG F3-Ref  EEG F4-Ref  EEG F7-Ref  EEG F8-Ref  \\\n",
       "0   -98.645167  -101.167312 -150.805429  -99.376346  -83.182367  -74.788670   \n",
       "1   -98.821001  -101.178549 -152.318462 -100.563842  -81.687831  -76.560804   \n",
       "2   -97.067707   -99.467840 -151.524433  -99.432681  -81.461237  -77.183123   \n",
       "3   -98.678719  -101.018678 -153.656575 -102.018683  -83.169448  -79.906383   \n",
       "4   -97.898545  -100.469111 -151.807918 -101.011273  -80.232267  -79.792650   \n",
       "\n",
       "   EEG Fz-Ref  EEG C3-Ref  EEG C4-Ref  EEG Cz-Ref  EEG T3-Ref  EEG T5-Ref  \\\n",
       "0   20.013543 -143.138792  -87.463916  -77.354371 -139.180264   -9.668076   \n",
       "1   20.228367 -146.428835  -89.349899  -78.247286 -139.842162  -11.709217   \n",
       "2   19.782924 -145.092980  -88.052963  -77.638940 -157.247211  -12.517739   \n",
       "3   19.882898 -147.323366  -89.776689  -78.882967 -138.599045  -10.345296   \n",
       "4   19.633745 -145.928515  -88.713656  -77.980124 -144.491543  -10.629773   \n",
       "\n",
       "   EEG T4-Ref  EEG T6-Ref  EEG P3-Ref  EEG P4-Ref  EEG Pz-Ref  EEG O1-Ref  \\\n",
       "0  -84.621197  -61.668935   -7.265924 -127.848488  -58.116788 -140.756929   \n",
       "1  -63.372738  -63.000002   -9.963888 -129.148470  -61.498554 -143.333635   \n",
       "2  -78.761883  -61.846963  -11.261941 -127.605515  -61.651990 -142.162175   \n",
       "3  -68.253342  -63.357444  -11.514185 -130.261691  -62.997133 -144.038379   \n",
       "4  -71.803903  -64.094909  -12.265190 -128.846900  -63.588286 -142.847917   \n",
       "\n",
       "   EEG O2-Ref  is_seizure_target  \n",
       "0 -126.694843                  0  \n",
       "1 -129.172922                  0  \n",
       "2 -126.797940                  0  \n",
       "3 -128.631423                  0  \n",
       "4 -128.002320                  0  "
      ]
     },
     "execution_count": 167,
     "metadata": {},
     "output_type": "execute_result"
    }
   ],
   "source": [
    "df_new = pd.read_csv('../data_modeling/MinMaxScaler/data_modeling_patient_2.csv', index_col=[0])\n",
    "df_new.head()"
   ]
  },
  {
   "cell_type": "code",
   "execution_count": 168,
   "id": "807e4309",
   "metadata": {},
   "outputs": [],
   "source": [
    "X_new, y_new = create_data_input(df_new)"
   ]
  },
  {
   "cell_type": "code",
   "execution_count": 169,
   "id": "2277cebb",
   "metadata": {},
   "outputs": [
    {
     "data": {
      "text/html": [
       "<div>\n",
       "<style scoped>\n",
       "    .dataframe tbody tr th:only-of-type {\n",
       "        vertical-align: middle;\n",
       "    }\n",
       "\n",
       "    .dataframe tbody tr th {\n",
       "        vertical-align: top;\n",
       "    }\n",
       "\n",
       "    .dataframe thead th {\n",
       "        text-align: right;\n",
       "    }\n",
       "</style>\n",
       "<table border=\"1\" class=\"dataframe\">\n",
       "  <thead>\n",
       "    <tr style=\"text-align: right;\">\n",
       "      <th>predicted</th>\n",
       "      <th>0.0</th>\n",
       "      <th>1.0</th>\n",
       "    </tr>\n",
       "    <tr>\n",
       "      <th>actual</th>\n",
       "      <th></th>\n",
       "      <th></th>\n",
       "    </tr>\n",
       "  </thead>\n",
       "  <tbody>\n",
       "    <tr>\n",
       "      <th>0.0</th>\n",
       "      <td>218</td>\n",
       "      <td>533</td>\n",
       "    </tr>\n",
       "  </tbody>\n",
       "</table>\n",
       "</div>"
      ],
      "text/plain": [
       "predicted  0.0  1.0\n",
       "actual             \n",
       "0.0        218  533"
      ]
     },
     "execution_count": 169,
     "metadata": {},
     "output_type": "execute_result"
    }
   ],
   "source": [
    "# Confusion matrix - Model 3\n",
    "\n",
    "y_true = y_new\n",
    "y_pred = svc_model.predict(X_new)\n",
    "\n",
    "results_df = pd.DataFrame({\"actual\": y_true,\n",
    "                           \"predicted\": y_pred})\n",
    "\n",
    "confusion_matrix_svc = pd.crosstab(index= results_df['actual'],\n",
    "                               columns = results_df['predicted'])\n",
    "\n",
    "confusion_matrix_svc"
   ]
  },
  {
   "cell_type": "code",
   "execution_count": 171,
   "id": "21f5d2ff",
   "metadata": {},
   "outputs": [
    {
     "data": {
      "text/plain": [
       "0.29027962716378164"
      ]
     },
     "execution_count": 171,
     "metadata": {},
     "output_type": "execute_result"
    }
   ],
   "source": [
    "true_negative = 218/(218+533)\n",
    "true_negative"
   ]
  }
 ],
 "metadata": {
  "kernelspec": {
   "display_name": "Python 3 (ipykernel)",
   "language": "python",
   "name": "python3"
  },
  "language_info": {
   "codemirror_mode": {
    "name": "ipython",
    "version": 3
   },
   "file_extension": ".py",
   "mimetype": "text/x-python",
   "name": "python",
   "nbconvert_exporter": "python",
   "pygments_lexer": "ipython3",
   "version": "3.10.6"
  },
  "toc": {
   "base_numbering": 1,
   "nav_menu": {},
   "number_sections": true,
   "sideBar": true,
   "skip_h1_title": false,
   "title_cell": "Table of Contents",
   "title_sidebar": "Contents",
   "toc_cell": false,
   "toc_position": {},
   "toc_section_display": true,
   "toc_window_display": false
  }
 },
 "nbformat": 4,
 "nbformat_minor": 5
}
