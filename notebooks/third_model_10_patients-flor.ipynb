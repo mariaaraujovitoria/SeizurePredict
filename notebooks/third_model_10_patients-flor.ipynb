{
 "cells": [
  {
   "cell_type": "markdown",
   "id": "ab4b515b",
   "metadata": {},
   "source": [
    "# Imports, variables, functions"
   ]
  },
  {
   "cell_type": "code",
   "execution_count": 227,
   "id": "9de958e9",
   "metadata": {},
   "outputs": [],
   "source": [
    "import scipy.io\n",
    "from pyedflib import highlevel\n",
    "import pandas as pd\n",
    "import matplotlib.pyplot as plt\n",
    "import seaborn as sns\n",
    "import numpy as np\n",
    "from itertools import groupby\n",
    "import csv\n",
    "import pickle\n",
    "from scipy.signal import butter, sosfilt, sosfiltfilt, sosfreqz\n",
    "from scipy.signal import freqz, iirnotch, filtfilt\n",
    "from sklearn.preprocessing import MinMaxScaler\n",
    "from sklearn.base import TransformerMixin, BaseEstimator\n",
    "import random\n",
    "from sklearn.linear_model import LogisticRegression\n",
    "from sklearn.neighbors import KNeighborsClassifier\n",
    "from sklearn.metrics import accuracy_score\n",
    "from sklearn.model_selection import cross_validate\n",
    "from imblearn.over_sampling import SMOTE\n",
    "from sklearn.svm import SVC\n",
    "from sklearn.model_selection import train_test_split\n",
    "from scipy import signal"
   ]
  },
  {
   "cell_type": "code",
   "execution_count": 228,
   "id": "d3b2d4a7",
   "metadata": {},
   "outputs": [],
   "source": [
    "sample_rate = sampling_rate = 256\n",
    "sec = 10\n",
    "len_window = sample_rate*sec\n",
    "overlap = 5\n",
    "threshold = 2*sample_rate\n",
    "sample_rate_downsample = int(0.1*sample_rate)"
   ]
  },
  {
   "cell_type": "code",
   "execution_count": 229,
   "id": "754de029",
   "metadata": {},
   "outputs": [],
   "source": [
    "# Load annotation file\n",
    "annt = scipy.io.loadmat('../raw_data/annotations_2017.mat')"
   ]
  },
  {
   "cell_type": "code",
   "execution_count": 230,
   "id": "a91cb2d1",
   "metadata": {},
   "outputs": [],
   "source": [
    "## -- PREPROCESSING FUNCTIONS --\n",
    "\n",
    "# Highpass filter\n",
    "def highpass_filter(signals, sampling_rate, hp_frequency = 0.1):\n",
    "    sos = butter(N = 3, Wn = hp_frequency, btype=\"highpass\",fs=sampling_rate, output=\"sos\")\n",
    "    filter_hp = sosfiltfilt(sos, signals)\n",
    "    return filter_hp\n",
    "\n",
    "# Powerline filter\n",
    "def notch_filter(signals, sampling_rate, notch_frequency = 50, quality_factor = 30):\n",
    "    w0 = notch_frequency/(sampling_rate/2)\n",
    "    b_notch, a_notch = iirnotch(w0, quality_factor)\n",
    "    filter_notch = filtfilt(b_notch, a_notch, signals, axis = -1)\n",
    "    return filter_notch\n",
    "\n",
    "# Create our own scaler\n",
    "class CustomTranformer(TransformerMixin, BaseEstimator): \n",
    "    # BaseEstimator generates the get_params() and set_params() methods that all Pipelines require\n",
    "    # TransformerMixin creates the fit_transform() method from fit() and transform()\n",
    "    \n",
    "    def __init__(self):\n",
    "        pass\n",
    "    \n",
    "    def fit(self, X, y=None):\n",
    "        self.means = X.mean()\n",
    "        return self\n",
    "    \n",
    "    def transform(self, X, y=None):\n",
    "        norm_features = X - self.means\n",
    "        return norm_features\n",
    "\n",
    "# Combination of all filters and Scaler\n",
    "def filter_signals(signals, sampling_rate, scaler, hp_frequency = 0.1, notch_frequency = 50, quality_factor = 30):\n",
    "    filter_hp = highpass_filter(signals, sampling_rate)\n",
    "    filter_notch = notch_filter(signals, sampling_rate, notch_frequency, quality_factor)\n",
    "    final_signal = scaler.fit_transform(filter_notch)\n",
    "    return final_signal\n",
    "\n",
    "## -- LABEL FUNCTIONS --\n",
    "\n",
    "# Format the EEG \n",
    "def eeg_formated(signals, names_ele):\n",
    "    data_signals = signals.T # transpose the signals from datapoints\n",
    "    data_signals = pd.DataFrame(data_signals) # create a pandas dataframe\n",
    "    \n",
    "    data_signals.columns = names_ele # rename columns\n",
    "    \n",
    "    return data_signals\n",
    "\n",
    "# Format the annotations\n",
    "def diagnosis(n):\n",
    "    patient_A=annt[\"annotat_new\"][0][n-1][0]\n",
    "    patient_B=annt[\"annotat_new\"][0][n-1][1]\n",
    "    patient_C=annt[\"annotat_new\"][0][n-1][2]\n",
    "    \n",
    "    #converting seconds to datapoints\n",
    "\n",
    "    patient_A=patient_A.tolist()\n",
    "    patient_B=patient_B.tolist()\n",
    "    patient_C=patient_C.tolist()\n",
    "    \n",
    "    patient_A_dtp=[]\n",
    "    patient_B_dtp=[]\n",
    "    patient_C_dtp=[]  \n",
    "    for elem in patient_A:\n",
    "        for i in range(sampling_rate):\n",
    "            patient_A_dtp.append(elem) \n",
    "    for elem in patient_B:\n",
    "        for i in range(sampling_rate):\n",
    "            patient_B_dtp.append(elem)\n",
    "        \n",
    "    for elem in patient_C:\n",
    "        for i in range(sampling_rate):\n",
    "            patient_C_dtp.append(elem)\n",
    "            \n",
    "    target_=pd.DataFrame({\"Diagnosis A\":patient_A_dtp,\"Diagnosis B\":patient_B_dtp,\"Diagnosis C\":patient_C_dtp})\n",
    "    \n",
    "    return target_  \n",
    "\n",
    "# Add a time column with the seconds\n",
    "def add_time(df):\n",
    "    list_time=[]\n",
    "    for i in range(len(df)):\n",
    "        list_time.append(i//sampling_rate)\n",
    "    df[\"time\"]=list_time\n",
    "    return df\n",
    "\n",
    "# Create target variables when seizures lasts at least 10\n",
    "def is_seizure(df):\n",
    "    \n",
    "    threshold = sampling_rate*10\n",
    "    \n",
    "    df['is_seizure_A'] = df[\"Diagnosis A\"].groupby((df[\"Diagnosis A\"] != df[\"Diagnosis A\"].shift()).cumsum()).transform('size') * df[\"Diagnosis A\"]\n",
    "    df['is_seizure_A'] = (df['is_seizure_A'] > threshold).astype(int)\n",
    "    \n",
    "    df['is_seizure_B'] = df[\"Diagnosis B\"].groupby((df[\"Diagnosis B\"] != df[\"Diagnosis B\"].shift()).cumsum()).transform('size') * df[\"Diagnosis B\"]\n",
    "    df['is_seizure_B'] = (df['is_seizure_B'] > threshold).astype(int)\n",
    "    \n",
    "    df['is_seizure_C'] = df[\"Diagnosis C\"].groupby((df[\"Diagnosis C\"] != df[\"Diagnosis C\"].shift()).cumsum()).transform('size') * df[\"Diagnosis C\"]\n",
    "    df['is_seizure_C'] = (df['is_seizure_C'] > threshold).astype(int)\n",
    "    \n",
    "    return df \n",
    "\n",
    "# Create final target\n",
    "def create_target(df):\n",
    "    df['is_seizure_target'] = np.where(df['is_seizure_A'] + df['is_seizure_B'] + df['is_seizure_C'] >= 2, 1, 0)\n",
    "    return df\n",
    "\n",
    "# Remove useless\n",
    "def remove_useless_columns(df):\n",
    "    df.drop(columns=['Diagnosis A', 'Diagnosis B', 'Diagnosis C', 'is_seizure_A', 'is_seizure_B', 'is_seizure_C', 'ECG EKG', 'Resp Effort', 'time'], inplace=True)\n",
    "    return df\n",
    "\n",
    "# Final function to label\n",
    "def label_data(path_raw_data, signals_preprocessed, n):\n",
    "    \n",
    "    signals, signal_headers, header = highlevel.read_edf(path_raw_data)\n",
    "    \n",
    "    names_ele = [signal_headers[iele]['label'] for iele in range(signals.shape[0])] # extract electrode names\n",
    "    \n",
    "    eeg_patient = eeg_formated(signals_preprocessed, names_ele) # format the ECG\n",
    "    eeg_patient.rename(columns={'ECG EKG-REF':'ECG EKG', 'Resp Effort-REF':'Resp Effort'}, inplace=True)\n",
    "    \n",
    "    diagnosis_patient = diagnosis(n) # format the diagnosis\n",
    "    \n",
    "    data_patient = pd.merge(left=eeg_patient, right=diagnosis_patient, how='left', left_index=True, right_index=True) # merge ecg and diagnosis\n",
    "    \n",
    "    add_time(data_patient)\n",
    "    is_seizure(data_patient)\n",
    "    create_target(data_patient)\n",
    "    remove_useless_columns(data_patient)\n",
    "    \n",
    "    return data_patient\n",
    "\n",
    "def preprocess_and_label(path_raw_data, scaler, patient_number, Fournier=False):\n",
    "    \n",
    "    # Load raw data\n",
    "    signals, signal_headers, header = highlevel.read_edf(path_raw_data)\n",
    "    \n",
    "    # Preprocess data \n",
    "    signals_preprocessed = filter_signals(signals, sampling_rate, scaler, hp_frequency = 0.1, notch_frequency = 50, quality_factor = 30)\n",
    "    \n",
    "    if Fournier == True:\n",
    "        signals_preprocessed = pd.DataFrame(np.array([abs(rfft(signals_preprocessed[i])) for i in range(len(signals_preprocessed))]))\n",
    "        \n",
    "    # Label data\n",
    "    df = label_data(path_raw_data, signals_preprocessed, patient_number)\n",
    "    \n",
    "    return df\n",
    "\n",
    "## -- MODEL FUNCTIONS --\n",
    "\n",
    "def flatten_window(window_df):\n",
    "    if len(np.unique(window_df.iloc[:,-1])) == 1:\n",
    "        target = window_df.iloc[0,-1]\n",
    "    elif np.unique(window_df.iloc[:,-1],return_counts=True)[1][1] >= threshold:\n",
    "        target = 1\n",
    "    else:\n",
    "        target = 0\n",
    "    t_df = window_df.drop(columns = \"is_seizure_target\").transpose()\n",
    "    flatten = pd.DataFrame(np.array(t_df).reshape(1,t_df.shape[0]*t_df.shape[1]))\n",
    "    flatten[\"Target\"] = target\n",
    "    return flatten\n",
    "\n",
    "def create_data_input(df):\n",
    "    data = np.array([flatten_window(df.iloc[i:i+len_window]) for i in range(0,len(df)-len_window, overlap*sample_rate)])\n",
    "    r=data.shape[0]\n",
    "    c=data.shape[2]\n",
    "    \n",
    "    data = pd.DataFrame(data.reshape(r,c))\n",
    "    X = data.iloc[:,:-1]\n",
    "    y = data.iloc[:,-1]\n",
    "    return X, y"
   ]
  },
  {
   "cell_type": "markdown",
   "id": "1e3383cf",
   "metadata": {},
   "source": [
    "# Data Loading and Preprocessing"
   ]
  },
  {
   "cell_type": "code",
   "execution_count": 251,
   "id": "c7ba3dc7",
   "metadata": {},
   "outputs": [],
   "source": [
    "patients = [2, 3,5]\n",
    "\n",
    "d = []\n",
    "for i in patients:\n",
    "    df_i = preprocess_and_label(f\"../raw_data/eeg{i}.edf\", CustomTranformer(), i, Fournier=False)\n",
    "    d.append(df_i)\n",
    "#     d[i]= df_i\n",
    "#     d[i].columns= d[i].columns.str.lower()"
   ]
  },
  {
   "cell_type": "code",
   "execution_count": 234,
   "id": "264431f9",
   "metadata": {},
   "outputs": [
    {
     "data": {
      "text/html": [
       "<div>\n",
       "<style scoped>\n",
       "    .dataframe tbody tr th:only-of-type {\n",
       "        vertical-align: middle;\n",
       "    }\n",
       "\n",
       "    .dataframe tbody tr th {\n",
       "        vertical-align: top;\n",
       "    }\n",
       "\n",
       "    .dataframe thead th {\n",
       "        text-align: right;\n",
       "    }\n",
       "</style>\n",
       "<table border=\"1\" class=\"dataframe\">\n",
       "  <thead>\n",
       "    <tr style=\"text-align: right;\">\n",
       "      <th></th>\n",
       "      <th>EEG Fp1-Ref</th>\n",
       "      <th>EEG Fp2-Ref</th>\n",
       "      <th>EEG F3-Ref</th>\n",
       "      <th>EEG F4-Ref</th>\n",
       "      <th>EEG F7-Ref</th>\n",
       "      <th>EEG F8-Ref</th>\n",
       "      <th>EEG Fz-Ref</th>\n",
       "      <th>EEG C3-Ref</th>\n",
       "      <th>EEG C4-Ref</th>\n",
       "      <th>EEG Cz-Ref</th>\n",
       "      <th>EEG T3-Ref</th>\n",
       "      <th>EEG T5-Ref</th>\n",
       "      <th>EEG T4-Ref</th>\n",
       "      <th>EEG T6-Ref</th>\n",
       "      <th>EEG P3-Ref</th>\n",
       "      <th>EEG P4-Ref</th>\n",
       "      <th>EEG Pz-Ref</th>\n",
       "      <th>EEG O1-Ref</th>\n",
       "      <th>EEG O2-Ref</th>\n",
       "      <th>is_seizure_target</th>\n",
       "    </tr>\n",
       "  </thead>\n",
       "  <tbody>\n",
       "    <tr>\n",
       "      <th>0</th>\n",
       "      <td>-98.645167</td>\n",
       "      <td>-101.167312</td>\n",
       "      <td>-150.805429</td>\n",
       "      <td>-99.376346</td>\n",
       "      <td>-83.182367</td>\n",
       "      <td>-74.788670</td>\n",
       "      <td>20.013543</td>\n",
       "      <td>-143.138792</td>\n",
       "      <td>-87.463916</td>\n",
       "      <td>-77.354371</td>\n",
       "      <td>-139.180264</td>\n",
       "      <td>-9.668076</td>\n",
       "      <td>-84.621197</td>\n",
       "      <td>-61.668935</td>\n",
       "      <td>-7.265924</td>\n",
       "      <td>-127.848488</td>\n",
       "      <td>-58.116788</td>\n",
       "      <td>-140.756929</td>\n",
       "      <td>-126.694843</td>\n",
       "      <td>0</td>\n",
       "    </tr>\n",
       "    <tr>\n",
       "      <th>1</th>\n",
       "      <td>-98.821001</td>\n",
       "      <td>-101.178549</td>\n",
       "      <td>-152.318462</td>\n",
       "      <td>-100.563842</td>\n",
       "      <td>-81.687831</td>\n",
       "      <td>-76.560804</td>\n",
       "      <td>20.228367</td>\n",
       "      <td>-146.428835</td>\n",
       "      <td>-89.349899</td>\n",
       "      <td>-78.247286</td>\n",
       "      <td>-139.842162</td>\n",
       "      <td>-11.709217</td>\n",
       "      <td>-63.372738</td>\n",
       "      <td>-63.000002</td>\n",
       "      <td>-9.963888</td>\n",
       "      <td>-129.148470</td>\n",
       "      <td>-61.498554</td>\n",
       "      <td>-143.333635</td>\n",
       "      <td>-129.172922</td>\n",
       "      <td>0</td>\n",
       "    </tr>\n",
       "    <tr>\n",
       "      <th>2</th>\n",
       "      <td>-97.067707</td>\n",
       "      <td>-99.467840</td>\n",
       "      <td>-151.524433</td>\n",
       "      <td>-99.432681</td>\n",
       "      <td>-81.461237</td>\n",
       "      <td>-77.183123</td>\n",
       "      <td>19.782924</td>\n",
       "      <td>-145.092980</td>\n",
       "      <td>-88.052963</td>\n",
       "      <td>-77.638940</td>\n",
       "      <td>-157.247211</td>\n",
       "      <td>-12.517739</td>\n",
       "      <td>-78.761883</td>\n",
       "      <td>-61.846963</td>\n",
       "      <td>-11.261941</td>\n",
       "      <td>-127.605515</td>\n",
       "      <td>-61.651990</td>\n",
       "      <td>-142.162175</td>\n",
       "      <td>-126.797940</td>\n",
       "      <td>0</td>\n",
       "    </tr>\n",
       "    <tr>\n",
       "      <th>3</th>\n",
       "      <td>-98.678719</td>\n",
       "      <td>-101.018678</td>\n",
       "      <td>-153.656575</td>\n",
       "      <td>-102.018683</td>\n",
       "      <td>-83.169448</td>\n",
       "      <td>-79.906383</td>\n",
       "      <td>19.882898</td>\n",
       "      <td>-147.323366</td>\n",
       "      <td>-89.776689</td>\n",
       "      <td>-78.882967</td>\n",
       "      <td>-138.599045</td>\n",
       "      <td>-10.345296</td>\n",
       "      <td>-68.253342</td>\n",
       "      <td>-63.357444</td>\n",
       "      <td>-11.514185</td>\n",
       "      <td>-130.261691</td>\n",
       "      <td>-62.997133</td>\n",
       "      <td>-144.038379</td>\n",
       "      <td>-128.631423</td>\n",
       "      <td>0</td>\n",
       "    </tr>\n",
       "    <tr>\n",
       "      <th>4</th>\n",
       "      <td>-97.898545</td>\n",
       "      <td>-100.469111</td>\n",
       "      <td>-151.807918</td>\n",
       "      <td>-101.011273</td>\n",
       "      <td>-80.232267</td>\n",
       "      <td>-79.792650</td>\n",
       "      <td>19.633745</td>\n",
       "      <td>-145.928515</td>\n",
       "      <td>-88.713656</td>\n",
       "      <td>-77.980124</td>\n",
       "      <td>-144.491543</td>\n",
       "      <td>-10.629773</td>\n",
       "      <td>-71.803903</td>\n",
       "      <td>-64.094909</td>\n",
       "      <td>-12.265190</td>\n",
       "      <td>-128.846900</td>\n",
       "      <td>-63.588286</td>\n",
       "      <td>-142.847917</td>\n",
       "      <td>-128.002320</td>\n",
       "      <td>0</td>\n",
       "    </tr>\n",
       "    <tr>\n",
       "      <th>...</th>\n",
       "      <td>...</td>\n",
       "      <td>...</td>\n",
       "      <td>...</td>\n",
       "      <td>...</td>\n",
       "      <td>...</td>\n",
       "      <td>...</td>\n",
       "      <td>...</td>\n",
       "      <td>...</td>\n",
       "      <td>...</td>\n",
       "      <td>...</td>\n",
       "      <td>...</td>\n",
       "      <td>...</td>\n",
       "      <td>...</td>\n",
       "      <td>...</td>\n",
       "      <td>...</td>\n",
       "      <td>...</td>\n",
       "      <td>...</td>\n",
       "      <td>...</td>\n",
       "      <td>...</td>\n",
       "      <td>...</td>\n",
       "    </tr>\n",
       "    <tr>\n",
       "      <th>962811</th>\n",
       "      <td>0.410640</td>\n",
       "      <td>0.337424</td>\n",
       "      <td>0.409646</td>\n",
       "      <td>0.360516</td>\n",
       "      <td>0.181472</td>\n",
       "      <td>-0.078290</td>\n",
       "      <td>0.213724</td>\n",
       "      <td>-0.218247</td>\n",
       "      <td>0.013076</td>\n",
       "      <td>0.287848</td>\n",
       "      <td>1.316076</td>\n",
       "      <td>0.209706</td>\n",
       "      <td>-1.219553</td>\n",
       "      <td>0.447528</td>\n",
       "      <td>0.381616</td>\n",
       "      <td>0.179538</td>\n",
       "      <td>0.205667</td>\n",
       "      <td>0.583712</td>\n",
       "      <td>0.323116</td>\n",
       "      <td>0</td>\n",
       "    </tr>\n",
       "    <tr>\n",
       "      <th>962812</th>\n",
       "      <td>0.070640</td>\n",
       "      <td>-0.043013</td>\n",
       "      <td>0.080348</td>\n",
       "      <td>-0.005722</td>\n",
       "      <td>0.082908</td>\n",
       "      <td>1.046529</td>\n",
       "      <td>-0.070839</td>\n",
       "      <td>0.203144</td>\n",
       "      <td>0.044084</td>\n",
       "      <td>0.097519</td>\n",
       "      <td>3.366188</td>\n",
       "      <td>-0.118990</td>\n",
       "      <td>0.325385</td>\n",
       "      <td>-0.117960</td>\n",
       "      <td>0.011960</td>\n",
       "      <td>0.009416</td>\n",
       "      <td>-0.038595</td>\n",
       "      <td>-0.281010</td>\n",
       "      <td>-0.101952</td>\n",
       "      <td>0</td>\n",
       "    </tr>\n",
       "    <tr>\n",
       "      <th>962813</th>\n",
       "      <td>-0.343040</td>\n",
       "      <td>-0.346732</td>\n",
       "      <td>-0.335545</td>\n",
       "      <td>-0.344599</td>\n",
       "      <td>-0.107802</td>\n",
       "      <td>0.795748</td>\n",
       "      <td>-0.242858</td>\n",
       "      <td>0.368787</td>\n",
       "      <td>0.032972</td>\n",
       "      <td>-0.203378</td>\n",
       "      <td>0.970145</td>\n",
       "      <td>-0.271169</td>\n",
       "      <td>1.442645</td>\n",
       "      <td>-0.506061</td>\n",
       "      <td>-0.353641</td>\n",
       "      <td>-0.155172</td>\n",
       "      <td>-0.213253</td>\n",
       "      <td>-0.750310</td>\n",
       "      <td>-0.372086</td>\n",
       "      <td>0</td>\n",
       "    </tr>\n",
       "    <tr>\n",
       "      <th>962814</th>\n",
       "      <td>-0.283654</td>\n",
       "      <td>-0.173547</td>\n",
       "      <td>-0.288245</td>\n",
       "      <td>-0.209056</td>\n",
       "      <td>-0.138058</td>\n",
       "      <td>-0.486693</td>\n",
       "      <td>-0.076326</td>\n",
       "      <td>0.062436</td>\n",
       "      <td>-0.005197</td>\n",
       "      <td>-0.216624</td>\n",
       "      <td>-2.667565</td>\n",
       "      <td>-0.047614</td>\n",
       "      <td>0.661468</td>\n",
       "      <td>-0.206150</td>\n",
       "      <td>-0.232636</td>\n",
       "      <td>-0.097024</td>\n",
       "      <td>-0.088413</td>\n",
       "      <td>-0.208427</td>\n",
       "      <td>-0.132165</td>\n",
       "      <td>0</td>\n",
       "    </tr>\n",
       "    <tr>\n",
       "      <th>962815</th>\n",
       "      <td>0.166453</td>\n",
       "      <td>0.243956</td>\n",
       "      <td>0.155939</td>\n",
       "      <td>0.218027</td>\n",
       "      <td>0.030734</td>\n",
       "      <td>-1.099404</td>\n",
       "      <td>0.206111</td>\n",
       "      <td>-0.307593</td>\n",
       "      <td>-0.019815</td>\n",
       "      <td>0.072858</td>\n",
       "      <td>-2.734960</td>\n",
       "      <td>0.253451</td>\n",
       "      <td>-0.971148</td>\n",
       "      <td>0.380148</td>\n",
       "      <td>0.211184</td>\n",
       "      <td>0.105245</td>\n",
       "      <td>0.168636</td>\n",
       "      <td>0.620920</td>\n",
       "      <td>0.296859</td>\n",
       "      <td>0</td>\n",
       "    </tr>\n",
       "  </tbody>\n",
       "</table>\n",
       "<p>962816 rows × 20 columns</p>\n",
       "</div>"
      ],
      "text/plain": [
       "        EEG Fp1-Ref  EEG Fp2-Ref  EEG F3-Ref  EEG F4-Ref  EEG F7-Ref  \\\n",
       "0        -98.645167  -101.167312 -150.805429  -99.376346  -83.182367   \n",
       "1        -98.821001  -101.178549 -152.318462 -100.563842  -81.687831   \n",
       "2        -97.067707   -99.467840 -151.524433  -99.432681  -81.461237   \n",
       "3        -98.678719  -101.018678 -153.656575 -102.018683  -83.169448   \n",
       "4        -97.898545  -100.469111 -151.807918 -101.011273  -80.232267   \n",
       "...             ...          ...         ...         ...         ...   \n",
       "962811     0.410640     0.337424    0.409646    0.360516    0.181472   \n",
       "962812     0.070640    -0.043013    0.080348   -0.005722    0.082908   \n",
       "962813    -0.343040    -0.346732   -0.335545   -0.344599   -0.107802   \n",
       "962814    -0.283654    -0.173547   -0.288245   -0.209056   -0.138058   \n",
       "962815     0.166453     0.243956    0.155939    0.218027    0.030734   \n",
       "\n",
       "        EEG F8-Ref  EEG Fz-Ref  EEG C3-Ref  EEG C4-Ref  EEG Cz-Ref  \\\n",
       "0       -74.788670   20.013543 -143.138792  -87.463916  -77.354371   \n",
       "1       -76.560804   20.228367 -146.428835  -89.349899  -78.247286   \n",
       "2       -77.183123   19.782924 -145.092980  -88.052963  -77.638940   \n",
       "3       -79.906383   19.882898 -147.323366  -89.776689  -78.882967   \n",
       "4       -79.792650   19.633745 -145.928515  -88.713656  -77.980124   \n",
       "...            ...         ...         ...         ...         ...   \n",
       "962811   -0.078290    0.213724   -0.218247    0.013076    0.287848   \n",
       "962812    1.046529   -0.070839    0.203144    0.044084    0.097519   \n",
       "962813    0.795748   -0.242858    0.368787    0.032972   -0.203378   \n",
       "962814   -0.486693   -0.076326    0.062436   -0.005197   -0.216624   \n",
       "962815   -1.099404    0.206111   -0.307593   -0.019815    0.072858   \n",
       "\n",
       "        EEG T3-Ref  EEG T5-Ref  EEG T4-Ref  EEG T6-Ref  EEG P3-Ref  \\\n",
       "0      -139.180264   -9.668076  -84.621197  -61.668935   -7.265924   \n",
       "1      -139.842162  -11.709217  -63.372738  -63.000002   -9.963888   \n",
       "2      -157.247211  -12.517739  -78.761883  -61.846963  -11.261941   \n",
       "3      -138.599045  -10.345296  -68.253342  -63.357444  -11.514185   \n",
       "4      -144.491543  -10.629773  -71.803903  -64.094909  -12.265190   \n",
       "...            ...         ...         ...         ...         ...   \n",
       "962811    1.316076    0.209706   -1.219553    0.447528    0.381616   \n",
       "962812    3.366188   -0.118990    0.325385   -0.117960    0.011960   \n",
       "962813    0.970145   -0.271169    1.442645   -0.506061   -0.353641   \n",
       "962814   -2.667565   -0.047614    0.661468   -0.206150   -0.232636   \n",
       "962815   -2.734960    0.253451   -0.971148    0.380148    0.211184   \n",
       "\n",
       "        EEG P4-Ref  EEG Pz-Ref  EEG O1-Ref  EEG O2-Ref  is_seizure_target  \n",
       "0      -127.848488  -58.116788 -140.756929 -126.694843                  0  \n",
       "1      -129.148470  -61.498554 -143.333635 -129.172922                  0  \n",
       "2      -127.605515  -61.651990 -142.162175 -126.797940                  0  \n",
       "3      -130.261691  -62.997133 -144.038379 -128.631423                  0  \n",
       "4      -128.846900  -63.588286 -142.847917 -128.002320                  0  \n",
       "...            ...         ...         ...         ...                ...  \n",
       "962811    0.179538    0.205667    0.583712    0.323116                  0  \n",
       "962812    0.009416   -0.038595   -0.281010   -0.101952                  0  \n",
       "962813   -0.155172   -0.213253   -0.750310   -0.372086                  0  \n",
       "962814   -0.097024   -0.088413   -0.208427   -0.132165                  0  \n",
       "962815    0.105245    0.168636    0.620920    0.296859                  0  \n",
       "\n",
       "[962816 rows x 20 columns]"
      ]
     },
     "execution_count": 234,
     "metadata": {},
     "output_type": "execute_result"
    }
   ],
   "source": [
    "d[0]"
   ]
  },
  {
   "cell_type": "markdown",
   "id": "e2c40a49",
   "metadata": {},
   "source": [
    "# Downsampling"
   ]
  },
  {
   "cell_type": "markdown",
   "id": "5738b95d",
   "metadata": {},
   "source": [
    "## resample"
   ]
  },
  {
   "cell_type": "code",
   "execution_count": 352,
   "id": "b20a7c08",
   "metadata": {},
   "outputs": [],
   "source": [
    "def downsampling(df):\n",
    "    \n",
    "    df_downsample = pd.DataFrame()\n",
    "    all_df = pd.DataFrame()\n",
    "    target_col = df.iloc[:,-1]\n",
    "    \n",
    "    num = int(0.1*sample_rate)\n",
    "    t = 256\n",
    "    \n",
    "    for i, column in enumerate(df.columns[:-1]):\n",
    "        df_downsample = pd.DataFrame()\n",
    "        for j in range(0,len(df)-sample_rate+1,sample_rate):\n",
    "            x = np.array(df.iloc[j:j+sample_rate,i])\n",
    "            x_resampled = pd.DataFrame(signal.resample(x, num), index=range(int(j/10),int(j/10)+num))\n",
    "            df_downsample= pd.concat([df_downsample,x_resampled])\n",
    "        all_df[column] = np.array(df_downsample).reshape(1,-1)[0]\n",
    "    target = []\n",
    "    for t in range(0,len(target_col)-255,sample_rate):\n",
    "        for n in range(num):\n",
    "            target.append(target_col[t])\n",
    "    all_df[\"target\"] = target\n",
    "    \n",
    "    return all_df"
   ]
  },
  {
   "cell_type": "code",
   "execution_count": 353,
   "id": "1d390eca",
   "metadata": {},
   "outputs": [],
   "source": [
    "d_down = []\n",
    "for i in d:\n",
    "    d_down.append(downsampling(i))"
   ]
  },
  {
   "cell_type": "code",
   "execution_count": 355,
   "id": "3b537254",
   "metadata": {},
   "outputs": [
    {
     "data": {
      "text/plain": [
       "(94025, 20)"
      ]
     },
     "execution_count": 355,
     "metadata": {},
     "output_type": "execute_result"
    }
   ],
   "source": [
    "d_down[0].shape"
   ]
  },
  {
   "cell_type": "code",
   "execution_count": 361,
   "id": "4d2a1f0e",
   "metadata": {},
   "outputs": [
    {
     "data": {
      "text/plain": [
       "94025.0"
      ]
     },
     "execution_count": 361,
     "metadata": {},
     "output_type": "execute_result"
    }
   ],
   "source": [
    "25*(d[0].shape[0]/256)"
   ]
  },
  {
   "cell_type": "code",
   "execution_count": 258,
   "id": "e87ba543",
   "metadata": {},
   "outputs": [
    {
     "data": {
      "text/plain": [
       "1    0.836719\n",
       "0    0.163281\n",
       "Name: target, dtype: float64"
      ]
     },
     "execution_count": 258,
     "metadata": {},
     "output_type": "execute_result"
    }
   ],
   "source": [
    "d_down[2][\"target\"].value_counts(normalize = True)"
   ]
  },
  {
   "cell_type": "code",
   "execution_count": 287,
   "id": "66c68be7",
   "metadata": {},
   "outputs": [
    {
     "data": {
      "text/plain": [
       "[<matplotlib.lines.Line2D at 0x7f221de1e290>]"
      ]
     },
     "execution_count": 287,
     "metadata": {},
     "output_type": "execute_result"
    },
    {
     "data": {
      "image/png": "[encoded data removed]",
      "text/plain": [
       "<Figure size 640x480 with 1 Axes>"
      ]
     },
     "metadata": {},
     "output_type": "display_data"
    }
   ],
   "source": [
    "plt.plot(d_down[2].iloc[0:25,0])"
   ]
  },
  {
   "cell_type": "code",
   "execution_count": 259,
   "id": "c2b6a02a",
   "metadata": {},
   "outputs": [
    {
     "data": {
      "text/plain": [
       "1    0.836501\n",
       "0    0.163499\n",
       "Name: is_seizure_target, dtype: float64"
      ]
     },
     "execution_count": 259,
     "metadata": {},
     "output_type": "execute_result"
    }
   ],
   "source": [
    "d[2].iloc[:,-1].value_counts(normalize = True)"
   ]
  },
  {
   "cell_type": "code",
   "execution_count": 314,
   "id": "0e72b82e",
   "metadata": {},
   "outputs": [
    {
     "data": {
      "text/plain": [
       "1    0.836501\n",
       "0    0.163499\n",
       "Name: is_seizure_target, dtype: float64"
      ]
     },
     "execution_count": 314,
     "metadata": {},
     "output_type": "execute_result"
    }
   ],
   "source": [
    "d[2].iloc[:,-1].value_counts(normalize = True)"
   ]
  },
  {
   "cell_type": "markdown",
   "id": "e05b6709",
   "metadata": {},
   "source": [
    "## Decimate"
   ]
  },
  {
   "cell_type": "code",
   "execution_count": 261,
   "id": "ae54b773",
   "metadata": {},
   "outputs": [],
   "source": [
    "from scipy.signal import decimate"
   ]
  },
  {
   "cell_type": "code",
   "execution_count": 263,
   "id": "057fb84c",
   "metadata": {},
   "outputs": [],
   "source": [
    "q = 10\n",
    "y = d[2].iloc[:,-1]"
   ]
  },
  {
   "cell_type": "code",
   "execution_count": 269,
   "id": "080379bf",
   "metadata": {},
   "outputs": [],
   "source": [
    "y_new = decimate(y, q)"
   ]
  },
  {
   "cell_type": "code",
   "execution_count": 271,
   "id": "89f4d1c8",
   "metadata": {},
   "outputs": [
    {
     "data": {
      "text/plain": [
       "(98330,)"
      ]
     },
     "execution_count": 271,
     "metadata": {},
     "output_type": "execute_result"
    }
   ],
   "source": [
    "y_new.shape"
   ]
  },
  {
   "cell_type": "code",
   "execution_count": 334,
   "id": "d539e5d3",
   "metadata": {},
   "outputs": [],
   "source": [
    "def downsampling(df):\n",
    "    \n",
    "    df_downsample = pd.DataFrame()\n",
    "    all_df = pd.DataFrame()\n",
    "    target_col = df.iloc[:,-1]\n",
    "    q = 10\n",
    "    num = 26\n",
    "\n",
    "    \n",
    "    for i, column in enumerate(df.columns[:-1]):       \n",
    "        x_resampled = pd.DataFrame(decimate(df.iloc[:,i], q))\n",
    "        all_df[column] = x_resampled\n",
    "\n",
    "    target = []\n",
    "    for t in range(0,len(target_col)-sample_rate,sample_rate):\n",
    "        for n in range(num):\n",
    "            target.append(target_col[t])\n",
    "    all_df[\"target\"] = target\n",
    "    \n",
    "    return all_df"
   ]
  },
  {
   "cell_type": "code",
   "execution_count": 339,
   "id": "601307b1",
   "metadata": {},
   "outputs": [],
   "source": [
    "i = 0\n",
    "q = 10\n",
    "num = 26\n",
    "df = d[2]\n",
    "target_col = df.iloc[:,-1]"
   ]
  },
  {
   "cell_type": "code",
   "execution_count": 338,
   "id": "ec59128a",
   "metadata": {},
   "outputs": [
    {
     "data": {
      "text/html": [
       "<div>\n",
       "<style scoped>\n",
       "    .dataframe tbody tr th:only-of-type {\n",
       "        vertical-align: middle;\n",
       "    }\n",
       "\n",
       "    .dataframe tbody tr th {\n",
       "        vertical-align: top;\n",
       "    }\n",
       "\n",
       "    .dataframe thead th {\n",
       "        text-align: right;\n",
       "    }\n",
       "</style>\n",
       "<table border=\"1\" class=\"dataframe\">\n",
       "  <thead>\n",
       "    <tr style=\"text-align: right;\">\n",
       "      <th></th>\n",
       "      <th>0</th>\n",
       "    </tr>\n",
       "  </thead>\n",
       "  <tbody>\n",
       "    <tr>\n",
       "      <th>0</th>\n",
       "      <td>-0.410624</td>\n",
       "    </tr>\n",
       "    <tr>\n",
       "      <th>1</th>\n",
       "      <td>-18.245898</td>\n",
       "    </tr>\n",
       "    <tr>\n",
       "      <th>2</th>\n",
       "      <td>-30.810139</td>\n",
       "    </tr>\n",
       "    <tr>\n",
       "      <th>3</th>\n",
       "      <td>-9.057609</td>\n",
       "    </tr>\n",
       "    <tr>\n",
       "      <th>4</th>\n",
       "      <td>-15.832141</td>\n",
       "    </tr>\n",
       "    <tr>\n",
       "      <th>...</th>\n",
       "      <td>...</td>\n",
       "    </tr>\n",
       "    <tr>\n",
       "      <th>98325</th>\n",
       "      <td>-0.033407</td>\n",
       "    </tr>\n",
       "    <tr>\n",
       "      <th>98326</th>\n",
       "      <td>-0.031294</td>\n",
       "    </tr>\n",
       "    <tr>\n",
       "      <th>98327</th>\n",
       "      <td>-0.031339</td>\n",
       "    </tr>\n",
       "    <tr>\n",
       "      <th>98328</th>\n",
       "      <td>-0.031818</td>\n",
       "    </tr>\n",
       "    <tr>\n",
       "      <th>98329</th>\n",
       "      <td>-0.034982</td>\n",
       "    </tr>\n",
       "  </tbody>\n",
       "</table>\n",
       "<p>98330 rows × 1 columns</p>\n",
       "</div>"
      ],
      "text/plain": [
       "               0\n",
       "0      -0.410624\n",
       "1     -18.245898\n",
       "2     -30.810139\n",
       "3      -9.057609\n",
       "4     -15.832141\n",
       "...          ...\n",
       "98325  -0.033407\n",
       "98326  -0.031294\n",
       "98327  -0.031339\n",
       "98328  -0.031818\n",
       "98329  -0.034982\n",
       "\n",
       "[98330 rows x 1 columns]"
      ]
     },
     "execution_count": 338,
     "metadata": {},
     "output_type": "execute_result"
    }
   ],
   "source": [
    "x_resampled = pd.DataFrame(decimate(d[2].iloc[:,i], q))\n",
    "x_resampled"
   ]
  },
  {
   "cell_type": "code",
   "execution_count": 346,
   "id": "3d27a039",
   "metadata": {},
   "outputs": [
    {
     "data": {
      "text/plain": [
       "(96000, 20)"
      ]
     },
     "execution_count": 346,
     "metadata": {},
     "output_type": "execute_result"
    }
   ],
   "source": [
    "d_down[2].shape"
   ]
  },
  {
   "cell_type": "code",
   "execution_count": 349,
   "id": "9fa52a46",
   "metadata": {},
   "outputs": [
    {
     "data": {
      "text/plain": [
       "96025.0"
      ]
     },
     "execution_count": 349,
     "metadata": {},
     "output_type": "execute_result"
    }
   ],
   "source": [
    "(d[2].shape[0]/256)*25"
   ]
  },
  {
   "cell_type": "code",
   "execution_count": 340,
   "id": "b1cae9e4",
   "metadata": {},
   "outputs": [],
   "source": [
    "target = []"
   ]
  },
  {
   "cell_type": "code",
   "execution_count": 341,
   "id": "4bc28761",
   "metadata": {},
   "outputs": [],
   "source": [
    "for t in range(0,len(target_col)-sample_rate,sample_rate):\n",
    "    for n in range(num):\n",
    "        target.append(target_col[t])\n",
    "all_df[\"target\"] = target"
   ]
  },
  {
   "cell_type": "code",
   "execution_count": 342,
   "id": "0c0715d1",
   "metadata": {},
   "outputs": [
    {
     "data": {
      "text/html": [
       "<div>\n",
       "<style scoped>\n",
       "    .dataframe tbody tr th:only-of-type {\n",
       "        vertical-align: middle;\n",
       "    }\n",
       "\n",
       "    .dataframe tbody tr th {\n",
       "        vertical-align: top;\n",
       "    }\n",
       "\n",
       "    .dataframe thead th {\n",
       "        text-align: right;\n",
       "    }\n",
       "</style>\n",
       "<table border=\"1\" class=\"dataframe\">\n",
       "  <thead>\n",
       "    <tr style=\"text-align: right;\">\n",
       "      <th></th>\n",
       "      <th>target</th>\n",
       "    </tr>\n",
       "  </thead>\n",
       "  <tbody>\n",
       "    <tr>\n",
       "      <th>0</th>\n",
       "      <td>1</td>\n",
       "    </tr>\n",
       "    <tr>\n",
       "      <th>1</th>\n",
       "      <td>1</td>\n",
       "    </tr>\n",
       "    <tr>\n",
       "      <th>2</th>\n",
       "      <td>1</td>\n",
       "    </tr>\n",
       "    <tr>\n",
       "      <th>3</th>\n",
       "      <td>1</td>\n",
       "    </tr>\n",
       "    <tr>\n",
       "      <th>4</th>\n",
       "      <td>1</td>\n",
       "    </tr>\n",
       "    <tr>\n",
       "      <th>...</th>\n",
       "      <td>...</td>\n",
       "    </tr>\n",
       "    <tr>\n",
       "      <th>99835</th>\n",
       "      <td>0</td>\n",
       "    </tr>\n",
       "    <tr>\n",
       "      <th>99836</th>\n",
       "      <td>0</td>\n",
       "    </tr>\n",
       "    <tr>\n",
       "      <th>99837</th>\n",
       "      <td>0</td>\n",
       "    </tr>\n",
       "    <tr>\n",
       "      <th>99838</th>\n",
       "      <td>0</td>\n",
       "    </tr>\n",
       "    <tr>\n",
       "      <th>99839</th>\n",
       "      <td>0</td>\n",
       "    </tr>\n",
       "  </tbody>\n",
       "</table>\n",
       "<p>99840 rows × 1 columns</p>\n",
       "</div>"
      ],
      "text/plain": [
       "       target\n",
       "0           1\n",
       "1           1\n",
       "2           1\n",
       "3           1\n",
       "4           1\n",
       "...       ...\n",
       "99835       0\n",
       "99836       0\n",
       "99837       0\n",
       "99838       0\n",
       "99839       0\n",
       "\n",
       "[99840 rows x 1 columns]"
      ]
     },
     "execution_count": 342,
     "metadata": {},
     "output_type": "execute_result"
    }
   ],
   "source": [
    "all_df"
   ]
  },
  {
   "cell_type": "code",
   "execution_count": null,
   "id": "58ca9e95",
   "metadata": {},
   "outputs": [],
   "source": []
  },
  {
   "cell_type": "code",
   "execution_count": null,
   "id": "1a3f54e5",
   "metadata": {},
   "outputs": [],
   "source": []
  },
  {
   "cell_type": "code",
   "execution_count": 325,
   "id": "aa39c05a",
   "metadata": {},
   "outputs": [
    {
     "data": {
      "text/plain": [
       "1536"
      ]
     },
     "execution_count": 325,
     "metadata": {},
     "output_type": "execute_result"
    }
   ],
   "source": [
    "99866-98330"
   ]
  },
  {
   "cell_type": "code",
   "execution_count": 312,
   "id": "f2676440",
   "metadata": {},
   "outputs": [
    {
     "data": {
      "text/plain": [
       "1    0.836719\n",
       "0    0.163281\n",
       "Name: target, dtype: float64"
      ]
     },
     "execution_count": 312,
     "metadata": {},
     "output_type": "execute_result"
    }
   ],
   "source": [
    "test_dec[\"target\"].value_counts(normalize = True)"
   ]
  },
  {
   "cell_type": "code",
   "execution_count": 313,
   "id": "f673c0f5",
   "metadata": {},
   "outputs": [
    {
     "data": {
      "text/plain": [
       "[<matplotlib.lines.Line2D at 0x7f221dcd5780>]"
      ]
     },
     "execution_count": 313,
     "metadata": {},
     "output_type": "execute_result"
    },
    {
     "data": {
      "image/png": "[encoded data removed]",
      "text/plain": [
       "<Figure size 640x480 with 1 Axes>"
      ]
     },
     "metadata": {},
     "output_type": "display_data"
    }
   ],
   "source": [
    "plt.plot(test_dec.iloc[0:25,0])"
   ]
  },
  {
   "cell_type": "code",
   "execution_count": 281,
   "id": "73e4ca69",
   "metadata": {},
   "outputs": [
    {
     "data": {
      "text/plain": [
       "[<matplotlib.lines.Line2D at 0x7f222492b400>]"
      ]
     },
     "execution_count": 281,
     "metadata": {},
     "output_type": "execute_result"
    },
    {
     "data": {
      "image/png": "[encoded data removed]",
      "text/plain": [
       "<Figure size 640x480 with 1 Axes>"
      ]
     },
     "metadata": {},
     "output_type": "display_data"
    }
   ],
   "source": [
    "plt.plot(test_dec.iloc[0:26,0])"
   ]
  },
  {
   "cell_type": "code",
   "execution_count": 282,
   "id": "951a5c4c",
   "metadata": {},
   "outputs": [
    {
     "data": {
      "text/plain": [
       "[<matplotlib.lines.Line2D at 0x7f2224f6f610>]"
      ]
     },
     "execution_count": 282,
     "metadata": {},
     "output_type": "execute_result"
    },
    {
     "data": {
      "image/png": "[encoded data removed]",
      "text/plain": [
       "<Figure size 640x480 with 1 Axes>"
      ]
     },
     "metadata": {},
     "output_type": "display_data"
    }
   ],
   "source": [
    "plt.plot(d[2].iloc[0:255,0])"
   ]
  },
  {
   "cell_type": "code",
   "execution_count": 285,
   "id": "2f5c188e",
   "metadata": {},
   "outputs": [
    {
     "data": {
      "text/plain": [
       "1    0.836719\n",
       "0    0.163281\n",
       "Name: target, dtype: float64"
      ]
     },
     "execution_count": 285,
     "metadata": {},
     "output_type": "execute_result"
    }
   ],
   "source": [
    "test_dec[\"target\"].value_counts(normalize = True)"
   ]
  },
  {
   "cell_type": "code",
   "execution_count": 286,
   "id": "8a9fb607",
   "metadata": {},
   "outputs": [
    {
     "data": {
      "text/plain": [
       "1    0.836501\n",
       "0    0.163499\n",
       "Name: is_seizure_target, dtype: float64"
      ]
     },
     "execution_count": 286,
     "metadata": {},
     "output_type": "execute_result"
    }
   ],
   "source": [
    "d[2].iloc[:,-1].value_counts(normalize = True)"
   ]
  },
  {
   "cell_type": "code",
   "execution_count": 292,
   "id": "6353c870",
   "metadata": {},
   "outputs": [
    {
     "data": {
      "text/html": [
       "<div>\n",
       "<style scoped>\n",
       "    .dataframe tbody tr th:only-of-type {\n",
       "        vertical-align: middle;\n",
       "    }\n",
       "\n",
       "    .dataframe tbody tr th {\n",
       "        vertical-align: top;\n",
       "    }\n",
       "\n",
       "    .dataframe thead th {\n",
       "        text-align: right;\n",
       "    }\n",
       "</style>\n",
       "<table border=\"1\" class=\"dataframe\">\n",
       "  <thead>\n",
       "    <tr style=\"text-align: right;\">\n",
       "      <th></th>\n",
       "      <th>EEG Fp1-Ref</th>\n",
       "      <th>EEG Fp2-Ref</th>\n",
       "      <th>EEG F7-Ref</th>\n",
       "      <th>EEG F3-Ref</th>\n",
       "      <th>EEG Fz-Ref</th>\n",
       "      <th>EEG F4-Ref</th>\n",
       "      <th>EEG F8-Ref</th>\n",
       "      <th>EEG T3-Ref</th>\n",
       "      <th>EEG C3-Ref</th>\n",
       "      <th>EEG Cz-Ref</th>\n",
       "      <th>EEG C4-Ref</th>\n",
       "      <th>EEG T4-Ref</th>\n",
       "      <th>EEG T5-Ref</th>\n",
       "      <th>EEG P3-Ref</th>\n",
       "      <th>EEG Pz-Ref</th>\n",
       "      <th>EEG P4-Ref</th>\n",
       "      <th>EEG T6-Ref</th>\n",
       "      <th>EEG O1-Ref</th>\n",
       "      <th>EEG O2-Ref</th>\n",
       "      <th>is_seizure_target</th>\n",
       "    </tr>\n",
       "  </thead>\n",
       "  <tbody>\n",
       "    <tr>\n",
       "      <th>0</th>\n",
       "      <td>-1.419105</td>\n",
       "      <td>17.866398</td>\n",
       "      <td>26.912596</td>\n",
       "      <td>13.849781</td>\n",
       "      <td>0.334560</td>\n",
       "      <td>-8.870927</td>\n",
       "      <td>20.188353</td>\n",
       "      <td>8.470444</td>\n",
       "      <td>-16.098475</td>\n",
       "      <td>10.602408</td>\n",
       "      <td>20.922618</td>\n",
       "      <td>22.936879</td>\n",
       "      <td>-4.219819</td>\n",
       "      <td>-8.557335</td>\n",
       "      <td>-7.741930</td>\n",
       "      <td>16.791965</td>\n",
       "      <td>15.138854</td>\n",
       "      <td>-16.910205</td>\n",
       "      <td>-9.048158</td>\n",
       "      <td>1</td>\n",
       "    </tr>\n",
       "    <tr>\n",
       "      <th>1</th>\n",
       "      <td>-3.318200</td>\n",
       "      <td>41.790181</td>\n",
       "      <td>53.524897</td>\n",
       "      <td>22.539651</td>\n",
       "      <td>0.112400</td>\n",
       "      <td>-16.763359</td>\n",
       "      <td>39.730104</td>\n",
       "      <td>20.065797</td>\n",
       "      <td>-32.113944</td>\n",
       "      <td>19.723380</td>\n",
       "      <td>41.087818</td>\n",
       "      <td>46.729833</td>\n",
       "      <td>-7.158927</td>\n",
       "      <td>-15.070688</td>\n",
       "      <td>-13.714219</td>\n",
       "      <td>33.680687</td>\n",
       "      <td>30.321825</td>\n",
       "      <td>-30.656286</td>\n",
       "      <td>-15.350078</td>\n",
       "      <td>1</td>\n",
       "    </tr>\n",
       "    <tr>\n",
       "      <th>2</th>\n",
       "      <td>-8.260964</td>\n",
       "      <td>42.491697</td>\n",
       "      <td>48.742226</td>\n",
       "      <td>10.640972</td>\n",
       "      <td>-1.428029</td>\n",
       "      <td>-11.712904</td>\n",
       "      <td>37.064375</td>\n",
       "      <td>18.978916</td>\n",
       "      <td>-29.206768</td>\n",
       "      <td>17.656212</td>\n",
       "      <td>38.100061</td>\n",
       "      <td>43.876514</td>\n",
       "      <td>-5.428389</td>\n",
       "      <td>-14.246795</td>\n",
       "      <td>-12.121809</td>\n",
       "      <td>33.083871</td>\n",
       "      <td>29.851972</td>\n",
       "      <td>-25.687254</td>\n",
       "      <td>-10.224155</td>\n",
       "      <td>1</td>\n",
       "    </tr>\n",
       "    <tr>\n",
       "      <th>3</th>\n",
       "      <td>-3.282774</td>\n",
       "      <td>35.593190</td>\n",
       "      <td>52.041205</td>\n",
       "      <td>19.698493</td>\n",
       "      <td>-1.821554</td>\n",
       "      <td>-12.847160</td>\n",
       "      <td>40.719617</td>\n",
       "      <td>19.530675</td>\n",
       "      <td>-32.696911</td>\n",
       "      <td>18.755420</td>\n",
       "      <td>41.574157</td>\n",
       "      <td>48.381576</td>\n",
       "      <td>-6.566801</td>\n",
       "      <td>-14.805329</td>\n",
       "      <td>-12.654931</td>\n",
       "      <td>35.169712</td>\n",
       "      <td>32.560589</td>\n",
       "      <td>-28.299376</td>\n",
       "      <td>-11.631809</td>\n",
       "      <td>1</td>\n",
       "    </tr>\n",
       "    <tr>\n",
       "      <th>4</th>\n",
       "      <td>3.505180</td>\n",
       "      <td>32.131439</td>\n",
       "      <td>50.848944</td>\n",
       "      <td>19.133736</td>\n",
       "      <td>-2.570428</td>\n",
       "      <td>-13.868957</td>\n",
       "      <td>37.644640</td>\n",
       "      <td>10.022557</td>\n",
       "      <td>-31.576933</td>\n",
       "      <td>18.048527</td>\n",
       "      <td>39.006783</td>\n",
       "      <td>47.168211</td>\n",
       "      <td>-9.262223</td>\n",
       "      <td>-14.579787</td>\n",
       "      <td>-12.167261</td>\n",
       "      <td>34.712738</td>\n",
       "      <td>31.528349</td>\n",
       "      <td>-28.511808</td>\n",
       "      <td>-12.419453</td>\n",
       "      <td>1</td>\n",
       "    </tr>\n",
       "    <tr>\n",
       "      <th>...</th>\n",
       "      <td>...</td>\n",
       "      <td>...</td>\n",
       "      <td>...</td>\n",
       "      <td>...</td>\n",
       "      <td>...</td>\n",
       "      <td>...</td>\n",
       "      <td>...</td>\n",
       "      <td>...</td>\n",
       "      <td>...</td>\n",
       "      <td>...</td>\n",
       "      <td>...</td>\n",
       "      <td>...</td>\n",
       "      <td>...</td>\n",
       "      <td>...</td>\n",
       "      <td>...</td>\n",
       "      <td>...</td>\n",
       "      <td>...</td>\n",
       "      <td>...</td>\n",
       "      <td>...</td>\n",
       "      <td>...</td>\n",
       "    </tr>\n",
       "    <tr>\n",
       "      <th>983291</th>\n",
       "      <td>-0.033730</td>\n",
       "      <td>-0.064924</td>\n",
       "      <td>-0.026082</td>\n",
       "      <td>-0.034446</td>\n",
       "      <td>-0.027425</td>\n",
       "      <td>-0.026761</td>\n",
       "      <td>-0.027436</td>\n",
       "      <td>-0.012603</td>\n",
       "      <td>-0.027324</td>\n",
       "      <td>-0.024319</td>\n",
       "      <td>-0.022647</td>\n",
       "      <td>0.022053</td>\n",
       "      <td>-0.026625</td>\n",
       "      <td>-0.027575</td>\n",
       "      <td>-0.023072</td>\n",
       "      <td>-0.021672</td>\n",
       "      <td>-0.033550</td>\n",
       "      <td>-0.023223</td>\n",
       "      <td>-0.022306</td>\n",
       "      <td>0</td>\n",
       "    </tr>\n",
       "    <tr>\n",
       "      <th>983292</th>\n",
       "      <td>-0.023593</td>\n",
       "      <td>-0.031483</td>\n",
       "      <td>-0.022750</td>\n",
       "      <td>-0.036947</td>\n",
       "      <td>-0.028290</td>\n",
       "      <td>-0.017447</td>\n",
       "      <td>-0.017235</td>\n",
       "      <td>-0.031539</td>\n",
       "      <td>-0.025934</td>\n",
       "      <td>-0.021483</td>\n",
       "      <td>-0.009234</td>\n",
       "      <td>0.038073</td>\n",
       "      <td>-0.019041</td>\n",
       "      <td>-0.017465</td>\n",
       "      <td>-0.010821</td>\n",
       "      <td>-0.002239</td>\n",
       "      <td>0.015834</td>\n",
       "      <td>-0.001533</td>\n",
       "      <td>-0.006423</td>\n",
       "      <td>0</td>\n",
       "    </tr>\n",
       "    <tr>\n",
       "      <th>983293</th>\n",
       "      <td>-0.024829</td>\n",
       "      <td>0.000780</td>\n",
       "      <td>-0.031840</td>\n",
       "      <td>-0.033075</td>\n",
       "      <td>-0.034224</td>\n",
       "      <td>-0.027610</td>\n",
       "      <td>-0.026799</td>\n",
       "      <td>-0.051086</td>\n",
       "      <td>-0.032745</td>\n",
       "      <td>-0.032736</td>\n",
       "      <td>-0.026178</td>\n",
       "      <td>-0.038732</td>\n",
       "      <td>-0.028815</td>\n",
       "      <td>-0.026816</td>\n",
       "      <td>-0.026822</td>\n",
       "      <td>-0.022453</td>\n",
       "      <td>0.001434</td>\n",
       "      <td>-0.020443</td>\n",
       "      <td>-0.024631</td>\n",
       "      <td>0</td>\n",
       "    </tr>\n",
       "    <tr>\n",
       "      <th>983294</th>\n",
       "      <td>-0.035700</td>\n",
       "      <td>-0.010710</td>\n",
       "      <td>-0.041236</td>\n",
       "      <td>-0.028001</td>\n",
       "      <td>-0.037347</td>\n",
       "      <td>-0.043653</td>\n",
       "      <td>-0.043319</td>\n",
       "      <td>-0.045436</td>\n",
       "      <td>-0.038689</td>\n",
       "      <td>-0.043093</td>\n",
       "      <td>-0.050828</td>\n",
       "      <td>-0.106108</td>\n",
       "      <td>-0.042881</td>\n",
       "      <td>-0.043103</td>\n",
       "      <td>-0.049688</td>\n",
       "      <td>-0.055259</td>\n",
       "      <td>-0.057144</td>\n",
       "      <td>-0.054611</td>\n",
       "      <td>-0.052575</td>\n",
       "      <td>0</td>\n",
       "    </tr>\n",
       "    <tr>\n",
       "      <th>983295</th>\n",
       "      <td>-0.041775</td>\n",
       "      <td>-0.050422</td>\n",
       "      <td>-0.038534</td>\n",
       "      <td>-0.028433</td>\n",
       "      <td>-0.033560</td>\n",
       "      <td>-0.044350</td>\n",
       "      <td>-0.044931</td>\n",
       "      <td>-0.022258</td>\n",
       "      <td>-0.035928</td>\n",
       "      <td>-0.038889</td>\n",
       "      <td>-0.050583</td>\n",
       "      <td>-0.075202</td>\n",
       "      <td>-0.042638</td>\n",
       "      <td>-0.044769</td>\n",
       "      <td>-0.049179</td>\n",
       "      <td>-0.057250</td>\n",
       "      <td>-0.082210</td>\n",
       "      <td>-0.058808</td>\n",
       "      <td>-0.053289</td>\n",
       "      <td>0</td>\n",
       "    </tr>\n",
       "  </tbody>\n",
       "</table>\n",
       "<p>983296 rows × 20 columns</p>\n",
       "</div>"
      ],
      "text/plain": [
       "        EEG Fp1-Ref  EEG Fp2-Ref  EEG F7-Ref  EEG F3-Ref  EEG Fz-Ref  \\\n",
       "0         -1.419105    17.866398   26.912596   13.849781    0.334560   \n",
       "1         -3.318200    41.790181   53.524897   22.539651    0.112400   \n",
       "2         -8.260964    42.491697   48.742226   10.640972   -1.428029   \n",
       "3         -3.282774    35.593190   52.041205   19.698493   -1.821554   \n",
       "4          3.505180    32.131439   50.848944   19.133736   -2.570428   \n",
       "...             ...          ...         ...         ...         ...   \n",
       "983291    -0.033730    -0.064924   -0.026082   -0.034446   -0.027425   \n",
       "983292    -0.023593    -0.031483   -0.022750   -0.036947   -0.028290   \n",
       "983293    -0.024829     0.000780   -0.031840   -0.033075   -0.034224   \n",
       "983294    -0.035700    -0.010710   -0.041236   -0.028001   -0.037347   \n",
       "983295    -0.041775    -0.050422   -0.038534   -0.028433   -0.033560   \n",
       "\n",
       "        EEG F4-Ref  EEG F8-Ref  EEG T3-Ref  EEG C3-Ref  EEG Cz-Ref  \\\n",
       "0        -8.870927   20.188353    8.470444  -16.098475   10.602408   \n",
       "1       -16.763359   39.730104   20.065797  -32.113944   19.723380   \n",
       "2       -11.712904   37.064375   18.978916  -29.206768   17.656212   \n",
       "3       -12.847160   40.719617   19.530675  -32.696911   18.755420   \n",
       "4       -13.868957   37.644640   10.022557  -31.576933   18.048527   \n",
       "...            ...         ...         ...         ...         ...   \n",
       "983291   -0.026761   -0.027436   -0.012603   -0.027324   -0.024319   \n",
       "983292   -0.017447   -0.017235   -0.031539   -0.025934   -0.021483   \n",
       "983293   -0.027610   -0.026799   -0.051086   -0.032745   -0.032736   \n",
       "983294   -0.043653   -0.043319   -0.045436   -0.038689   -0.043093   \n",
       "983295   -0.044350   -0.044931   -0.022258   -0.035928   -0.038889   \n",
       "\n",
       "        EEG C4-Ref  EEG T4-Ref  EEG T5-Ref  EEG P3-Ref  EEG Pz-Ref  \\\n",
       "0        20.922618   22.936879   -4.219819   -8.557335   -7.741930   \n",
       "1        41.087818   46.729833   -7.158927  -15.070688  -13.714219   \n",
       "2        38.100061   43.876514   -5.428389  -14.246795  -12.121809   \n",
       "3        41.574157   48.381576   -6.566801  -14.805329  -12.654931   \n",
       "4        39.006783   47.168211   -9.262223  -14.579787  -12.167261   \n",
       "...            ...         ...         ...         ...         ...   \n",
       "983291   -0.022647    0.022053   -0.026625   -0.027575   -0.023072   \n",
       "983292   -0.009234    0.038073   -0.019041   -0.017465   -0.010821   \n",
       "983293   -0.026178   -0.038732   -0.028815   -0.026816   -0.026822   \n",
       "983294   -0.050828   -0.106108   -0.042881   -0.043103   -0.049688   \n",
       "983295   -0.050583   -0.075202   -0.042638   -0.044769   -0.049179   \n",
       "\n",
       "        EEG P4-Ref  EEG T6-Ref  EEG O1-Ref  EEG O2-Ref  is_seizure_target  \n",
       "0        16.791965   15.138854  -16.910205   -9.048158                  1  \n",
       "1        33.680687   30.321825  -30.656286  -15.350078                  1  \n",
       "2        33.083871   29.851972  -25.687254  -10.224155                  1  \n",
       "3        35.169712   32.560589  -28.299376  -11.631809                  1  \n",
       "4        34.712738   31.528349  -28.511808  -12.419453                  1  \n",
       "...            ...         ...         ...         ...                ...  \n",
       "983291   -0.021672   -0.033550   -0.023223   -0.022306                  0  \n",
       "983292   -0.002239    0.015834   -0.001533   -0.006423                  0  \n",
       "983293   -0.022453    0.001434   -0.020443   -0.024631                  0  \n",
       "983294   -0.055259   -0.057144   -0.054611   -0.052575                  0  \n",
       "983295   -0.057250   -0.082210   -0.058808   -0.053289                  0  \n",
       "\n",
       "[983296 rows x 20 columns]"
      ]
     },
     "execution_count": 292,
     "metadata": {},
     "output_type": "execute_result"
    }
   ],
   "source": [
    "d[2]"
   ]
  },
  {
   "cell_type": "code",
   "execution_count": 306,
   "id": "119f7a24",
   "metadata": {},
   "outputs": [],
   "source": [
    "test = decimate(d[2].iloc[:,0], 10)"
   ]
  },
  {
   "cell_type": "code",
   "execution_count": 307,
   "id": "980723ca",
   "metadata": {},
   "outputs": [
    {
     "data": {
      "text/plain": [
       "array([ -0.41062371, -18.2458983 , -30.8101392 , ...,  -0.03133879,\n",
       "        -0.03181799,  -0.034982  ])"
      ]
     },
     "execution_count": 307,
     "metadata": {},
     "output_type": "execute_result"
    }
   ],
   "source": [
    "test"
   ]
  },
  {
   "cell_type": "code",
   "execution_count": 308,
   "id": "f68479a8",
   "metadata": {},
   "outputs": [
    {
     "data": {
      "text/plain": [
       "[<matplotlib.lines.Line2D at 0x7f221dc43790>]"
      ]
     },
     "execution_count": 308,
     "metadata": {},
     "output_type": "execute_result"
    },
    {
     "data": {
      "image/png": "[encoded data removed]",
      "text/plain": [
       "<Figure size 640x480 with 1 Axes>"
      ]
     },
     "metadata": {},
     "output_type": "display_data"
    }
   ],
   "source": [
    "plt.plot(test[0:25])"
   ]
  },
  {
   "cell_type": "code",
   "execution_count": null,
   "id": "e1ec3878",
   "metadata": {},
   "outputs": [],
   "source": []
  }
 ],
 "metadata": {
  "kernelspec": {
   "display_name": "Python 3 (ipykernel)",
   "language": "python",
   "name": "python3"
  },
  "language_info": {
   "codemirror_mode": {
    "name": "ipython",
    "version": 3
   },
   "file_extension": ".py",
   "mimetype": "text/x-python",
   "name": "python",
   "nbconvert_exporter": "python",
   "pygments_lexer": "ipython3",
   "version": "3.10.6"
  },
  "toc": {
   "base_numbering": 1,
   "nav_menu": {},
   "number_sections": true,
   "sideBar": true,
   "skip_h1_title": false,
   "title_cell": "Table of Contents",
   "title_sidebar": "Contents",
   "toc_cell": false,
   "toc_position": {},
   "toc_section_display": true,
   "toc_window_display": false
  }
 },
 "nbformat": 4,
 "nbformat_minor": 5
}
