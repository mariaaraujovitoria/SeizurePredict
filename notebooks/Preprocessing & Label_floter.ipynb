{
 "cells": [
  {
   "cell_type": "code",
   "execution_count": 1,
   "metadata": {},
   "outputs": [],
   "source": [
    "import scipy.io\n",
    "from pyedflib import highlevel\n",
    "import pandas as pd\n",
    "import matplotlib.pyplot as plt\n",
    "import seaborn as sns\n",
    "import numpy as np\n",
    "from itertools import groupby\n",
    "import csv\n",
    "import pickle\n",
    "from scipy.signal import butter, sosfilt, sosfiltfilt, sosfreqz\n",
    "from scipy.signal import freqz, iirnotch, filtfilt\n",
    "from sklearn.preprocessing import MinMaxScaler"
   ]
  },
  {
   "cell_type": "markdown",
   "metadata": {},
   "source": [
    "# Variables and loading data"
   ]
  },
  {
   "cell_type": "code",
   "execution_count": 3,
   "metadata": {},
   "outputs": [],
   "source": [
    "sampling_rate = 256"
   ]
  },
  {
   "cell_type": "code",
   "execution_count": 5,
   "metadata": {},
   "outputs": [],
   "source": [
    "# Load annotation file\n",
    "annt = scipy.io.loadmat(\"/root/code/mariaaraujovitoria/SeizurePredict/raw_data/annotations_2017.mat\")"
   ]
  },
  {
   "cell_type": "code",
   "execution_count": 4,
   "metadata": {},
   "outputs": [],
   "source": [
    "# Load the data \n",
    "signals, signal_headers, header = highlevel.read_edf('/home/lee/code/mariaaraujovitoria/SeizurePredict/raw_data/eeg6.edf')"
   ]
  },
  {
   "cell_type": "code",
   "execution_count": 6,
   "metadata": {},
   "outputs": [
    {
     "data": {
      "text/plain": [
       "(21, 1203968)"
      ]
     },
     "execution_count": 6,
     "metadata": {},
     "output_type": "execute_result"
    }
   ],
   "source": [
    "signals.shape"
   ]
  },
  {
   "cell_type": "code",
   "execution_count": 9,
   "metadata": {},
   "outputs": [
    {
     "data": {
      "text/plain": [
       "(21, 100)"
      ]
     },
     "execution_count": 9,
     "metadata": {},
     "output_type": "execute_result"
    }
   ],
   "source": [
    "signals[:,:100].shape"
   ]
  },
  {
   "cell_type": "markdown",
   "metadata": {},
   "source": [
    "# Functions to preprocess"
   ]
  },
  {
   "cell_type": "code",
   "execution_count": 7,
   "metadata": {},
   "outputs": [],
   "source": [
    "# Highpass filter\n",
    "def highpass_filter(signals, sampling_rate, hp_frequency = 0.1):\n",
    "    sos = butter(N = 3, Wn = hp_frequency, btype=\"highpass\",fs=sampling_rate, output=\"sos\")\n",
    "    filter_hp = sosfiltfilt(sos, signals)\n",
    "    return filter_hp"
   ]
  },
  {
   "cell_type": "code",
   "execution_count": 8,
   "metadata": {},
   "outputs": [],
   "source": [
    "# Powerline filter\n",
    "def notch_filter(signals, sampling_rate, notch_frequency = 50, quality_factor = 30):\n",
    "    w0 = notch_frequency/(sampling_rate/2)\n",
    "    b_notch, a_notch = iirnotch(w0, quality_factor)\n",
    "    filter_notch = filtfilt(b_notch, a_notch, signals, axis = -1)\n",
    "    return filter_notch"
   ]
  },
  {
   "cell_type": "code",
   "execution_count": 9,
   "metadata": {},
   "outputs": [],
   "source": [
    "# Combination of all filters and MinMaxScaler\n",
    "def filter_signals(signals, sampling_rate, hp_frequency = 0.1, notch_frequency = 50, quality_factor = 30):\n",
    "    filter_hp = highpass_filter(signals, sampling_rate)\n",
    "    filter_notch = notch_filter(signals, sampling_rate, notch_frequency, quality_factor)\n",
    "    scaler = MinMaxScaler()\n",
    "    final_signal = scaler.fit_transform(filter_notch)\n",
    "    return final_signal"
   ]
  },
  {
   "cell_type": "markdown",
   "metadata": {},
   "source": [
    "# Functions to label"
   ]
  },
  {
   "cell_type": "code",
   "execution_count": 10,
   "metadata": {},
   "outputs": [],
   "source": [
    "# Format the EEG \n",
    "def eeg_formated(signals, names_ele):\n",
    "    data_signals = signals.T # transpose the signals from datapoints\n",
    "    data_signals = pd.DataFrame(data_signals) # create a pandas dataframe\n",
    "    \n",
    "    data_signals.columns = names_ele # rename columns\n",
    "    \n",
    "    return data_signals"
   ]
  },
  {
   "cell_type": "code",
   "execution_count": 11,
   "metadata": {},
   "outputs": [],
   "source": [
    "# Format the annotations\n",
    "def diagnosis(n):\n",
    "    patient_A=annt[\"annotat_new\"][0][n-1][0]\n",
    "    patient_B=annt[\"annotat_new\"][0][n-1][1]\n",
    "    patient_C=annt[\"annotat_new\"][0][n-1][2]\n",
    "    \n",
    "    #converting seconds to datapoints\n",
    "\n",
    "    patient_A=patient_A.tolist()\n",
    "    patient_B=patient_B.tolist()\n",
    "    patient_C=patient_C.tolist()\n",
    "    \n",
    "    patient_A_dtp=[]\n",
    "    patient_B_dtp=[]\n",
    "    patient_C_dtp=[]  \n",
    "    for elem in patient_A:\n",
    "        for i in range(sampling_rate):\n",
    "            patient_A_dtp.append(elem) \n",
    "    for elem in patient_B:\n",
    "        for i in range(sampling_rate):\n",
    "            patient_B_dtp.append(elem)\n",
    "        \n",
    "    for elem in patient_C:\n",
    "        for i in range(sampling_rate):\n",
    "            patient_C_dtp.append(elem)\n",
    "            \n",
    "    target_=pd.DataFrame({\"Diagnosis A\":patient_A_dtp,\"Diagnosis B\":patient_B_dtp,\"Diagnosis C\":patient_C_dtp})\n",
    "    \n",
    "    return target_  "
   ]
  },
  {
   "cell_type": "code",
   "execution_count": 12,
   "metadata": {},
   "outputs": [],
   "source": [
    "# Add a time column with the seconds\n",
    "def add_time(df):\n",
    "    list_time=[]\n",
    "    for i in range(len(df)):\n",
    "        list_time.append(i//sampling_rate)\n",
    "    df[\"time\"]=list_time\n",
    "    return df"
   ]
  },
  {
   "cell_type": "code",
   "execution_count": 13,
   "metadata": {},
   "outputs": [],
   "source": [
    "# Create target variables when seizures lasts at least 10\n",
    "def is_seizure(df):\n",
    "    \n",
    "    threshold = sampling_rate*10\n",
    "    \n",
    "    df['is_seizure_A'] = df[\"Diagnosis A\"].groupby((df[\"Diagnosis A\"] != df[\"Diagnosis A\"].shift()).cumsum()).transform('size') * df[\"Diagnosis A\"]\n",
    "    df['is_seizure_A'] = (df['is_seizure_A'] > threshold).astype(int)\n",
    "    \n",
    "    df['is_seizure_B'] = df[\"Diagnosis B\"].groupby((df[\"Diagnosis B\"] != df[\"Diagnosis B\"].shift()).cumsum()).transform('size') * df[\"Diagnosis B\"]\n",
    "    df['is_seizure_B'] = (df['is_seizure_B'] > threshold).astype(int)\n",
    "    \n",
    "    df['is_seizure_C'] = df[\"Diagnosis C\"].groupby((df[\"Diagnosis C\"] != df[\"Diagnosis C\"].shift()).cumsum()).transform('size') * df[\"Diagnosis C\"]\n",
    "    df['is_seizure_C'] = (df['is_seizure_C'] > threshold).astype(int)\n",
    "    \n",
    "    return df "
   ]
  },
  {
   "cell_type": "code",
   "execution_count": 14,
   "metadata": {},
   "outputs": [],
   "source": [
    "# Create final target\n",
    "def create_target(df):\n",
    "    df['is_seizure_target'] = np.where(df['is_seizure_A'] + df['is_seizure_B'] + df['is_seizure_C'] >= 2, 1, 0)\n",
    "    return df"
   ]
  },
  {
   "cell_type": "code",
   "execution_count": 15,
   "metadata": {},
   "outputs": [],
   "source": [
    "# Remove useless\n",
    "def remove_useless_columns(df):\n",
    "    df.drop(columns=['Diagnosis A', 'Diagnosis B', 'Diagnosis C', 'is_seizure_A', 'is_seizure_B', 'is_seizure_C'], inplace=True)\n",
    "    return df"
   ]
  },
  {
   "cell_type": "code",
   "execution_count": 16,
   "metadata": {},
   "outputs": [],
   "source": [
    "# Final function to label\n",
    "def label_data(path_raw_data, signals_preprocessed, n):\n",
    "    \n",
    "    signals, signal_headers, header = highlevel.read_edf(path_raw_data)\n",
    "    \n",
    "    names_ele = [signal_headers[iele]['label'] for iele in range(signals.shape[0])] # extract electrode names\n",
    "    \n",
    "    eeg_patient = eeg_formated(signals_preprocessed, names_ele) # format the ECG\n",
    "    diagnosis_patient = diagnosis(n) # format the diagnosis\n",
    "    \n",
    "    data_patient = pd.merge(left=eeg_patient, right=diagnosis_patient, how='left', left_index=True, right_index=True) # merge ecg and diagnosis\n",
    "    \n",
    "    add_time(data_patient)\n",
    "    is_seizure(data_patient)\n",
    "    create_target(data_patient)\n",
    "    remove_useless_columns(data_patient)\n",
    "    \n",
    "    return data_patient"
   ]
  },
  {
   "cell_type": "markdown",
   "metadata": {},
   "source": [
    "# Final preprocessing & label"
   ]
  },
  {
   "cell_type": "code",
   "execution_count": 45,
   "metadata": {},
   "outputs": [],
   "source": [
    "signals_preprocessed = filter_signals(signals, sampling_rate, hp_frequency = 0.1, notch_frequency = 50, quality_factor = 30)"
   ]
  },
  {
   "cell_type": "code",
   "execution_count": 20,
   "metadata": {},
   "outputs": [],
   "source": [
    "d_5 = label_data('eeg5.edf', signals_preprocessed, 5)"
   ]
  },
  {
   "cell_type": "code",
   "execution_count": 18,
   "metadata": {},
   "outputs": [],
   "source": [
    "d_2=label_data(\"/root/code/mariaaraujovitoria/SeizurePredict/raw_data/eeg2.edf\",signals_preprocessed,2)"
   ]
  },
  {
   "cell_type": "code",
   "execution_count": 31,
   "metadata": {},
   "outputs": [],
   "source": [
    "d_1=label_data(\"/root/code/mariaaraujovitoria/SeizurePredict/raw_data/eeg1.edf\",signals_preprocessed,1)"
   ]
  },
  {
   "cell_type": "code",
   "execution_count": 38,
   "metadata": {},
   "outputs": [],
   "source": [
    "d_3=label_data(\"/root/code/mariaaraujovitoria/SeizurePredict/raw_data/eeg3.edf\",signals_preprocessed,3)"
   ]
  },
  {
   "cell_type": "code",
   "execution_count": 46,
   "metadata": {},
   "outputs": [],
   "source": [
    "d_6=label_data(\"/root/code/mariaaraujovitoria/SeizurePredict/raw_data/eeg3.edf\",signals_preprocessed,6)"
   ]
  },
  {
   "cell_type": "code",
   "execution_count": 47,
   "metadata": {},
   "outputs": [
    {
     "data": {
      "text/html": [
       "<div>\n",
       "<style scoped>\n",
       "    .dataframe tbody tr th:only-of-type {\n",
       "        vertical-align: middle;\n",
       "    }\n",
       "\n",
       "    .dataframe tbody tr th {\n",
       "        vertical-align: top;\n",
       "    }\n",
       "\n",
       "    .dataframe thead th {\n",
       "        text-align: right;\n",
       "    }\n",
       "</style>\n",
       "<table border=\"1\" class=\"dataframe\">\n",
       "  <thead>\n",
       "    <tr style=\"text-align: right;\">\n",
       "      <th></th>\n",
       "      <th>EEG Fp1-Ref</th>\n",
       "      <th>EEG Fp2-Ref</th>\n",
       "      <th>EEG F3-Ref</th>\n",
       "      <th>EEG F4-Ref</th>\n",
       "      <th>EEG F7-Ref</th>\n",
       "      <th>EEG F8-Ref</th>\n",
       "      <th>EEG Fz-Ref</th>\n",
       "      <th>EEG C3-Ref</th>\n",
       "      <th>EEG C4-Ref</th>\n",
       "      <th>EEG Cz-Ref</th>\n",
       "      <th>...</th>\n",
       "      <th>EEG T6-Ref</th>\n",
       "      <th>EEG P3-Ref</th>\n",
       "      <th>EEG P4-Ref</th>\n",
       "      <th>EEG Pz-Ref</th>\n",
       "      <th>EEG O1-Ref</th>\n",
       "      <th>EEG O2-Ref</th>\n",
       "      <th>ECG EKG</th>\n",
       "      <th>Resp Effort</th>\n",
       "      <th>time</th>\n",
       "      <th>is_seizure_target</th>\n",
       "    </tr>\n",
       "  </thead>\n",
       "  <tbody>\n",
       "    <tr>\n",
       "      <th>0</th>\n",
       "      <td>0.590507</td>\n",
       "      <td>0.726594</td>\n",
       "      <td>0.871965</td>\n",
       "      <td>0.728176</td>\n",
       "      <td>0.754922</td>\n",
       "      <td>1.000000</td>\n",
       "      <td>0.565585</td>\n",
       "      <td>0.431106</td>\n",
       "      <td>0.128846</td>\n",
       "      <td>0.455591</td>\n",
       "      <td>...</td>\n",
       "      <td>0.567253</td>\n",
       "      <td>0.708518</td>\n",
       "      <td>0.386171</td>\n",
       "      <td>0.515433</td>\n",
       "      <td>0.507877</td>\n",
       "      <td>0.604322</td>\n",
       "      <td>0.0</td>\n",
       "      <td>0.446013</td>\n",
       "      <td>0</td>\n",
       "      <td>0</td>\n",
       "    </tr>\n",
       "    <tr>\n",
       "      <th>1</th>\n",
       "      <td>0.602058</td>\n",
       "      <td>0.765222</td>\n",
       "      <td>0.874056</td>\n",
       "      <td>0.741458</td>\n",
       "      <td>0.827124</td>\n",
       "      <td>1.000000</td>\n",
       "      <td>0.630477</td>\n",
       "      <td>0.525828</td>\n",
       "      <td>0.297665</td>\n",
       "      <td>0.542334</td>\n",
       "      <td>...</td>\n",
       "      <td>0.644377</td>\n",
       "      <td>0.734732</td>\n",
       "      <td>0.499413</td>\n",
       "      <td>0.583477</td>\n",
       "      <td>0.575086</td>\n",
       "      <td>0.663588</td>\n",
       "      <td>0.0</td>\n",
       "      <td>0.558980</td>\n",
       "      <td>0</td>\n",
       "      <td>0</td>\n",
       "    </tr>\n",
       "    <tr>\n",
       "      <th>2</th>\n",
       "      <td>0.564586</td>\n",
       "      <td>0.877694</td>\n",
       "      <td>0.865995</td>\n",
       "      <td>0.736234</td>\n",
       "      <td>0.891022</td>\n",
       "      <td>1.000000</td>\n",
       "      <td>0.653592</td>\n",
       "      <td>0.545596</td>\n",
       "      <td>0.347786</td>\n",
       "      <td>0.569440</td>\n",
       "      <td>...</td>\n",
       "      <td>0.628093</td>\n",
       "      <td>0.736504</td>\n",
       "      <td>0.533922</td>\n",
       "      <td>0.608781</td>\n",
       "      <td>0.586320</td>\n",
       "      <td>0.689349</td>\n",
       "      <td>0.0</td>\n",
       "      <td>0.571079</td>\n",
       "      <td>0</td>\n",
       "      <td>0</td>\n",
       "    </tr>\n",
       "    <tr>\n",
       "      <th>3</th>\n",
       "      <td>0.577283</td>\n",
       "      <td>0.802207</td>\n",
       "      <td>0.838589</td>\n",
       "      <td>0.705547</td>\n",
       "      <td>0.851305</td>\n",
       "      <td>1.000000</td>\n",
       "      <td>0.588229</td>\n",
       "      <td>0.487214</td>\n",
       "      <td>0.264831</td>\n",
       "      <td>0.503758</td>\n",
       "      <td>...</td>\n",
       "      <td>0.542457</td>\n",
       "      <td>0.699629</td>\n",
       "      <td>0.469806</td>\n",
       "      <td>0.543854</td>\n",
       "      <td>0.534481</td>\n",
       "      <td>0.656229</td>\n",
       "      <td>0.0</td>\n",
       "      <td>0.495736</td>\n",
       "      <td>0</td>\n",
       "      <td>0</td>\n",
       "    </tr>\n",
       "    <tr>\n",
       "      <th>4</th>\n",
       "      <td>0.633843</td>\n",
       "      <td>0.638791</td>\n",
       "      <td>0.835949</td>\n",
       "      <td>0.714652</td>\n",
       "      <td>0.902220</td>\n",
       "      <td>1.000000</td>\n",
       "      <td>0.552486</td>\n",
       "      <td>0.466188</td>\n",
       "      <td>0.233661</td>\n",
       "      <td>0.479924</td>\n",
       "      <td>...</td>\n",
       "      <td>0.649914</td>\n",
       "      <td>0.687160</td>\n",
       "      <td>0.442889</td>\n",
       "      <td>0.521489</td>\n",
       "      <td>0.418894</td>\n",
       "      <td>0.653311</td>\n",
       "      <td>0.0</td>\n",
       "      <td>0.458131</td>\n",
       "      <td>0</td>\n",
       "      <td>0</td>\n",
       "    </tr>\n",
       "    <tr>\n",
       "      <th>...</th>\n",
       "      <td>...</td>\n",
       "      <td>...</td>\n",
       "      <td>...</td>\n",
       "      <td>...</td>\n",
       "      <td>...</td>\n",
       "      <td>...</td>\n",
       "      <td>...</td>\n",
       "      <td>...</td>\n",
       "      <td>...</td>\n",
       "      <td>...</td>\n",
       "      <td>...</td>\n",
       "      <td>...</td>\n",
       "      <td>...</td>\n",
       "      <td>...</td>\n",
       "      <td>...</td>\n",
       "      <td>...</td>\n",
       "      <td>...</td>\n",
       "      <td>...</td>\n",
       "      <td>...</td>\n",
       "      <td>...</td>\n",
       "      <td>...</td>\n",
       "    </tr>\n",
       "    <tr>\n",
       "      <th>1203963</th>\n",
       "      <td>0.299546</td>\n",
       "      <td>0.294681</td>\n",
       "      <td>0.294384</td>\n",
       "      <td>0.293774</td>\n",
       "      <td>0.292851</td>\n",
       "      <td>0.294086</td>\n",
       "      <td>0.293512</td>\n",
       "      <td>0.293677</td>\n",
       "      <td>0.293893</td>\n",
       "      <td>0.295456</td>\n",
       "      <td>...</td>\n",
       "      <td>0.291449</td>\n",
       "      <td>0.295155</td>\n",
       "      <td>0.294980</td>\n",
       "      <td>0.294454</td>\n",
       "      <td>0.295613</td>\n",
       "      <td>0.294894</td>\n",
       "      <td>1.0</td>\n",
       "      <td>0.000000</td>\n",
       "      <td>4702</td>\n",
       "      <td>0</td>\n",
       "    </tr>\n",
       "    <tr>\n",
       "      <th>1203964</th>\n",
       "      <td>0.301231</td>\n",
       "      <td>0.292975</td>\n",
       "      <td>0.291357</td>\n",
       "      <td>0.288180</td>\n",
       "      <td>0.290191</td>\n",
       "      <td>0.291723</td>\n",
       "      <td>0.293715</td>\n",
       "      <td>0.289844</td>\n",
       "      <td>0.291662</td>\n",
       "      <td>0.296582</td>\n",
       "      <td>...</td>\n",
       "      <td>0.300302</td>\n",
       "      <td>0.296588</td>\n",
       "      <td>0.296156</td>\n",
       "      <td>0.298209</td>\n",
       "      <td>0.301208</td>\n",
       "      <td>0.299428</td>\n",
       "      <td>1.0</td>\n",
       "      <td>0.000000</td>\n",
       "      <td>4702</td>\n",
       "      <td>0</td>\n",
       "    </tr>\n",
       "    <tr>\n",
       "      <th>1203965</th>\n",
       "      <td>0.256847</td>\n",
       "      <td>0.256236</td>\n",
       "      <td>0.255532</td>\n",
       "      <td>0.254174</td>\n",
       "      <td>0.256197</td>\n",
       "      <td>0.256015</td>\n",
       "      <td>0.257717</td>\n",
       "      <td>0.255256</td>\n",
       "      <td>0.256151</td>\n",
       "      <td>0.257703</td>\n",
       "      <td>...</td>\n",
       "      <td>0.263490</td>\n",
       "      <td>0.257975</td>\n",
       "      <td>0.257871</td>\n",
       "      <td>0.259567</td>\n",
       "      <td>0.260329</td>\n",
       "      <td>0.259904</td>\n",
       "      <td>1.0</td>\n",
       "      <td>0.000000</td>\n",
       "      <td>4702</td>\n",
       "      <td>0</td>\n",
       "    </tr>\n",
       "    <tr>\n",
       "      <th>1203966</th>\n",
       "      <td>0.282531</td>\n",
       "      <td>0.289938</td>\n",
       "      <td>0.290968</td>\n",
       "      <td>0.293009</td>\n",
       "      <td>0.292558</td>\n",
       "      <td>0.290970</td>\n",
       "      <td>0.290304</td>\n",
       "      <td>0.292208</td>\n",
       "      <td>0.291125</td>\n",
       "      <td>0.287569</td>\n",
       "      <td>...</td>\n",
       "      <td>0.288209</td>\n",
       "      <td>0.287758</td>\n",
       "      <td>0.288095</td>\n",
       "      <td>0.287367</td>\n",
       "      <td>0.285066</td>\n",
       "      <td>0.286451</td>\n",
       "      <td>1.0</td>\n",
       "      <td>0.000000</td>\n",
       "      <td>4702</td>\n",
       "      <td>0</td>\n",
       "    </tr>\n",
       "    <tr>\n",
       "      <th>1203967</th>\n",
       "      <td>0.280991</td>\n",
       "      <td>0.286827</td>\n",
       "      <td>0.288324</td>\n",
       "      <td>0.291250</td>\n",
       "      <td>0.288693</td>\n",
       "      <td>0.287789</td>\n",
       "      <td>0.285439</td>\n",
       "      <td>0.289493</td>\n",
       "      <td>0.287747</td>\n",
       "      <td>0.283550</td>\n",
       "      <td>...</td>\n",
       "      <td>0.277580</td>\n",
       "      <td>0.283381</td>\n",
       "      <td>0.283730</td>\n",
       "      <td>0.281342</td>\n",
       "      <td>0.278896</td>\n",
       "      <td>0.280332</td>\n",
       "      <td>1.0</td>\n",
       "      <td>0.000000</td>\n",
       "      <td>4702</td>\n",
       "      <td>0</td>\n",
       "    </tr>\n",
       "  </tbody>\n",
       "</table>\n",
       "<p>1203968 rows × 23 columns</p>\n",
       "</div>"
      ],
      "text/plain": [
       "         EEG Fp1-Ref  EEG Fp2-Ref  EEG F3-Ref  EEG F4-Ref  EEG F7-Ref  \\\n",
       "0           0.590507     0.726594    0.871965    0.728176    0.754922   \n",
       "1           0.602058     0.765222    0.874056    0.741458    0.827124   \n",
       "2           0.564586     0.877694    0.865995    0.736234    0.891022   \n",
       "3           0.577283     0.802207    0.838589    0.705547    0.851305   \n",
       "4           0.633843     0.638791    0.835949    0.714652    0.902220   \n",
       "...              ...          ...         ...         ...         ...   \n",
       "1203963     0.299546     0.294681    0.294384    0.293774    0.292851   \n",
       "1203964     0.301231     0.292975    0.291357    0.288180    0.290191   \n",
       "1203965     0.256847     0.256236    0.255532    0.254174    0.256197   \n",
       "1203966     0.282531     0.289938    0.290968    0.293009    0.292558   \n",
       "1203967     0.280991     0.286827    0.288324    0.291250    0.288693   \n",
       "\n",
       "         EEG F8-Ref  EEG Fz-Ref  EEG C3-Ref  EEG C4-Ref  EEG Cz-Ref  ...  \\\n",
       "0          1.000000    0.565585    0.431106    0.128846    0.455591  ...   \n",
       "1          1.000000    0.630477    0.525828    0.297665    0.542334  ...   \n",
       "2          1.000000    0.653592    0.545596    0.347786    0.569440  ...   \n",
       "3          1.000000    0.588229    0.487214    0.264831    0.503758  ...   \n",
       "4          1.000000    0.552486    0.466188    0.233661    0.479924  ...   \n",
       "...             ...         ...         ...         ...         ...  ...   \n",
       "1203963    0.294086    0.293512    0.293677    0.293893    0.295456  ...   \n",
       "1203964    0.291723    0.293715    0.289844    0.291662    0.296582  ...   \n",
       "1203965    0.256015    0.257717    0.255256    0.256151    0.257703  ...   \n",
       "1203966    0.290970    0.290304    0.292208    0.291125    0.287569  ...   \n",
       "1203967    0.287789    0.285439    0.289493    0.287747    0.283550  ...   \n",
       "\n",
       "         EEG T6-Ref  EEG P3-Ref  EEG P4-Ref  EEG Pz-Ref  EEG O1-Ref  \\\n",
       "0          0.567253    0.708518    0.386171    0.515433    0.507877   \n",
       "1          0.644377    0.734732    0.499413    0.583477    0.575086   \n",
       "2          0.628093    0.736504    0.533922    0.608781    0.586320   \n",
       "3          0.542457    0.699629    0.469806    0.543854    0.534481   \n",
       "4          0.649914    0.687160    0.442889    0.521489    0.418894   \n",
       "...             ...         ...         ...         ...         ...   \n",
       "1203963    0.291449    0.295155    0.294980    0.294454    0.295613   \n",
       "1203964    0.300302    0.296588    0.296156    0.298209    0.301208   \n",
       "1203965    0.263490    0.257975    0.257871    0.259567    0.260329   \n",
       "1203966    0.288209    0.287758    0.288095    0.287367    0.285066   \n",
       "1203967    0.277580    0.283381    0.283730    0.281342    0.278896   \n",
       "\n",
       "         EEG O2-Ref  ECG EKG  Resp Effort  time  is_seizure_target  \n",
       "0          0.604322      0.0     0.446013     0                  0  \n",
       "1          0.663588      0.0     0.558980     0                  0  \n",
       "2          0.689349      0.0     0.571079     0                  0  \n",
       "3          0.656229      0.0     0.495736     0                  0  \n",
       "4          0.653311      0.0     0.458131     0                  0  \n",
       "...             ...      ...          ...   ...                ...  \n",
       "1203963    0.294894      1.0     0.000000  4702                  0  \n",
       "1203964    0.299428      1.0     0.000000  4702                  0  \n",
       "1203965    0.259904      1.0     0.000000  4702                  0  \n",
       "1203966    0.286451      1.0     0.000000  4702                  0  \n",
       "1203967    0.280332      1.0     0.000000  4702                  0  \n",
       "\n",
       "[1203968 rows x 23 columns]"
      ]
     },
     "execution_count": 47,
     "metadata": {},
     "output_type": "execute_result"
    }
   ],
   "source": [
    "d_6"
   ]
  },
  {
   "cell_type": "markdown",
   "metadata": {},
   "source": [
    "# Appendix - to remove time and ECG+Resp Effort"
   ]
  },
  {
   "cell_type": "code",
   "execution_count": 40,
   "metadata": {},
   "outputs": [],
   "source": [
    "def very_clean(df):\n",
    "    df.drop(columns=['ECG EKG', 'Resp Effort', 'time'], inplace=True)\n",
    "    return df"
   ]
  },
  {
   "cell_type": "code",
   "execution_count": 48,
   "metadata": {},
   "outputs": [],
   "source": [
    "d_6 = very_clean(d_6)"
   ]
  },
  {
   "cell_type": "code",
   "execution_count": 49,
   "metadata": {},
   "outputs": [],
   "source": [
    "d_6.to_csv(\"/root/code/mariaaraujovitoria/SeizurePredict/raw_data/patient_6.csv\")"
   ]
  },
  {
   "cell_type": "markdown",
   "metadata": {},
   "source": []
  }
 ],
 "metadata": {
  "kernelspec": {
   "display_name": "Python 3.10.6 64-bit ('SeizurePredict')",
   "language": "python",
   "name": "python3"
  },
  "language_info": {
   "codemirror_mode": {
    "name": "ipython",
    "version": 3
   },
   "file_extension": ".py",
   "mimetype": "text/x-python",
   "name": "python",
   "nbconvert_exporter": "python",
   "pygments_lexer": "ipython3",
   "version": "3.10.6 (main, Oct 10 2022, 14:41:16) [GCC 9.4.0]"
  },
  "toc": {
   "base_numbering": 1,
   "nav_menu": {},
   "number_sections": true,
   "sideBar": true,
   "skip_h1_title": false,
   "title_cell": "Table of Contents",
   "title_sidebar": "Contents",
   "toc_cell": false,
   "toc_position": {},
   "toc_section_display": true,
   "toc_window_display": false
  },
  "vscode": {
   "interpreter": {
    "hash": "ca6c4bfcb34051ba6c844888c065ff59bce25058b5f615300ea74af4f867d5cb"
   }
  }
 },
 "nbformat": 4,
 "nbformat_minor": 2
}
