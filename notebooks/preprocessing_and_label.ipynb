{
 "cells": [
  {
   "cell_type": "code",
   "execution_count": 22,
   "metadata": {},
   "outputs": [],
   "source": [
    "import scipy.io\n",
    "from pyedflib import highlevel\n",
    "import pandas as pd\n",
    "import matplotlib.pyplot as plt\n",
    "import seaborn as sns\n",
    "import numpy as np\n",
    "from itertools import groupby\n",
    "import csv\n",
    "import pickle\n",
    "from scipy.signal import butter, sosfilt, sosfiltfilt, sosfreqz\n",
    "from scipy.signal import freqz, iirnotch, filtfilt\n",
    "from sklearn.preprocessing import MinMaxScaler\n",
    "from sklearn.base import TransformerMixin, BaseEstimator"
   ]
  },
  {
   "cell_type": "markdown",
   "metadata": {},
   "source": [
    "# Variables and loading data"
   ]
  },
  {
   "cell_type": "code",
   "execution_count": 23,
   "metadata": {},
   "outputs": [],
   "source": [
    "sampling_rate = 256"
   ]
  },
  {
   "cell_type": "code",
   "execution_count": 24,
   "metadata": {},
   "outputs": [],
   "source": [
    "# Load annotation file\n",
    "annt = scipy.io.loadmat('../raw_data/annotations_2017.mat')"
   ]
  },
  {
   "cell_type": "code",
   "execution_count": 25,
   "metadata": {},
   "outputs": [],
   "source": [
    "# Load the data \n",
    "signals, signal_headers, header = highlevel.read_edf('../raw_data/eeg2.edf')"
   ]
  },
  {
   "cell_type": "markdown",
   "metadata": {},
   "source": [
    "# Functions to preprocess"
   ]
  },
  {
   "cell_type": "code",
   "execution_count": 26,
   "metadata": {},
   "outputs": [],
   "source": [
    "# Highpass filter\n",
    "def highpass_filter(signals, sampling_rate, hp_frequency = 0.1):\n",
    "    sos = butter(N = 3, Wn = hp_frequency, btype=\"highpass\",fs=sampling_rate, output=\"sos\")\n",
    "    filter_hp = sosfiltfilt(sos, signals)\n",
    "    return filter_hp"
   ]
  },
  {
   "cell_type": "code",
   "execution_count": 27,
   "metadata": {},
   "outputs": [],
   "source": [
    "# Powerline filter\n",
    "def notch_filter(signals, sampling_rate, notch_frequency = 50, quality_factor = 30):\n",
    "    w0 = notch_frequency/(sampling_rate/2)\n",
    "    b_notch, a_notch = iirnotch(w0, quality_factor)\n",
    "    filter_notch = filtfilt(b_notch, a_notch, signals, axis = -1)\n",
    "    return filter_notch"
   ]
  },
  {
   "cell_type": "code",
   "execution_count": 58,
   "metadata": {},
   "outputs": [],
   "source": [
    "# Create our own scaler\n",
    "class CustomTranformer(TransformerMixin, BaseEstimator): \n",
    "    # BaseEstimator generates the get_params() and set_params() methods that all Pipelines require\n",
    "    # TransformerMixin creates the fit_transform() method from fit() and transform()\n",
    "    \n",
    "    def __init__(self):\n",
    "        pass\n",
    "    \n",
    "    def fit(self, X, y=None):\n",
    "        self.means = X.mean()\n",
    "        return self\n",
    "    \n",
    "    def transform(self, X, y=None):\n",
    "        norm_features = X - self.means\n",
    "        return norm_features"
   ]
  },
  {
   "cell_type": "code",
   "execution_count": 29,
   "metadata": {},
   "outputs": [],
   "source": [
    "# Combination of all filters and Scaler\n",
    "def filter_signals(signals, sampling_rate, scaler, hp_frequency = 0.1, notch_frequency = 50, quality_factor = 30):\n",
    "    filter_hp = highpass_filter(signals, sampling_rate)\n",
    "    filter_notch = notch_filter(signals, sampling_rate, notch_frequency, quality_factor)\n",
    "    final_signal = scaler.fit_transform(filter_notch)\n",
    "    return final_signal"
   ]
  },
  {
   "cell_type": "markdown",
   "metadata": {},
   "source": [
    "# Functions to label"
   ]
  },
  {
   "cell_type": "code",
   "execution_count": 30,
   "metadata": {},
   "outputs": [],
   "source": [
    "# Format the EEG \n",
    "def eeg_formated(signals, names_ele):\n",
    "    data_signals = signals.T # transpose the signals from datapoints\n",
    "    data_signals = pd.DataFrame(data_signals) # create a pandas dataframe\n",
    "    \n",
    "    data_signals.columns = names_ele # rename columns\n",
    "    \n",
    "    return data_signals"
   ]
  },
  {
   "cell_type": "code",
   "execution_count": 31,
   "metadata": {},
   "outputs": [],
   "source": [
    "# Format the annotations\n",
    "def diagnosis(n):\n",
    "    patient_A=annt[\"annotat_new\"][0][n-1][0]\n",
    "    patient_B=annt[\"annotat_new\"][0][n-1][1]\n",
    "    patient_C=annt[\"annotat_new\"][0][n-1][2]\n",
    "    \n",
    "    #converting seconds to datapoints\n",
    "\n",
    "    patient_A=patient_A.tolist()\n",
    "    patient_B=patient_B.tolist()\n",
    "    patient_C=patient_C.tolist()\n",
    "    \n",
    "    patient_A_dtp=[]\n",
    "    patient_B_dtp=[]\n",
    "    patient_C_dtp=[]  \n",
    "    for elem in patient_A:\n",
    "        for i in range(sampling_rate):\n",
    "            patient_A_dtp.append(elem) \n",
    "    for elem in patient_B:\n",
    "        for i in range(sampling_rate):\n",
    "            patient_B_dtp.append(elem)\n",
    "        \n",
    "    for elem in patient_C:\n",
    "        for i in range(sampling_rate):\n",
    "            patient_C_dtp.append(elem)\n",
    "            \n",
    "    target_=pd.DataFrame({\"Diagnosis A\":patient_A_dtp,\"Diagnosis B\":patient_B_dtp,\"Diagnosis C\":patient_C_dtp})\n",
    "    \n",
    "    return target_  "
   ]
  },
  {
   "cell_type": "code",
   "execution_count": 32,
   "metadata": {},
   "outputs": [],
   "source": [
    "# Add a time column with the seconds\n",
    "def add_time(df):\n",
    "    list_time=[]\n",
    "    for i in range(len(df)):\n",
    "        list_time.append(i//sampling_rate)\n",
    "    df[\"time\"]=list_time\n",
    "    return df"
   ]
  },
  {
   "cell_type": "code",
   "execution_count": 33,
   "metadata": {},
   "outputs": [],
   "source": [
    "# Create target variables when seizures lasts at least 10\n",
    "def is_seizure(df):\n",
    "    \n",
    "    threshold = sampling_rate*10\n",
    "    \n",
    "    df['is_seizure_A'] = df[\"Diagnosis A\"].groupby((df[\"Diagnosis A\"] != df[\"Diagnosis A\"].shift()).cumsum()).transform('size') * df[\"Diagnosis A\"]\n",
    "    df['is_seizure_A'] = (df['is_seizure_A'] > threshold).astype(int)\n",
    "    \n",
    "    df['is_seizure_B'] = df[\"Diagnosis B\"].groupby((df[\"Diagnosis B\"] != df[\"Diagnosis B\"].shift()).cumsum()).transform('size') * df[\"Diagnosis B\"]\n",
    "    df['is_seizure_B'] = (df['is_seizure_B'] > threshold).astype(int)\n",
    "    \n",
    "    df['is_seizure_C'] = df[\"Diagnosis C\"].groupby((df[\"Diagnosis C\"] != df[\"Diagnosis C\"].shift()).cumsum()).transform('size') * df[\"Diagnosis C\"]\n",
    "    df['is_seizure_C'] = (df['is_seizure_C'] > threshold).astype(int)\n",
    "    \n",
    "    return df "
   ]
  },
  {
   "cell_type": "code",
   "execution_count": 34,
   "metadata": {},
   "outputs": [],
   "source": [
    "# Create final target\n",
    "def create_target(df):\n",
    "    df['is_seizure_target'] = np.where(df['is_seizure_A'] + df['is_seizure_B'] + df['is_seizure_C'] >= 2, 1, 0)\n",
    "    return df"
   ]
  },
  {
   "cell_type": "code",
   "execution_count": 35,
   "metadata": {},
   "outputs": [],
   "source": [
    "# Remove useless\n",
    "def remove_useless_columns(df):\n",
    "    df.drop(columns=['Diagnosis A', 'Diagnosis B', 'Diagnosis C', 'is_seizure_A', 'is_seizure_B', 'is_seizure_C', 'ECG EKG', 'Resp Effort', 'time'], inplace=True)\n",
    "    return df"
   ]
  },
  {
   "cell_type": "code",
   "execution_count": 52,
   "metadata": {},
   "outputs": [],
   "source": [
    "# Final function to label\n",
    "def label_data(path_raw_data, signals_preprocessed, n):\n",
    "    \n",
    "    signals, signal_headers, header = highlevel.read_edf(path_raw_data)\n",
    "    \n",
    "    names_ele = [signal_headers[iele]['label'] for iele in range(signals.shape[0])] # extract electrode names\n",
    "    \n",
    "    eeg_patient = eeg_formated(signals_preprocessed, names_ele) # format the ECG\n",
    "    eeg_patient.rename(columns={'ECG EKG-REF':'ECG EKG', 'Resp Effort-REF':'Resp Effort'}, inplace=True)\n",
    "    diagnosis_patient = diagnosis(n) # format the diagnosis\n",
    "    \n",
    "    data_patient = pd.merge(left=eeg_patient, right=diagnosis_patient, how='left', left_index=True, right_index=True) # merge ecg and diagnosis\n",
    "    \n",
    "    add_time(data_patient)\n",
    "    is_seizure(data_patient)\n",
    "    create_target(data_patient)\n",
    "    remove_useless_columns(data_patient)\n",
    "    \n",
    "    return data_patient"
   ]
  },
  {
   "cell_type": "markdown",
   "metadata": {},
   "source": [
    "# Final preprocessing & label"
   ]
  },
  {
   "cell_type": "code",
   "execution_count": 37,
   "metadata": {},
   "outputs": [
    {
     "data": {
      "text/html": [
       "<div>\n",
       "<style scoped>\n",
       "    .dataframe tbody tr th:only-of-type {\n",
       "        vertical-align: middle;\n",
       "    }\n",
       "\n",
       "    .dataframe tbody tr th {\n",
       "        vertical-align: top;\n",
       "    }\n",
       "\n",
       "    .dataframe thead th {\n",
       "        text-align: right;\n",
       "    }\n",
       "</style>\n",
       "<table border=\"1\" class=\"dataframe\">\n",
       "  <thead>\n",
       "    <tr style=\"text-align: right;\">\n",
       "      <th></th>\n",
       "      <th>EEG Fp1-Ref</th>\n",
       "      <th>EEG Fp2-Ref</th>\n",
       "      <th>EEG F3-Ref</th>\n",
       "      <th>EEG F4-Ref</th>\n",
       "      <th>EEG F7-Ref</th>\n",
       "      <th>EEG F8-Ref</th>\n",
       "      <th>EEG Fz-Ref</th>\n",
       "      <th>EEG C3-Ref</th>\n",
       "      <th>EEG C4-Ref</th>\n",
       "      <th>EEG Cz-Ref</th>\n",
       "      <th>EEG T3-Ref</th>\n",
       "      <th>EEG T5-Ref</th>\n",
       "      <th>EEG T4-Ref</th>\n",
       "      <th>EEG T6-Ref</th>\n",
       "      <th>EEG P3-Ref</th>\n",
       "      <th>EEG P4-Ref</th>\n",
       "      <th>EEG Pz-Ref</th>\n",
       "      <th>EEG O1-Ref</th>\n",
       "      <th>EEG O2-Ref</th>\n",
       "      <th>is_seizure_target</th>\n",
       "    </tr>\n",
       "  </thead>\n",
       "  <tbody>\n",
       "    <tr>\n",
       "      <th>0</th>\n",
       "      <td>-98.645167</td>\n",
       "      <td>-101.167312</td>\n",
       "      <td>-150.805429</td>\n",
       "      <td>-99.376346</td>\n",
       "      <td>-83.182367</td>\n",
       "      <td>-74.788670</td>\n",
       "      <td>20.013543</td>\n",
       "      <td>-143.138792</td>\n",
       "      <td>-87.463916</td>\n",
       "      <td>-77.354371</td>\n",
       "      <td>-139.180264</td>\n",
       "      <td>-9.668076</td>\n",
       "      <td>-84.621197</td>\n",
       "      <td>-61.668935</td>\n",
       "      <td>-7.265924</td>\n",
       "      <td>-127.848488</td>\n",
       "      <td>-58.116788</td>\n",
       "      <td>-140.756929</td>\n",
       "      <td>-126.694843</td>\n",
       "      <td>0</td>\n",
       "    </tr>\n",
       "    <tr>\n",
       "      <th>1</th>\n",
       "      <td>-98.821001</td>\n",
       "      <td>-101.178549</td>\n",
       "      <td>-152.318462</td>\n",
       "      <td>-100.563842</td>\n",
       "      <td>-81.687831</td>\n",
       "      <td>-76.560804</td>\n",
       "      <td>20.228367</td>\n",
       "      <td>-146.428835</td>\n",
       "      <td>-89.349899</td>\n",
       "      <td>-78.247286</td>\n",
       "      <td>-139.842162</td>\n",
       "      <td>-11.709217</td>\n",
       "      <td>-63.372738</td>\n",
       "      <td>-63.000002</td>\n",
       "      <td>-9.963888</td>\n",
       "      <td>-129.148470</td>\n",
       "      <td>-61.498554</td>\n",
       "      <td>-143.333635</td>\n",
       "      <td>-129.172922</td>\n",
       "      <td>0</td>\n",
       "    </tr>\n",
       "    <tr>\n",
       "      <th>2</th>\n",
       "      <td>-97.067707</td>\n",
       "      <td>-99.467840</td>\n",
       "      <td>-151.524433</td>\n",
       "      <td>-99.432681</td>\n",
       "      <td>-81.461237</td>\n",
       "      <td>-77.183123</td>\n",
       "      <td>19.782924</td>\n",
       "      <td>-145.092980</td>\n",
       "      <td>-88.052963</td>\n",
       "      <td>-77.638940</td>\n",
       "      <td>-157.247211</td>\n",
       "      <td>-12.517739</td>\n",
       "      <td>-78.761883</td>\n",
       "      <td>-61.846963</td>\n",
       "      <td>-11.261941</td>\n",
       "      <td>-127.605515</td>\n",
       "      <td>-61.651990</td>\n",
       "      <td>-142.162175</td>\n",
       "      <td>-126.797940</td>\n",
       "      <td>0</td>\n",
       "    </tr>\n",
       "    <tr>\n",
       "      <th>3</th>\n",
       "      <td>-98.678719</td>\n",
       "      <td>-101.018678</td>\n",
       "      <td>-153.656575</td>\n",
       "      <td>-102.018683</td>\n",
       "      <td>-83.169448</td>\n",
       "      <td>-79.906383</td>\n",
       "      <td>19.882898</td>\n",
       "      <td>-147.323366</td>\n",
       "      <td>-89.776689</td>\n",
       "      <td>-78.882967</td>\n",
       "      <td>-138.599045</td>\n",
       "      <td>-10.345296</td>\n",
       "      <td>-68.253342</td>\n",
       "      <td>-63.357444</td>\n",
       "      <td>-11.514185</td>\n",
       "      <td>-130.261691</td>\n",
       "      <td>-62.997133</td>\n",
       "      <td>-144.038379</td>\n",
       "      <td>-128.631423</td>\n",
       "      <td>0</td>\n",
       "    </tr>\n",
       "    <tr>\n",
       "      <th>4</th>\n",
       "      <td>-97.898545</td>\n",
       "      <td>-100.469111</td>\n",
       "      <td>-151.807918</td>\n",
       "      <td>-101.011273</td>\n",
       "      <td>-80.232267</td>\n",
       "      <td>-79.792650</td>\n",
       "      <td>19.633745</td>\n",
       "      <td>-145.928515</td>\n",
       "      <td>-88.713656</td>\n",
       "      <td>-77.980124</td>\n",
       "      <td>-144.491543</td>\n",
       "      <td>-10.629773</td>\n",
       "      <td>-71.803903</td>\n",
       "      <td>-64.094909</td>\n",
       "      <td>-12.265190</td>\n",
       "      <td>-128.846900</td>\n",
       "      <td>-63.588286</td>\n",
       "      <td>-142.847917</td>\n",
       "      <td>-128.002320</td>\n",
       "      <td>0</td>\n",
       "    </tr>\n",
       "  </tbody>\n",
       "</table>\n",
       "</div>"
      ],
      "text/plain": [
       "   EEG Fp1-Ref  EEG Fp2-Ref  EEG F3-Ref  EEG F4-Ref  EEG F7-Ref  EEG F8-Ref  \\\n",
       "0   -98.645167  -101.167312 -150.805429  -99.376346  -83.182367  -74.788670   \n",
       "1   -98.821001  -101.178549 -152.318462 -100.563842  -81.687831  -76.560804   \n",
       "2   -97.067707   -99.467840 -151.524433  -99.432681  -81.461237  -77.183123   \n",
       "3   -98.678719  -101.018678 -153.656575 -102.018683  -83.169448  -79.906383   \n",
       "4   -97.898545  -100.469111 -151.807918 -101.011273  -80.232267  -79.792650   \n",
       "\n",
       "   EEG Fz-Ref  EEG C3-Ref  EEG C4-Ref  EEG Cz-Ref  EEG T3-Ref  EEG T5-Ref  \\\n",
       "0   20.013543 -143.138792  -87.463916  -77.354371 -139.180264   -9.668076   \n",
       "1   20.228367 -146.428835  -89.349899  -78.247286 -139.842162  -11.709217   \n",
       "2   19.782924 -145.092980  -88.052963  -77.638940 -157.247211  -12.517739   \n",
       "3   19.882898 -147.323366  -89.776689  -78.882967 -138.599045  -10.345296   \n",
       "4   19.633745 -145.928515  -88.713656  -77.980124 -144.491543  -10.629773   \n",
       "\n",
       "   EEG T4-Ref  EEG T6-Ref  EEG P3-Ref  EEG P4-Ref  EEG Pz-Ref  EEG O1-Ref  \\\n",
       "0  -84.621197  -61.668935   -7.265924 -127.848488  -58.116788 -140.756929   \n",
       "1  -63.372738  -63.000002   -9.963888 -129.148470  -61.498554 -143.333635   \n",
       "2  -78.761883  -61.846963  -11.261941 -127.605515  -61.651990 -142.162175   \n",
       "3  -68.253342  -63.357444  -11.514185 -130.261691  -62.997133 -144.038379   \n",
       "4  -71.803903  -64.094909  -12.265190 -128.846900  -63.588286 -142.847917   \n",
       "\n",
       "   EEG O2-Ref  is_seizure_target  \n",
       "0 -126.694843                  0  \n",
       "1 -129.172922                  0  \n",
       "2 -126.797940                  0  \n",
       "3 -128.631423                  0  \n",
       "4 -128.002320                  0  "
      ]
     },
     "execution_count": 37,
     "metadata": {},
     "output_type": "execute_result"
    }
   ],
   "source": [
    "# Preprocessing\n",
    "signals_preprocessed = filter_signals(signals, sampling_rate, CustomTranformer(), hp_frequency = 0.1, notch_frequency = 50, quality_factor = 30)\n",
    "\n",
    "#  Label\n",
    "d_2 = label_data('../raw_data/eeg2.edf', signals_preprocessed, 2)\n",
    "\n",
    "d_2.head()"
   ]
  },
  {
   "cell_type": "code",
   "execution_count": 55,
   "metadata": {},
   "outputs": [],
   "source": [
    "# Exclude patients without seizures\n",
    "\n",
    "patients_numbers = list(range(1, 80))\n",
    "\n",
    "patient_with_issue = [4, 29, 50] # Can't import ECG4, ECG29 and ECG50\n",
    "patient_without_seizure = [3, 6, 10, 12, 18, 24, 26, 27, 28, 30, 32, 35, 37, 42, 43, 45, 46, 48, 49, 53, 55, 56, 57, 58, 59, 60, 61, 64, 65, 70, 72, 74]\n",
    "\n",
    "for i in patient_with_issue:\n",
    "    patients_numbers.remove(i)\n",
    "\n",
    "for i in patient_without_seizure:\n",
    "    patients_numbers.remove(i)"
   ]
  },
  {
   "cell_type": "code",
   "execution_count": 56,
   "metadata": {},
   "outputs": [],
   "source": [
    "# MinMaxScaler\n",
    "    \n",
    "for i in patients_numbers:\n",
    "    signals, signal_headers, header = highlevel.read_edf(f'../raw_data/eeg{i}.edf')\n",
    "    signals_preprocessed_i = filter_signals(signals, sampling_rate, MinMaxScaler(), hp_frequency = 0.1, notch_frequency = 50, quality_factor = 30)\n",
    "    d_i = label_data(f'../raw_data/eeg{i}.edf', signals_preprocessed_i, i)\n",
    "    d_i.to_csv(f'../data_modeling/MinMaxScaler/data_modeling_patient_{i}.csv')\n",
    "    "
   ]
  },
  {
   "cell_type": "code",
   "execution_count": null,
   "metadata": {},
   "outputs": [],
   "source": [
    "# CustomTransformer\n",
    "    \n",
    "for i in patients_numbers:\n",
    "    signals, signal_headers, header = highlevel.read_edf(f'../raw_data/eeg{i}.edf')\n",
    "    signals_preprocessed_i = filter_signals(signals, sampling_rate, CustomTranformer(), hp_frequency = 0.1, notch_frequency = 50, quality_factor = 30)\n",
    "    d_i = label_data(f'../raw_data/eeg{i}.edf', signals_preprocessed_i, i)\n",
    "    d_i.to_csv(f'../data_modeling/CustomTransformer/data_modeling_patient_{i}.csv')\n",
    "    "
   ]
  },
  {
   "cell_type": "markdown",
   "metadata": {},
   "source": [
    "# Label only patients with seizures"
   ]
  },
  {
   "cell_type": "code",
   "execution_count": 54,
   "metadata": {},
   "outputs": [],
   "source": [
    "for i in patients_numbers:\n",
    "    d_i = label_data(f'../raw_data/eeg{i}.edf', signals, i)\n",
    "    d_i.to_csv(f'../data_label/data_patient_{i}.csv')"
   ]
  }
 ],
 "metadata": {
  "kernelspec": {
   "display_name": "Python 3 (ipykernel)",
   "language": "python",
   "name": "python3"
  },
  "language_info": {
   "codemirror_mode": {
    "name": "ipython",
    "version": 3
   },
   "file_extension": ".py",
   "mimetype": "text/x-python",
   "name": "python",
   "nbconvert_exporter": "python",
   "pygments_lexer": "ipython3",
   "version": "3.10.6"
  },
  "toc": {
   "base_numbering": 1,
   "nav_menu": {},
   "number_sections": true,
   "sideBar": true,
   "skip_h1_title": false,
   "title_cell": "Table of Contents",
   "title_sidebar": "Contents",
   "toc_cell": false,
   "toc_position": {},
   "toc_section_display": true,
   "toc_window_display": false
  },
  "vscode": {
   "interpreter": {
    "hash": "084009d29c4d399de001dca73f2ca08397571f64c908180b8b68164c76b7845b"
   }
  }
 },
 "nbformat": 4,
 "nbformat_minor": 2
}
