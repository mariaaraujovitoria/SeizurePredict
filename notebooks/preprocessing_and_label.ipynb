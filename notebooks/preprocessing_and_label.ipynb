{
 "cells": [
  {
   "cell_type": "code",
   "execution_count": 7,
   "metadata": {},
   "outputs": [],
   "source": [
    "import scipy.io\n",
    "from pyedflib import highlevel\n",
    "import pandas as pd\n",
    "import matplotlib.pyplot as plt\n",
    "import seaborn as sns\n",
    "import numpy as np\n",
    "from itertools import groupby\n",
    "import csv\n",
    "import pickle\n",
    "from scipy.signal import butter, sosfilt, sosfiltfilt, sosfreqz\n",
    "from scipy.signal import freqz, iirnotch, filtfilt\n",
    "from sklearn.preprocessing import MinMaxScaler\n",
    "from sklearn.base import TransformerMixin, BaseEstimator"
   ]
  },
  {
   "cell_type": "markdown",
   "metadata": {
    "heading_collapsed": true
   },
   "source": [
    "# Variables and loading data"
   ]
  },
  {
   "cell_type": "code",
   "execution_count": 8,
   "metadata": {
    "hidden": true
   },
   "outputs": [],
   "source": [
    "sampling_rate = 256"
   ]
  },
  {
   "cell_type": "code",
   "execution_count": 9,
   "metadata": {
    "hidden": true
   },
   "outputs": [],
   "source": [
    "# Load annotation file\n",
    "annt = scipy.io.loadmat('../raw_data/annotations_2017.mat')"
   ]
  },
  {
   "cell_type": "code",
   "execution_count": 10,
   "metadata": {
    "hidden": true
   },
   "outputs": [],
   "source": [
    "# Load the data \n",
    "signals, signal_headers, header = highlevel.read_edf('../raw_data/eeg5.edf')"
   ]
  },
  {
   "cell_type": "markdown",
   "metadata": {
    "heading_collapsed": true
   },
   "source": [
    "# Functions to preprocess"
   ]
  },
  {
   "cell_type": "code",
   "execution_count": 11,
   "metadata": {
    "hidden": true
   },
   "outputs": [],
   "source": [
    "# Highpass filter\n",
    "def highpass_filter(signals, sampling_rate, hp_frequency = 0.1):\n",
    "    sos = butter(N = 3, Wn = hp_frequency, btype=\"highpass\",fs=sampling_rate, output=\"sos\")\n",
    "    filter_hp = sosfiltfilt(sos, signals)\n",
    "    return filter_hp"
   ]
  },
  {
   "cell_type": "code",
   "execution_count": 12,
   "metadata": {
    "hidden": true
   },
   "outputs": [],
   "source": [
    "# Powerline filter\n",
    "def notch_filter(signals, sampling_rate, notch_frequency = 50, quality_factor = 30):\n",
    "    w0 = notch_frequency/(sampling_rate/2)\n",
    "    b_notch, a_notch = iirnotch(w0, quality_factor)\n",
    "    filter_notch = filtfilt(b_notch, a_notch, signals, axis = -1)\n",
    "    return filter_notch"
   ]
  },
  {
   "cell_type": "code",
   "execution_count": 13,
   "metadata": {
    "hidden": true
   },
   "outputs": [],
   "source": [
    "# Create our own scaler\n",
    "class CustomTranformer(TransformerMixin, BaseEstimator): \n",
    "    # BaseEstimator generates the get_params() and set_params() methods that all Pipelines require\n",
    "    # TransformerMixin creates the fit_transform() method from fit() and transform()\n",
    "    \n",
    "    def __init__(self):\n",
    "        pass\n",
    "    \n",
    "    def fit(self, X, y=None):\n",
    "        self.means = X.mean()\n",
    "        return self\n",
    "    \n",
    "    def transform(self, X, y=None):\n",
    "        norm_features = X - self.means\n",
    "        return norm_features"
   ]
  },
  {
   "cell_type": "code",
   "execution_count": 14,
   "metadata": {
    "hidden": true
   },
   "outputs": [],
   "source": [
    "# Combination of all filters and MinMaxScaler\n",
    "def filter_signals(signals, sampling_rate, scaler, hp_frequency = 0.1, notch_frequency = 50, quality_factor = 30):\n",
    "    filter_hp = highpass_filter(signals, sampling_rate)\n",
    "    filter_notch = notch_filter(signals, sampling_rate, notch_frequency, quality_factor)\n",
    "    final_signal = scaler.fit_transform(filter_notch)\n",
    "    return final_signal"
   ]
  },
  {
   "cell_type": "markdown",
   "metadata": {
    "heading_collapsed": true
   },
   "source": [
    "# Functions to label"
   ]
  },
  {
   "cell_type": "code",
   "execution_count": 15,
   "metadata": {
    "hidden": true
   },
   "outputs": [],
   "source": [
    "# Format the EEG \n",
    "def eeg_formated(signals, names_ele):\n",
    "    data_signals = signals.T # transpose the signals from datapoints\n",
    "    data_signals = pd.DataFrame(data_signals) # create a pandas dataframe\n",
    "    \n",
    "    data_signals.columns = names_ele # rename columns\n",
    "    \n",
    "    return data_signals"
   ]
  },
  {
   "cell_type": "code",
   "execution_count": 16,
   "metadata": {
    "hidden": true
   },
   "outputs": [],
   "source": [
    "# Format the annotations\n",
    "def diagnosis(n):\n",
    "    patient_A=annt[\"annotat_new\"][0][n-1][0]\n",
    "    patient_B=annt[\"annotat_new\"][0][n-1][1]\n",
    "    patient_C=annt[\"annotat_new\"][0][n-1][2]\n",
    "    \n",
    "    #converting seconds to datapoints\n",
    "\n",
    "    patient_A=patient_A.tolist()\n",
    "    patient_B=patient_B.tolist()\n",
    "    patient_C=patient_C.tolist()\n",
    "    \n",
    "    patient_A_dtp=[]\n",
    "    patient_B_dtp=[]\n",
    "    patient_C_dtp=[]  \n",
    "    for elem in patient_A:\n",
    "        for i in range(sampling_rate):\n",
    "            patient_A_dtp.append(elem) \n",
    "    for elem in patient_B:\n",
    "        for i in range(sampling_rate):\n",
    "            patient_B_dtp.append(elem)\n",
    "        \n",
    "    for elem in patient_C:\n",
    "        for i in range(sampling_rate):\n",
    "            patient_C_dtp.append(elem)\n",
    "            \n",
    "    target_=pd.DataFrame({\"Diagnosis A\":patient_A_dtp,\"Diagnosis B\":patient_B_dtp,\"Diagnosis C\":patient_C_dtp})\n",
    "    \n",
    "    return target_  "
   ]
  },
  {
   "cell_type": "code",
   "execution_count": 17,
   "metadata": {
    "hidden": true
   },
   "outputs": [],
   "source": [
    "# Add a time column with the seconds\n",
    "def add_time(df):\n",
    "    list_time=[]\n",
    "    for i in range(len(df)):\n",
    "        list_time.append(i//sampling_rate)\n",
    "    df[\"time\"]=list_time\n",
    "    return df"
   ]
  },
  {
   "cell_type": "code",
   "execution_count": 18,
   "metadata": {
    "hidden": true
   },
   "outputs": [],
   "source": [
    "# Create target variables when seizures lasts at least 10\n",
    "def is_seizure(df):\n",
    "    \n",
    "    threshold = sampling_rate*10\n",
    "    \n",
    "    df['is_seizure_A'] = df[\"Diagnosis A\"].groupby((df[\"Diagnosis A\"] != df[\"Diagnosis A\"].shift()).cumsum()).transform('size') * df[\"Diagnosis A\"]\n",
    "    df['is_seizure_A'] = (df['is_seizure_A'] > threshold).astype(int)\n",
    "    \n",
    "    df['is_seizure_B'] = df[\"Diagnosis B\"].groupby((df[\"Diagnosis B\"] != df[\"Diagnosis B\"].shift()).cumsum()).transform('size') * df[\"Diagnosis B\"]\n",
    "    df['is_seizure_B'] = (df['is_seizure_B'] > threshold).astype(int)\n",
    "    \n",
    "    df['is_seizure_C'] = df[\"Diagnosis C\"].groupby((df[\"Diagnosis C\"] != df[\"Diagnosis C\"].shift()).cumsum()).transform('size') * df[\"Diagnosis C\"]\n",
    "    df['is_seizure_C'] = (df['is_seizure_C'] > threshold).astype(int)\n",
    "    \n",
    "    return df "
   ]
  },
  {
   "cell_type": "code",
   "execution_count": 19,
   "metadata": {
    "hidden": true
   },
   "outputs": [],
   "source": [
    "# Create final target\n",
    "def create_target(df):\n",
    "    df['is_seizure_target'] = np.where(df['is_seizure_A'] + df['is_seizure_B'] + df['is_seizure_C'] >= 2, 1, 0)\n",
    "    return df"
   ]
  },
  {
   "cell_type": "code",
   "execution_count": 25,
   "metadata": {
    "hidden": true
   },
   "outputs": [],
   "source": [
    "# Remove useless\n",
    "def remove_useless_columns(df):\n",
    "    df.drop(columns=['Diagnosis A', 'Diagnosis B', 'Diagnosis C', 'is_seizure_A', 'is_seizure_B', 'is_seizure_C', 'ECG EKG', 'Resp Effort', 'time'], inplace=True)\n",
    "    return df"
   ]
  },
  {
   "cell_type": "code",
   "execution_count": 26,
   "metadata": {
    "hidden": true
   },
   "outputs": [],
   "source": [
    "# Final function to label\n",
    "def label_data(path_raw_data, signals_preprocessed, n):\n",
    "    \n",
    "    signals, signal_headers, header = highlevel.read_edf(path_raw_data)\n",
    "    \n",
    "    names_ele = [signal_headers[iele]['label'] for iele in range(signals.shape[0])] # extract electrode names\n",
    "    \n",
    "    eeg_patient = eeg_formated(signals_preprocessed, names_ele) # format the ECG\n",
    "    diagnosis_patient = diagnosis(n) # format the diagnosis\n",
    "    \n",
    "    data_patient = pd.merge(left=eeg_patient, right=diagnosis_patient, how='left', left_index=True, right_index=True) # merge ecg and diagnosis\n",
    "    \n",
    "    add_time(data_patient)\n",
    "    is_seizure(data_patient)\n",
    "    create_target(data_patient)\n",
    "    remove_useless_columns(data_patient)\n",
    "    \n",
    "    return data_patient"
   ]
  },
  {
   "cell_type": "markdown",
   "metadata": {},
   "source": [
    "# Final preprocessing & label"
   ]
  },
  {
   "cell_type": "code",
   "execution_count": 31,
   "metadata": {},
   "outputs": [],
   "source": [
    "signals_preprocessed = filter_signals(signals, sampling_rate, CustomTranformer(), hp_frequency = 0.1, notch_frequency = 50, quality_factor = 30)"
   ]
  },
  {
   "cell_type": "code",
   "execution_count": 32,
   "metadata": {},
   "outputs": [
    {
     "data": {
      "text/html": [
       "<div>\n",
       "<style scoped>\n",
       "    .dataframe tbody tr th:only-of-type {\n",
       "        vertical-align: middle;\n",
       "    }\n",
       "\n",
       "    .dataframe tbody tr th {\n",
       "        vertical-align: top;\n",
       "    }\n",
       "\n",
       "    .dataframe thead th {\n",
       "        text-align: right;\n",
       "    }\n",
       "</style>\n",
       "<table border=\"1\" class=\"dataframe\">\n",
       "  <thead>\n",
       "    <tr style=\"text-align: right;\">\n",
       "      <th></th>\n",
       "      <th>EEG Fp1-Ref</th>\n",
       "      <th>EEG Fp2-Ref</th>\n",
       "      <th>EEG F7-Ref</th>\n",
       "      <th>EEG F3-Ref</th>\n",
       "      <th>EEG Fz-Ref</th>\n",
       "      <th>EEG F4-Ref</th>\n",
       "      <th>EEG F8-Ref</th>\n",
       "      <th>EEG T3-Ref</th>\n",
       "      <th>EEG C3-Ref</th>\n",
       "      <th>EEG Cz-Ref</th>\n",
       "      <th>EEG C4-Ref</th>\n",
       "      <th>EEG T4-Ref</th>\n",
       "      <th>EEG T5-Ref</th>\n",
       "      <th>EEG P3-Ref</th>\n",
       "      <th>EEG Pz-Ref</th>\n",
       "      <th>EEG P4-Ref</th>\n",
       "      <th>EEG T6-Ref</th>\n",
       "      <th>EEG O1-Ref</th>\n",
       "      <th>EEG O2-Ref</th>\n",
       "      <th>is_seizure_target</th>\n",
       "    </tr>\n",
       "  </thead>\n",
       "  <tbody>\n",
       "    <tr>\n",
       "      <th>0</th>\n",
       "      <td>-1.419105</td>\n",
       "      <td>17.866398</td>\n",
       "      <td>26.912596</td>\n",
       "      <td>13.849781</td>\n",
       "      <td>0.334560</td>\n",
       "      <td>-8.870927</td>\n",
       "      <td>20.188353</td>\n",
       "      <td>8.470444</td>\n",
       "      <td>-16.098475</td>\n",
       "      <td>10.602408</td>\n",
       "      <td>20.922618</td>\n",
       "      <td>22.936879</td>\n",
       "      <td>-4.219819</td>\n",
       "      <td>-8.557335</td>\n",
       "      <td>-7.741930</td>\n",
       "      <td>16.791965</td>\n",
       "      <td>15.138854</td>\n",
       "      <td>-16.910205</td>\n",
       "      <td>-9.048158</td>\n",
       "      <td>1</td>\n",
       "    </tr>\n",
       "    <tr>\n",
       "      <th>1</th>\n",
       "      <td>-3.318200</td>\n",
       "      <td>41.790181</td>\n",
       "      <td>53.524897</td>\n",
       "      <td>22.539651</td>\n",
       "      <td>0.112400</td>\n",
       "      <td>-16.763359</td>\n",
       "      <td>39.730104</td>\n",
       "      <td>20.065797</td>\n",
       "      <td>-32.113944</td>\n",
       "      <td>19.723380</td>\n",
       "      <td>41.087818</td>\n",
       "      <td>46.729833</td>\n",
       "      <td>-7.158927</td>\n",
       "      <td>-15.070688</td>\n",
       "      <td>-13.714219</td>\n",
       "      <td>33.680687</td>\n",
       "      <td>30.321825</td>\n",
       "      <td>-30.656286</td>\n",
       "      <td>-15.350078</td>\n",
       "      <td>1</td>\n",
       "    </tr>\n",
       "    <tr>\n",
       "      <th>2</th>\n",
       "      <td>-8.260964</td>\n",
       "      <td>42.491697</td>\n",
       "      <td>48.742226</td>\n",
       "      <td>10.640972</td>\n",
       "      <td>-1.428029</td>\n",
       "      <td>-11.712904</td>\n",
       "      <td>37.064375</td>\n",
       "      <td>18.978916</td>\n",
       "      <td>-29.206768</td>\n",
       "      <td>17.656212</td>\n",
       "      <td>38.100061</td>\n",
       "      <td>43.876514</td>\n",
       "      <td>-5.428389</td>\n",
       "      <td>-14.246795</td>\n",
       "      <td>-12.121809</td>\n",
       "      <td>33.083871</td>\n",
       "      <td>29.851972</td>\n",
       "      <td>-25.687254</td>\n",
       "      <td>-10.224155</td>\n",
       "      <td>1</td>\n",
       "    </tr>\n",
       "    <tr>\n",
       "      <th>3</th>\n",
       "      <td>-3.282774</td>\n",
       "      <td>35.593190</td>\n",
       "      <td>52.041205</td>\n",
       "      <td>19.698493</td>\n",
       "      <td>-1.821554</td>\n",
       "      <td>-12.847160</td>\n",
       "      <td>40.719617</td>\n",
       "      <td>19.530675</td>\n",
       "      <td>-32.696911</td>\n",
       "      <td>18.755420</td>\n",
       "      <td>41.574157</td>\n",
       "      <td>48.381576</td>\n",
       "      <td>-6.566801</td>\n",
       "      <td>-14.805329</td>\n",
       "      <td>-12.654931</td>\n",
       "      <td>35.169712</td>\n",
       "      <td>32.560589</td>\n",
       "      <td>-28.299376</td>\n",
       "      <td>-11.631809</td>\n",
       "      <td>1</td>\n",
       "    </tr>\n",
       "    <tr>\n",
       "      <th>4</th>\n",
       "      <td>3.505180</td>\n",
       "      <td>32.131439</td>\n",
       "      <td>50.848944</td>\n",
       "      <td>19.133736</td>\n",
       "      <td>-2.570428</td>\n",
       "      <td>-13.868957</td>\n",
       "      <td>37.644640</td>\n",
       "      <td>10.022557</td>\n",
       "      <td>-31.576933</td>\n",
       "      <td>18.048527</td>\n",
       "      <td>39.006783</td>\n",
       "      <td>47.168211</td>\n",
       "      <td>-9.262223</td>\n",
       "      <td>-14.579787</td>\n",
       "      <td>-12.167261</td>\n",
       "      <td>34.712738</td>\n",
       "      <td>31.528349</td>\n",
       "      <td>-28.511808</td>\n",
       "      <td>-12.419453</td>\n",
       "      <td>1</td>\n",
       "    </tr>\n",
       "  </tbody>\n",
       "</table>\n",
       "</div>"
      ],
      "text/plain": [
       "   EEG Fp1-Ref  EEG Fp2-Ref  EEG F7-Ref  EEG F3-Ref  EEG Fz-Ref  EEG F4-Ref  \\\n",
       "0    -1.419105    17.866398   26.912596   13.849781    0.334560   -8.870927   \n",
       "1    -3.318200    41.790181   53.524897   22.539651    0.112400  -16.763359   \n",
       "2    -8.260964    42.491697   48.742226   10.640972   -1.428029  -11.712904   \n",
       "3    -3.282774    35.593190   52.041205   19.698493   -1.821554  -12.847160   \n",
       "4     3.505180    32.131439   50.848944   19.133736   -2.570428  -13.868957   \n",
       "\n",
       "   EEG F8-Ref  EEG T3-Ref  EEG C3-Ref  EEG Cz-Ref  EEG C4-Ref  EEG T4-Ref  \\\n",
       "0   20.188353    8.470444  -16.098475   10.602408   20.922618   22.936879   \n",
       "1   39.730104   20.065797  -32.113944   19.723380   41.087818   46.729833   \n",
       "2   37.064375   18.978916  -29.206768   17.656212   38.100061   43.876514   \n",
       "3   40.719617   19.530675  -32.696911   18.755420   41.574157   48.381576   \n",
       "4   37.644640   10.022557  -31.576933   18.048527   39.006783   47.168211   \n",
       "\n",
       "   EEG T5-Ref  EEG P3-Ref  EEG Pz-Ref  EEG P4-Ref  EEG T6-Ref  EEG O1-Ref  \\\n",
       "0   -4.219819   -8.557335   -7.741930   16.791965   15.138854  -16.910205   \n",
       "1   -7.158927  -15.070688  -13.714219   33.680687   30.321825  -30.656286   \n",
       "2   -5.428389  -14.246795  -12.121809   33.083871   29.851972  -25.687254   \n",
       "3   -6.566801  -14.805329  -12.654931   35.169712   32.560589  -28.299376   \n",
       "4   -9.262223  -14.579787  -12.167261   34.712738   31.528349  -28.511808   \n",
       "\n",
       "   EEG O2-Ref  is_seizure_target  \n",
       "0   -9.048158                  1  \n",
       "1  -15.350078                  1  \n",
       "2  -10.224155                  1  \n",
       "3  -11.631809                  1  \n",
       "4  -12.419453                  1  "
      ]
     },
     "execution_count": 32,
     "metadata": {},
     "output_type": "execute_result"
    }
   ],
   "source": [
    "# Preprocessing\n",
    "signals_preprocessed = filter_signals(signals, sampling_rate, CustomTranformer(), hp_frequency = 0.1, notch_frequency = 50, quality_factor = 30)\n",
    "\n",
    "#  Label\n",
    "d_5 = label_data('../raw_data/eeg5.edf', signals_preprocessed, 5)\n",
    "\n",
    "d_5.head()"
   ]
  },
  {
   "cell_type": "code",
   "execution_count": 30,
   "metadata": {},
   "outputs": [],
   "source": [
    "#d_5.to_csv('../data_modeling/data_modeling_patient_5.csv')"
   ]
  }
 ],
 "metadata": {
  "kernelspec": {
   "display_name": "Python 3 (ipykernel)",
   "language": "python",
   "name": "python3"
  },
  "language_info": {
   "codemirror_mode": {
    "name": "ipython",
    "version": 3
   },
   "file_extension": ".py",
   "mimetype": "text/x-python",
   "name": "python",
   "nbconvert_exporter": "python",
   "pygments_lexer": "ipython3",
   "version": "3.10.6"
  },
  "toc": {
   "base_numbering": 1,
   "nav_menu": {},
   "number_sections": true,
   "sideBar": true,
   "skip_h1_title": false,
   "title_cell": "Table of Contents",
   "title_sidebar": "Contents",
   "toc_cell": false,
   "toc_position": {},
   "toc_section_display": true,
   "toc_window_display": false
  },
  "vscode": {
   "interpreter": {
    "hash": "084009d29c4d399de001dca73f2ca08397571f64c908180b8b68164c76b7845b"
   }
  }
 },
 "nbformat": 4,
 "nbformat_minor": 2
}
