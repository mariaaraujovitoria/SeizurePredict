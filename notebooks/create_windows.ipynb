{
 "cells": [
  {
   "cell_type": "markdown",
   "id": "de1a882a",
   "metadata": {},
   "source": [
    "## Import"
   ]
  },
  {
   "cell_type": "code",
   "execution_count": 45,
   "id": "405582b4",
   "metadata": {},
   "outputs": [],
   "source": [
    "import pandas as pd\n",
    "import numpy as np\n",
    "import matplotlib.pyplot as plt\n",
    "import seaborn as sns\n",
    "from pyedflib import highlevel\n",
    "from scipy.io import loadmat\n",
    "from scipy.signal import butter, sosfilt, sosfiltfilt, sosfreqz\n",
    "from scipy.signal import freqz, iirnotch, filtfilt\n",
    "from sklearn.preprocessing import MinMaxScaler\n",
    "from sklearn.dummy import DummyClassifier\n",
    "from scipy.fftpack import fft, fftfreq, rfft, rfftfreq\n",
    "from imblearn.over_sampling import SMOTE\n",
    "from scipy.signal import resample"
   ]
  },
  {
   "cell_type": "code",
   "execution_count": 2,
   "id": "ba2c3c93",
   "metadata": {},
   "outputs": [],
   "source": [
    "from sklearn.base import TransformerMixin, BaseEstimator\n",
    "\n",
    "class CustomTranformer(TransformerMixin, BaseEstimator): \n",
    "    # BaseEstimator generates the get_params() and set_params() methods that all Pipelines require\n",
    "    # TransformerMixin creates the fit_transform() method from fit() and transform()\n",
    "    \n",
    "    def __init__(self):\n",
    "        pass\n",
    "    \n",
    "    def fit(self, X, y=None):\n",
    "        self.means = X.mean()\n",
    "        return self\n",
    "    \n",
    "    def transform(self, X, y=None):\n",
    "        norm_features = X - self.means\n",
    "        return norm_features"
   ]
  },
  {
   "cell_type": "markdown",
   "id": "bea8462e",
   "metadata": {},
   "source": [
    "### Read edf files"
   ]
  },
  {
   "cell_type": "code",
   "execution_count": 3,
   "id": "6b1dde8e",
   "metadata": {},
   "outputs": [],
   "source": [
    "# dict_signals = {}\n",
    "# dict_signals_headers = {}\n",
    "# files_list = list(range(1,60))\n",
    "# files_list.remove(4)\n",
    "# files_list.remove(29)\n",
    "# for i in files_list:\n",
    "#     signals, signal_headers, header = highlevel.read_edf(f'/home/lee/code/mariaaraujovitoria/SeizurePredict/raw_data/eeg{str(i)}.edf')\n",
    "#     dict_signals[f\"eeg{str(i)}\"] = signals\n",
    "#     dict_signals_headers[f\"eeg{str(i)}\"] = signal_headers"
   ]
  },
  {
   "cell_type": "markdown",
   "id": "54d18b8f",
   "metadata": {},
   "source": [
    "## variables"
   ]
  },
  {
   "cell_type": "code",
   "execution_count": 19,
   "id": "bdae1fde",
   "metadata": {},
   "outputs": [],
   "source": [
    "n = 5\n",
    "sample_rate = 256\n",
    "path_annt = '../raw_data/annotations_2017.mat'\n",
    "path_eeg = f'../raw_data/eeg{n}.edf'\n",
    "sec = 10\n",
    "len_window = sample_rate*sec\n",
    "scaler = CustomTranformer()"
   ]
  },
  {
   "cell_type": "markdown",
   "id": "7e121b0c",
   "metadata": {},
   "source": [
    "## Functions"
   ]
  },
  {
   "cell_type": "code",
   "execution_count": 20,
   "id": "fc7a938f",
   "metadata": {},
   "outputs": [],
   "source": [
    "# Load the data \n",
    "signals, signal_headers, header = highlevel.read_edf(path_eeg)\n",
    "names_ele = [signal_headers[iele]['label'] for iele in range(signals.shape[0])]\n",
    "\n",
    "# Highpass filter\n",
    "def highpass_filter(signals, sample_rate=256, hp_frequency = 0.1):\n",
    "    sos = butter(N = 3, Wn = hp_frequency, btype=\"highpass\",fs=sample_rate, output=\"sos\")\n",
    "    filter_hp = sosfiltfilt(sos, signals)\n",
    "    return filter_hp\n",
    "\n",
    "# Powerline filter\n",
    "def notch_filter(signals, sampling_rate, notch_frequency = 50, quality_factor = 30):\n",
    "    w0 = notch_frequency/(sampling_rate/2)\n",
    "    b_notch, a_notch = iirnotch(w0, quality_factor)\n",
    "    filter_notch = filtfilt(b_notch, a_notch, signals, axis = -1)\n",
    "    return filter_notch\n",
    "\n",
    "# fourier transform\n",
    "def fourier_transform(signals, sampling_rate=256):\n",
    "    if np.ndim(signals) == 1:\n",
    "        y = abs(rfft(signals))\n",
    "        N = len(signals)\n",
    "    else:\n",
    "        y = np.array([abs(rfft(signals[i])) for i in range(len(signals))])\n",
    "        N = len(signals[0])\n",
    "    xf = fftfreq(N, 1 / sampling_rate)\n",
    "    return (xf,y)"
   ]
  },
  {
   "cell_type": "code",
   "execution_count": 24,
   "id": "f4feb589",
   "metadata": {},
   "outputs": [],
   "source": [
    "# Combination of all filters and Scaler\n",
    "def filter_signals(signals, scaler, sample_rate=256, hp_frequency = 0.1, notch_frequency = 50, quality_factor = 30):\n",
    "    filter_hp = highpass_filter(signals, sample_rate)\n",
    "    filter_notch = notch_filter(signals, sample_rate, notch_frequency, quality_factor)\n",
    "    final_signal = scaler.fit_transform(filter_notch)\n",
    "    return final_signal"
   ]
  },
  {
   "cell_type": "code",
   "execution_count": 25,
   "id": "e1088fa8",
   "metadata": {},
   "outputs": [],
   "source": [
    "# Combination of all filters and fft (power domain)\n",
    "def filter_fourier(signals, scaler, sample_rate=256, hp_frequency = 0.1, notch_frequency = 50, quality_factor = 30):\n",
    "        filtered = filter_signals(signals, scaler, sample_rate, hp_frequency, notch_frequency, quality_factor)\n",
    "        xf,y = fourier_transform(filtered, sample_rate)\n",
    "        return y"
   ]
  },
  {
   "cell_type": "code",
   "execution_count": 26,
   "id": "d7c97d59",
   "metadata": {},
   "outputs": [],
   "source": [
    "# Create target based on samples\n",
    "def create_target(path_annt, n, sample_rate = 256):\n",
    "    annt = loadmat(path_annt)\n",
    "    target = annt['annotat_new'][0][n-1].sum(axis=0)\n",
    "    target[target == 1] = 0\n",
    "    target[target > 1] =1\n",
    "    sample_target = []\n",
    "    for num in target:\n",
    "        for i in range(sample_rate):\n",
    "            sample_target.append(num)\n",
    "    return sample_target"
   ]
  },
  {
   "cell_type": "code",
   "execution_count": 27,
   "id": "32065470",
   "metadata": {},
   "outputs": [],
   "source": [
    "def concat_target(filtered_signals, target, names_ele):\n",
    "    signals = filtered_signals.T\n",
    "    signals_df = pd.DataFrame(signals,columns=names_ele)\n",
    "    signals_df[\"target\"]=target\n",
    "    if (not 'Resp Effort' in signals_df.columns) and (not 'ECG EKG' in signals_df.columns):\n",
    "        signals_df.rename(columns = {'ECG EKG-REF':'ECG EKG','Resp Effort-REF':'Resp Effort'}, inplace=True)\n",
    "    signals_df.drop(columns=['Resp Effort', 'ECG EKG'], inplace=True)\n",
    "    return signals_df"
   ]
  },
  {
   "cell_type": "code",
   "execution_count": 40,
   "id": "30edaa4e",
   "metadata": {},
   "outputs": [],
   "source": [
    "threshold = 2*sample_rate"
   ]
  },
  {
   "cell_type": "code",
   "execution_count": 38,
   "id": "641aca91",
   "metadata": {},
   "outputs": [],
   "source": [
    "def flatten_window(window_df):\n",
    "    if len(np.unique(window_df.iloc[:,-1])) == 1:\n",
    "        target = window_df.iloc[0,-1]\n",
    "    elif np.unique(window_df.iloc[:,-1],return_counts=True)[1][1] >= threshold:\n",
    "        target = 1\n",
    "    else:\n",
    "        target = 0\n",
    "    t_df = window_df.drop(columns = \"target\").transpose()\n",
    "    flatten = pd.DataFrame(np.array(t_df).reshape(1,t_df.shape[0]*t_df.shape[1]))\n",
    "    flatten[\"Target\"] = target\n",
    "    return flatten"
   ]
  },
  {
   "cell_type": "code",
   "execution_count": null,
   "id": "20b55c02",
   "metadata": {},
   "outputs": [],
   "source": [
    "df = np.array([flatten_window(signals_df.iloc[i:i+len_window+1]) for i in range(0,len(signals_df)-len_window, 5*256)])\n",
    "\n",
    "r=df.shape[0]\n",
    "c=df.shape[2]\n",
    "\n",
    "df = pd.DataFrame(df.reshape(r,c))"
   ]
  },
  {
   "cell_type": "markdown",
   "id": "e4a00767",
   "metadata": {},
   "source": [
    "## Oversampling"
   ]
  },
  {
   "cell_type": "code",
   "execution_count": 21,
   "id": "e0ec19e4",
   "metadata": {},
   "outputs": [
    {
     "ename": "NameError",
     "evalue": "name 'X_train' is not defined",
     "output_type": "error",
     "traceback": [
      "\u001b[0;31m---------------------------------------------------------------------------\u001b[0m",
      "\u001b[0;31mNameError\u001b[0m                                 Traceback (most recent call last)",
      "Cell \u001b[0;32mIn [21], line 5\u001b[0m\n\u001b[1;32m      2\u001b[0m sm \u001b[38;5;241m=\u001b[39m SMOTE(sampling_strategy\u001b[38;5;241m=\u001b[39m\u001b[38;5;124m'\u001b[39m\u001b[38;5;124mminority\u001b[39m\u001b[38;5;124m'\u001b[39m, random_state\u001b[38;5;241m=\u001b[39m\u001b[38;5;241m7\u001b[39m)\n\u001b[1;32m      4\u001b[0m \u001b[38;5;66;03m# Fit the model to generate the data.\u001b[39;00m\n\u001b[0;32m----> 5\u001b[0m oversampled_trainX, oversampled_trainY \u001b[38;5;241m=\u001b[39m sm\u001b[38;5;241m.\u001b[39mfit_resample(\u001b[43mX_train\u001b[49m, y_train)\n\u001b[1;32m      6\u001b[0m oversampled_train \u001b[38;5;241m=\u001b[39m pd\u001b[38;5;241m.\u001b[39mconcat([pd\u001b[38;5;241m.\u001b[39mDataFrame(oversampled_trainY), pd\u001b[38;5;241m.\u001b[39mDataFrame(oversampled_trainX)], axis\u001b[38;5;241m=\u001b[39m\u001b[38;5;241m1\u001b[39m)\n\u001b[1;32m      7\u001b[0m oversampled_train\u001b[38;5;241m.\u001b[39mcolumns \u001b[38;5;241m=\u001b[39m df\u001b[38;5;241m.\u001b[39mcolumns\n",
      "\u001b[0;31mNameError\u001b[0m: name 'X_train' is not defined"
     ]
    }
   ],
   "source": [
    "# Resample the minority class. You can change the strategy to 'auto' if you are not sure.\n",
    "sm = SMOTE(sampling_strategy='minority', random_state=7)\n",
    "\n",
    "# Fit the model to generate the data.\n",
    "oversampled_trainX, oversampled_trainY = sm.fit_resample(X_train, y_train)\n",
    "oversampled_train = pd.concat([pd.DataFrame(oversampled_trainY), pd.DataFrame(oversampled_trainX)], axis=1)\n",
    "oversampled_train.columns = df.columns"
   ]
  },
  {
   "cell_type": "markdown",
   "id": "899b1821",
   "metadata": {},
   "source": [
    "## create data"
   ]
  },
  {
   "cell_type": "code",
   "execution_count": 14,
   "id": "52f43f67",
   "metadata": {},
   "outputs": [
    {
     "data": {
      "text/plain": [
       "[1,\n",
       " 2,\n",
       " 3,\n",
       " 5,\n",
       " 6,\n",
       " 7,\n",
       " 8,\n",
       " 9,\n",
       " 10,\n",
       " 11,\n",
       " 12,\n",
       " 13,\n",
       " 14,\n",
       " 15,\n",
       " 16,\n",
       " 17,\n",
       " 18,\n",
       " 19,\n",
       " 20,\n",
       " 21,\n",
       " 22,\n",
       " 23,\n",
       " 24,\n",
       " 25,\n",
       " 26,\n",
       " 27,\n",
       " 28,\n",
       " 30,\n",
       " 31,\n",
       " 32,\n",
       " 33,\n",
       " 34,\n",
       " 35,\n",
       " 36,\n",
       " 37,\n",
       " 38,\n",
       " 39,\n",
       " 40,\n",
       " 41,\n",
       " 42,\n",
       " 43,\n",
       " 44,\n",
       " 45,\n",
       " 46,\n",
       " 47,\n",
       " 48,\n",
       " 49,\n",
       " 51,\n",
       " 52,\n",
       " 53,\n",
       " 54,\n",
       " 55,\n",
       " 56,\n",
       " 57,\n",
       " 58,\n",
       " 59,\n",
       " 60,\n",
       " 61,\n",
       " 62,\n",
       " 63,\n",
       " 64,\n",
       " 65,\n",
       " 66,\n",
       " 67,\n",
       " 68,\n",
       " 69,\n",
       " 70,\n",
       " 71,\n",
       " 72,\n",
       " 73,\n",
       " 74,\n",
       " 75,\n",
       " 76,\n",
       " 77,\n",
       " 78,\n",
       " 79]"
      ]
     },
     "execution_count": 14,
     "metadata": {},
     "output_type": "execute_result"
    }
   ],
   "source": [
    "num = list(np.arange(1,80))\n",
    "num.remove(4)\n",
    "num.remove(29)\n",
    "num.remove(50)\n",
    "# num.remove(9)\n",
    "num"
   ]
  },
  {
   "cell_type": "code",
   "execution_count": 17,
   "id": "77478a5d",
   "metadata": {},
   "outputs": [
    {
     "name": "stdout",
     "output_type": "stream",
     "text": [
      "1\n",
      "2\n",
      "3\n",
      "5\n",
      "6\n"
     ]
    },
    {
     "ename": "KeyboardInterrupt",
     "evalue": "",
     "output_type": "error",
     "traceback": [
      "\u001b[0;31m---------------------------------------------------------------------------\u001b[0m",
      "\u001b[0;31mKeyboardInterrupt\u001b[0m                         Traceback (most recent call last)",
      "Cell \u001b[0;32mIn [17], line 15\u001b[0m\n\u001b[1;32m     13\u001b[0m \u001b[38;5;66;03m#     df = pd.DataFrame(df.reshape(r,c))\u001b[39;00m\n\u001b[1;32m     14\u001b[0m     \u001b[38;5;28;01mwith\u001b[39;00m \u001b[38;5;28mopen\u001b[39m(\u001b[38;5;124m'\u001b[39m\u001b[38;5;124mdf.csv\u001b[39m\u001b[38;5;124m'\u001b[39m, \u001b[38;5;124m'\u001b[39m\u001b[38;5;124ma\u001b[39m\u001b[38;5;124m'\u001b[39m) \u001b[38;5;28;01mas\u001b[39;00m file:\n\u001b[0;32m---> 15\u001b[0m         \u001b[43mnp\u001b[49m\u001b[38;5;241;43m.\u001b[39;49m\u001b[43msavetxt\u001b[49m\u001b[43m(\u001b[49m\u001b[43mfile\u001b[49m\u001b[43m,\u001b[49m\u001b[43m \u001b[49m\u001b[43mdf\u001b[49m\u001b[43m,\u001b[49m\u001b[43m \u001b[49m\u001b[43mdelimiter\u001b[49m\u001b[38;5;241;43m=\u001b[39;49m\u001b[38;5;124;43m\"\u001b[39;49m\u001b[38;5;124;43m,\u001b[39;49m\u001b[38;5;124;43m\"\u001b[39;49m\u001b[43m)\u001b[49m \n",
      "File \u001b[0;32m<__array_function__ internals>:180\u001b[0m, in \u001b[0;36msavetxt\u001b[0;34m(*args, **kwargs)\u001b[0m\n",
      "File \u001b[0;32m~/.pyenv/versions/3.10.6/envs/SeizurePredict/lib/python3.10/site-packages/numpy/lib/npyio.py:1595\u001b[0m, in \u001b[0;36msavetxt\u001b[0;34m(fname, X, fmt, delimiter, newline, header, footer, comments, encoding)\u001b[0m\n\u001b[1;32m   1591\u001b[0m         \u001b[38;5;28;01mexcept\u001b[39;00m \u001b[38;5;167;01mTypeError\u001b[39;00m \u001b[38;5;28;01mas\u001b[39;00m e:\n\u001b[1;32m   1592\u001b[0m             \u001b[38;5;28;01mraise\u001b[39;00m \u001b[38;5;167;01mTypeError\u001b[39;00m(\u001b[38;5;124m\"\u001b[39m\u001b[38;5;124mMismatch between array dtype (\u001b[39m\u001b[38;5;124m'\u001b[39m\u001b[38;5;132;01m%s\u001b[39;00m\u001b[38;5;124m'\u001b[39m\u001b[38;5;124m) and \u001b[39m\u001b[38;5;124m\"\u001b[39m\n\u001b[1;32m   1593\u001b[0m                             \u001b[38;5;124m\"\u001b[39m\u001b[38;5;124mformat specifier (\u001b[39m\u001b[38;5;124m'\u001b[39m\u001b[38;5;132;01m%s\u001b[39;00m\u001b[38;5;124m'\u001b[39m\u001b[38;5;124m)\u001b[39m\u001b[38;5;124m\"\u001b[39m\n\u001b[1;32m   1594\u001b[0m                             \u001b[38;5;241m%\u001b[39m (\u001b[38;5;28mstr\u001b[39m(X\u001b[38;5;241m.\u001b[39mdtype), \u001b[38;5;28mformat\u001b[39m)) \u001b[38;5;28;01mfrom\u001b[39;00m \u001b[38;5;21;01me\u001b[39;00m\n\u001b[0;32m-> 1595\u001b[0m         \u001b[43mfh\u001b[49m\u001b[38;5;241;43m.\u001b[39;49m\u001b[43mwrite\u001b[49m\u001b[43m(\u001b[49m\u001b[43mv\u001b[49m\u001b[43m)\u001b[49m\n\u001b[1;32m   1597\u001b[0m \u001b[38;5;28;01mif\u001b[39;00m \u001b[38;5;28mlen\u001b[39m(footer) \u001b[38;5;241m>\u001b[39m \u001b[38;5;241m0\u001b[39m:\n\u001b[1;32m   1598\u001b[0m     footer \u001b[38;5;241m=\u001b[39m footer\u001b[38;5;241m.\u001b[39mreplace(\u001b[38;5;124m'\u001b[39m\u001b[38;5;130;01m\\n\u001b[39;00m\u001b[38;5;124m'\u001b[39m, \u001b[38;5;124m'\u001b[39m\u001b[38;5;130;01m\\n\u001b[39;00m\u001b[38;5;124m'\u001b[39m \u001b[38;5;241m+\u001b[39m comments)\n",
      "File \u001b[0;32m~/.pyenv/versions/3.10.6/envs/SeizurePredict/lib/python3.10/site-packages/numpy/lib/npyio.py:1506\u001b[0m, in \u001b[0;36msavetxt.<locals>.WriteWrap.write_normal\u001b[0;34m(self, v)\u001b[0m\n\u001b[1;32m   1503\u001b[0m     \u001b[38;5;28;01melse\u001b[39;00m:\n\u001b[1;32m   1504\u001b[0m         \u001b[38;5;28mself\u001b[39m\u001b[38;5;241m.\u001b[39mfh\u001b[38;5;241m.\u001b[39mwrite(v\u001b[38;5;241m.\u001b[39mencode(\u001b[38;5;28mself\u001b[39m\u001b[38;5;241m.\u001b[39mencoding))\n\u001b[0;32m-> 1506\u001b[0m \u001b[38;5;28;01mdef\u001b[39;00m \u001b[38;5;21mwrite_normal\u001b[39m(\u001b[38;5;28mself\u001b[39m, v):\n\u001b[1;32m   1507\u001b[0m     \u001b[38;5;28mself\u001b[39m\u001b[38;5;241m.\u001b[39mfh\u001b[38;5;241m.\u001b[39mwrite(asunicode(v))\n\u001b[1;32m   1509\u001b[0m \u001b[38;5;28;01mdef\u001b[39;00m \u001b[38;5;21mfirst_write\u001b[39m(\u001b[38;5;28mself\u001b[39m, v):\n",
      "\u001b[0;31mKeyboardInterrupt\u001b[0m: "
     ]
    }
   ],
   "source": [
    "for n in num[0:10]:\n",
    "    print(n)\n",
    "    path_eeg = f'../raw_data/eeg{n}.edf'\n",
    "    signals, signal_headers, header = highlevel.read_edf(path_eeg)\n",
    "    names_ele = [signal_headers[iele]['label'] for iele in range(signals.shape[0])]\n",
    "    target = create_target(path_annt, n)\n",
    "    filtered_signals = filter_fourier(signals, scaler)\n",
    "    signals_df = concat_target(filtered_signals, target, names_ele)\n",
    "    df = np.array([flatten_window(signals_df.iloc[i:i+len_window+1]) for i in range(0,len(signals_df)-len_window, 5*256)])\n",
    "    r=df.shape[0]\n",
    "    c=df.shape[2]\n",
    "#     df = df.reshape(r,c)\n",
    "    df = pd.DataFrame(df.reshape(r,c))\n",
    "    with open('df.csv', 'a') as file:\n",
    "        np.savetxt(file, df, delimiter=\",\") "
   ]
  },
  {
   "cell_type": "markdown",
   "id": "b4a110e9",
   "metadata": {},
   "source": [
    "## model"
   ]
  },
  {
   "cell_type": "code",
   "execution_count": 81,
   "id": "8b0574cb",
   "metadata": {},
   "outputs": [],
   "source": [
    "from sklearn.linear_model import LogisticRegression\n",
    "from sklearn.model_selection import train_test_split, cross_val_score\n",
    "from sklearn.neighbors import KNeighborsClassifier\n",
    "from sklearn.svm import SVC\n",
    "from sklearn.metrics import recall_score, precision_score"
   ]
  },
  {
   "cell_type": "code",
   "execution_count": 82,
   "id": "e063d6ef",
   "metadata": {},
   "outputs": [],
   "source": [
    "X = df.iloc[:,:-1]\n",
    "y = df.iloc[:,-1]"
   ]
  },
  {
   "cell_type": "code",
   "execution_count": 83,
   "id": "f80d9574",
   "metadata": {},
   "outputs": [],
   "source": [
    "X_train, X_test, y_train, y_test = train_test_split(X,y, test_size=0.2)"
   ]
  },
  {
   "cell_type": "markdown",
   "id": "7dfa42c2",
   "metadata": {},
   "source": [
    "**logistic**"
   ]
  },
  {
   "cell_type": "code",
   "execution_count": 166,
   "id": "4c3192cf",
   "metadata": {},
   "outputs": [
    {
     "data": {
      "text/html": [
       "<style>#sk-container-id-5 {color: black;background-color: white;}#sk-container-id-5 pre{padding: 0;}#sk-container-id-5 div.sk-toggleable {background-color: white;}#sk-container-id-5 label.sk-toggleable__label {cursor: pointer;display: block;width: 100%;margin-bottom: 0;padding: 0.3em;box-sizing: border-box;text-align: center;}#sk-container-id-5 label.sk-toggleable__label-arrow:before {content: \"▸\";float: left;margin-right: 0.25em;color: #696969;}#sk-container-id-5 label.sk-toggleable__label-arrow:hover:before {color: black;}#sk-container-id-5 div.sk-estimator:hover label.sk-toggleable__label-arrow:before {color: black;}#sk-container-id-5 div.sk-toggleable__content {max-height: 0;max-width: 0;overflow: hidden;text-align: left;background-color: #f0f8ff;}#sk-container-id-5 div.sk-toggleable__content pre {margin: 0.2em;color: black;border-radius: 0.25em;background-color: #f0f8ff;}#sk-container-id-5 input.sk-toggleable__control:checked~div.sk-toggleable__content {max-height: 200px;max-width: 100%;overflow: auto;}#sk-container-id-5 input.sk-toggleable__control:checked~label.sk-toggleable__label-arrow:before {content: \"▾\";}#sk-container-id-5 div.sk-estimator input.sk-toggleable__control:checked~label.sk-toggleable__label {background-color: #d4ebff;}#sk-container-id-5 div.sk-label input.sk-toggleable__control:checked~label.sk-toggleable__label {background-color: #d4ebff;}#sk-container-id-5 input.sk-hidden--visually {border: 0;clip: rect(1px 1px 1px 1px);clip: rect(1px, 1px, 1px, 1px);height: 1px;margin: -1px;overflow: hidden;padding: 0;position: absolute;width: 1px;}#sk-container-id-5 div.sk-estimator {font-family: monospace;background-color: #f0f8ff;border: 1px dotted black;border-radius: 0.25em;box-sizing: border-box;margin-bottom: 0.5em;}#sk-container-id-5 div.sk-estimator:hover {background-color: #d4ebff;}#sk-container-id-5 div.sk-parallel-item::after {content: \"\";width: 100%;border-bottom: 1px solid gray;flex-grow: 1;}#sk-container-id-5 div.sk-label:hover label.sk-toggleable__label {background-color: #d4ebff;}#sk-container-id-5 div.sk-serial::before {content: \"\";position: absolute;border-left: 1px solid gray;box-sizing: border-box;top: 0;bottom: 0;left: 50%;z-index: 0;}#sk-container-id-5 div.sk-serial {display: flex;flex-direction: column;align-items: center;background-color: white;padding-right: 0.2em;padding-left: 0.2em;position: relative;}#sk-container-id-5 div.sk-item {position: relative;z-index: 1;}#sk-container-id-5 div.sk-parallel {display: flex;align-items: stretch;justify-content: center;background-color: white;position: relative;}#sk-container-id-5 div.sk-item::before, #sk-container-id-5 div.sk-parallel-item::before {content: \"\";position: absolute;border-left: 1px solid gray;box-sizing: border-box;top: 0;bottom: 0;left: 50%;z-index: -1;}#sk-container-id-5 div.sk-parallel-item {display: flex;flex-direction: column;z-index: 1;position: relative;background-color: white;}#sk-container-id-5 div.sk-parallel-item:first-child::after {align-self: flex-end;width: 50%;}#sk-container-id-5 div.sk-parallel-item:last-child::after {align-self: flex-start;width: 50%;}#sk-container-id-5 div.sk-parallel-item:only-child::after {width: 0;}#sk-container-id-5 div.sk-dashed-wrapped {border: 1px dashed gray;margin: 0 0.4em 0.5em 0.4em;box-sizing: border-box;padding-bottom: 0.4em;background-color: white;}#sk-container-id-5 div.sk-label label {font-family: monospace;font-weight: bold;display: inline-block;line-height: 1.2em;}#sk-container-id-5 div.sk-label-container {text-align: center;}#sk-container-id-5 div.sk-container {/* jupyter's `normalize.less` sets `[hidden] { display: none; }` but bootstrap.min.css set `[hidden] { display: none !important; }` so we also need the `!important` here to be able to override the default hidden behavior on the sphinx rendered scikit-learn.org. See: https://github.com/scikit-learn/scikit-learn/issues/21755 */display: inline-block !important;position: relative;}#sk-container-id-5 div.sk-text-repr-fallback {display: none;}</style><div id=\"sk-container-id-5\" class=\"sk-top-container\"><div class=\"sk-text-repr-fallback\"><pre>LogisticRegression(max_iter=1000)</pre><b>In a Jupyter environment, please rerun this cell to show the HTML representation or trust the notebook. <br />On GitHub, the HTML representation is unable to render, please try loading this page with nbviewer.org.</b></div><div class=\"sk-container\" hidden><div class=\"sk-item\"><div class=\"sk-estimator sk-toggleable\"><input class=\"sk-toggleable__control sk-hidden--visually\" id=\"sk-estimator-id-5\" type=\"checkbox\" checked><label for=\"sk-estimator-id-5\" class=\"sk-toggleable__label sk-toggleable__label-arrow\">LogisticRegression</label><div class=\"sk-toggleable__content\"><pre>LogisticRegression(max_iter=1000)</pre></div></div></div></div></div>"
      ],
      "text/plain": [
       "LogisticRegression(max_iter=1000)"
      ]
     },
     "execution_count": 166,
     "metadata": {},
     "output_type": "execute_result"
    }
   ],
   "source": [
    "model.fit(X_train, y_train)"
   ]
  },
  {
   "cell_type": "code",
   "execution_count": 167,
   "id": "b575136e",
   "metadata": {},
   "outputs": [
    {
     "data": {
      "text/plain": [
       "0.8246753246753247"
      ]
     },
     "execution_count": 167,
     "metadata": {},
     "output_type": "execute_result"
    }
   ],
   "source": [
    "model.score(X_test,y_test)"
   ]
  },
  {
   "cell_type": "code",
   "execution_count": 161,
   "id": "5a7147ba",
   "metadata": {},
   "outputs": [],
   "source": [
    "score_lr = cross_val_score(model, X_train, y_train, scoring = \"recall\", cv = 5)"
   ]
  },
  {
   "cell_type": "code",
   "execution_count": 163,
   "id": "6f52bd2c",
   "metadata": {},
   "outputs": [
    {
     "data": {
      "text/plain": [
       "0.9342419716206123"
      ]
     },
     "execution_count": 163,
     "metadata": {},
     "output_type": "execute_result"
    }
   ],
   "source": [
    "score_lr.mean()"
   ]
  },
  {
   "cell_type": "code",
   "execution_count": 168,
   "id": "09967b3c",
   "metadata": {},
   "outputs": [],
   "source": [
    "y_pred = model.predict(X_test)"
   ]
  },
  {
   "cell_type": "code",
   "execution_count": 169,
   "id": "c76c3034",
   "metadata": {},
   "outputs": [
    {
     "data": {
      "text/plain": [
       "0.9548872180451128"
      ]
     },
     "execution_count": 169,
     "metadata": {},
     "output_type": "execute_result"
    }
   ],
   "source": [
    "recall_score(y_test, y_pred)"
   ]
  },
  {
   "cell_type": "code",
   "execution_count": 176,
   "id": "672a2d74",
   "metadata": {},
   "outputs": [
    {
     "data": {
      "text/plain": [
       "0.8581081081081081"
      ]
     },
     "execution_count": 176,
     "metadata": {},
     "output_type": "execute_result"
    }
   ],
   "source": [
    "precision_score(y_test, y_pred)"
   ]
  },
  {
   "cell_type": "markdown",
   "id": "23750232",
   "metadata": {},
   "source": [
    "**knn**"
   ]
  },
  {
   "cell_type": "code",
   "execution_count": 172,
   "id": "207e516e",
   "metadata": {},
   "outputs": [],
   "source": [
    "model2 = KNeighborsClassifier(n_neighbors=5)"
   ]
  },
  {
   "cell_type": "code",
   "execution_count": 173,
   "id": "e5b02ddf",
   "metadata": {},
   "outputs": [
    {
     "data": {
      "text/html": [
       "<style>#sk-container-id-6 {color: black;background-color: white;}#sk-container-id-6 pre{padding: 0;}#sk-container-id-6 div.sk-toggleable {background-color: white;}#sk-container-id-6 label.sk-toggleable__label {cursor: pointer;display: block;width: 100%;margin-bottom: 0;padding: 0.3em;box-sizing: border-box;text-align: center;}#sk-container-id-6 label.sk-toggleable__label-arrow:before {content: \"▸\";float: left;margin-right: 0.25em;color: #696969;}#sk-container-id-6 label.sk-toggleable__label-arrow:hover:before {color: black;}#sk-container-id-6 div.sk-estimator:hover label.sk-toggleable__label-arrow:before {color: black;}#sk-container-id-6 div.sk-toggleable__content {max-height: 0;max-width: 0;overflow: hidden;text-align: left;background-color: #f0f8ff;}#sk-container-id-6 div.sk-toggleable__content pre {margin: 0.2em;color: black;border-radius: 0.25em;background-color: #f0f8ff;}#sk-container-id-6 input.sk-toggleable__control:checked~div.sk-toggleable__content {max-height: 200px;max-width: 100%;overflow: auto;}#sk-container-id-6 input.sk-toggleable__control:checked~label.sk-toggleable__label-arrow:before {content: \"▾\";}#sk-container-id-6 div.sk-estimator input.sk-toggleable__control:checked~label.sk-toggleable__label {background-color: #d4ebff;}#sk-container-id-6 div.sk-label input.sk-toggleable__control:checked~label.sk-toggleable__label {background-color: #d4ebff;}#sk-container-id-6 input.sk-hidden--visually {border: 0;clip: rect(1px 1px 1px 1px);clip: rect(1px, 1px, 1px, 1px);height: 1px;margin: -1px;overflow: hidden;padding: 0;position: absolute;width: 1px;}#sk-container-id-6 div.sk-estimator {font-family: monospace;background-color: #f0f8ff;border: 1px dotted black;border-radius: 0.25em;box-sizing: border-box;margin-bottom: 0.5em;}#sk-container-id-6 div.sk-estimator:hover {background-color: #d4ebff;}#sk-container-id-6 div.sk-parallel-item::after {content: \"\";width: 100%;border-bottom: 1px solid gray;flex-grow: 1;}#sk-container-id-6 div.sk-label:hover label.sk-toggleable__label {background-color: #d4ebff;}#sk-container-id-6 div.sk-serial::before {content: \"\";position: absolute;border-left: 1px solid gray;box-sizing: border-box;top: 0;bottom: 0;left: 50%;z-index: 0;}#sk-container-id-6 div.sk-serial {display: flex;flex-direction: column;align-items: center;background-color: white;padding-right: 0.2em;padding-left: 0.2em;position: relative;}#sk-container-id-6 div.sk-item {position: relative;z-index: 1;}#sk-container-id-6 div.sk-parallel {display: flex;align-items: stretch;justify-content: center;background-color: white;position: relative;}#sk-container-id-6 div.sk-item::before, #sk-container-id-6 div.sk-parallel-item::before {content: \"\";position: absolute;border-left: 1px solid gray;box-sizing: border-box;top: 0;bottom: 0;left: 50%;z-index: -1;}#sk-container-id-6 div.sk-parallel-item {display: flex;flex-direction: column;z-index: 1;position: relative;background-color: white;}#sk-container-id-6 div.sk-parallel-item:first-child::after {align-self: flex-end;width: 50%;}#sk-container-id-6 div.sk-parallel-item:last-child::after {align-self: flex-start;width: 50%;}#sk-container-id-6 div.sk-parallel-item:only-child::after {width: 0;}#sk-container-id-6 div.sk-dashed-wrapped {border: 1px dashed gray;margin: 0 0.4em 0.5em 0.4em;box-sizing: border-box;padding-bottom: 0.4em;background-color: white;}#sk-container-id-6 div.sk-label label {font-family: monospace;font-weight: bold;display: inline-block;line-height: 1.2em;}#sk-container-id-6 div.sk-label-container {text-align: center;}#sk-container-id-6 div.sk-container {/* jupyter's `normalize.less` sets `[hidden] { display: none; }` but bootstrap.min.css set `[hidden] { display: none !important; }` so we also need the `!important` here to be able to override the default hidden behavior on the sphinx rendered scikit-learn.org. See: https://github.com/scikit-learn/scikit-learn/issues/21755 */display: inline-block !important;position: relative;}#sk-container-id-6 div.sk-text-repr-fallback {display: none;}</style><div id=\"sk-container-id-6\" class=\"sk-top-container\"><div class=\"sk-text-repr-fallback\"><pre>KNeighborsClassifier()</pre><b>In a Jupyter environment, please rerun this cell to show the HTML representation or trust the notebook. <br />On GitHub, the HTML representation is unable to render, please try loading this page with nbviewer.org.</b></div><div class=\"sk-container\" hidden><div class=\"sk-item\"><div class=\"sk-estimator sk-toggleable\"><input class=\"sk-toggleable__control sk-hidden--visually\" id=\"sk-estimator-id-6\" type=\"checkbox\" checked><label for=\"sk-estimator-id-6\" class=\"sk-toggleable__label sk-toggleable__label-arrow\">KNeighborsClassifier</label><div class=\"sk-toggleable__content\"><pre>KNeighborsClassifier()</pre></div></div></div></div></div>"
      ],
      "text/plain": [
       "KNeighborsClassifier()"
      ]
     },
     "execution_count": 173,
     "metadata": {},
     "output_type": "execute_result"
    }
   ],
   "source": [
    "model2.fit(X_train, y_train)"
   ]
  },
  {
   "cell_type": "code",
   "execution_count": 174,
   "id": "a2073abc",
   "metadata": {},
   "outputs": [
    {
     "data": {
      "text/plain": [
       "0.8181818181818182"
      ]
     },
     "execution_count": 174,
     "metadata": {},
     "output_type": "execute_result"
    }
   ],
   "source": [
    "model2.score(X_test, y_test)"
   ]
  },
  {
   "cell_type": "markdown",
   "id": "e3e07a80",
   "metadata": {},
   "source": [
    "**svc**"
   ]
  },
  {
   "cell_type": "code",
   "execution_count": 177,
   "id": "ae01bb20",
   "metadata": {},
   "outputs": [],
   "source": [
    "model3 = SVC()"
   ]
  },
  {
   "cell_type": "code",
   "execution_count": 178,
   "id": "b0d67519",
   "metadata": {},
   "outputs": [
    {
     "data": {
      "text/html": [
       "<style>#sk-container-id-7 {color: black;background-color: white;}#sk-container-id-7 pre{padding: 0;}#sk-container-id-7 div.sk-toggleable {background-color: white;}#sk-container-id-7 label.sk-toggleable__label {cursor: pointer;display: block;width: 100%;margin-bottom: 0;padding: 0.3em;box-sizing: border-box;text-align: center;}#sk-container-id-7 label.sk-toggleable__label-arrow:before {content: \"▸\";float: left;margin-right: 0.25em;color: #696969;}#sk-container-id-7 label.sk-toggleable__label-arrow:hover:before {color: black;}#sk-container-id-7 div.sk-estimator:hover label.sk-toggleable__label-arrow:before {color: black;}#sk-container-id-7 div.sk-toggleable__content {max-height: 0;max-width: 0;overflow: hidden;text-align: left;background-color: #f0f8ff;}#sk-container-id-7 div.sk-toggleable__content pre {margin: 0.2em;color: black;border-radius: 0.25em;background-color: #f0f8ff;}#sk-container-id-7 input.sk-toggleable__control:checked~div.sk-toggleable__content {max-height: 200px;max-width: 100%;overflow: auto;}#sk-container-id-7 input.sk-toggleable__control:checked~label.sk-toggleable__label-arrow:before {content: \"▾\";}#sk-container-id-7 div.sk-estimator input.sk-toggleable__control:checked~label.sk-toggleable__label {background-color: #d4ebff;}#sk-container-id-7 div.sk-label input.sk-toggleable__control:checked~label.sk-toggleable__label {background-color: #d4ebff;}#sk-container-id-7 input.sk-hidden--visually {border: 0;clip: rect(1px 1px 1px 1px);clip: rect(1px, 1px, 1px, 1px);height: 1px;margin: -1px;overflow: hidden;padding: 0;position: absolute;width: 1px;}#sk-container-id-7 div.sk-estimator {font-family: monospace;background-color: #f0f8ff;border: 1px dotted black;border-radius: 0.25em;box-sizing: border-box;margin-bottom: 0.5em;}#sk-container-id-7 div.sk-estimator:hover {background-color: #d4ebff;}#sk-container-id-7 div.sk-parallel-item::after {content: \"\";width: 100%;border-bottom: 1px solid gray;flex-grow: 1;}#sk-container-id-7 div.sk-label:hover label.sk-toggleable__label {background-color: #d4ebff;}#sk-container-id-7 div.sk-serial::before {content: \"\";position: absolute;border-left: 1px solid gray;box-sizing: border-box;top: 0;bottom: 0;left: 50%;z-index: 0;}#sk-container-id-7 div.sk-serial {display: flex;flex-direction: column;align-items: center;background-color: white;padding-right: 0.2em;padding-left: 0.2em;position: relative;}#sk-container-id-7 div.sk-item {position: relative;z-index: 1;}#sk-container-id-7 div.sk-parallel {display: flex;align-items: stretch;justify-content: center;background-color: white;position: relative;}#sk-container-id-7 div.sk-item::before, #sk-container-id-7 div.sk-parallel-item::before {content: \"\";position: absolute;border-left: 1px solid gray;box-sizing: border-box;top: 0;bottom: 0;left: 50%;z-index: -1;}#sk-container-id-7 div.sk-parallel-item {display: flex;flex-direction: column;z-index: 1;position: relative;background-color: white;}#sk-container-id-7 div.sk-parallel-item:first-child::after {align-self: flex-end;width: 50%;}#sk-container-id-7 div.sk-parallel-item:last-child::after {align-self: flex-start;width: 50%;}#sk-container-id-7 div.sk-parallel-item:only-child::after {width: 0;}#sk-container-id-7 div.sk-dashed-wrapped {border: 1px dashed gray;margin: 0 0.4em 0.5em 0.4em;box-sizing: border-box;padding-bottom: 0.4em;background-color: white;}#sk-container-id-7 div.sk-label label {font-family: monospace;font-weight: bold;display: inline-block;line-height: 1.2em;}#sk-container-id-7 div.sk-label-container {text-align: center;}#sk-container-id-7 div.sk-container {/* jupyter's `normalize.less` sets `[hidden] { display: none; }` but bootstrap.min.css set `[hidden] { display: none !important; }` so we also need the `!important` here to be able to override the default hidden behavior on the sphinx rendered scikit-learn.org. See: https://github.com/scikit-learn/scikit-learn/issues/21755 */display: inline-block !important;position: relative;}#sk-container-id-7 div.sk-text-repr-fallback {display: none;}</style><div id=\"sk-container-id-7\" class=\"sk-top-container\"><div class=\"sk-text-repr-fallback\"><pre>SVC()</pre><b>In a Jupyter environment, please rerun this cell to show the HTML representation or trust the notebook. <br />On GitHub, the HTML representation is unable to render, please try loading this page with nbviewer.org.</b></div><div class=\"sk-container\" hidden><div class=\"sk-item\"><div class=\"sk-estimator sk-toggleable\"><input class=\"sk-toggleable__control sk-hidden--visually\" id=\"sk-estimator-id-7\" type=\"checkbox\" checked><label for=\"sk-estimator-id-7\" class=\"sk-toggleable__label sk-toggleable__label-arrow\">SVC</label><div class=\"sk-toggleable__content\"><pre>SVC()</pre></div></div></div></div></div>"
      ],
      "text/plain": [
       "SVC()"
      ]
     },
     "execution_count": 178,
     "metadata": {},
     "output_type": "execute_result"
    }
   ],
   "source": [
    "model3.fit(X_train, y_train)"
   ]
  },
  {
   "cell_type": "code",
   "execution_count": 179,
   "id": "7a0c0827",
   "metadata": {},
   "outputs": [
    {
     "data": {
      "text/plain": [
       "0.8636363636363636"
      ]
     },
     "execution_count": 179,
     "metadata": {},
     "output_type": "execute_result"
    }
   ],
   "source": [
    "model3.score(X_test, y_test)"
   ]
  },
  {
   "cell_type": "markdown",
   "id": "b6ab64ea",
   "metadata": {},
   "source": [
    "## baseline"
   ]
  },
  {
   "cell_type": "code",
   "execution_count": 180,
   "id": "efe15216",
   "metadata": {},
   "outputs": [
    {
     "data": {
      "text/plain": [
       "0.8636363636363636"
      ]
     },
     "execution_count": 180,
     "metadata": {},
     "output_type": "execute_result"
    }
   ],
   "source": [
    "baseline_model = DummyClassifier(strategy=\"most_frequent\")\n",
    "baseline_model.fit(X_train, y_train)\n",
    "baseline_model.score(X_test, y_test)"
   ]
  },
  {
   "cell_type": "markdown",
   "id": "bb2dfaa5",
   "metadata": {},
   "source": [
    "## balanced model"
   ]
  },
  {
   "cell_type": "markdown",
   "id": "684fb969",
   "metadata": {},
   "source": [
    "### under"
   ]
  },
  {
   "cell_type": "code",
   "execution_count": 185,
   "id": "37d854cf",
   "metadata": {},
   "outputs": [],
   "source": [
    "shuffled_df = df.sample(frac=1,random_state=4)\n",
    "\n",
    "# Put all the fraud class in a separate dataset.\n",
    "df_0 = shuffled_df.loc[shuffled_df.iloc[:,-1] == 0]\n",
    "\n",
    "#Randomly select 492 observations from the non-fraud (majority class)\n",
    "df_1 = shuffled_df.loc[shuffled_df.iloc[:,-1] == 1].sample(n=171,random_state=42)\n",
    "\n",
    "# Concatenate both dataframes again\n",
    "normalized_df = pd.concat([df_1, df_0])"
   ]
  },
  {
   "cell_type": "code",
   "execution_count": 186,
   "id": "9b315605",
   "metadata": {},
   "outputs": [
    {
     "data": {
      "text/html": [
       "<div>\n",
       "<style scoped>\n",
       "    .dataframe tbody tr th:only-of-type {\n",
       "        vertical-align: middle;\n",
       "    }\n",
       "\n",
       "    .dataframe tbody tr th {\n",
       "        vertical-align: top;\n",
       "    }\n",
       "\n",
       "    .dataframe thead th {\n",
       "        text-align: right;\n",
       "    }\n",
       "</style>\n",
       "<table border=\"1\" class=\"dataframe\">\n",
       "  <thead>\n",
       "    <tr style=\"text-align: right;\">\n",
       "      <th></th>\n",
       "      <th>0</th>\n",
       "      <th>1</th>\n",
       "      <th>2</th>\n",
       "      <th>3</th>\n",
       "      <th>4</th>\n",
       "      <th>5</th>\n",
       "      <th>6</th>\n",
       "      <th>7</th>\n",
       "      <th>8</th>\n",
       "      <th>9</th>\n",
       "      <th>...</th>\n",
       "      <th>48650</th>\n",
       "      <th>48651</th>\n",
       "      <th>48652</th>\n",
       "      <th>48653</th>\n",
       "      <th>48654</th>\n",
       "      <th>48655</th>\n",
       "      <th>48656</th>\n",
       "      <th>48657</th>\n",
       "      <th>48658</th>\n",
       "      <th>48659</th>\n",
       "    </tr>\n",
       "  </thead>\n",
       "  <tbody>\n",
       "    <tr>\n",
       "      <th>126</th>\n",
       "      <td>0.159359</td>\n",
       "      <td>0.168830</td>\n",
       "      <td>0.199304</td>\n",
       "      <td>0.189241</td>\n",
       "      <td>0.282816</td>\n",
       "      <td>0.245389</td>\n",
       "      <td>0.151429</td>\n",
       "      <td>0.166411</td>\n",
       "      <td>0.164438</td>\n",
       "      <td>0.165532</td>\n",
       "      <td>...</td>\n",
       "      <td>0.444626</td>\n",
       "      <td>0.521216</td>\n",
       "      <td>0.407028</td>\n",
       "      <td>0.326486</td>\n",
       "      <td>0.322318</td>\n",
       "      <td>0.403674</td>\n",
       "      <td>0.496608</td>\n",
       "      <td>0.493917</td>\n",
       "      <td>0.383777</td>\n",
       "      <td>1.0</td>\n",
       "    </tr>\n",
       "    <tr>\n",
       "      <th>468</th>\n",
       "      <td>0.315043</td>\n",
       "      <td>0.422249</td>\n",
       "      <td>0.556405</td>\n",
       "      <td>0.451055</td>\n",
       "      <td>0.397534</td>\n",
       "      <td>0.495360</td>\n",
       "      <td>0.837258</td>\n",
       "      <td>1.000000</td>\n",
       "      <td>0.848685</td>\n",
       "      <td>0.820578</td>\n",
       "      <td>...</td>\n",
       "      <td>0.426337</td>\n",
       "      <td>0.480585</td>\n",
       "      <td>0.558416</td>\n",
       "      <td>0.718833</td>\n",
       "      <td>0.845160</td>\n",
       "      <td>0.820545</td>\n",
       "      <td>0.851344</td>\n",
       "      <td>0.839022</td>\n",
       "      <td>0.868716</td>\n",
       "      <td>1.0</td>\n",
       "    </tr>\n",
       "    <tr>\n",
       "      <th>577</th>\n",
       "      <td>0.966589</td>\n",
       "      <td>0.966854</td>\n",
       "      <td>0.973309</td>\n",
       "      <td>0.989355</td>\n",
       "      <td>0.980668</td>\n",
       "      <td>0.981222</td>\n",
       "      <td>0.954036</td>\n",
       "      <td>0.961885</td>\n",
       "      <td>0.963690</td>\n",
       "      <td>0.962414</td>\n",
       "      <td>...</td>\n",
       "      <td>0.780843</td>\n",
       "      <td>0.811155</td>\n",
       "      <td>0.859953</td>\n",
       "      <td>0.839005</td>\n",
       "      <td>0.766131</td>\n",
       "      <td>0.864346</td>\n",
       "      <td>0.997214</td>\n",
       "      <td>1.000000</td>\n",
       "      <td>0.860356</td>\n",
       "      <td>1.0</td>\n",
       "    </tr>\n",
       "    <tr>\n",
       "      <th>441</th>\n",
       "      <td>0.506537</td>\n",
       "      <td>0.564580</td>\n",
       "      <td>0.592215</td>\n",
       "      <td>0.609836</td>\n",
       "      <td>0.619982</td>\n",
       "      <td>0.637050</td>\n",
       "      <td>0.665652</td>\n",
       "      <td>0.670184</td>\n",
       "      <td>0.684146</td>\n",
       "      <td>0.691446</td>\n",
       "      <td>...</td>\n",
       "      <td>0.550362</td>\n",
       "      <td>0.553410</td>\n",
       "      <td>0.541158</td>\n",
       "      <td>0.510429</td>\n",
       "      <td>0.493999</td>\n",
       "      <td>0.496369</td>\n",
       "      <td>0.471623</td>\n",
       "      <td>0.454837</td>\n",
       "      <td>0.447198</td>\n",
       "      <td>1.0</td>\n",
       "    </tr>\n",
       "    <tr>\n",
       "      <th>686</th>\n",
       "      <td>0.630122</td>\n",
       "      <td>0.747886</td>\n",
       "      <td>0.807355</td>\n",
       "      <td>0.787173</td>\n",
       "      <td>0.754615</td>\n",
       "      <td>0.672211</td>\n",
       "      <td>0.495624</td>\n",
       "      <td>0.418795</td>\n",
       "      <td>0.355425</td>\n",
       "      <td>0.303075</td>\n",
       "      <td>...</td>\n",
       "      <td>0.432501</td>\n",
       "      <td>0.428051</td>\n",
       "      <td>0.428349</td>\n",
       "      <td>0.434048</td>\n",
       "      <td>0.422386</td>\n",
       "      <td>0.419671</td>\n",
       "      <td>0.407860</td>\n",
       "      <td>0.404890</td>\n",
       "      <td>0.385659</td>\n",
       "      <td>1.0</td>\n",
       "    </tr>\n",
       "    <tr>\n",
       "      <th>...</th>\n",
       "      <td>...</td>\n",
       "      <td>...</td>\n",
       "      <td>...</td>\n",
       "      <td>...</td>\n",
       "      <td>...</td>\n",
       "      <td>...</td>\n",
       "      <td>...</td>\n",
       "      <td>...</td>\n",
       "      <td>...</td>\n",
       "      <td>...</td>\n",
       "      <td>...</td>\n",
       "      <td>...</td>\n",
       "      <td>...</td>\n",
       "      <td>...</td>\n",
       "      <td>...</td>\n",
       "      <td>...</td>\n",
       "      <td>...</td>\n",
       "      <td>...</td>\n",
       "      <td>...</td>\n",
       "      <td>...</td>\n",
       "      <td>...</td>\n",
       "    </tr>\n",
       "    <tr>\n",
       "      <th>509</th>\n",
       "      <td>0.167371</td>\n",
       "      <td>0.166063</td>\n",
       "      <td>0.176750</td>\n",
       "      <td>0.167862</td>\n",
       "      <td>0.175929</td>\n",
       "      <td>0.515659</td>\n",
       "      <td>0.657915</td>\n",
       "      <td>0.584345</td>\n",
       "      <td>0.175352</td>\n",
       "      <td>0.172414</td>\n",
       "      <td>...</td>\n",
       "      <td>0.088976</td>\n",
       "      <td>0.095882</td>\n",
       "      <td>0.096542</td>\n",
       "      <td>0.092560</td>\n",
       "      <td>0.091529</td>\n",
       "      <td>0.116108</td>\n",
       "      <td>0.106577</td>\n",
       "      <td>0.093288</td>\n",
       "      <td>0.096843</td>\n",
       "      <td>0.0</td>\n",
       "    </tr>\n",
       "    <tr>\n",
       "      <th>183</th>\n",
       "      <td>0.965955</td>\n",
       "      <td>0.951364</td>\n",
       "      <td>0.956597</td>\n",
       "      <td>0.948905</td>\n",
       "      <td>0.958147</td>\n",
       "      <td>0.951920</td>\n",
       "      <td>0.952823</td>\n",
       "      <td>0.968658</td>\n",
       "      <td>0.953744</td>\n",
       "      <td>0.950233</td>\n",
       "      <td>...</td>\n",
       "      <td>0.458460</td>\n",
       "      <td>0.472705</td>\n",
       "      <td>0.485776</td>\n",
       "      <td>0.497862</td>\n",
       "      <td>0.509062</td>\n",
       "      <td>0.516747</td>\n",
       "      <td>0.514312</td>\n",
       "      <td>0.502225</td>\n",
       "      <td>0.505926</td>\n",
       "      <td>0.0</td>\n",
       "    </tr>\n",
       "    <tr>\n",
       "      <th>294</th>\n",
       "      <td>1.000000</td>\n",
       "      <td>1.000000</td>\n",
       "      <td>1.000000</td>\n",
       "      <td>1.000000</td>\n",
       "      <td>1.000000</td>\n",
       "      <td>1.000000</td>\n",
       "      <td>0.970093</td>\n",
       "      <td>0.931957</td>\n",
       "      <td>0.966693</td>\n",
       "      <td>0.969149</td>\n",
       "      <td>...</td>\n",
       "      <td>0.629877</td>\n",
       "      <td>0.616500</td>\n",
       "      <td>0.640236</td>\n",
       "      <td>0.618304</td>\n",
       "      <td>0.564735</td>\n",
       "      <td>0.628651</td>\n",
       "      <td>0.678015</td>\n",
       "      <td>0.627074</td>\n",
       "      <td>0.649295</td>\n",
       "      <td>0.0</td>\n",
       "    </tr>\n",
       "    <tr>\n",
       "      <th>44</th>\n",
       "      <td>0.643906</td>\n",
       "      <td>0.815330</td>\n",
       "      <td>0.896351</td>\n",
       "      <td>0.793755</td>\n",
       "      <td>0.620158</td>\n",
       "      <td>0.617346</td>\n",
       "      <td>0.769302</td>\n",
       "      <td>0.780412</td>\n",
       "      <td>0.709104</td>\n",
       "      <td>0.558077</td>\n",
       "      <td>...</td>\n",
       "      <td>0.240313</td>\n",
       "      <td>0.502492</td>\n",
       "      <td>0.873653</td>\n",
       "      <td>0.930146</td>\n",
       "      <td>0.929608</td>\n",
       "      <td>0.890153</td>\n",
       "      <td>0.710859</td>\n",
       "      <td>0.623848</td>\n",
       "      <td>0.621266</td>\n",
       "      <td>0.0</td>\n",
       "    </tr>\n",
       "    <tr>\n",
       "      <th>313</th>\n",
       "      <td>0.696367</td>\n",
       "      <td>0.557394</td>\n",
       "      <td>0.914571</td>\n",
       "      <td>0.602252</td>\n",
       "      <td>0.873814</td>\n",
       "      <td>0.970068</td>\n",
       "      <td>0.672620</td>\n",
       "      <td>0.781345</td>\n",
       "      <td>0.714476</td>\n",
       "      <td>0.748265</td>\n",
       "      <td>...</td>\n",
       "      <td>0.128396</td>\n",
       "      <td>0.114033</td>\n",
       "      <td>0.082480</td>\n",
       "      <td>0.109968</td>\n",
       "      <td>0.108345</td>\n",
       "      <td>0.129295</td>\n",
       "      <td>0.120116</td>\n",
       "      <td>0.079289</td>\n",
       "      <td>0.092017</td>\n",
       "      <td>0.0</td>\n",
       "    </tr>\n",
       "  </tbody>\n",
       "</table>\n",
       "<p>288 rows × 48660 columns</p>\n",
       "</div>"
      ],
      "text/plain": [
       "        0         1         2         3         4         5         6      \\\n",
       "126  0.159359  0.168830  0.199304  0.189241  0.282816  0.245389  0.151429   \n",
       "468  0.315043  0.422249  0.556405  0.451055  0.397534  0.495360  0.837258   \n",
       "577  0.966589  0.966854  0.973309  0.989355  0.980668  0.981222  0.954036   \n",
       "441  0.506537  0.564580  0.592215  0.609836  0.619982  0.637050  0.665652   \n",
       "686  0.630122  0.747886  0.807355  0.787173  0.754615  0.672211  0.495624   \n",
       "..        ...       ...       ...       ...       ...       ...       ...   \n",
       "509  0.167371  0.166063  0.176750  0.167862  0.175929  0.515659  0.657915   \n",
       "183  0.965955  0.951364  0.956597  0.948905  0.958147  0.951920  0.952823   \n",
       "294  1.000000  1.000000  1.000000  1.000000  1.000000  1.000000  0.970093   \n",
       "44   0.643906  0.815330  0.896351  0.793755  0.620158  0.617346  0.769302   \n",
       "313  0.696367  0.557394  0.914571  0.602252  0.873814  0.970068  0.672620   \n",
       "\n",
       "        7         8         9      ...     48650     48651     48652  \\\n",
       "126  0.166411  0.164438  0.165532  ...  0.444626  0.521216  0.407028   \n",
       "468  1.000000  0.848685  0.820578  ...  0.426337  0.480585  0.558416   \n",
       "577  0.961885  0.963690  0.962414  ...  0.780843  0.811155  0.859953   \n",
       "441  0.670184  0.684146  0.691446  ...  0.550362  0.553410  0.541158   \n",
       "686  0.418795  0.355425  0.303075  ...  0.432501  0.428051  0.428349   \n",
       "..        ...       ...       ...  ...       ...       ...       ...   \n",
       "509  0.584345  0.175352  0.172414  ...  0.088976  0.095882  0.096542   \n",
       "183  0.968658  0.953744  0.950233  ...  0.458460  0.472705  0.485776   \n",
       "294  0.931957  0.966693  0.969149  ...  0.629877  0.616500  0.640236   \n",
       "44   0.780412  0.709104  0.558077  ...  0.240313  0.502492  0.873653   \n",
       "313  0.781345  0.714476  0.748265  ...  0.128396  0.114033  0.082480   \n",
       "\n",
       "        48653     48654     48655     48656     48657     48658  48659  \n",
       "126  0.326486  0.322318  0.403674  0.496608  0.493917  0.383777    1.0  \n",
       "468  0.718833  0.845160  0.820545  0.851344  0.839022  0.868716    1.0  \n",
       "577  0.839005  0.766131  0.864346  0.997214  1.000000  0.860356    1.0  \n",
       "441  0.510429  0.493999  0.496369  0.471623  0.454837  0.447198    1.0  \n",
       "686  0.434048  0.422386  0.419671  0.407860  0.404890  0.385659    1.0  \n",
       "..        ...       ...       ...       ...       ...       ...    ...  \n",
       "509  0.092560  0.091529  0.116108  0.106577  0.093288  0.096843    0.0  \n",
       "183  0.497862  0.509062  0.516747  0.514312  0.502225  0.505926    0.0  \n",
       "294  0.618304  0.564735  0.628651  0.678015  0.627074  0.649295    0.0  \n",
       "44   0.930146  0.929608  0.890153  0.710859  0.623848  0.621266    0.0  \n",
       "313  0.109968  0.108345  0.129295  0.120116  0.079289  0.092017    0.0  \n",
       "\n",
       "[288 rows x 48660 columns]"
      ]
     },
     "execution_count": 186,
     "metadata": {},
     "output_type": "execute_result"
    }
   ],
   "source": [
    "normalized_df"
   ]
  },
  {
   "cell_type": "code",
   "execution_count": 188,
   "id": "aeda4605",
   "metadata": {},
   "outputs": [],
   "source": [
    "X_balanced = normalized_df.iloc[:,:-1]\n",
    "y_balanced = normalized_df.iloc[:,-1]"
   ]
  },
  {
   "cell_type": "code",
   "execution_count": 189,
   "id": "1097e657",
   "metadata": {},
   "outputs": [],
   "source": [
    "X_train_b, X_test_b, y_train_b, y_test_b = train_test_split(X_balanced,y_balanced, test_size=0.2)"
   ]
  },
  {
   "cell_type": "code",
   "execution_count": 192,
   "id": "8099951d",
   "metadata": {},
   "outputs": [],
   "source": [
    "model4 = LogisticRegression(max_iter=1000)"
   ]
  },
  {
   "cell_type": "code",
   "execution_count": 193,
   "id": "061aab87",
   "metadata": {},
   "outputs": [
    {
     "data": {
      "text/html": [
       "<style>#sk-container-id-9 {color: black;background-color: white;}#sk-container-id-9 pre{padding: 0;}#sk-container-id-9 div.sk-toggleable {background-color: white;}#sk-container-id-9 label.sk-toggleable__label {cursor: pointer;display: block;width: 100%;margin-bottom: 0;padding: 0.3em;box-sizing: border-box;text-align: center;}#sk-container-id-9 label.sk-toggleable__label-arrow:before {content: \"▸\";float: left;margin-right: 0.25em;color: #696969;}#sk-container-id-9 label.sk-toggleable__label-arrow:hover:before {color: black;}#sk-container-id-9 div.sk-estimator:hover label.sk-toggleable__label-arrow:before {color: black;}#sk-container-id-9 div.sk-toggleable__content {max-height: 0;max-width: 0;overflow: hidden;text-align: left;background-color: #f0f8ff;}#sk-container-id-9 div.sk-toggleable__content pre {margin: 0.2em;color: black;border-radius: 0.25em;background-color: #f0f8ff;}#sk-container-id-9 input.sk-toggleable__control:checked~div.sk-toggleable__content {max-height: 200px;max-width: 100%;overflow: auto;}#sk-container-id-9 input.sk-toggleable__control:checked~label.sk-toggleable__label-arrow:before {content: \"▾\";}#sk-container-id-9 div.sk-estimator input.sk-toggleable__control:checked~label.sk-toggleable__label {background-color: #d4ebff;}#sk-container-id-9 div.sk-label input.sk-toggleable__control:checked~label.sk-toggleable__label {background-color: #d4ebff;}#sk-container-id-9 input.sk-hidden--visually {border: 0;clip: rect(1px 1px 1px 1px);clip: rect(1px, 1px, 1px, 1px);height: 1px;margin: -1px;overflow: hidden;padding: 0;position: absolute;width: 1px;}#sk-container-id-9 div.sk-estimator {font-family: monospace;background-color: #f0f8ff;border: 1px dotted black;border-radius: 0.25em;box-sizing: border-box;margin-bottom: 0.5em;}#sk-container-id-9 div.sk-estimator:hover {background-color: #d4ebff;}#sk-container-id-9 div.sk-parallel-item::after {content: \"\";width: 100%;border-bottom: 1px solid gray;flex-grow: 1;}#sk-container-id-9 div.sk-label:hover label.sk-toggleable__label {background-color: #d4ebff;}#sk-container-id-9 div.sk-serial::before {content: \"\";position: absolute;border-left: 1px solid gray;box-sizing: border-box;top: 0;bottom: 0;left: 50%;z-index: 0;}#sk-container-id-9 div.sk-serial {display: flex;flex-direction: column;align-items: center;background-color: white;padding-right: 0.2em;padding-left: 0.2em;position: relative;}#sk-container-id-9 div.sk-item {position: relative;z-index: 1;}#sk-container-id-9 div.sk-parallel {display: flex;align-items: stretch;justify-content: center;background-color: white;position: relative;}#sk-container-id-9 div.sk-item::before, #sk-container-id-9 div.sk-parallel-item::before {content: \"\";position: absolute;border-left: 1px solid gray;box-sizing: border-box;top: 0;bottom: 0;left: 50%;z-index: -1;}#sk-container-id-9 div.sk-parallel-item {display: flex;flex-direction: column;z-index: 1;position: relative;background-color: white;}#sk-container-id-9 div.sk-parallel-item:first-child::after {align-self: flex-end;width: 50%;}#sk-container-id-9 div.sk-parallel-item:last-child::after {align-self: flex-start;width: 50%;}#sk-container-id-9 div.sk-parallel-item:only-child::after {width: 0;}#sk-container-id-9 div.sk-dashed-wrapped {border: 1px dashed gray;margin: 0 0.4em 0.5em 0.4em;box-sizing: border-box;padding-bottom: 0.4em;background-color: white;}#sk-container-id-9 div.sk-label label {font-family: monospace;font-weight: bold;display: inline-block;line-height: 1.2em;}#sk-container-id-9 div.sk-label-container {text-align: center;}#sk-container-id-9 div.sk-container {/* jupyter's `normalize.less` sets `[hidden] { display: none; }` but bootstrap.min.css set `[hidden] { display: none !important; }` so we also need the `!important` here to be able to override the default hidden behavior on the sphinx rendered scikit-learn.org. See: https://github.com/scikit-learn/scikit-learn/issues/21755 */display: inline-block !important;position: relative;}#sk-container-id-9 div.sk-text-repr-fallback {display: none;}</style><div id=\"sk-container-id-9\" class=\"sk-top-container\"><div class=\"sk-text-repr-fallback\"><pre>LogisticRegression(max_iter=1000)</pre><b>In a Jupyter environment, please rerun this cell to show the HTML representation or trust the notebook. <br />On GitHub, the HTML representation is unable to render, please try loading this page with nbviewer.org.</b></div><div class=\"sk-container\" hidden><div class=\"sk-item\"><div class=\"sk-estimator sk-toggleable\"><input class=\"sk-toggleable__control sk-hidden--visually\" id=\"sk-estimator-id-9\" type=\"checkbox\" checked><label for=\"sk-estimator-id-9\" class=\"sk-toggleable__label sk-toggleable__label-arrow\">LogisticRegression</label><div class=\"sk-toggleable__content\"><pre>LogisticRegression(max_iter=1000)</pre></div></div></div></div></div>"
      ],
      "text/plain": [
       "LogisticRegression(max_iter=1000)"
      ]
     },
     "execution_count": 193,
     "metadata": {},
     "output_type": "execute_result"
    }
   ],
   "source": [
    "model4.fit(X_train_b,y_train_b)"
   ]
  },
  {
   "cell_type": "code",
   "execution_count": 194,
   "id": "33bdd9c5",
   "metadata": {},
   "outputs": [
    {
     "data": {
      "text/plain": [
       "0.5172413793103449"
      ]
     },
     "execution_count": 194,
     "metadata": {},
     "output_type": "execute_result"
    }
   ],
   "source": [
    "model4.score(X_test_b, y_test_b)"
   ]
  },
  {
   "cell_type": "code",
   "execution_count": 195,
   "id": "234fc491",
   "metadata": {},
   "outputs": [],
   "source": [
    "model5 = SVC()"
   ]
  },
  {
   "cell_type": "code",
   "execution_count": 196,
   "id": "01da2520",
   "metadata": {},
   "outputs": [
    {
     "data": {
      "text/html": [
       "<style>#sk-container-id-10 {color: black;background-color: white;}#sk-container-id-10 pre{padding: 0;}#sk-container-id-10 div.sk-toggleable {background-color: white;}#sk-container-id-10 label.sk-toggleable__label {cursor: pointer;display: block;width: 100%;margin-bottom: 0;padding: 0.3em;box-sizing: border-box;text-align: center;}#sk-container-id-10 label.sk-toggleable__label-arrow:before {content: \"▸\";float: left;margin-right: 0.25em;color: #696969;}#sk-container-id-10 label.sk-toggleable__label-arrow:hover:before {color: black;}#sk-container-id-10 div.sk-estimator:hover label.sk-toggleable__label-arrow:before {color: black;}#sk-container-id-10 div.sk-toggleable__content {max-height: 0;max-width: 0;overflow: hidden;text-align: left;background-color: #f0f8ff;}#sk-container-id-10 div.sk-toggleable__content pre {margin: 0.2em;color: black;border-radius: 0.25em;background-color: #f0f8ff;}#sk-container-id-10 input.sk-toggleable__control:checked~div.sk-toggleable__content {max-height: 200px;max-width: 100%;overflow: auto;}#sk-container-id-10 input.sk-toggleable__control:checked~label.sk-toggleable__label-arrow:before {content: \"▾\";}#sk-container-id-10 div.sk-estimator input.sk-toggleable__control:checked~label.sk-toggleable__label {background-color: #d4ebff;}#sk-container-id-10 div.sk-label input.sk-toggleable__control:checked~label.sk-toggleable__label {background-color: #d4ebff;}#sk-container-id-10 input.sk-hidden--visually {border: 0;clip: rect(1px 1px 1px 1px);clip: rect(1px, 1px, 1px, 1px);height: 1px;margin: -1px;overflow: hidden;padding: 0;position: absolute;width: 1px;}#sk-container-id-10 div.sk-estimator {font-family: monospace;background-color: #f0f8ff;border: 1px dotted black;border-radius: 0.25em;box-sizing: border-box;margin-bottom: 0.5em;}#sk-container-id-10 div.sk-estimator:hover {background-color: #d4ebff;}#sk-container-id-10 div.sk-parallel-item::after {content: \"\";width: 100%;border-bottom: 1px solid gray;flex-grow: 1;}#sk-container-id-10 div.sk-label:hover label.sk-toggleable__label {background-color: #d4ebff;}#sk-container-id-10 div.sk-serial::before {content: \"\";position: absolute;border-left: 1px solid gray;box-sizing: border-box;top: 0;bottom: 0;left: 50%;z-index: 0;}#sk-container-id-10 div.sk-serial {display: flex;flex-direction: column;align-items: center;background-color: white;padding-right: 0.2em;padding-left: 0.2em;position: relative;}#sk-container-id-10 div.sk-item {position: relative;z-index: 1;}#sk-container-id-10 div.sk-parallel {display: flex;align-items: stretch;justify-content: center;background-color: white;position: relative;}#sk-container-id-10 div.sk-item::before, #sk-container-id-10 div.sk-parallel-item::before {content: \"\";position: absolute;border-left: 1px solid gray;box-sizing: border-box;top: 0;bottom: 0;left: 50%;z-index: -1;}#sk-container-id-10 div.sk-parallel-item {display: flex;flex-direction: column;z-index: 1;position: relative;background-color: white;}#sk-container-id-10 div.sk-parallel-item:first-child::after {align-self: flex-end;width: 50%;}#sk-container-id-10 div.sk-parallel-item:last-child::after {align-self: flex-start;width: 50%;}#sk-container-id-10 div.sk-parallel-item:only-child::after {width: 0;}#sk-container-id-10 div.sk-dashed-wrapped {border: 1px dashed gray;margin: 0 0.4em 0.5em 0.4em;box-sizing: border-box;padding-bottom: 0.4em;background-color: white;}#sk-container-id-10 div.sk-label label {font-family: monospace;font-weight: bold;display: inline-block;line-height: 1.2em;}#sk-container-id-10 div.sk-label-container {text-align: center;}#sk-container-id-10 div.sk-container {/* jupyter's `normalize.less` sets `[hidden] { display: none; }` but bootstrap.min.css set `[hidden] { display: none !important; }` so we also need the `!important` here to be able to override the default hidden behavior on the sphinx rendered scikit-learn.org. See: https://github.com/scikit-learn/scikit-learn/issues/21755 */display: inline-block !important;position: relative;}#sk-container-id-10 div.sk-text-repr-fallback {display: none;}</style><div id=\"sk-container-id-10\" class=\"sk-top-container\"><div class=\"sk-text-repr-fallback\"><pre>SVC()</pre><b>In a Jupyter environment, please rerun this cell to show the HTML representation or trust the notebook. <br />On GitHub, the HTML representation is unable to render, please try loading this page with nbviewer.org.</b></div><div class=\"sk-container\" hidden><div class=\"sk-item\"><div class=\"sk-estimator sk-toggleable\"><input class=\"sk-toggleable__control sk-hidden--visually\" id=\"sk-estimator-id-10\" type=\"checkbox\" checked><label for=\"sk-estimator-id-10\" class=\"sk-toggleable__label sk-toggleable__label-arrow\">SVC</label><div class=\"sk-toggleable__content\"><pre>SVC()</pre></div></div></div></div></div>"
      ],
      "text/plain": [
       "SVC()"
      ]
     },
     "execution_count": 196,
     "metadata": {},
     "output_type": "execute_result"
    }
   ],
   "source": [
    "model5.fit(X_train_b,y_train_b)"
   ]
  },
  {
   "cell_type": "code",
   "execution_count": 197,
   "id": "d164c822",
   "metadata": {},
   "outputs": [
    {
     "data": {
      "text/plain": [
       "0.5344827586206896"
      ]
     },
     "execution_count": 197,
     "metadata": {},
     "output_type": "execute_result"
    }
   ],
   "source": [
    "model5.score(X_test_b, y_test_b)"
   ]
  },
  {
   "cell_type": "code",
   "execution_count": 198,
   "id": "2a0229dc",
   "metadata": {},
   "outputs": [],
   "source": [
    "model6=KNeighborsClassifier()"
   ]
  },
  {
   "cell_type": "code",
   "execution_count": 199,
   "id": "7efa25dd",
   "metadata": {},
   "outputs": [
    {
     "data": {
      "text/html": [
       "<style>#sk-container-id-11 {color: black;background-color: white;}#sk-container-id-11 pre{padding: 0;}#sk-container-id-11 div.sk-toggleable {background-color: white;}#sk-container-id-11 label.sk-toggleable__label {cursor: pointer;display: block;width: 100%;margin-bottom: 0;padding: 0.3em;box-sizing: border-box;text-align: center;}#sk-container-id-11 label.sk-toggleable__label-arrow:before {content: \"▸\";float: left;margin-right: 0.25em;color: #696969;}#sk-container-id-11 label.sk-toggleable__label-arrow:hover:before {color: black;}#sk-container-id-11 div.sk-estimator:hover label.sk-toggleable__label-arrow:before {color: black;}#sk-container-id-11 div.sk-toggleable__content {max-height: 0;max-width: 0;overflow: hidden;text-align: left;background-color: #f0f8ff;}#sk-container-id-11 div.sk-toggleable__content pre {margin: 0.2em;color: black;border-radius: 0.25em;background-color: #f0f8ff;}#sk-container-id-11 input.sk-toggleable__control:checked~div.sk-toggleable__content {max-height: 200px;max-width: 100%;overflow: auto;}#sk-container-id-11 input.sk-toggleable__control:checked~label.sk-toggleable__label-arrow:before {content: \"▾\";}#sk-container-id-11 div.sk-estimator input.sk-toggleable__control:checked~label.sk-toggleable__label {background-color: #d4ebff;}#sk-container-id-11 div.sk-label input.sk-toggleable__control:checked~label.sk-toggleable__label {background-color: #d4ebff;}#sk-container-id-11 input.sk-hidden--visually {border: 0;clip: rect(1px 1px 1px 1px);clip: rect(1px, 1px, 1px, 1px);height: 1px;margin: -1px;overflow: hidden;padding: 0;position: absolute;width: 1px;}#sk-container-id-11 div.sk-estimator {font-family: monospace;background-color: #f0f8ff;border: 1px dotted black;border-radius: 0.25em;box-sizing: border-box;margin-bottom: 0.5em;}#sk-container-id-11 div.sk-estimator:hover {background-color: #d4ebff;}#sk-container-id-11 div.sk-parallel-item::after {content: \"\";width: 100%;border-bottom: 1px solid gray;flex-grow: 1;}#sk-container-id-11 div.sk-label:hover label.sk-toggleable__label {background-color: #d4ebff;}#sk-container-id-11 div.sk-serial::before {content: \"\";position: absolute;border-left: 1px solid gray;box-sizing: border-box;top: 0;bottom: 0;left: 50%;z-index: 0;}#sk-container-id-11 div.sk-serial {display: flex;flex-direction: column;align-items: center;background-color: white;padding-right: 0.2em;padding-left: 0.2em;position: relative;}#sk-container-id-11 div.sk-item {position: relative;z-index: 1;}#sk-container-id-11 div.sk-parallel {display: flex;align-items: stretch;justify-content: center;background-color: white;position: relative;}#sk-container-id-11 div.sk-item::before, #sk-container-id-11 div.sk-parallel-item::before {content: \"\";position: absolute;border-left: 1px solid gray;box-sizing: border-box;top: 0;bottom: 0;left: 50%;z-index: -1;}#sk-container-id-11 div.sk-parallel-item {display: flex;flex-direction: column;z-index: 1;position: relative;background-color: white;}#sk-container-id-11 div.sk-parallel-item:first-child::after {align-self: flex-end;width: 50%;}#sk-container-id-11 div.sk-parallel-item:last-child::after {align-self: flex-start;width: 50%;}#sk-container-id-11 div.sk-parallel-item:only-child::after {width: 0;}#sk-container-id-11 div.sk-dashed-wrapped {border: 1px dashed gray;margin: 0 0.4em 0.5em 0.4em;box-sizing: border-box;padding-bottom: 0.4em;background-color: white;}#sk-container-id-11 div.sk-label label {font-family: monospace;font-weight: bold;display: inline-block;line-height: 1.2em;}#sk-container-id-11 div.sk-label-container {text-align: center;}#sk-container-id-11 div.sk-container {/* jupyter's `normalize.less` sets `[hidden] { display: none; }` but bootstrap.min.css set `[hidden] { display: none !important; }` so we also need the `!important` here to be able to override the default hidden behavior on the sphinx rendered scikit-learn.org. See: https://github.com/scikit-learn/scikit-learn/issues/21755 */display: inline-block !important;position: relative;}#sk-container-id-11 div.sk-text-repr-fallback {display: none;}</style><div id=\"sk-container-id-11\" class=\"sk-top-container\"><div class=\"sk-text-repr-fallback\"><pre>KNeighborsClassifier()</pre><b>In a Jupyter environment, please rerun this cell to show the HTML representation or trust the notebook. <br />On GitHub, the HTML representation is unable to render, please try loading this page with nbviewer.org.</b></div><div class=\"sk-container\" hidden><div class=\"sk-item\"><div class=\"sk-estimator sk-toggleable\"><input class=\"sk-toggleable__control sk-hidden--visually\" id=\"sk-estimator-id-11\" type=\"checkbox\" checked><label for=\"sk-estimator-id-11\" class=\"sk-toggleable__label sk-toggleable__label-arrow\">KNeighborsClassifier</label><div class=\"sk-toggleable__content\"><pre>KNeighborsClassifier()</pre></div></div></div></div></div>"
      ],
      "text/plain": [
       "KNeighborsClassifier()"
      ]
     },
     "execution_count": 199,
     "metadata": {},
     "output_type": "execute_result"
    }
   ],
   "source": [
    "model6.fit(X_train_b,y_train_b)"
   ]
  },
  {
   "cell_type": "code",
   "execution_count": 200,
   "id": "b35e066a",
   "metadata": {},
   "outputs": [
    {
     "data": {
      "text/plain": [
       "0.5689655172413793"
      ]
     },
     "execution_count": 200,
     "metadata": {},
     "output_type": "execute_result"
    }
   ],
   "source": [
    "model6.score(X_test_b, y_test_b)"
   ]
  },
  {
   "cell_type": "code",
   "execution_count": 202,
   "id": "0e1bf08e",
   "metadata": {},
   "outputs": [],
   "source": [
    "y6 = model6.predict(X_test_b)"
   ]
  },
  {
   "cell_type": "code",
   "execution_count": 203,
   "id": "ddaae932",
   "metadata": {},
   "outputs": [
    {
     "data": {
      "text/plain": [
       "0.36666666666666664"
      ]
     },
     "execution_count": 203,
     "metadata": {},
     "output_type": "execute_result"
    }
   ],
   "source": [
    "recall_score(y_test_b, y6)"
   ]
  },
  {
   "cell_type": "code",
   "execution_count": 201,
   "id": "e155f8ac",
   "metadata": {},
   "outputs": [
    {
     "data": {
      "text/plain": [
       "0.5172413793103449"
      ]
     },
     "execution_count": 201,
     "metadata": {},
     "output_type": "execute_result"
    }
   ],
   "source": [
    "baseline_model = DummyClassifier(strategy=\"most_frequent\")\n",
    "baseline_model.fit(X_train_b, y_train_b)\n",
    "baseline_model.score(X_test_b, y_test_b)"
   ]
  },
  {
   "cell_type": "markdown",
   "id": "842d464a",
   "metadata": {},
   "source": [
    "### over"
   ]
  },
  {
   "cell_type": "code",
   "execution_count": 84,
   "id": "99a6c90a",
   "metadata": {},
   "outputs": [],
   "source": [
    "from imblearn.over_sampling import SMOTE\n",
    "\n",
    "# Resample the minority class. You can change the strategy to 'auto' if you are not sure.\n",
    "sm = SMOTE(sampling_strategy='minority', random_state=7)\n",
    "\n",
    "# Fit the model to generate the data.\n",
    "oversampled_trainX, oversampled_trainY = sm.fit_resample(X_train, y_train)\n",
    "oversampled_train = pd.concat([pd.DataFrame(oversampled_trainY), pd.DataFrame(oversampled_trainX)], axis=1)\n",
    "oversampled_train.columns = df.columns"
   ]
  },
  {
   "cell_type": "code",
   "execution_count": 85,
   "id": "10d7093a",
   "metadata": {},
   "outputs": [
    {
     "data": {
      "text/html": [
       "<div>\n",
       "<style scoped>\n",
       "    .dataframe tbody tr th:only-of-type {\n",
       "        vertical-align: middle;\n",
       "    }\n",
       "\n",
       "    .dataframe tbody tr th {\n",
       "        vertical-align: top;\n",
       "    }\n",
       "\n",
       "    .dataframe thead th {\n",
       "        text-align: right;\n",
       "    }\n",
       "</style>\n",
       "<table border=\"1\" class=\"dataframe\">\n",
       "  <thead>\n",
       "    <tr style=\"text-align: right;\">\n",
       "      <th></th>\n",
       "      <th>0</th>\n",
       "      <th>1</th>\n",
       "      <th>2</th>\n",
       "      <th>3</th>\n",
       "      <th>4</th>\n",
       "      <th>5</th>\n",
       "      <th>6</th>\n",
       "      <th>7</th>\n",
       "      <th>8</th>\n",
       "      <th>9</th>\n",
       "      <th>...</th>\n",
       "      <th>48649</th>\n",
       "      <th>48650</th>\n",
       "      <th>48651</th>\n",
       "      <th>48652</th>\n",
       "      <th>48653</th>\n",
       "      <th>48654</th>\n",
       "      <th>48655</th>\n",
       "      <th>48656</th>\n",
       "      <th>48657</th>\n",
       "      <th>48658</th>\n",
       "    </tr>\n",
       "  </thead>\n",
       "  <tbody>\n",
       "    <tr>\n",
       "      <th>0</th>\n",
       "      <td>193.176266</td>\n",
       "      <td>2686.181899</td>\n",
       "      <td>1996.764909</td>\n",
       "      <td>2118.418608</td>\n",
       "      <td>1826.991330</td>\n",
       "      <td>1680.282926</td>\n",
       "      <td>3508.336513</td>\n",
       "      <td>535.545434</td>\n",
       "      <td>2825.465772</td>\n",
       "      <td>3792.339667</td>\n",
       "      <td>...</td>\n",
       "      <td>358.828358</td>\n",
       "      <td>783.630590</td>\n",
       "      <td>414.687849</td>\n",
       "      <td>1127.954887</td>\n",
       "      <td>517.757540</td>\n",
       "      <td>196.782641</td>\n",
       "      <td>617.632175</td>\n",
       "      <td>227.557558</td>\n",
       "      <td>589.557452</td>\n",
       "      <td>426.816025</td>\n",
       "    </tr>\n",
       "    <tr>\n",
       "      <th>1</th>\n",
       "      <td>2173.551811</td>\n",
       "      <td>1675.307258</td>\n",
       "      <td>761.304132</td>\n",
       "      <td>1646.762816</td>\n",
       "      <td>1115.060088</td>\n",
       "      <td>1200.202330</td>\n",
       "      <td>1784.223869</td>\n",
       "      <td>893.800042</td>\n",
       "      <td>1096.030010</td>\n",
       "      <td>278.552663</td>\n",
       "      <td>...</td>\n",
       "      <td>660.936592</td>\n",
       "      <td>149.459110</td>\n",
       "      <td>478.894215</td>\n",
       "      <td>461.798643</td>\n",
       "      <td>463.041128</td>\n",
       "      <td>472.146496</td>\n",
       "      <td>423.461511</td>\n",
       "      <td>176.796988</td>\n",
       "      <td>434.471621</td>\n",
       "      <td>417.506073</td>\n",
       "    </tr>\n",
       "    <tr>\n",
       "      <th>2</th>\n",
       "      <td>3468.525976</td>\n",
       "      <td>2583.818016</td>\n",
       "      <td>3868.946596</td>\n",
       "      <td>1185.168312</td>\n",
       "      <td>1873.815161</td>\n",
       "      <td>455.283198</td>\n",
       "      <td>2499.691376</td>\n",
       "      <td>1942.226932</td>\n",
       "      <td>1964.140056</td>\n",
       "      <td>1882.294127</td>\n",
       "      <td>...</td>\n",
       "      <td>556.879265</td>\n",
       "      <td>361.237333</td>\n",
       "      <td>742.643962</td>\n",
       "      <td>900.605679</td>\n",
       "      <td>328.159982</td>\n",
       "      <td>865.022462</td>\n",
       "      <td>233.824058</td>\n",
       "      <td>164.688119</td>\n",
       "      <td>436.770877</td>\n",
       "      <td>993.112095</td>\n",
       "    </tr>\n",
       "    <tr>\n",
       "      <th>3</th>\n",
       "      <td>1757.749326</td>\n",
       "      <td>555.038546</td>\n",
       "      <td>576.529336</td>\n",
       "      <td>4137.794451</td>\n",
       "      <td>2703.996088</td>\n",
       "      <td>784.866735</td>\n",
       "      <td>3178.712850</td>\n",
       "      <td>3838.756628</td>\n",
       "      <td>4659.648832</td>\n",
       "      <td>2864.902976</td>\n",
       "      <td>...</td>\n",
       "      <td>997.729287</td>\n",
       "      <td>531.129040</td>\n",
       "      <td>673.096303</td>\n",
       "      <td>575.369930</td>\n",
       "      <td>821.834016</td>\n",
       "      <td>813.966516</td>\n",
       "      <td>1140.468871</td>\n",
       "      <td>580.214812</td>\n",
       "      <td>730.943214</td>\n",
       "      <td>788.662329</td>\n",
       "    </tr>\n",
       "    <tr>\n",
       "      <th>4</th>\n",
       "      <td>2565.052583</td>\n",
       "      <td>673.357813</td>\n",
       "      <td>1890.285157</td>\n",
       "      <td>1005.263202</td>\n",
       "      <td>1505.499236</td>\n",
       "      <td>2094.020086</td>\n",
       "      <td>345.417070</td>\n",
       "      <td>2232.734304</td>\n",
       "      <td>1221.677019</td>\n",
       "      <td>691.788416</td>\n",
       "      <td>...</td>\n",
       "      <td>328.608434</td>\n",
       "      <td>160.560268</td>\n",
       "      <td>584.461009</td>\n",
       "      <td>691.778852</td>\n",
       "      <td>329.214005</td>\n",
       "      <td>368.933391</td>\n",
       "      <td>648.777254</td>\n",
       "      <td>481.238188</td>\n",
       "      <td>227.535457</td>\n",
       "      <td>251.642762</td>\n",
       "    </tr>\n",
       "    <tr>\n",
       "      <th>...</th>\n",
       "      <td>...</td>\n",
       "      <td>...</td>\n",
       "      <td>...</td>\n",
       "      <td>...</td>\n",
       "      <td>...</td>\n",
       "      <td>...</td>\n",
       "      <td>...</td>\n",
       "      <td>...</td>\n",
       "      <td>...</td>\n",
       "      <td>...</td>\n",
       "      <td>...</td>\n",
       "      <td>...</td>\n",
       "      <td>...</td>\n",
       "      <td>...</td>\n",
       "      <td>...</td>\n",
       "      <td>...</td>\n",
       "      <td>...</td>\n",
       "      <td>...</td>\n",
       "      <td>...</td>\n",
       "      <td>...</td>\n",
       "      <td>...</td>\n",
       "    </tr>\n",
       "    <tr>\n",
       "      <th>1033</th>\n",
       "      <td>12155.470066</td>\n",
       "      <td>7841.781857</td>\n",
       "      <td>5361.711177</td>\n",
       "      <td>22312.601007</td>\n",
       "      <td>12854.386719</td>\n",
       "      <td>13781.935440</td>\n",
       "      <td>18176.831373</td>\n",
       "      <td>6238.075077</td>\n",
       "      <td>27116.309460</td>\n",
       "      <td>6479.342310</td>\n",
       "      <td>...</td>\n",
       "      <td>17563.300436</td>\n",
       "      <td>4017.464214</td>\n",
       "      <td>14306.787871</td>\n",
       "      <td>9219.579672</td>\n",
       "      <td>18160.053552</td>\n",
       "      <td>26156.396760</td>\n",
       "      <td>16816.504474</td>\n",
       "      <td>5955.818394</td>\n",
       "      <td>9918.089873</td>\n",
       "      <td>17824.507043</td>\n",
       "    </tr>\n",
       "    <tr>\n",
       "      <th>1034</th>\n",
       "      <td>3739.951013</td>\n",
       "      <td>4481.338679</td>\n",
       "      <td>3663.294887</td>\n",
       "      <td>3362.595787</td>\n",
       "      <td>2462.174575</td>\n",
       "      <td>2910.808832</td>\n",
       "      <td>4033.449468</td>\n",
       "      <td>1671.703184</td>\n",
       "      <td>3975.766941</td>\n",
       "      <td>1602.706908</td>\n",
       "      <td>...</td>\n",
       "      <td>445.091856</td>\n",
       "      <td>896.695389</td>\n",
       "      <td>1027.289793</td>\n",
       "      <td>348.222195</td>\n",
       "      <td>1162.095372</td>\n",
       "      <td>953.419146</td>\n",
       "      <td>759.145781</td>\n",
       "      <td>1015.837614</td>\n",
       "      <td>1015.741341</td>\n",
       "      <td>1367.754114</td>\n",
       "    </tr>\n",
       "    <tr>\n",
       "      <th>1035</th>\n",
       "      <td>2897.435238</td>\n",
       "      <td>1912.736592</td>\n",
       "      <td>2827.266267</td>\n",
       "      <td>4760.616956</td>\n",
       "      <td>2177.603804</td>\n",
       "      <td>5824.467188</td>\n",
       "      <td>2530.843238</td>\n",
       "      <td>2905.318409</td>\n",
       "      <td>5083.519480</td>\n",
       "      <td>2596.058314</td>\n",
       "      <td>...</td>\n",
       "      <td>816.169127</td>\n",
       "      <td>747.199064</td>\n",
       "      <td>655.644200</td>\n",
       "      <td>904.099963</td>\n",
       "      <td>535.797210</td>\n",
       "      <td>983.079940</td>\n",
       "      <td>1125.003619</td>\n",
       "      <td>620.777458</td>\n",
       "      <td>469.820315</td>\n",
       "      <td>510.937936</td>\n",
       "    </tr>\n",
       "    <tr>\n",
       "      <th>1036</th>\n",
       "      <td>4456.256822</td>\n",
       "      <td>851.618968</td>\n",
       "      <td>3286.773733</td>\n",
       "      <td>1443.678333</td>\n",
       "      <td>3235.982043</td>\n",
       "      <td>3523.759968</td>\n",
       "      <td>2717.016680</td>\n",
       "      <td>4054.120138</td>\n",
       "      <td>3305.518132</td>\n",
       "      <td>3714.920147</td>\n",
       "      <td>...</td>\n",
       "      <td>308.456908</td>\n",
       "      <td>1251.094048</td>\n",
       "      <td>820.517782</td>\n",
       "      <td>247.588947</td>\n",
       "      <td>884.606159</td>\n",
       "      <td>645.903950</td>\n",
       "      <td>387.671093</td>\n",
       "      <td>390.711060</td>\n",
       "      <td>806.330069</td>\n",
       "      <td>472.660219</td>\n",
       "    </tr>\n",
       "    <tr>\n",
       "      <th>1037</th>\n",
       "      <td>3465.051955</td>\n",
       "      <td>3528.710691</td>\n",
       "      <td>1195.765596</td>\n",
       "      <td>3589.286353</td>\n",
       "      <td>3427.380973</td>\n",
       "      <td>3813.983605</td>\n",
       "      <td>6163.747978</td>\n",
       "      <td>1232.890354</td>\n",
       "      <td>3524.868373</td>\n",
       "      <td>2068.703071</td>\n",
       "      <td>...</td>\n",
       "      <td>634.470245</td>\n",
       "      <td>625.175749</td>\n",
       "      <td>275.507575</td>\n",
       "      <td>589.374851</td>\n",
       "      <td>401.916054</td>\n",
       "      <td>376.315732</td>\n",
       "      <td>270.550873</td>\n",
       "      <td>327.376753</td>\n",
       "      <td>610.547971</td>\n",
       "      <td>281.225159</td>\n",
       "    </tr>\n",
       "  </tbody>\n",
       "</table>\n",
       "<p>1038 rows × 48659 columns</p>\n",
       "</div>"
      ],
      "text/plain": [
       "             0            1            2             3             4      \\\n",
       "0       193.176266  2686.181899  1996.764909   2118.418608   1826.991330   \n",
       "1      2173.551811  1675.307258   761.304132   1646.762816   1115.060088   \n",
       "2      3468.525976  2583.818016  3868.946596   1185.168312   1873.815161   \n",
       "3      1757.749326   555.038546   576.529336   4137.794451   2703.996088   \n",
       "4      2565.052583   673.357813  1890.285157   1005.263202   1505.499236   \n",
       "...            ...          ...          ...           ...           ...   \n",
       "1033  12155.470066  7841.781857  5361.711177  22312.601007  12854.386719   \n",
       "1034   3739.951013  4481.338679  3663.294887   3362.595787   2462.174575   \n",
       "1035   2897.435238  1912.736592  2827.266267   4760.616956   2177.603804   \n",
       "1036   4456.256822   851.618968  3286.773733   1443.678333   3235.982043   \n",
       "1037   3465.051955  3528.710691  1195.765596   3589.286353   3427.380973   \n",
       "\n",
       "             5             6            7             8            9      ...  \\\n",
       "0      1680.282926   3508.336513   535.545434   2825.465772  3792.339667  ...   \n",
       "1      1200.202330   1784.223869   893.800042   1096.030010   278.552663  ...   \n",
       "2       455.283198   2499.691376  1942.226932   1964.140056  1882.294127  ...   \n",
       "3       784.866735   3178.712850  3838.756628   4659.648832  2864.902976  ...   \n",
       "4      2094.020086    345.417070  2232.734304   1221.677019   691.788416  ...   \n",
       "...            ...           ...          ...           ...          ...  ...   \n",
       "1033  13781.935440  18176.831373  6238.075077  27116.309460  6479.342310  ...   \n",
       "1034   2910.808832   4033.449468  1671.703184   3975.766941  1602.706908  ...   \n",
       "1035   5824.467188   2530.843238  2905.318409   5083.519480  2596.058314  ...   \n",
       "1036   3523.759968   2717.016680  4054.120138   3305.518132  3714.920147  ...   \n",
       "1037   3813.983605   6163.747978  1232.890354   3524.868373  2068.703071  ...   \n",
       "\n",
       "             48649        48650         48651        48652         48653  \\\n",
       "0       358.828358   783.630590    414.687849  1127.954887    517.757540   \n",
       "1       660.936592   149.459110    478.894215   461.798643    463.041128   \n",
       "2       556.879265   361.237333    742.643962   900.605679    328.159982   \n",
       "3       997.729287   531.129040    673.096303   575.369930    821.834016   \n",
       "4       328.608434   160.560268    584.461009   691.778852    329.214005   \n",
       "...            ...          ...           ...          ...           ...   \n",
       "1033  17563.300436  4017.464214  14306.787871  9219.579672  18160.053552   \n",
       "1034    445.091856   896.695389   1027.289793   348.222195   1162.095372   \n",
       "1035    816.169127   747.199064    655.644200   904.099963    535.797210   \n",
       "1036    308.456908  1251.094048    820.517782   247.588947    884.606159   \n",
       "1037    634.470245   625.175749    275.507575   589.374851    401.916054   \n",
       "\n",
       "             48654         48655        48656        48657         48658  \n",
       "0       196.782641    617.632175   227.557558   589.557452    426.816025  \n",
       "1       472.146496    423.461511   176.796988   434.471621    417.506073  \n",
       "2       865.022462    233.824058   164.688119   436.770877    993.112095  \n",
       "3       813.966516   1140.468871   580.214812   730.943214    788.662329  \n",
       "4       368.933391    648.777254   481.238188   227.535457    251.642762  \n",
       "...            ...           ...          ...          ...           ...  \n",
       "1033  26156.396760  16816.504474  5955.818394  9918.089873  17824.507043  \n",
       "1034    953.419146    759.145781  1015.837614  1015.741341   1367.754114  \n",
       "1035    983.079940   1125.003619   620.777458   469.820315    510.937936  \n",
       "1036    645.903950    387.671093   390.711060   806.330069    472.660219  \n",
       "1037    376.315732    270.550873   327.376753   610.547971    281.225159  \n",
       "\n",
       "[1038 rows x 48659 columns]"
      ]
     },
     "execution_count": 85,
     "metadata": {},
     "output_type": "execute_result"
    }
   ],
   "source": [
    "oversampled_trainX"
   ]
  },
  {
   "cell_type": "code",
   "execution_count": 101,
   "id": "bf5923da",
   "metadata": {},
   "outputs": [
    {
     "data": {
      "text/html": [
       "<style>#sk-container-id-1 {color: black;background-color: white;}#sk-container-id-1 pre{padding: 0;}#sk-container-id-1 div.sk-toggleable {background-color: white;}#sk-container-id-1 label.sk-toggleable__label {cursor: pointer;display: block;width: 100%;margin-bottom: 0;padding: 0.3em;box-sizing: border-box;text-align: center;}#sk-container-id-1 label.sk-toggleable__label-arrow:before {content: \"▸\";float: left;margin-right: 0.25em;color: #696969;}#sk-container-id-1 label.sk-toggleable__label-arrow:hover:before {color: black;}#sk-container-id-1 div.sk-estimator:hover label.sk-toggleable__label-arrow:before {color: black;}#sk-container-id-1 div.sk-toggleable__content {max-height: 0;max-width: 0;overflow: hidden;text-align: left;background-color: #f0f8ff;}#sk-container-id-1 div.sk-toggleable__content pre {margin: 0.2em;color: black;border-radius: 0.25em;background-color: #f0f8ff;}#sk-container-id-1 input.sk-toggleable__control:checked~div.sk-toggleable__content {max-height: 200px;max-width: 100%;overflow: auto;}#sk-container-id-1 input.sk-toggleable__control:checked~label.sk-toggleable__label-arrow:before {content: \"▾\";}#sk-container-id-1 div.sk-estimator input.sk-toggleable__control:checked~label.sk-toggleable__label {background-color: #d4ebff;}#sk-container-id-1 div.sk-label input.sk-toggleable__control:checked~label.sk-toggleable__label {background-color: #d4ebff;}#sk-container-id-1 input.sk-hidden--visually {border: 0;clip: rect(1px 1px 1px 1px);clip: rect(1px, 1px, 1px, 1px);height: 1px;margin: -1px;overflow: hidden;padding: 0;position: absolute;width: 1px;}#sk-container-id-1 div.sk-estimator {font-family: monospace;background-color: #f0f8ff;border: 1px dotted black;border-radius: 0.25em;box-sizing: border-box;margin-bottom: 0.5em;}#sk-container-id-1 div.sk-estimator:hover {background-color: #d4ebff;}#sk-container-id-1 div.sk-parallel-item::after {content: \"\";width: 100%;border-bottom: 1px solid gray;flex-grow: 1;}#sk-container-id-1 div.sk-label:hover label.sk-toggleable__label {background-color: #d4ebff;}#sk-container-id-1 div.sk-serial::before {content: \"\";position: absolute;border-left: 1px solid gray;box-sizing: border-box;top: 0;bottom: 0;left: 50%;z-index: 0;}#sk-container-id-1 div.sk-serial {display: flex;flex-direction: column;align-items: center;background-color: white;padding-right: 0.2em;padding-left: 0.2em;position: relative;}#sk-container-id-1 div.sk-item {position: relative;z-index: 1;}#sk-container-id-1 div.sk-parallel {display: flex;align-items: stretch;justify-content: center;background-color: white;position: relative;}#sk-container-id-1 div.sk-item::before, #sk-container-id-1 div.sk-parallel-item::before {content: \"\";position: absolute;border-left: 1px solid gray;box-sizing: border-box;top: 0;bottom: 0;left: 50%;z-index: -1;}#sk-container-id-1 div.sk-parallel-item {display: flex;flex-direction: column;z-index: 1;position: relative;background-color: white;}#sk-container-id-1 div.sk-parallel-item:first-child::after {align-self: flex-end;width: 50%;}#sk-container-id-1 div.sk-parallel-item:last-child::after {align-self: flex-start;width: 50%;}#sk-container-id-1 div.sk-parallel-item:only-child::after {width: 0;}#sk-container-id-1 div.sk-dashed-wrapped {border: 1px dashed gray;margin: 0 0.4em 0.5em 0.4em;box-sizing: border-box;padding-bottom: 0.4em;background-color: white;}#sk-container-id-1 div.sk-label label {font-family: monospace;font-weight: bold;display: inline-block;line-height: 1.2em;}#sk-container-id-1 div.sk-label-container {text-align: center;}#sk-container-id-1 div.sk-container {/* jupyter's `normalize.less` sets `[hidden] { display: none; }` but bootstrap.min.css set `[hidden] { display: none !important; }` so we also need the `!important` here to be able to override the default hidden behavior on the sphinx rendered scikit-learn.org. See: https://github.com/scikit-learn/scikit-learn/issues/21755 */display: inline-block !important;position: relative;}#sk-container-id-1 div.sk-text-repr-fallback {display: none;}</style><div id=\"sk-container-id-1\" class=\"sk-top-container\"><div class=\"sk-text-repr-fallback\"><pre>MinMaxScaler()</pre><b>In a Jupyter environment, please rerun this cell to show the HTML representation or trust the notebook. <br />On GitHub, the HTML representation is unable to render, please try loading this page with nbviewer.org.</b></div><div class=\"sk-container\" hidden><div class=\"sk-item\"><div class=\"sk-estimator sk-toggleable\"><input class=\"sk-toggleable__control sk-hidden--visually\" id=\"sk-estimator-id-1\" type=\"checkbox\" checked><label for=\"sk-estimator-id-1\" class=\"sk-toggleable__label sk-toggleable__label-arrow\">MinMaxScaler</label><div class=\"sk-toggleable__content\"><pre>MinMaxScaler()</pre></div></div></div></div></div>"
      ],
      "text/plain": [
       "MinMaxScaler()"
      ]
     },
     "execution_count": 101,
     "metadata": {},
     "output_type": "execute_result"
    }
   ],
   "source": [
    "scaler_2 = MinMaxScaler()\n",
    "scaler_2.fit(oversampled_trainX)"
   ]
  },
  {
   "cell_type": "code",
   "execution_count": 102,
   "id": "a15a348a",
   "metadata": {},
   "outputs": [],
   "source": [
    "X_train_scaled = scaler_2.transform(oversampled_trainX)"
   ]
  },
  {
   "cell_type": "code",
   "execution_count": 103,
   "id": "229a9e3c",
   "metadata": {},
   "outputs": [
    {
     "data": {
      "text/plain": [
       "array([[0.00032583, 0.01019532, 0.00685976, ..., 0.00087603, 0.00367628,\n",
       "        0.00198615],\n",
       "       [0.00438787, 0.00634886, 0.0025547 , ..., 0.00067688, 0.00270273,\n",
       "        0.00194232],\n",
       "       [0.00704405, 0.00980581, 0.01338353, ..., 0.00062937, 0.00271716,\n",
       "        0.00465245],\n",
       "       ...,\n",
       "       [0.00587266, 0.0072523 , 0.00975371, ..., 0.00241873, 0.00292463,\n",
       "        0.00238222],\n",
       "       [0.00907004, 0.00321467, 0.0113549 , ..., 0.00151612, 0.00503707,\n",
       "        0.002202  ],\n",
       "       [0.00703693, 0.0134012 , 0.00406861, ..., 0.00126764, 0.00380805,\n",
       "        0.00130066]])"
      ]
     },
     "execution_count": 103,
     "metadata": {},
     "output_type": "execute_result"
    }
   ],
   "source": [
    "X_train_scaled"
   ]
  },
  {
   "cell_type": "code",
   "execution_count": 104,
   "id": "bc2c0da7",
   "metadata": {},
   "outputs": [],
   "source": [
    "model = SVC()"
   ]
  },
  {
   "cell_type": "code",
   "execution_count": 105,
   "id": "5fcb457f",
   "metadata": {},
   "outputs": [
    {
     "data": {
      "text/html": [
       "<style>#sk-container-id-2 {color: black;background-color: white;}#sk-container-id-2 pre{padding: 0;}#sk-container-id-2 div.sk-toggleable {background-color: white;}#sk-container-id-2 label.sk-toggleable__label {cursor: pointer;display: block;width: 100%;margin-bottom: 0;padding: 0.3em;box-sizing: border-box;text-align: center;}#sk-container-id-2 label.sk-toggleable__label-arrow:before {content: \"▸\";float: left;margin-right: 0.25em;color: #696969;}#sk-container-id-2 label.sk-toggleable__label-arrow:hover:before {color: black;}#sk-container-id-2 div.sk-estimator:hover label.sk-toggleable__label-arrow:before {color: black;}#sk-container-id-2 div.sk-toggleable__content {max-height: 0;max-width: 0;overflow: hidden;text-align: left;background-color: #f0f8ff;}#sk-container-id-2 div.sk-toggleable__content pre {margin: 0.2em;color: black;border-radius: 0.25em;background-color: #f0f8ff;}#sk-container-id-2 input.sk-toggleable__control:checked~div.sk-toggleable__content {max-height: 200px;max-width: 100%;overflow: auto;}#sk-container-id-2 input.sk-toggleable__control:checked~label.sk-toggleable__label-arrow:before {content: \"▾\";}#sk-container-id-2 div.sk-estimator input.sk-toggleable__control:checked~label.sk-toggleable__label {background-color: #d4ebff;}#sk-container-id-2 div.sk-label input.sk-toggleable__control:checked~label.sk-toggleable__label {background-color: #d4ebff;}#sk-container-id-2 input.sk-hidden--visually {border: 0;clip: rect(1px 1px 1px 1px);clip: rect(1px, 1px, 1px, 1px);height: 1px;margin: -1px;overflow: hidden;padding: 0;position: absolute;width: 1px;}#sk-container-id-2 div.sk-estimator {font-family: monospace;background-color: #f0f8ff;border: 1px dotted black;border-radius: 0.25em;box-sizing: border-box;margin-bottom: 0.5em;}#sk-container-id-2 div.sk-estimator:hover {background-color: #d4ebff;}#sk-container-id-2 div.sk-parallel-item::after {content: \"\";width: 100%;border-bottom: 1px solid gray;flex-grow: 1;}#sk-container-id-2 div.sk-label:hover label.sk-toggleable__label {background-color: #d4ebff;}#sk-container-id-2 div.sk-serial::before {content: \"\";position: absolute;border-left: 1px solid gray;box-sizing: border-box;top: 0;bottom: 0;left: 50%;z-index: 0;}#sk-container-id-2 div.sk-serial {display: flex;flex-direction: column;align-items: center;background-color: white;padding-right: 0.2em;padding-left: 0.2em;position: relative;}#sk-container-id-2 div.sk-item {position: relative;z-index: 1;}#sk-container-id-2 div.sk-parallel {display: flex;align-items: stretch;justify-content: center;background-color: white;position: relative;}#sk-container-id-2 div.sk-item::before, #sk-container-id-2 div.sk-parallel-item::before {content: \"\";position: absolute;border-left: 1px solid gray;box-sizing: border-box;top: 0;bottom: 0;left: 50%;z-index: -1;}#sk-container-id-2 div.sk-parallel-item {display: flex;flex-direction: column;z-index: 1;position: relative;background-color: white;}#sk-container-id-2 div.sk-parallel-item:first-child::after {align-self: flex-end;width: 50%;}#sk-container-id-2 div.sk-parallel-item:last-child::after {align-self: flex-start;width: 50%;}#sk-container-id-2 div.sk-parallel-item:only-child::after {width: 0;}#sk-container-id-2 div.sk-dashed-wrapped {border: 1px dashed gray;margin: 0 0.4em 0.5em 0.4em;box-sizing: border-box;padding-bottom: 0.4em;background-color: white;}#sk-container-id-2 div.sk-label label {font-family: monospace;font-weight: bold;display: inline-block;line-height: 1.2em;}#sk-container-id-2 div.sk-label-container {text-align: center;}#sk-container-id-2 div.sk-container {/* jupyter's `normalize.less` sets `[hidden] { display: none; }` but bootstrap.min.css set `[hidden] { display: none !important; }` so we also need the `!important` here to be able to override the default hidden behavior on the sphinx rendered scikit-learn.org. See: https://github.com/scikit-learn/scikit-learn/issues/21755 */display: inline-block !important;position: relative;}#sk-container-id-2 div.sk-text-repr-fallback {display: none;}</style><div id=\"sk-container-id-2\" class=\"sk-top-container\"><div class=\"sk-text-repr-fallback\"><pre>SVC()</pre><b>In a Jupyter environment, please rerun this cell to show the HTML representation or trust the notebook. <br />On GitHub, the HTML representation is unable to render, please try loading this page with nbviewer.org.</b></div><div class=\"sk-container\" hidden><div class=\"sk-item\"><div class=\"sk-estimator sk-toggleable\"><input class=\"sk-toggleable__control sk-hidden--visually\" id=\"sk-estimator-id-2\" type=\"checkbox\" checked><label for=\"sk-estimator-id-2\" class=\"sk-toggleable__label sk-toggleable__label-arrow\">SVC</label><div class=\"sk-toggleable__content\"><pre>SVC()</pre></div></div></div></div></div>"
      ],
      "text/plain": [
       "SVC()"
      ]
     },
     "execution_count": 105,
     "metadata": {},
     "output_type": "execute_result"
    }
   ],
   "source": [
    "model.fit(X_train_scaled, oversampled_trainY)"
   ]
  },
  {
   "cell_type": "code",
   "execution_count": 106,
   "id": "8e9ce259",
   "metadata": {},
   "outputs": [],
   "source": [
    "cv_score_svc = cross_val_score(model, oversampled_trainX, oversampled_trainY, cv=5, scoring=\"recall\")"
   ]
  },
  {
   "cell_type": "code",
   "execution_count": 107,
   "id": "59662177",
   "metadata": {},
   "outputs": [
    {
     "data": {
      "text/plain": [
       "0.5607169529499627"
      ]
     },
     "execution_count": 107,
     "metadata": {},
     "output_type": "execute_result"
    }
   ],
   "source": [
    "cv_score_svc.mean()"
   ]
  },
  {
   "cell_type": "code",
   "execution_count": 86,
   "id": "54dfda14",
   "metadata": {},
   "outputs": [
    {
     "data": {
      "text/plain": [
       "(array([0., 1.]), array([519, 519]))"
      ]
     },
     "execution_count": 86,
     "metadata": {},
     "output_type": "execute_result"
    }
   ],
   "source": [
    "np.unique(oversampled_trainY, return_counts=True)"
   ]
  },
  {
   "cell_type": "code",
   "execution_count": 100,
   "id": "f8f8916e",
   "metadata": {},
   "outputs": [
    {
     "data": {
      "text/plain": [
       "(array([906.,  80.,  20.,  11.,   7.,   1.,   2.,   2.,   2.,   1.,   0.,\n",
       "          1.,   2.,   0.,   0.,   0.,   1.,   0.,   1.,   0.,   0.,   0.,\n",
       "          0.,   0.,   0.,   0.,   0.,   0.,   0.,   0.,   0.,   0.,   0.,\n",
       "          0.,   0.,   0.,   0.,   0.,   0.,   0.,   0.,   0.,   0.,   0.,\n",
       "          0.,   0.,   0.,   0.,   0.,   1.]),\n",
       " array([3.43223682e+01, 9.78496667e+03, 1.95356110e+04, 2.92862553e+04,\n",
       "        3.90368996e+04, 4.87875439e+04, 5.85381882e+04, 6.82888325e+04,\n",
       "        7.80394768e+04, 8.77901211e+04, 9.75407654e+04, 1.07291410e+05,\n",
       "        1.17042054e+05, 1.26792698e+05, 1.36543343e+05, 1.46293987e+05,\n",
       "        1.56044631e+05, 1.65795275e+05, 1.75545920e+05, 1.85296564e+05,\n",
       "        1.95047208e+05, 2.04797853e+05, 2.14548497e+05, 2.24299141e+05,\n",
       "        2.34049786e+05, 2.43800430e+05, 2.53551074e+05, 2.63301719e+05,\n",
       "        2.73052363e+05, 2.82803007e+05, 2.92553651e+05, 3.02304296e+05,\n",
       "        3.12054940e+05, 3.21805584e+05, 3.31556229e+05, 3.41306873e+05,\n",
       "        3.51057517e+05, 3.60808162e+05, 3.70558806e+05, 3.80309450e+05,\n",
       "        3.90060094e+05, 3.99810739e+05, 4.09561383e+05, 4.19312027e+05,\n",
       "        4.29062672e+05, 4.38813316e+05, 4.48563960e+05, 4.58314605e+05,\n",
       "        4.68065249e+05, 4.77815893e+05, 4.87566537e+05]),\n",
       " <BarContainer object of 50 artists>)"
      ]
     },
     "execution_count": 100,
     "metadata": {},
     "output_type": "execute_result"
    },
    {
     "data": {
      "image/png": "[encoded data removed]",
      "text/plain": [
       "<Figure size 640x480 with 1 Axes>"
      ]
     },
     "metadata": {},
     "output_type": "display_data"
    }
   ],
   "source": [
    "plt.hist(oversampled_trainX.iloc[:,0], bins=50)"
   ]
  },
  {
   "cell_type": "code",
   "execution_count": 218,
   "id": "dfbe7085",
   "metadata": {},
   "outputs": [],
   "source": [
    "model = LogisticRegression(max_iter=1000)"
   ]
  },
  {
   "cell_type": "code",
   "execution_count": 211,
   "id": "8ff0ce4c",
   "metadata": {},
   "outputs": [
    {
     "data": {
      "text/html": [
       "<style>#sk-container-id-12 {color: black;background-color: white;}#sk-container-id-12 pre{padding: 0;}#sk-container-id-12 div.sk-toggleable {background-color: white;}#sk-container-id-12 label.sk-toggleable__label {cursor: pointer;display: block;width: 100%;margin-bottom: 0;padding: 0.3em;box-sizing: border-box;text-align: center;}#sk-container-id-12 label.sk-toggleable__label-arrow:before {content: \"▸\";float: left;margin-right: 0.25em;color: #696969;}#sk-container-id-12 label.sk-toggleable__label-arrow:hover:before {color: black;}#sk-container-id-12 div.sk-estimator:hover label.sk-toggleable__label-arrow:before {color: black;}#sk-container-id-12 div.sk-toggleable__content {max-height: 0;max-width: 0;overflow: hidden;text-align: left;background-color: #f0f8ff;}#sk-container-id-12 div.sk-toggleable__content pre {margin: 0.2em;color: black;border-radius: 0.25em;background-color: #f0f8ff;}#sk-container-id-12 input.sk-toggleable__control:checked~div.sk-toggleable__content {max-height: 200px;max-width: 100%;overflow: auto;}#sk-container-id-12 input.sk-toggleable__control:checked~label.sk-toggleable__label-arrow:before {content: \"▾\";}#sk-container-id-12 div.sk-estimator input.sk-toggleable__control:checked~label.sk-toggleable__label {background-color: #d4ebff;}#sk-container-id-12 div.sk-label input.sk-toggleable__control:checked~label.sk-toggleable__label {background-color: #d4ebff;}#sk-container-id-12 input.sk-hidden--visually {border: 0;clip: rect(1px 1px 1px 1px);clip: rect(1px, 1px, 1px, 1px);height: 1px;margin: -1px;overflow: hidden;padding: 0;position: absolute;width: 1px;}#sk-container-id-12 div.sk-estimator {font-family: monospace;background-color: #f0f8ff;border: 1px dotted black;border-radius: 0.25em;box-sizing: border-box;margin-bottom: 0.5em;}#sk-container-id-12 div.sk-estimator:hover {background-color: #d4ebff;}#sk-container-id-12 div.sk-parallel-item::after {content: \"\";width: 100%;border-bottom: 1px solid gray;flex-grow: 1;}#sk-container-id-12 div.sk-label:hover label.sk-toggleable__label {background-color: #d4ebff;}#sk-container-id-12 div.sk-serial::before {content: \"\";position: absolute;border-left: 1px solid gray;box-sizing: border-box;top: 0;bottom: 0;left: 50%;z-index: 0;}#sk-container-id-12 div.sk-serial {display: flex;flex-direction: column;align-items: center;background-color: white;padding-right: 0.2em;padding-left: 0.2em;position: relative;}#sk-container-id-12 div.sk-item {position: relative;z-index: 1;}#sk-container-id-12 div.sk-parallel {display: flex;align-items: stretch;justify-content: center;background-color: white;position: relative;}#sk-container-id-12 div.sk-item::before, #sk-container-id-12 div.sk-parallel-item::before {content: \"\";position: absolute;border-left: 1px solid gray;box-sizing: border-box;top: 0;bottom: 0;left: 50%;z-index: -1;}#sk-container-id-12 div.sk-parallel-item {display: flex;flex-direction: column;z-index: 1;position: relative;background-color: white;}#sk-container-id-12 div.sk-parallel-item:first-child::after {align-self: flex-end;width: 50%;}#sk-container-id-12 div.sk-parallel-item:last-child::after {align-self: flex-start;width: 50%;}#sk-container-id-12 div.sk-parallel-item:only-child::after {width: 0;}#sk-container-id-12 div.sk-dashed-wrapped {border: 1px dashed gray;margin: 0 0.4em 0.5em 0.4em;box-sizing: border-box;padding-bottom: 0.4em;background-color: white;}#sk-container-id-12 div.sk-label label {font-family: monospace;font-weight: bold;display: inline-block;line-height: 1.2em;}#sk-container-id-12 div.sk-label-container {text-align: center;}#sk-container-id-12 div.sk-container {/* jupyter's `normalize.less` sets `[hidden] { display: none; }` but bootstrap.min.css set `[hidden] { display: none !important; }` so we also need the `!important` here to be able to override the default hidden behavior on the sphinx rendered scikit-learn.org. See: https://github.com/scikit-learn/scikit-learn/issues/21755 */display: inline-block !important;position: relative;}#sk-container-id-12 div.sk-text-repr-fallback {display: none;}</style><div id=\"sk-container-id-12\" class=\"sk-top-container\"><div class=\"sk-text-repr-fallback\"><pre>LogisticRegression(max_iter=1000)</pre><b>In a Jupyter environment, please rerun this cell to show the HTML representation or trust the notebook. <br />On GitHub, the HTML representation is unable to render, please try loading this page with nbviewer.org.</b></div><div class=\"sk-container\" hidden><div class=\"sk-item\"><div class=\"sk-estimator sk-toggleable\"><input class=\"sk-toggleable__control sk-hidden--visually\" id=\"sk-estimator-id-12\" type=\"checkbox\" checked><label for=\"sk-estimator-id-12\" class=\"sk-toggleable__label sk-toggleable__label-arrow\">LogisticRegression</label><div class=\"sk-toggleable__content\"><pre>LogisticRegression(max_iter=1000)</pre></div></div></div></div></div>"
      ],
      "text/plain": [
       "LogisticRegression(max_iter=1000)"
      ]
     },
     "execution_count": 211,
     "metadata": {},
     "output_type": "execute_result"
    }
   ],
   "source": [
    "model.fit(oversampled_trainX, oversampled_trainY)"
   ]
  },
  {
   "cell_type": "code",
   "execution_count": 212,
   "id": "156b5315",
   "metadata": {},
   "outputs": [
    {
     "data": {
      "text/plain": [
       "0.8246753246753247"
      ]
     },
     "execution_count": 212,
     "metadata": {},
     "output_type": "execute_result"
    }
   ],
   "source": [
    "model.score(X_test, y_test)"
   ]
  },
  {
   "cell_type": "code",
   "execution_count": 215,
   "id": "c54529e7",
   "metadata": {},
   "outputs": [],
   "source": [
    "y_pred=model.predict(X_test)"
   ]
  },
  {
   "cell_type": "code",
   "execution_count": 216,
   "id": "3ba322ef",
   "metadata": {},
   "outputs": [
    {
     "data": {
      "text/plain": [
       "0.9323308270676691"
      ]
     },
     "execution_count": 216,
     "metadata": {},
     "output_type": "execute_result"
    }
   ],
   "source": [
    "recall_score(y_test, y_pred)"
   ]
  },
  {
   "cell_type": "code",
   "execution_count": 220,
   "id": "b11983ad",
   "metadata": {},
   "outputs": [],
   "source": [
    "cv_score = cross_val_score(model, oversampled_trainX, oversampled_trainY, cv=5)"
   ]
  },
  {
   "cell_type": "code",
   "execution_count": 221,
   "id": "808c632e",
   "metadata": {},
   "outputs": [
    {
     "data": {
      "text/plain": [
       "0.930350358801182"
      ]
     },
     "execution_count": 221,
     "metadata": {},
     "output_type": "execute_result"
    }
   ],
   "source": [
    "cv_score.mean()"
   ]
  },
  {
   "cell_type": "code",
   "execution_count": 87,
   "id": "879b87fe",
   "metadata": {},
   "outputs": [],
   "source": [
    "model2 = SVC()"
   ]
  },
  {
   "cell_type": "code",
   "execution_count": 88,
   "id": "fc779301",
   "metadata": {},
   "outputs": [],
   "source": [
    "cv_score_svc = cross_val_score(model2, oversampled_trainX, oversampled_trainY, cv=5, scoring=\"recall\")"
   ]
  },
  {
   "cell_type": "code",
   "execution_count": 89,
   "id": "743f9c24",
   "metadata": {},
   "outputs": [
    {
     "data": {
      "text/plain": [
       "0.5607169529499627"
      ]
     },
     "execution_count": 89,
     "metadata": {},
     "output_type": "execute_result"
    }
   ],
   "source": [
    "cv_score_svc.mean()"
   ]
  },
  {
   "cell_type": "code",
   "execution_count": 226,
   "id": "17113bdf",
   "metadata": {},
   "outputs": [
    {
     "data": {
      "text/plain": [
       "0.9835748792270532"
      ]
     },
     "execution_count": 226,
     "metadata": {},
     "output_type": "execute_result"
    }
   ],
   "source": [
    "cv_score_svc.mean()"
   ]
  },
  {
   "cell_type": "code",
   "execution_count": 228,
   "id": "2026b13e",
   "metadata": {},
   "outputs": [
    {
     "data": {
      "text/html": [
       "<style>#sk-container-id-13 {color: black;background-color: white;}#sk-container-id-13 pre{padding: 0;}#sk-container-id-13 div.sk-toggleable {background-color: white;}#sk-container-id-13 label.sk-toggleable__label {cursor: pointer;display: block;width: 100%;margin-bottom: 0;padding: 0.3em;box-sizing: border-box;text-align: center;}#sk-container-id-13 label.sk-toggleable__label-arrow:before {content: \"▸\";float: left;margin-right: 0.25em;color: #696969;}#sk-container-id-13 label.sk-toggleable__label-arrow:hover:before {color: black;}#sk-container-id-13 div.sk-estimator:hover label.sk-toggleable__label-arrow:before {color: black;}#sk-container-id-13 div.sk-toggleable__content {max-height: 0;max-width: 0;overflow: hidden;text-align: left;background-color: #f0f8ff;}#sk-container-id-13 div.sk-toggleable__content pre {margin: 0.2em;color: black;border-radius: 0.25em;background-color: #f0f8ff;}#sk-container-id-13 input.sk-toggleable__control:checked~div.sk-toggleable__content {max-height: 200px;max-width: 100%;overflow: auto;}#sk-container-id-13 input.sk-toggleable__control:checked~label.sk-toggleable__label-arrow:before {content: \"▾\";}#sk-container-id-13 div.sk-estimator input.sk-toggleable__control:checked~label.sk-toggleable__label {background-color: #d4ebff;}#sk-container-id-13 div.sk-label input.sk-toggleable__control:checked~label.sk-toggleable__label {background-color: #d4ebff;}#sk-container-id-13 input.sk-hidden--visually {border: 0;clip: rect(1px 1px 1px 1px);clip: rect(1px, 1px, 1px, 1px);height: 1px;margin: -1px;overflow: hidden;padding: 0;position: absolute;width: 1px;}#sk-container-id-13 div.sk-estimator {font-family: monospace;background-color: #f0f8ff;border: 1px dotted black;border-radius: 0.25em;box-sizing: border-box;margin-bottom: 0.5em;}#sk-container-id-13 div.sk-estimator:hover {background-color: #d4ebff;}#sk-container-id-13 div.sk-parallel-item::after {content: \"\";width: 100%;border-bottom: 1px solid gray;flex-grow: 1;}#sk-container-id-13 div.sk-label:hover label.sk-toggleable__label {background-color: #d4ebff;}#sk-container-id-13 div.sk-serial::before {content: \"\";position: absolute;border-left: 1px solid gray;box-sizing: border-box;top: 0;bottom: 0;left: 50%;z-index: 0;}#sk-container-id-13 div.sk-serial {display: flex;flex-direction: column;align-items: center;background-color: white;padding-right: 0.2em;padding-left: 0.2em;position: relative;}#sk-container-id-13 div.sk-item {position: relative;z-index: 1;}#sk-container-id-13 div.sk-parallel {display: flex;align-items: stretch;justify-content: center;background-color: white;position: relative;}#sk-container-id-13 div.sk-item::before, #sk-container-id-13 div.sk-parallel-item::before {content: \"\";position: absolute;border-left: 1px solid gray;box-sizing: border-box;top: 0;bottom: 0;left: 50%;z-index: -1;}#sk-container-id-13 div.sk-parallel-item {display: flex;flex-direction: column;z-index: 1;position: relative;background-color: white;}#sk-container-id-13 div.sk-parallel-item:first-child::after {align-self: flex-end;width: 50%;}#sk-container-id-13 div.sk-parallel-item:last-child::after {align-self: flex-start;width: 50%;}#sk-container-id-13 div.sk-parallel-item:only-child::after {width: 0;}#sk-container-id-13 div.sk-dashed-wrapped {border: 1px dashed gray;margin: 0 0.4em 0.5em 0.4em;box-sizing: border-box;padding-bottom: 0.4em;background-color: white;}#sk-container-id-13 div.sk-label label {font-family: monospace;font-weight: bold;display: inline-block;line-height: 1.2em;}#sk-container-id-13 div.sk-label-container {text-align: center;}#sk-container-id-13 div.sk-container {/* jupyter's `normalize.less` sets `[hidden] { display: none; }` but bootstrap.min.css set `[hidden] { display: none !important; }` so we also need the `!important` here to be able to override the default hidden behavior on the sphinx rendered scikit-learn.org. See: https://github.com/scikit-learn/scikit-learn/issues/21755 */display: inline-block !important;position: relative;}#sk-container-id-13 div.sk-text-repr-fallback {display: none;}</style><div id=\"sk-container-id-13\" class=\"sk-top-container\"><div class=\"sk-text-repr-fallback\"><pre>SVC()</pre><b>In a Jupyter environment, please rerun this cell to show the HTML representation or trust the notebook. <br />On GitHub, the HTML representation is unable to render, please try loading this page with nbviewer.org.</b></div><div class=\"sk-container\" hidden><div class=\"sk-item\"><div class=\"sk-estimator sk-toggleable\"><input class=\"sk-toggleable__control sk-hidden--visually\" id=\"sk-estimator-id-13\" type=\"checkbox\" checked><label for=\"sk-estimator-id-13\" class=\"sk-toggleable__label sk-toggleable__label-arrow\">SVC</label><div class=\"sk-toggleable__content\"><pre>SVC()</pre></div></div></div></div></div>"
      ],
      "text/plain": [
       "SVC()"
      ]
     },
     "execution_count": 228,
     "metadata": {},
     "output_type": "execute_result"
    }
   ],
   "source": [
    "model2.fit(oversampled_trainX, oversampled_trainY)"
   ]
  },
  {
   "cell_type": "code",
   "execution_count": 229,
   "id": "ac7b31bb",
   "metadata": {},
   "outputs": [
    {
     "data": {
      "text/plain": [
       "0.8636363636363636"
      ]
     },
     "execution_count": 229,
     "metadata": {},
     "output_type": "execute_result"
    }
   ],
   "source": [
    "model2.score(X_test, y_test)"
   ]
  },
  {
   "cell_type": "code",
   "execution_count": 230,
   "id": "c24ff770",
   "metadata": {},
   "outputs": [],
   "source": [
    "y_pred2 = model2.predict(X_test)"
   ]
  },
  {
   "cell_type": "code",
   "execution_count": 231,
   "id": "941bffbf",
   "metadata": {},
   "outputs": [
    {
     "data": {
      "text/plain": [
       "1.0"
      ]
     },
     "execution_count": 231,
     "metadata": {},
     "output_type": "execute_result"
    }
   ],
   "source": [
    "recall_score(y_test, y_pred2)"
   ]
  },
  {
   "cell_type": "code",
   "execution_count": 232,
   "id": "2ef71a2e",
   "metadata": {},
   "outputs": [
    {
     "data": {
      "text/plain": [
       "0.8636363636363636"
      ]
     },
     "execution_count": 232,
     "metadata": {},
     "output_type": "execute_result"
    }
   ],
   "source": [
    "precision_score(y_test, y_pred2)"
   ]
  },
  {
   "cell_type": "code",
   "execution_count": 234,
   "id": "a0bd9cee",
   "metadata": {},
   "outputs": [
    {
     "data": {
      "text/plain": [
       "<matplotlib.legend.Legend at 0x7f6d41a61630>"
      ]
     },
     "execution_count": 234,
     "metadata": {},
     "output_type": "execute_result"
    },
    {
     "data": {
      "image/png": "[encoded data removed]",
      "text/plain": [
       "<Figure size 640x480 with 1 Axes>"
      ]
     },
     "metadata": {},
     "output_type": "display_data"
    }
   ],
   "source": [
    "from sklearn.model_selection import learning_curve\n",
    "\n",
    "train_sizes = [25,50,75,100,250,500,750]\n",
    "# Get train scores (R2), train sizes, and validation scores using `learning_curve`\n",
    "train_sizes, train_scores, test_scores = learning_curve(\n",
    "    estimator=model2, X=oversampled_trainX, y=oversampled_trainY, train_sizes=train_sizes, cv=5)\n",
    "\n",
    "# Take the mean of cross-validated train scores and validation scores\n",
    "train_scores_mean = np.mean(train_scores, axis=1)\n",
    "test_scores_mean = np.mean(test_scores, axis=1)\n",
    "plt.plot(train_sizes, train_scores_mean, label = 'Training score')\n",
    "plt.plot(train_sizes, test_scores_mean, label = 'Test score')\n",
    "plt.ylabel('r2 score', fontsize = 14)\n",
    "plt.xlabel('Training set size', fontsize = 14)\n",
    "plt.title('Learning curves', fontsize = 18, y = 1.03)\n",
    "plt.legend()"
   ]
  },
  {
   "cell_type": "code",
   "execution_count": 236,
   "id": "bb4fb2dd",
   "metadata": {},
   "outputs": [
    {
     "data": {
      "text/plain": [
       "<matplotlib.legend.Legend at 0x7f6d5c7085e0>"
      ]
     },
     "execution_count": 236,
     "metadata": {},
     "output_type": "execute_result"
    },
    {
     "data": {
      "image/png": "[encoded data removed]",
      "text/plain": [
       "<Figure size 640x480 with 1 Axes>"
      ]
     },
     "metadata": {},
     "output_type": "display_data"
    }
   ],
   "source": [
    "train_sizes = [25,50,75,100,250,500,750]\n",
    "# Get train scores (R2), train sizes, and validation scores using `learning_curve`\n",
    "train_sizes, train_scores, test_scores = learning_curve(\n",
    "    estimator=model2, X=oversampled_trainX, y=oversampled_trainY, train_sizes=train_sizes, cv=5, scoring=\"accuracy\")\n",
    "\n",
    "# Take the mean of cross-validated train scores and validation scores\n",
    "train_scores_mean = np.mean(train_scores, axis=1)\n",
    "test_scores_mean = np.mean(test_scores, axis=1)\n",
    "plt.plot(train_sizes, train_scores_mean, label = 'Training score')\n",
    "plt.plot(train_sizes, test_scores_mean, label = 'Test score')\n",
    "plt.ylabel('accuracy score', fontsize = 14)\n",
    "plt.xlabel('Training set size', fontsize = 14)\n",
    "plt.title('Learning curves', fontsize = 18, y = 1.03)\n",
    "plt.legend()"
   ]
  },
  {
   "cell_type": "code",
   "execution_count": 239,
   "id": "cb06c799",
   "metadata": {},
   "outputs": [
    {
     "data": {
      "text/plain": [
       "<matplotlib.legend.Legend at 0x7f6d419b2560>"
      ]
     },
     "execution_count": 239,
     "metadata": {},
     "output_type": "execute_result"
    },
    {
     "data": {
      "image/png": "[encoded data removed]",
      "text/plain": [
       "<Figure size 640x480 with 1 Axes>"
      ]
     },
     "metadata": {},
     "output_type": "display_data"
    }
   ],
   "source": [
    "plt.plot(train_sizes, train_scores_mean, label = 'Training score')\n",
    "plt.plot(train_sizes, test_scores_mean, label = 'Test score')\n",
    "plt.ylabel('accuracy score', fontsize = 14)\n",
    "plt.xlim(0,1000)\n",
    "plt.xlabel('Training set size', fontsize = 14)\n",
    "plt.title('Learning curves', fontsize = 18, y = 1.03)\n",
    "plt.legend()"
   ]
  },
  {
   "cell_type": "markdown",
   "id": "d6c538e4",
   "metadata": {},
   "source": [
    "## Power domain"
   ]
  },
  {
   "cell_type": "code",
   "execution_count": null,
   "id": "b6b1aac8",
   "metadata": {},
   "outputs": [],
   "source": []
  }
 ],
 "metadata": {
  "kernelspec": {
   "display_name": "Python 3 (ipykernel)",
   "language": "python",
   "name": "python3"
  },
  "language_info": {
   "codemirror_mode": {
    "name": "ipython",
    "version": 3
   },
   "file_extension": ".py",
   "mimetype": "text/x-python",
   "name": "python",
   "nbconvert_exporter": "python",
   "pygments_lexer": "ipython3",
   "version": "3.10.6"
  },
  "toc": {
   "base_numbering": 1,
   "nav_menu": {},
   "number_sections": true,
   "sideBar": true,
   "skip_h1_title": false,
   "title_cell": "Table of Contents",
   "title_sidebar": "Contents",
   "toc_cell": false,
   "toc_position": {},
   "toc_section_display": true,
   "toc_window_display": false
  }
 },
 "nbformat": 4,
 "nbformat_minor": 5
}
