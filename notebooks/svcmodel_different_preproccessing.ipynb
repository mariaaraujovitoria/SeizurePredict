{
 "cells": [
  {
   "cell_type": "markdown",
   "id": "63b0ea18",
   "metadata": {},
   "source": [
    "Goal: apply a SVC model on different dataset\n",
    "- Preprocess with MinMaxScaler\n",
    "- Preprocess with CustomerTransformer"
   ]
  },
  {
   "cell_type": "markdown",
   "id": "6c402432",
   "metadata": {
    "heading_collapsed": true
   },
   "source": [
    "# Imports, variables, functions"
   ]
  },
  {
   "cell_type": "code",
   "execution_count": 1,
   "id": "7e7d07ca",
   "metadata": {
    "hidden": true
   },
   "outputs": [],
   "source": [
    "import scipy.io\n",
    "from pyedflib import highlevel\n",
    "import pandas as pd\n",
    "import matplotlib.pyplot as plt\n",
    "import seaborn as sns\n",
    "import numpy as np\n",
    "from itertools import groupby\n",
    "import csv\n",
    "import pickle\n",
    "from scipy.signal import butter, sosfilt, sosfiltfilt, sosfreqz\n",
    "from scipy.signal import freqz, iirnotch, filtfilt\n",
    "from sklearn.preprocessing import MinMaxScaler\n",
    "from sklearn.base import TransformerMixin, BaseEstimator\n",
    "import random\n",
    "from sklearn.linear_model import LogisticRegression\n",
    "from sklearn.neighbors import KNeighborsClassifier\n",
    "from sklearn.metrics import accuracy_score\n",
    "from sklearn.model_selection import cross_validate\n",
    "from imblearn.over_sampling import SMOTE\n",
    "from sklearn.svm import SVC\n",
    "from sklearn.model_selection import train_test_split\n",
    "from scipy.fftpack import rfft"
   ]
  },
  {
   "cell_type": "code",
   "execution_count": 2,
   "id": "3f65fac8",
   "metadata": {
    "hidden": true
   },
   "outputs": [],
   "source": [
    "sample_rate = sampling_rate = 256\n",
    "sec = 10\n",
    "len_window = sample_rate*sec\n",
    "overlap = 5\n",
    "\n",
    "# Load annotation file\n",
    "annt = scipy.io.loadmat('../raw_data/annotations_2017.mat')"
   ]
  },
  {
   "cell_type": "code",
   "execution_count": 3,
   "id": "be4e5d4f",
   "metadata": {
    "hidden": true
   },
   "outputs": [],
   "source": [
    "## -- PREPROCESSING FUNCTIONS --\n",
    "\n",
    "# Highpass filter\n",
    "def highpass_filter(signals, sampling_rate, hp_frequency = 0.1):\n",
    "    sos = butter(N = 3, Wn = hp_frequency, btype=\"highpass\",fs=sampling_rate, output=\"sos\")\n",
    "    filter_hp = sosfiltfilt(sos, signals)\n",
    "    return filter_hp\n",
    "\n",
    "# Powerline filter\n",
    "def notch_filter(signals, sampling_rate, notch_frequency = 50, quality_factor = 30):\n",
    "    w0 = notch_frequency/(sampling_rate/2)\n",
    "    b_notch, a_notch = iirnotch(w0, quality_factor)\n",
    "    filter_notch = filtfilt(b_notch, a_notch, signals, axis = -1)\n",
    "    return filter_notch\n",
    "\n",
    "# Create our own scaler\n",
    "class CustomTranformer(TransformerMixin, BaseEstimator): \n",
    "    # BaseEstimator generates the get_params() and set_params() methods that all Pipelines require\n",
    "    # TransformerMixin creates the fit_transform() method from fit() and transform()\n",
    "    \n",
    "    def __init__(self):\n",
    "        pass\n",
    "    \n",
    "    def fit(self, X, y=None):\n",
    "        self.means = X.mean()\n",
    "        return self\n",
    "    \n",
    "    def transform(self, X, y=None):\n",
    "        norm_features = X - self.means\n",
    "        return norm_features\n",
    "\n",
    "# Combination of all filters and Scaler\n",
    "def filter_signals(signals, sampling_rate, scaler, hp_frequency = 0.1, notch_frequency = 50, quality_factor = 30):\n",
    "    filter_hp = highpass_filter(signals, sampling_rate)\n",
    "    filter_notch = notch_filter(signals, sampling_rate, notch_frequency, quality_factor)\n",
    "    final_signal = scaler.fit_transform(filter_notch)\n",
    "    return final_signal"
   ]
  },
  {
   "cell_type": "code",
   "execution_count": 4,
   "id": "3180cf7b",
   "metadata": {
    "hidden": true
   },
   "outputs": [],
   "source": [
    "## -- LABEL FUNCTIONS --\n",
    "\n",
    "# Format the EEG \n",
    "def eeg_formated(signals, names_ele):\n",
    "    data_signals = signals.T # transpose the signals from datapoints\n",
    "    data_signals = pd.DataFrame(data_signals) # create a pandas dataframe\n",
    "    \n",
    "    data_signals.columns = names_ele # rename columns\n",
    "    \n",
    "    return data_signals\n",
    "\n",
    "# Format the annotations\n",
    "def diagnosis(n):\n",
    "    patient_A=annt[\"annotat_new\"][0][n-1][0]\n",
    "    patient_B=annt[\"annotat_new\"][0][n-1][1]\n",
    "    patient_C=annt[\"annotat_new\"][0][n-1][2]\n",
    "    \n",
    "    #converting seconds to datapoints\n",
    "\n",
    "    patient_A=patient_A.tolist()\n",
    "    patient_B=patient_B.tolist()\n",
    "    patient_C=patient_C.tolist()\n",
    "    \n",
    "    patient_A_dtp=[]\n",
    "    patient_B_dtp=[]\n",
    "    patient_C_dtp=[]  \n",
    "    for elem in patient_A:\n",
    "        for i in range(sampling_rate):\n",
    "            patient_A_dtp.append(elem) \n",
    "    for elem in patient_B:\n",
    "        for i in range(sampling_rate):\n",
    "            patient_B_dtp.append(elem)\n",
    "        \n",
    "    for elem in patient_C:\n",
    "        for i in range(sampling_rate):\n",
    "            patient_C_dtp.append(elem)\n",
    "            \n",
    "    target_=pd.DataFrame({\"Diagnosis A\":patient_A_dtp,\"Diagnosis B\":patient_B_dtp,\"Diagnosis C\":patient_C_dtp})\n",
    "    \n",
    "    return target_  \n",
    "\n",
    "# Add a time column with the seconds\n",
    "def add_time(df):\n",
    "    list_time=[]\n",
    "    for i in range(len(df)):\n",
    "        list_time.append(i//sampling_rate)\n",
    "    df[\"time\"]=list_time\n",
    "    return df\n",
    "\n",
    "# Create target variables when seizures lasts at least 10\n",
    "def is_seizure(df):\n",
    "    \n",
    "    threshold = sampling_rate*10\n",
    "    \n",
    "    df['is_seizure_A'] = df[\"Diagnosis A\"].groupby((df[\"Diagnosis A\"] != df[\"Diagnosis A\"].shift()).cumsum()).transform('size') * df[\"Diagnosis A\"]\n",
    "    df['is_seizure_A'] = (df['is_seizure_A'] > threshold).astype(int)\n",
    "    \n",
    "    df['is_seizure_B'] = df[\"Diagnosis B\"].groupby((df[\"Diagnosis B\"] != df[\"Diagnosis B\"].shift()).cumsum()).transform('size') * df[\"Diagnosis B\"]\n",
    "    df['is_seizure_B'] = (df['is_seizure_B'] > threshold).astype(int)\n",
    "    \n",
    "    df['is_seizure_C'] = df[\"Diagnosis C\"].groupby((df[\"Diagnosis C\"] != df[\"Diagnosis C\"].shift()).cumsum()).transform('size') * df[\"Diagnosis C\"]\n",
    "    df['is_seizure_C'] = (df['is_seizure_C'] > threshold).astype(int)\n",
    "    \n",
    "    return df \n",
    "\n",
    "# Create final target\n",
    "def create_target(df):\n",
    "    df['is_seizure_target'] = np.where(df['is_seizure_A'] + df['is_seizure_B'] + df['is_seizure_C'] >= 2, 1, 0)\n",
    "    return df\n",
    "\n",
    "# Remove useless\n",
    "def remove_useless_columns(df):\n",
    "    df.drop(columns=['Diagnosis A', 'Diagnosis B', 'Diagnosis C', 'is_seizure_A', 'is_seizure_B', 'is_seizure_C', 'ECG EKG', 'Resp Effort', 'time'], inplace=True)\n",
    "    return df\n",
    "\n",
    "# Final function to label\n",
    "def label_data(path_raw_data, signals_preprocessed, n):\n",
    "    \n",
    "    signals, signal_headers, header = highlevel.read_edf(path_raw_data)\n",
    "    \n",
    "    names_ele = [signal_headers[iele]['label'] for iele in range(signals.shape[0])] # extract electrode names\n",
    "    \n",
    "    eeg_patient = eeg_formated(signals_preprocessed, names_ele) # format the ECG\n",
    "    eeg_patient.rename(columns={'ECG EKG-REF':'ECG EKG', 'Resp Effort-REF':'Resp Effort'}, inplace=True)\n",
    "    diagnosis_patient = diagnosis(n) # format the diagnosis\n",
    "    \n",
    "    data_patient = pd.merge(left=eeg_patient, right=diagnosis_patient, how='left', left_index=True, right_index=True) # merge ecg and diagnosis\n",
    "    \n",
    "    add_time(data_patient)\n",
    "    is_seizure(data_patient)\n",
    "    create_target(data_patient)\n",
    "    remove_useless_columns(data_patient)\n",
    "    \n",
    "    return data_patient"
   ]
  },
  {
   "cell_type": "code",
   "execution_count": 5,
   "id": "e9ca3d94",
   "metadata": {
    "hidden": true
   },
   "outputs": [],
   "source": [
    "## -- MODEL FUNCTIONS --\n",
    "\n",
    "def flatten_window(window_df):\n",
    "    if len(np.unique(window_df.iloc[:,-1])) == 1:\n",
    "        target = window_df.iloc[0,-1]\n",
    "    else:\n",
    "        target = 1\n",
    "    t_df = window_df.drop(columns = \"is_seizure_target\").transpose()\n",
    "    flatten = pd.DataFrame(np.array(t_df).reshape(1,t_df.shape[0]*t_df.shape[1]))\n",
    "    flatten[\"Target\"] = target\n",
    "    return flatten\n",
    "\n",
    "def create_data_input(df):\n",
    "    data = np.array([flatten_window(df.iloc[i:i+len_window+1]) for i in range(0,len(df)-len_window, overlap*sample_rate)])\n",
    "    r=data.shape[0]\n",
    "    c=data.shape[2]\n",
    "    \n",
    "    data = pd.DataFrame(data.reshape(r,c))\n",
    "    X = data.iloc[:,:-1]\n",
    "    y = data.iloc[:,-1]\n",
    "    return X, y\n",
    "\n",
    "def oversampling(X, y): \n",
    "    sm = SMOTE(sampling_strategy='minority', random_state=7)\n",
    "    X, y = sm.fit_resample(X, y)\n",
    "    return X, y"
   ]
  },
  {
   "cell_type": "markdown",
   "id": "ec6cbccb",
   "metadata": {},
   "source": [
    "# Pipeline"
   ]
  },
  {
   "cell_type": "code",
   "execution_count": 6,
   "id": "86653ec2",
   "metadata": {},
   "outputs": [],
   "source": [
    "def model_pipeline(path_raw_data, scaler, patient_number, model, Fournier=False):\n",
    "    \n",
    "    # Load raw data\n",
    "    signals, signal_headers, header = highlevel.read_edf(path_raw_data)\n",
    "    \n",
    "    # Preprocess data \n",
    "    signals_preprocessed = filter_signals(signals, sampling_rate, scaler, hp_frequency = 0.1, notch_frequency = 50, quality_factor = 30)\n",
    "    \n",
    "    if Fournier == True:\n",
    "        signals_preprocessed = pd.DataFrame(np.array([abs(rfft(signals_preprocessed[i])) for i in range(len(signals_preprocessed))]))\n",
    "        \n",
    "    # Label data\n",
    "    df = label_data(path_raw_data, signals_preprocessed, patient_number)\n",
    "\n",
    "    # Create data input\n",
    "    X, y =  create_data_input(df)\n",
    "    \n",
    "    # Train/Test split\n",
    "    X_train, X_test, y_train, y_test = train_test_split(X,y, test_size=0.2)\n",
    "    \n",
    "    # Balancing\n",
    "    X_train, y_train = oversampling(X_train, y_train)\n",
    "    \n",
    "    # Implement model\n",
    "    model.fit(X_train, y_train)\n",
    "    \n",
    "    # Cross validation\n",
    "    cv_results_svc = cross_validate(model, X_train, y_train, cv=5, \n",
    "                            scoring=['recall', 'f1'])\n",
    "    \n",
    "    recall = round(cv_results_svc['test_recall'].mean(),3)\n",
    "    f1_score = round(cv_results_svc['test_f1'].mean(),3)\n",
    "    \n",
    "    return recall, f1_score"
   ]
  },
  {
   "cell_type": "markdown",
   "id": "495e18cc",
   "metadata": {},
   "source": [
    "# Test SVC model on different datasets"
   ]
  },
  {
   "cell_type": "markdown",
   "id": "67d27347",
   "metadata": {
    "heading_collapsed": true
   },
   "source": [
    "## EEGs to test"
   ]
  },
  {
   "cell_type": "code",
   "execution_count": null,
   "id": "cb75c89d",
   "metadata": {
    "hidden": true
   },
   "outputs": [],
   "source": [
    "## -- DO NOT RUN THIS CELL --\n",
    "\n",
    "#patients_numbers = list(range(1, 80))\n",
    "\n",
    "#patient_with_issue = [4, 29, 50] # Can't import ECG4, ECG29 and ECG50\n",
    "#patient_without_seizure = [3, 6, 10, 12, 18, 24, 26, 27, 28, 30, 32, 35, 37, 42, 43, 45, 46, 48, 49, 53, 55, 56, 57, 58, 59, 60, 61, 64, 65, 70, 72, 74]\n",
    "\n",
    "#for i in patient_with_issue:\n",
    " #   patients_numbers.remove(i)\n",
    "\n",
    "#for i in patient_without_seizure:\n",
    " #   patients_numbers.remove(i)"
   ]
  },
  {
   "cell_type": "markdown",
   "id": "1a8a791a",
   "metadata": {},
   "source": [
    "## Test on Preprocess data with MinMaxScaler"
   ]
  },
  {
   "cell_type": "code",
   "execution_count": 10,
   "id": "d6c0adfa",
   "metadata": {},
   "outputs": [],
   "source": [
    "# Test for 5 patients\n",
    "model = SVC(kernel='linear', C=10)\n",
    "recall_1, f1_score_1 = model_pipeline(\"../raw_data/eeg1.edf\",  MinMaxScaler(), 1, model)\n",
    "recall_5, f1_score_5 = model_pipeline(\"../raw_data/eeg5.edf\",  MinMaxScaler(), 5, model)\n",
    "recall_25, f1_score_25 = model_pipeline(\"../raw_data/eeg25.edf\",  MinMaxScaler(), 25, model)\n",
    "recall_44, f1_score_44 = model_pipeline(\"../raw_data/eeg44.edf\",  MinMaxScaler(), 44, model)\n",
    "recall_71, f1_score_71 = model_pipeline(\"../raw_data/eeg71.edf\",  MinMaxScaler(), 71, model)"
   ]
  },
  {
   "cell_type": "code",
   "execution_count": null,
   "id": "ae507635",
   "metadata": {},
   "outputs": [],
   "source": [
    "## -- DO NOT RUN THIS CELL --\n",
    "\n",
    "#recall_minmax = []\n",
    "#f1_score_minmax = []\n",
    "\n",
    "#for i in patients_numbers:\n",
    " #   recall_i, f1_score_i = model_pipeline(f\"../raw_data/eeg{i}.edf\",  MinMaxScaler(), i)\n",
    "  #  recall_minmax.append(recall_i)\n",
    "   # f1_score_minmax.append(f1_score_i)"
   ]
  },
  {
   "cell_type": "markdown",
   "id": "c5af9acd",
   "metadata": {},
   "source": [
    "## Test on Preprocess data with CustomerTransformer"
   ]
  },
  {
   "cell_type": "code",
   "execution_count": 11,
   "id": "2f7ed789",
   "metadata": {},
   "outputs": [],
   "source": [
    "# Test for 5 patients\n",
    "recall_1_custom, f1_score_1_custom = model_pipeline(\"../raw_data/eeg1.edf\",  CustomTranformer(), 1, model)\n",
    "recall_5_custom, f1_score_5_custom = model_pipeline(\"../raw_data/eeg5.edf\",  CustomTranformer(), 5, model)\n",
    "recall_25_custom, f1_score_25_custom = model_pipeline(\"../raw_data/eeg25.edf\",  CustomTranformer(), 25, model)\n",
    "recall_44_custom, f1_score_44_custom = model_pipeline(\"../raw_data/eeg44.edf\",  CustomTranformer(), 44, model)\n",
    "recall_71_custom, f1_score_71_custom = model_pipeline(\"../raw_data/eeg71.edf\",  CustomTranformer(), 71, model)"
   ]
  },
  {
   "cell_type": "code",
   "execution_count": null,
   "id": "e062ad71",
   "metadata": {},
   "outputs": [],
   "source": [
    "## -- DO NOT RUN THIS CELL --\n",
    "\n",
    "#recall_custom = []\n",
    "#f1_score_custom = []\n",
    "\n",
    "#for i in patients_numbers:\n",
    " #   recall_i, f1_score_i = model_pipeline(f\"../raw_data/eeg{i}.edf\",  CustomTransformer(), i)\n",
    "  #  recall_custom.append(recall_i)\n",
    "   # f1_score_custom.append(f1_score_i)"
   ]
  },
  {
   "cell_type": "markdown",
   "id": "c12b6f8d",
   "metadata": {},
   "source": [
    "## Test on Preprocess data with CustomTransformer and Fournier filter"
   ]
  },
  {
   "cell_type": "code",
   "execution_count": 7,
   "id": "7983260c",
   "metadata": {},
   "outputs": [],
   "source": [
    "recall_1_fournier, f1_score_1_fournier = model_pipeline(\"../raw_data/eeg1.edf\",  CustomTranformer(), 1, model, Fournier=True)\n",
    "recall_5_fournier, f1_score_5_fournier = model_pipeline(\"../raw_data/eeg5.edf\",  CustomTranformer(), 5, model, Fournier=True)\n",
    "recall_25_fournier, f1_score_25_fournier = model_pipeline(\"../raw_data/eeg25.edf\",  CustomTranformer(), 25, model, Fournier=True)\n",
    "recall_44_fournier, f1_score_44_fournier = model_pipeline(\"../raw_data/eeg44.edf\",  CustomTranformer(), 44, model, Fournier=True)\n",
    "recall_71_fournier, f1_score_71_fournier = model_pipeline(\"../raw_data/eeg71.edf\",  CustomTranformer(), 71, model, Fournier=True)"
   ]
  },
  {
   "cell_type": "code",
   "execution_count": null,
   "id": "5bdc44b7",
   "metadata": {},
   "outputs": [],
   "source": [
    "## -- DO NOT RUN THIS CELL --\n",
    "\n",
    "#recall_fournier = []\n",
    "#f1_score_fournier = []\n",
    "\n",
    "#for i in patients_numbers:\n",
    " #   recall_i, f1_score_i = model_pipeline(f\"../raw_data/eeg{i}.edf\",  CustomTransformer(), i, Fournier=True)\n",
    "  #  recall_fournier.append(recall_i)\n",
    "   # f1_score_fournier.append(f1_score_i)"
   ]
  },
  {
   "cell_type": "markdown",
   "id": "a5ae6292",
   "metadata": {},
   "source": [
    "# Results"
   ]
  },
  {
   "cell_type": "code",
   "execution_count": 12,
   "id": "c7cf6bbf",
   "metadata": {},
   "outputs": [
    {
     "data": {
      "text/html": [
       "<div>\n",
       "<style scoped>\n",
       "    .dataframe tbody tr th:only-of-type {\n",
       "        vertical-align: middle;\n",
       "    }\n",
       "\n",
       "    .dataframe tbody tr th {\n",
       "        vertical-align: top;\n",
       "    }\n",
       "\n",
       "    .dataframe thead th {\n",
       "        text-align: right;\n",
       "    }\n",
       "</style>\n",
       "<table border=\"1\" class=\"dataframe\">\n",
       "  <thead>\n",
       "    <tr style=\"text-align: right;\">\n",
       "      <th></th>\n",
       "      <th>recall_minmax</th>\n",
       "      <th>recall_custom</th>\n",
       "      <th>recall_fournier</th>\n",
       "      <th>f1_score_minmax</th>\n",
       "      <th>f1_score_custom</th>\n",
       "      <th>f1_score_fournier</th>\n",
       "    </tr>\n",
       "  </thead>\n",
       "  <tbody>\n",
       "    <tr>\n",
       "      <th>1</th>\n",
       "      <td>0.981</td>\n",
       "      <td>0.964</td>\n",
       "      <td>0.978</td>\n",
       "      <td>0.882</td>\n",
       "      <td>0.869</td>\n",
       "      <td>0.895</td>\n",
       "    </tr>\n",
       "    <tr>\n",
       "      <th>5</th>\n",
       "      <td>0.860</td>\n",
       "      <td>0.850</td>\n",
       "      <td>0.992</td>\n",
       "      <td>0.925</td>\n",
       "      <td>0.916</td>\n",
       "      <td>0.995</td>\n",
       "    </tr>\n",
       "    <tr>\n",
       "      <th>25</th>\n",
       "      <td>1.000</td>\n",
       "      <td>1.000</td>\n",
       "      <td>1.000</td>\n",
       "      <td>1.000</td>\n",
       "      <td>0.964</td>\n",
       "      <td>0.999</td>\n",
       "    </tr>\n",
       "    <tr>\n",
       "      <th>44</th>\n",
       "      <td>1.000</td>\n",
       "      <td>1.000</td>\n",
       "      <td>1.000</td>\n",
       "      <td>0.976</td>\n",
       "      <td>0.987</td>\n",
       "      <td>0.968</td>\n",
       "    </tr>\n",
       "    <tr>\n",
       "      <th>71</th>\n",
       "      <td>1.000</td>\n",
       "      <td>1.000</td>\n",
       "      <td>1.000</td>\n",
       "      <td>0.985</td>\n",
       "      <td>0.979</td>\n",
       "      <td>0.998</td>\n",
       "    </tr>\n",
       "  </tbody>\n",
       "</table>\n",
       "</div>"
      ],
      "text/plain": [
       "    recall_minmax  recall_custom  recall_fournier  f1_score_minmax  \\\n",
       "1           0.981          0.964            0.978            0.882   \n",
       "5           0.860          0.850            0.992            0.925   \n",
       "25          1.000          1.000            1.000            1.000   \n",
       "44          1.000          1.000            1.000            0.976   \n",
       "71          1.000          1.000            1.000            0.985   \n",
       "\n",
       "    f1_score_custom  f1_score_fournier  \n",
       "1             0.869              0.895  \n",
       "5             0.916              0.995  \n",
       "25            0.964              0.999  \n",
       "44            0.987              0.968  \n",
       "71            0.979              0.998  "
      ]
     },
     "execution_count": 12,
     "metadata": {},
     "output_type": "execute_result"
    }
   ],
   "source": [
    "# Test for 5 patients\n",
    "patients_numbers = [1, 5, 25, 44, 71]\n",
    "recall_minmax = [recall_1, recall_5, recall_25, recall_44, recall_71]\n",
    "recall_custom = [recall_1_custom, recall_5_custom, recall_25_custom, recall_44_custom, recall_71_custom]\n",
    "recall_fournier = [recall_1_fournier, recall_5_fournier, recall_25_fournier, recall_44_fournier, recall_71_fournier]\n",
    "f1_score_minmax = [f1_score_1, f1_score_5, f1_score_25, f1_score_44, f1_score_71]\n",
    "f1_score_custom = [f1_score_1_custom, f1_score_5_custom, f1_score_25_custom, f1_score_44_custom, f1_score_71_custom]\n",
    "f1_score_fournier = [f1_score_1_fournier, f1_score_5_fournier, f1_score_25_fournier, f1_score_44_fournier, f1_score_71_fournier]\n",
    "\n",
    "results  = pd.DataFrame(recall_minmax, patients_numbers)\n",
    "results.rename(columns={0:'recall_minmax'}, inplace=True)\n",
    "results['recall_custom'] = recall_custom\n",
    "results['recall_fournier'] = recall_fournier\n",
    "results['f1_score_minmax'] = f1_score_minmax\n",
    "results['f1_score_custom'] = f1_score_custom\n",
    "results['f1_score_fournier'] = f1_score_fournier\n",
    "results"
   ]
  },
  {
   "cell_type": "code",
   "execution_count": null,
   "id": "ec06a9b5",
   "metadata": {},
   "outputs": [],
   "source": []
  }
 ],
 "metadata": {
  "kernelspec": {
   "display_name": "Python 3 (ipykernel)",
   "language": "python",
   "name": "python3"
  },
  "language_info": {
   "codemirror_mode": {
    "name": "ipython",
    "version": 3
   },
   "file_extension": ".py",
   "mimetype": "text/x-python",
   "name": "python",
   "nbconvert_exporter": "python",
   "pygments_lexer": "ipython3",
   "version": "3.10.6"
  },
  "toc": {
   "base_numbering": 1,
   "nav_menu": {},
   "number_sections": true,
   "sideBar": true,
   "skip_h1_title": false,
   "title_cell": "Table of Contents",
   "title_sidebar": "Contents",
   "toc_cell": false,
   "toc_position": {},
   "toc_section_display": true,
   "toc_window_display": false
  }
 },
 "nbformat": 4,
 "nbformat_minor": 5
}
